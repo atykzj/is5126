{
 "cells": [
  {
   "cell_type": "code",
   "execution_count": 5,
   "metadata": {},
   "outputs": [],
   "source": [
    "import pandas as pd\n",
    "import numpy as np\n",
    "import matplotlib.pyplot as plt\n",
    "import seaborn as sn\n",
    "import statistics as st \n",
    "from sklearn.model_selection import train_test_split\n",
    "from sklearn.metrics import accuracy_score, plot_confusion_matrix\n",
    "from sklearn.preprocessing import StandardScaler\n",
    "from sklearn.preprocessing import MinMaxScaler, MaxAbsScaler, RobustScaler\n",
    "from sklearn.compose import make_column_selector\n",
    "from sklearn.preprocessing import PolynomialFeatures\n",
    "from sklearn.model_selection import GridSearchCV\n",
    "from sklearn.model_selection import RandomizedSearchCV\n",
    "from sklearn.pipeline import Pipeline\n",
    "from sklearn.model_selection import RepeatedStratifiedKFold\n",
    "from xgboost.sklearn import XGBRegressor\n",
    "import lightgbm as lgb\n",
    "from sklearn.ensemble import StackingRegressor\n",
    "from sklearn.compose import ColumnTransformer\n",
    "from sklearn.metrics import mean_squared_error\n",
    "from math import sqrt\n",
    "import seaborn as sns\n",
    "import category_encoders as ce"
   ]
  },
  {
   "cell_type": "markdown",
   "metadata": {},
   "source": [
    "# EDA"
   ]
  },
  {
   "cell_type": "code",
   "execution_count": 6,
   "metadata": {},
   "outputs": [],
   "source": [
    "train = pd.read_csv('train.csv')\n",
    "test = pd.read_csv('test.csv')"
   ]
  },
  {
   "cell_type": "markdown",
   "metadata": {},
   "source": [
    "#### planning_area & subzone NA value in test dataset"
   ]
  },
  {
   "cell_type": "code",
   "execution_count": 7,
   "metadata": {},
   "outputs": [
    {
     "data": {
      "text/plain": [
       "array(['1 tessensohn road', '38 lorong 32 geylang', '17 farrer drive',\n",
       "       '5 jalan mutiara'], dtype=object)"
      ]
     },
     "execution_count": 7,
     "metadata": {},
     "output_type": "execute_result"
    }
   ],
   "source": [
    "emptyPA = test[test['planning_area'].isna()]\n",
    "emptyPA['address'].unique()"
   ]
  },
  {
   "cell_type": "code",
   "execution_count": 8,
   "metadata": {},
   "outputs": [
    {
     "data": {
      "text/html": [
       "<div>\n",
       "<style scoped>\n",
       "    .dataframe tbody tr th:only-of-type {\n",
       "        vertical-align: middle;\n",
       "    }\n",
       "\n",
       "    .dataframe tbody tr th {\n",
       "        vertical-align: top;\n",
       "    }\n",
       "\n",
       "    .dataframe thead th {\n",
       "        text-align: right;\n",
       "    }\n",
       "</style>\n",
       "<table border=\"1\" class=\"dataframe\">\n",
       "  <thead>\n",
       "    <tr style=\"text-align: right;\">\n",
       "      <th></th>\n",
       "      <th>address</th>\n",
       "      <th>planning_area</th>\n",
       "      <th>subzone</th>\n",
       "    </tr>\n",
       "  </thead>\n",
       "  <tbody>\n",
       "    <tr>\n",
       "      <th>0</th>\n",
       "      <td>1 tessensohn road</td>\n",
       "      <td>kallang</td>\n",
       "      <td>boon keng</td>\n",
       "    </tr>\n",
       "    <tr>\n",
       "      <th>1</th>\n",
       "      <td>38 lorong 32 geylang</td>\n",
       "      <td>geyland</td>\n",
       "      <td>aljunied</td>\n",
       "    </tr>\n",
       "    <tr>\n",
       "      <th>2</th>\n",
       "      <td>15 farrer drive</td>\n",
       "      <td>tanglin</td>\n",
       "      <td>chatsworth</td>\n",
       "    </tr>\n",
       "    <tr>\n",
       "      <th>3</th>\n",
       "      <td>17 farrer drive</td>\n",
       "      <td>tanglin</td>\n",
       "      <td>chatsworth</td>\n",
       "    </tr>\n",
       "    <tr>\n",
       "      <th>4</th>\n",
       "      <td>5 jalan mutiara</td>\n",
       "      <td>tanglin</td>\n",
       "      <td>nassim</td>\n",
       "    </tr>\n",
       "  </tbody>\n",
       "</table>\n",
       "</div>"
      ],
      "text/plain": [
       "                address planning_area     subzone\n",
       "0     1 tessensohn road       kallang   boon keng\n",
       "1  38 lorong 32 geylang       geyland    aljunied\n",
       "2       15 farrer drive       tanglin  chatsworth\n",
       "3       17 farrer drive       tanglin  chatsworth\n",
       "4       5 jalan mutiara       tanglin      nassim"
      ]
     },
     "execution_count": 8,
     "metadata": {},
     "output_type": "execute_result"
    }
   ],
   "source": [
    "missingPA = pd.read_csv('auxiliary-data/missingPAdata.csv')\n",
    "missingPA.head()"
   ]
  },
  {
   "cell_type": "code",
   "execution_count": 9,
   "metadata": {},
   "outputs": [],
   "source": [
    "s = missingPA.set_index('address')['planning_area']\n",
    "test['planning_area']=test['planning_area'].fillna(test['address'].map(s))"
   ]
  },
  {
   "cell_type": "code",
   "execution_count": 10,
   "metadata": {},
   "outputs": [],
   "source": [
    "s = missingPA.set_index('address')['subzone']\n",
    "test['subzone']=test['planning_area'].fillna(test['subzone'].map(s))"
   ]
  },
  {
   "cell_type": "code",
   "execution_count": 11,
   "metadata": {},
   "outputs": [
    {
     "data": {
      "text/plain": [
       "listing_id              6966\n",
       "title                   6966\n",
       "address                 6964\n",
       "property_name           6966\n",
       "property_type           6966\n",
       "tenure                  6329\n",
       "built_year              6608\n",
       "num_beds                6931\n",
       "num_baths               6817\n",
       "size_sqft               6966\n",
       "floor_level             1156\n",
       "furnishing              6966\n",
       "available_unit_types    6446\n",
       "total_num_units         5066\n",
       "property_details_url    6966\n",
       "lat                     6966\n",
       "lng                     6966\n",
       "elevation               6966\n",
       "subzone                 6966\n",
       "planning_area           6966\n",
       "dtype: int64"
      ]
     },
     "execution_count": 11,
     "metadata": {},
     "output_type": "execute_result"
    }
   ],
   "source": [
    "test.count()"
   ]
  },
  {
   "cell_type": "markdown",
   "metadata": {},
   "source": [
    "#### planning & subzone in train dataset"
   ]
  },
  {
   "cell_type": "code",
   "execution_count": 12,
   "metadata": {},
   "outputs": [
    {
     "data": {
      "text/plain": [
       "array(['1 tessensohn road', '15 farrer drive', '17 farrer drive',\n",
       "       '38 lorong 32 geylang', '5 jalan mutiara'], dtype=object)"
      ]
     },
     "execution_count": 12,
     "metadata": {},
     "output_type": "execute_result"
    }
   ],
   "source": [
    "data = train[train['planning_area'].isna()]\n",
    "data['address'].unique()"
   ]
  },
  {
   "cell_type": "code",
   "execution_count": 13,
   "metadata": {},
   "outputs": [],
   "source": [
    "s = missingPA.set_index('address')['planning_area']\n",
    "train['planning_area']=train['planning_area'].fillna(train['address'].map(s))"
   ]
  },
  {
   "cell_type": "code",
   "execution_count": 14,
   "metadata": {},
   "outputs": [],
   "source": [
    "s = missingPA.set_index('address')['subzone']\n",
    "train['subzone']=train['planning_area'].fillna(train['subzone'].map(s))"
   ]
  },
  {
   "cell_type": "markdown",
   "metadata": {},
   "source": [
    "## Pre-processing"
   ]
  },
  {
   "cell_type": "markdown",
   "metadata": {},
   "source": [
    "### Remove listing_id  \n",
    "#### listing_id is all unique without duplicates"
   ]
  },
  {
   "cell_type": "code",
   "execution_count": 15,
   "metadata": {},
   "outputs": [],
   "source": [
    "train = train.drop(columns=['listing_id', 'property_details_url', 'elevation','property_name','address','title'])\n",
    "test = test.drop(columns=['listing_id', 'property_details_url', 'elevation','property_name','address','title'])\n",
    "\n",
    "# train = train.drop(columns=['property_details_url', 'elevation','property_name','address','title'])"
   ]
  },
  {
   "cell_type": "code",
   "execution_count": 16,
   "metadata": {},
   "outputs": [
    {
     "data": {
      "text/html": [
       "<div>\n",
       "<style scoped>\n",
       "    .dataframe tbody tr th:only-of-type {\n",
       "        vertical-align: middle;\n",
       "    }\n",
       "\n",
       "    .dataframe tbody tr th {\n",
       "        vertical-align: top;\n",
       "    }\n",
       "\n",
       "    .dataframe thead th {\n",
       "        text-align: right;\n",
       "    }\n",
       "</style>\n",
       "<table border=\"1\" class=\"dataframe\">\n",
       "  <thead>\n",
       "    <tr style=\"text-align: right;\">\n",
       "      <th></th>\n",
       "      <th>built_year</th>\n",
       "      <th>num_beds</th>\n",
       "      <th>num_baths</th>\n",
       "      <th>size_sqft</th>\n",
       "      <th>total_num_units</th>\n",
       "      <th>lat</th>\n",
       "      <th>lng</th>\n",
       "      <th>price</th>\n",
       "    </tr>\n",
       "  </thead>\n",
       "  <tbody>\n",
       "    <tr>\n",
       "      <th>count</th>\n",
       "      <td>19332.000000</td>\n",
       "      <td>20174.000000</td>\n",
       "      <td>19820.000000</td>\n",
       "      <td>2.025400e+04</td>\n",
       "      <td>14602.000000</td>\n",
       "      <td>20254.000000</td>\n",
       "      <td>20254.000000</td>\n",
       "      <td>2.025400e+04</td>\n",
       "    </tr>\n",
       "    <tr>\n",
       "      <th>mean</th>\n",
       "      <td>2010.833695</td>\n",
       "      <td>3.122931</td>\n",
       "      <td>2.643542</td>\n",
       "      <td>1.854364e+03</td>\n",
       "      <td>376.253938</td>\n",
       "      <td>1.434282</td>\n",
       "      <td>103.855356</td>\n",
       "      <td>5.228263e+06</td>\n",
       "    </tr>\n",
       "    <tr>\n",
       "      <th>std</th>\n",
       "      <td>15.822803</td>\n",
       "      <td>1.281658</td>\n",
       "      <td>1.473835</td>\n",
       "      <td>1.354343e+04</td>\n",
       "      <td>346.882474</td>\n",
       "      <td>1.558472</td>\n",
       "      <td>3.593441</td>\n",
       "      <td>2.779748e+08</td>\n",
       "    </tr>\n",
       "    <tr>\n",
       "      <th>min</th>\n",
       "      <td>1963.000000</td>\n",
       "      <td>1.000000</td>\n",
       "      <td>1.000000</td>\n",
       "      <td>0.000000e+00</td>\n",
       "      <td>4.000000</td>\n",
       "      <td>1.239621</td>\n",
       "      <td>-77.065364</td>\n",
       "      <td>0.000000e+00</td>\n",
       "    </tr>\n",
       "    <tr>\n",
       "      <th>25%</th>\n",
       "      <td>2000.000000</td>\n",
       "      <td>2.000000</td>\n",
       "      <td>2.000000</td>\n",
       "      <td>8.070000e+02</td>\n",
       "      <td>106.000000</td>\n",
       "      <td>1.307329</td>\n",
       "      <td>103.806576</td>\n",
       "      <td>8.190000e+05</td>\n",
       "    </tr>\n",
       "    <tr>\n",
       "      <th>50%</th>\n",
       "      <td>2017.000000</td>\n",
       "      <td>3.000000</td>\n",
       "      <td>2.000000</td>\n",
       "      <td>1.119000e+03</td>\n",
       "      <td>296.000000</td>\n",
       "      <td>1.329266</td>\n",
       "      <td>103.841552</td>\n",
       "      <td>1.680000e+06</td>\n",
       "    </tr>\n",
       "    <tr>\n",
       "      <th>75%</th>\n",
       "      <td>2023.000000</td>\n",
       "      <td>4.000000</td>\n",
       "      <td>3.000000</td>\n",
       "      <td>1.528000e+03</td>\n",
       "      <td>561.000000</td>\n",
       "      <td>1.372461</td>\n",
       "      <td>103.881514</td>\n",
       "      <td>3.242400e+06</td>\n",
       "    </tr>\n",
       "    <tr>\n",
       "      <th>max</th>\n",
       "      <td>2028.000000</td>\n",
       "      <td>10.000000</td>\n",
       "      <td>10.000000</td>\n",
       "      <td>1.496000e+06</td>\n",
       "      <td>2612.000000</td>\n",
       "      <td>69.486768</td>\n",
       "      <td>121.023232</td>\n",
       "      <td>3.924243e+10</td>\n",
       "    </tr>\n",
       "  </tbody>\n",
       "</table>\n",
       "</div>"
      ],
      "text/plain": [
       "         built_year      num_beds     num_baths     size_sqft  \\\n",
       "count  19332.000000  20174.000000  19820.000000  2.025400e+04   \n",
       "mean    2010.833695      3.122931      2.643542  1.854364e+03   \n",
       "std       15.822803      1.281658      1.473835  1.354343e+04   \n",
       "min     1963.000000      1.000000      1.000000  0.000000e+00   \n",
       "25%     2000.000000      2.000000      2.000000  8.070000e+02   \n",
       "50%     2017.000000      3.000000      2.000000  1.119000e+03   \n",
       "75%     2023.000000      4.000000      3.000000  1.528000e+03   \n",
       "max     2028.000000     10.000000     10.000000  1.496000e+06   \n",
       "\n",
       "       total_num_units           lat           lng         price  \n",
       "count     14602.000000  20254.000000  20254.000000  2.025400e+04  \n",
       "mean        376.253938      1.434282    103.855356  5.228263e+06  \n",
       "std         346.882474      1.558472      3.593441  2.779748e+08  \n",
       "min           4.000000      1.239621    -77.065364  0.000000e+00  \n",
       "25%         106.000000      1.307329    103.806576  8.190000e+05  \n",
       "50%         296.000000      1.329266    103.841552  1.680000e+06  \n",
       "75%         561.000000      1.372461    103.881514  3.242400e+06  \n",
       "max        2612.000000     69.486768    121.023232  3.924243e+10  "
      ]
     },
     "execution_count": 16,
     "metadata": {},
     "output_type": "execute_result"
    }
   ],
   "source": [
    "train.describe()"
   ]
  },
  {
   "cell_type": "markdown",
   "metadata": {},
   "source": [
    "### Adding Distances"
   ]
  },
  {
   "cell_type": "markdown",
   "metadata": {},
   "source": [
    "#### Add distance to commericial centres"
   ]
  },
  {
   "cell_type": "code",
   "execution_count": 17,
   "metadata": {},
   "outputs": [],
   "source": [
    "ccdistance = pd.read_csv('auxiliary-data/sg-commerical-centres.csv')"
   ]
  },
  {
   "cell_type": "code",
   "execution_count": 18,
   "metadata": {},
   "outputs": [],
   "source": [
    "# vectorized haversine function\n",
    "#https://stackoverflow.com/questions/29545704/fast-haversine-approximation-python-pandas\n",
    "def haversine_np(lon1, lat1, lon2, lat2):\n",
    "    \"\"\"\n",
    "    Calculate the great circle distance between two points\n",
    "    on the earth (specified in decimal degrees)\n",
    "\n",
    "    All args must be of equal length.    \n",
    "\n",
    "    \"\"\"\n",
    "    lon1, lat1, lon2, lat2 = map(np.radians, [lon1, lat1, lon2, lat2])\n",
    "\n",
    "    dlon = lon2 - lon1\n",
    "    dlat = lat2 - lat1\n",
    "\n",
    "    a = np.sin(dlat/2.0)**2 + np.cos(lat1) * np.cos(lat2) * np.sin(dlon/2.0)**2\n",
    "\n",
    "    c = 2 * np.arcsin(np.sqrt(a))\n",
    "    km = 6367 * c\n",
    "    return km\n"
   ]
  },
  {
   "cell_type": "code",
   "execution_count": 19,
   "metadata": {},
   "outputs": [],
   "source": [
    "# train['cc_distance'] = haversine_np(train['lng'], train['lat'], ccdistance['lng'], ccdistance['lat'])\n",
    "expected_result = pd.merge(train, ccdistance, on = 'planning_area')\n",
    "expected_result.head()\n",
    "train['cc_distance'] = haversine_np(train['lng'], train['lat'], expected_result['lng_y'], expected_result['lat_y'])\n",
    "\n",
    "# train['cc_distance'] = haversine_np(train['lng'], train['lat'], ccdistance['lng'], ccdistance['lat'])\n",
    "expected_result = pd.merge(test, ccdistance, on = 'planning_area')\n",
    "expected_result.head()\n",
    "test['cc_distance'] = haversine_np(test['lng'], test['lat'], expected_result['lng_y'], expected_result['lat_y'])"
   ]
  },
  {
   "cell_type": "code",
   "execution_count": 20,
   "metadata": {},
   "outputs": [],
   "source": [
    "ccdistancemean = train['cc_distance'].median()\n",
    "train['cc_distance']=train['cc_distance'].fillna(ccdistancemean)\n",
    "\n",
    "ccdistancemean = test['cc_distance'].median()\n",
    "test['cc_distance']=test['cc_distance'].fillna(ccdistancemean)"
   ]
  },
  {
   "cell_type": "code",
   "execution_count": 21,
   "metadata": {},
   "outputs": [
    {
     "name": "stderr",
     "output_type": "stream",
     "text": [
      "D:\\software\\anaconda\\lib\\site-packages\\seaborn\\_decorators.py:36: FutureWarning: Pass the following variable as a keyword arg: x. From version 0.12, the only valid positional argument will be `data`, and passing other arguments without an explicit keyword will result in an error or misinterpretation.\n",
      "  warnings.warn(\n"
     ]
    },
    {
     "data": {
      "text/plain": [
       "<AxesSubplot:xlabel='cc_distance'>"
      ]
     },
     "execution_count": 21,
     "metadata": {},
     "output_type": "execute_result"
    },
    {
     "data": {
      "image/png": "[encoded data removed]",
      "text/plain": [
       "<Figure size 432x288 with 1 Axes>"
      ]
     },
     "metadata": {
      "needs_background": "light"
     },
     "output_type": "display_data"
    }
   ],
   "source": [
    "# Creating plot\n",
    "sns.boxplot(train['cc_distance'])"
   ]
  },
  {
   "cell_type": "code",
   "execution_count": 22,
   "metadata": {},
   "outputs": [
    {
     "name": "stderr",
     "output_type": "stream",
     "text": [
      "D:\\software\\anaconda\\lib\\site-packages\\seaborn\\_decorators.py:36: FutureWarning: Pass the following variable as a keyword arg: x. From version 0.12, the only valid positional argument will be `data`, and passing other arguments without an explicit keyword will result in an error or misinterpretation.\n",
      "  warnings.warn(\n"
     ]
    },
    {
     "data": {
      "text/plain": [
       "<AxesSubplot:xlabel='cc_distance'>"
      ]
     },
     "execution_count": 22,
     "metadata": {},
     "output_type": "execute_result"
    },
    {
     "data": {
      "image/png": "[encoded data removed]",
      "text/plain": [
       "<Figure size 432x288 with 1 Axes>"
      ]
     },
     "metadata": {
      "needs_background": "light"
     },
     "output_type": "display_data"
    }
   ],
   "source": [
    "train.loc[train['cc_distance'] > 2000, 'cc_distance'] = train['cc_distance'].median()\n",
    "# Creating plot\n",
    "sns.boxplot(train['cc_distance'])\n"
   ]
  },
  {
   "cell_type": "code",
   "execution_count": 23,
   "metadata": {},
   "outputs": [
    {
     "name": "stderr",
     "output_type": "stream",
     "text": [
      "D:\\software\\anaconda\\lib\\site-packages\\seaborn\\_decorators.py:36: FutureWarning: Pass the following variable as a keyword arg: x. From version 0.12, the only valid positional argument will be `data`, and passing other arguments without an explicit keyword will result in an error or misinterpretation.\n",
      "  warnings.warn(\n"
     ]
    },
    {
     "data": {
      "text/plain": [
       "<AxesSubplot:xlabel='cc_distance'>"
      ]
     },
     "execution_count": 23,
     "metadata": {},
     "output_type": "execute_result"
    },
    {
     "data": {
      "image/png": "[encoded data removed]",
      "text/plain": [
       "<Figure size 432x288 with 1 Axes>"
      ]
     },
     "metadata": {
      "needs_background": "light"
     },
     "output_type": "display_data"
    }
   ],
   "source": [
    "train.loc[train['cc_distance'] > 21, 'cc_distance'] = 21\n",
    "# Creating plot\n",
    "sns.boxplot(train['cc_distance'])\n"
   ]
  },
  {
   "cell_type": "code",
   "execution_count": 24,
   "metadata": {},
   "outputs": [],
   "source": [
    "test.loc[test['cc_distance'] > 21, 'cc_distance'] = 21"
   ]
  },
  {
   "cell_type": "code",
   "execution_count": 25,
   "metadata": {},
   "outputs": [
    {
     "name": "stderr",
     "output_type": "stream",
     "text": [
      "D:\\software\\anaconda\\lib\\site-packages\\seaborn\\_decorators.py:36: FutureWarning: Pass the following variable as a keyword arg: x. From version 0.12, the only valid positional argument will be `data`, and passing other arguments without an explicit keyword will result in an error or misinterpretation.\n",
      "  warnings.warn(\n"
     ]
    },
    {
     "data": {
      "text/plain": [
       "<AxesSubplot:xlabel='cc_distance'>"
      ]
     },
     "execution_count": 25,
     "metadata": {},
     "output_type": "execute_result"
    },
    {
     "data": {
      "image/png": "[encoded data removed]",
      "text/plain": [
       "<Figure size 432x288 with 1 Axes>"
      ]
     },
     "metadata": {
      "needs_background": "light"
     },
     "output_type": "display_data"
    }
   ],
   "source": [
    "sns.boxplot(test['cc_distance'])"
   ]
  },
  {
   "cell_type": "markdown",
   "metadata": {},
   "source": [
    "#### Add distance to mrt stations"
   ]
  },
  {
   "cell_type": "code",
   "execution_count": 26,
   "metadata": {},
   "outputs": [],
   "source": [
    "# using long and lat\n",
    "mrtdistance = pd.read_csv('auxiliary-data/sg-mrt-stations.csv')\n",
    "expected_result = pd.merge(train, mrtdistance, on = 'planning_area')\n",
    "train['mrt_distance'] = haversine_np(train['lng'], train['lat'], expected_result['lng_y'], expected_result['lat_y'])\n",
    "\n",
    "\n",
    "# using long and lat\n",
    "mrtdistance = pd.read_csv('auxiliary-data/sg-mrt-stations.csv')\n",
    "expected_result = pd.merge(test, mrtdistance, on = 'planning_area')\n",
    "test['mrt_distance'] = haversine_np(test['lng'], test['lat'], expected_result['lng_y'], expected_result['lat_y'])"
   ]
  },
  {
   "cell_type": "code",
   "execution_count": 27,
   "metadata": {},
   "outputs": [],
   "source": [
    "mrtdistancemedian = train['mrt_distance'].median()\n",
    "train['mrt_distance']=train['mrt_distance'].fillna(mrtdistancemedian)\n",
    "\n",
    "mrtdistancemedian = test['mrt_distance'].median()\n",
    "test['mrt_distance']=test['mrt_distance'].fillna(mrtdistancemedian)"
   ]
  },
  {
   "cell_type": "code",
   "execution_count": 28,
   "metadata": {},
   "outputs": [
    {
     "name": "stderr",
     "output_type": "stream",
     "text": [
      "D:\\software\\anaconda\\lib\\site-packages\\seaborn\\_decorators.py:36: FutureWarning: Pass the following variable as a keyword arg: x. From version 0.12, the only valid positional argument will be `data`, and passing other arguments without an explicit keyword will result in an error or misinterpretation.\n",
      "  warnings.warn(\n"
     ]
    },
    {
     "data": {
      "text/plain": [
       "<AxesSubplot:xlabel='mrt_distance'>"
      ]
     },
     "execution_count": 28,
     "metadata": {},
     "output_type": "execute_result"
    },
    {
     "data": {
      "image/png": "[encoded data removed]",
      "text/plain": [
       "<Figure size 432x288 with 1 Axes>"
      ]
     },
     "metadata": {
      "needs_background": "light"
     },
     "output_type": "display_data"
    }
   ],
   "source": [
    "sns.boxplot(train['mrt_distance'])"
   ]
  },
  {
   "cell_type": "code",
   "execution_count": 29,
   "metadata": {},
   "outputs": [
    {
     "name": "stderr",
     "output_type": "stream",
     "text": [
      "D:\\software\\anaconda\\lib\\site-packages\\seaborn\\_decorators.py:36: FutureWarning: Pass the following variable as a keyword arg: x. From version 0.12, the only valid positional argument will be `data`, and passing other arguments without an explicit keyword will result in an error or misinterpretation.\n",
      "  warnings.warn(\n"
     ]
    },
    {
     "data": {
      "text/plain": [
       "<AxesSubplot:xlabel='mrt_distance'>"
      ]
     },
     "execution_count": 29,
     "metadata": {},
     "output_type": "execute_result"
    },
    {
     "data": {
      "image/png": "[encoded data removed]",
      "text/plain": [
       "<Figure size 432x288 with 1 Axes>"
      ]
     },
     "metadata": {
      "needs_background": "light"
     },
     "output_type": "display_data"
    }
   ],
   "source": [
    "train.loc[train['mrt_distance'] > 2000, 'mrt_distance'] = train['mrt_distance'].median()\n",
    "# Creating plot\n",
    "sns.boxplot(train['mrt_distance'])"
   ]
  },
  {
   "cell_type": "code",
   "execution_count": 30,
   "metadata": {},
   "outputs": [
    {
     "name": "stderr",
     "output_type": "stream",
     "text": [
      "D:\\software\\anaconda\\lib\\site-packages\\seaborn\\_decorators.py:36: FutureWarning: Pass the following variable as a keyword arg: x. From version 0.12, the only valid positional argument will be `data`, and passing other arguments without an explicit keyword will result in an error or misinterpretation.\n",
      "  warnings.warn(\n"
     ]
    },
    {
     "data": {
      "text/plain": [
       "<AxesSubplot:xlabel='mrt_distance'>"
      ]
     },
     "execution_count": 30,
     "metadata": {},
     "output_type": "execute_result"
    },
    {
     "data": {
      "image/png": "[encoded data removed]",
      "text/plain": [
       "<Figure size 432x288 with 1 Axes>"
      ]
     },
     "metadata": {
      "needs_background": "light"
     },
     "output_type": "display_data"
    }
   ],
   "source": [
    "train.loc[train['mrt_distance'] > 22, 'mrt_distance'] = 22\n",
    "# Creating plot\n",
    "sns.boxplot(train['mrt_distance'])"
   ]
  },
  {
   "cell_type": "code",
   "execution_count": 31,
   "metadata": {},
   "outputs": [],
   "source": [
    "test.loc[test['mrt_distance'] > 2000, 'mrt_distance'] = test['mrt_distance'].median()"
   ]
  },
  {
   "cell_type": "code",
   "execution_count": 32,
   "metadata": {},
   "outputs": [
    {
     "name": "stderr",
     "output_type": "stream",
     "text": [
      "D:\\software\\anaconda\\lib\\site-packages\\seaborn\\_decorators.py:36: FutureWarning: Pass the following variable as a keyword arg: x. From version 0.12, the only valid positional argument will be `data`, and passing other arguments without an explicit keyword will result in an error or misinterpretation.\n",
      "  warnings.warn(\n"
     ]
    },
    {
     "data": {
      "text/plain": [
       "<AxesSubplot:xlabel='mrt_distance'>"
      ]
     },
     "execution_count": 32,
     "metadata": {},
     "output_type": "execute_result"
    },
    {
     "data": {
      "image/png": "[encoded data removed]",
      "text/plain": [
       "<Figure size 432x288 with 1 Axes>"
      ]
     },
     "metadata": {
      "needs_background": "light"
     },
     "output_type": "display_data"
    }
   ],
   "source": [
    "sns.boxplot(test['mrt_distance'])"
   ]
  },
  {
   "cell_type": "markdown",
   "metadata": {},
   "source": [
    "#### Add distance to primary school "
   ]
  },
  {
   "cell_type": "code",
   "execution_count": 33,
   "metadata": {},
   "outputs": [],
   "source": [
    "# using long and lat\n",
    "primaryschooldistance = pd.read_csv('auxiliary-data/sg-primary-schools.csv')\n",
    "expected_result = pd.merge(train, primaryschooldistance, on = 'planning_area')\n",
    "train['primary_school_distance'] = haversine_np(train['lng'], train['lat'], expected_result['lng_y'], expected_result['lat_y'])\n",
    "\n",
    "# using long and lat\n",
    "primaryschooldistance = pd.read_csv('auxiliary-data/sg-primary-schools.csv')\n",
    "expected_result = pd.merge(test, primaryschooldistance, on = 'planning_area')\n",
    "test['primary_school_distance'] = haversine_np(test['lng'], test['lat'], expected_result['lng_y'], expected_result['lat_y'])"
   ]
  },
  {
   "cell_type": "code",
   "execution_count": 34,
   "metadata": {},
   "outputs": [],
   "source": [
    "pschoolmedian = train['primary_school_distance'].median()\n",
    "train['primary_school_distance'] = train['primary_school_distance'].fillna(pschoolmedian)\n",
    "\n",
    "pschoolmedian = test['primary_school_distance'].median()\n",
    "test['primary_school_distance'] = test['primary_school_distance'].fillna(pschoolmedian)"
   ]
  },
  {
   "cell_type": "code",
   "execution_count": 35,
   "metadata": {},
   "outputs": [
    {
     "name": "stderr",
     "output_type": "stream",
     "text": [
      "D:\\software\\anaconda\\lib\\site-packages\\seaborn\\_decorators.py:36: FutureWarning: Pass the following variable as a keyword arg: x. From version 0.12, the only valid positional argument will be `data`, and passing other arguments without an explicit keyword will result in an error or misinterpretation.\n",
      "  warnings.warn(\n"
     ]
    },
    {
     "data": {
      "text/plain": [
       "<AxesSubplot:xlabel='primary_school_distance'>"
      ]
     },
     "execution_count": 35,
     "metadata": {},
     "output_type": "execute_result"
    },
    {
     "data": {
      "image/png": "[encoded data removed]",
      "text/plain": [
       "<Figure size 432x288 with 1 Axes>"
      ]
     },
     "metadata": {
      "needs_background": "light"
     },
     "output_type": "display_data"
    }
   ],
   "source": [
    "train.loc[train['primary_school_distance'] > 26, 'primary_school_distance'] = 26\n",
    "sns.boxplot(train['primary_school_distance'])"
   ]
  },
  {
   "cell_type": "code",
   "execution_count": 36,
   "metadata": {},
   "outputs": [],
   "source": [
    "test.loc[test['primary_school_distance'] > 26, 'primary_school_distance'] = 26"
   ]
  },
  {
   "cell_type": "code",
   "execution_count": 37,
   "metadata": {},
   "outputs": [
    {
     "name": "stderr",
     "output_type": "stream",
     "text": [
      "D:\\software\\anaconda\\lib\\site-packages\\seaborn\\_decorators.py:36: FutureWarning: Pass the following variable as a keyword arg: x. From version 0.12, the only valid positional argument will be `data`, and passing other arguments without an explicit keyword will result in an error or misinterpretation.\n",
      "  warnings.warn(\n"
     ]
    },
    {
     "data": {
      "text/plain": [
       "<AxesSubplot:xlabel='primary_school_distance'>"
      ]
     },
     "execution_count": 37,
     "metadata": {},
     "output_type": "execute_result"
    },
    {
     "data": {
      "image/png": "[encoded data removed]",
      "text/plain": [
       "<Figure size 432x288 with 1 Axes>"
      ]
     },
     "metadata": {
      "needs_background": "light"
     },
     "output_type": "display_data"
    }
   ],
   "source": [
    "sns.boxplot(test['primary_school_distance'])"
   ]
  },
  {
   "cell_type": "markdown",
   "metadata": {},
   "source": [
    "#### Add distance to secondary school"
   ]
  },
  {
   "cell_type": "code",
   "execution_count": 38,
   "metadata": {},
   "outputs": [],
   "source": [
    "# using long and lat\n",
    "secschooldistance = pd.read_csv('auxiliary-data/sg-secondary-schools.csv')\n",
    "expected_result = pd.merge(train, secschooldistance, on = 'planning_area')\n",
    "train['secondary_school_distance'] = haversine_np(train['lng'], train['lat'], expected_result['lng_y'], expected_result['lat_y'])\n",
    "\n",
    "# using long and lat\n",
    "secschooldistance = pd.read_csv('auxiliary-data/sg-secondary-schools.csv')\n",
    "expected_result = pd.merge(test, secschooldistance, on = 'planning_area')\n",
    "test['secondary_school_distance'] = haversine_np(test['lng'], test['lat'], expected_result['lng_y'], expected_result['lat_y'])"
   ]
  },
  {
   "cell_type": "code",
   "execution_count": 39,
   "metadata": {},
   "outputs": [],
   "source": [
    "sschooldistance = train['secondary_school_distance'].median()\n",
    "train['secondary_school_distance'] = train['secondary_school_distance'].fillna(sschooldistance)\n",
    "\n",
    "sschooldistance = test['secondary_school_distance'].median()\n",
    "test['secondary_school_distance'] = test['secondary_school_distance'].fillna(sschooldistance)"
   ]
  },
  {
   "cell_type": "code",
   "execution_count": 40,
   "metadata": {},
   "outputs": [
    {
     "name": "stderr",
     "output_type": "stream",
     "text": [
      "D:\\software\\anaconda\\lib\\site-packages\\seaborn\\_decorators.py:36: FutureWarning: Pass the following variable as a keyword arg: x. From version 0.12, the only valid positional argument will be `data`, and passing other arguments without an explicit keyword will result in an error or misinterpretation.\n",
      "  warnings.warn(\n"
     ]
    },
    {
     "data": {
      "text/plain": [
       "<AxesSubplot:xlabel='secondary_school_distance'>"
      ]
     },
     "execution_count": 40,
     "metadata": {},
     "output_type": "execute_result"
    },
    {
     "data": {
      "image/png": "[encoded data removed]",
      "text/plain": [
       "<Figure size 432x288 with 1 Axes>"
      ]
     },
     "metadata": {
      "needs_background": "light"
     },
     "output_type": "display_data"
    }
   ],
   "source": [
    "train.loc[train['secondary_school_distance'] > 24, 'secondary_school_distance'] = 24\n",
    "sns.boxplot(train['secondary_school_distance'])"
   ]
  },
  {
   "cell_type": "code",
   "execution_count": 41,
   "metadata": {},
   "outputs": [
    {
     "name": "stderr",
     "output_type": "stream",
     "text": [
      "D:\\software\\anaconda\\lib\\site-packages\\seaborn\\_decorators.py:36: FutureWarning: Pass the following variable as a keyword arg: x. From version 0.12, the only valid positional argument will be `data`, and passing other arguments without an explicit keyword will result in an error or misinterpretation.\n",
      "  warnings.warn(\n"
     ]
    },
    {
     "data": {
      "text/plain": [
       "<AxesSubplot:xlabel='secondary_school_distance'>"
      ]
     },
     "execution_count": 41,
     "metadata": {},
     "output_type": "execute_result"
    },
    {
     "data": {
      "image/png": "[encoded data removed]",
      "text/plain": [
       "<Figure size 432x288 with 1 Axes>"
      ]
     },
     "metadata": {
      "needs_background": "light"
     },
     "output_type": "display_data"
    }
   ],
   "source": [
    "test.loc[test['secondary_school_distance'] > 24, 'secondary_school_distance'] = 24\n",
    "sns.boxplot(test['secondary_school_distance'])"
   ]
  },
  {
   "cell_type": "markdown",
   "metadata": {},
   "source": [
    "#### Add distance to shopping malls"
   ]
  },
  {
   "cell_type": "code",
   "execution_count": 42,
   "metadata": {},
   "outputs": [],
   "source": [
    "# using long and lat\n",
    "shop_distance = pd.read_csv('auxiliary-data/sg-shopping-malls.csv')\n",
    "expected_result = pd.merge(train, secschooldistance, on = 'planning_area')\n",
    "train['shop_distance'] = haversine_np(train['lng'], train['lat'], expected_result['lng_y'], expected_result['lat_y'])\n",
    "\n",
    "# using long and lat\n",
    "shop_distance = pd.read_csv('auxiliary-data/sg-shopping-malls.csv')\n",
    "expected_result = pd.merge(test, secschooldistance, on = 'planning_area')\n",
    "test['shop_distance'] = haversine_np(test['lng'], test['lat'], expected_result['lng_y'], expected_result['lat_y'])"
   ]
  },
  {
   "cell_type": "code",
   "execution_count": 43,
   "metadata": {},
   "outputs": [],
   "source": [
    "sdistancemedian = train['shop_distance'].median()\n",
    "train['shop_distance'] = train['shop_distance'].fillna(sdistancemedian)\n",
    "\n",
    "sdistancemedian = test['shop_distance'].median()\n",
    "test['shop_distance'] = test['shop_distance'].fillna(sdistancemedian)"
   ]
  },
  {
   "cell_type": "code",
   "execution_count": 44,
   "metadata": {},
   "outputs": [
    {
     "name": "stderr",
     "output_type": "stream",
     "text": [
      "D:\\software\\anaconda\\lib\\site-packages\\seaborn\\_decorators.py:36: FutureWarning: Pass the following variable as a keyword arg: x. From version 0.12, the only valid positional argument will be `data`, and passing other arguments without an explicit keyword will result in an error or misinterpretation.\n",
      "  warnings.warn(\n"
     ]
    },
    {
     "data": {
      "text/plain": [
       "<AxesSubplot:xlabel='shop_distance'>"
      ]
     },
     "execution_count": 44,
     "metadata": {},
     "output_type": "execute_result"
    },
    {
     "data": {
      "image/png": "[encoded data removed]",
      "text/plain": [
       "<Figure size 432x288 with 1 Axes>"
      ]
     },
     "metadata": {
      "needs_background": "light"
     },
     "output_type": "display_data"
    }
   ],
   "source": [
    "train.loc[train['shop_distance'] > 2000, 'shop_distance'] = train['shop_distance'].median()\n",
    "sns.boxplot(train['shop_distance'])"
   ]
  },
  {
   "cell_type": "code",
   "execution_count": 45,
   "metadata": {},
   "outputs": [
    {
     "name": "stderr",
     "output_type": "stream",
     "text": [
      "D:\\software\\anaconda\\lib\\site-packages\\seaborn\\_decorators.py:36: FutureWarning: Pass the following variable as a keyword arg: x. From version 0.12, the only valid positional argument will be `data`, and passing other arguments without an explicit keyword will result in an error or misinterpretation.\n",
      "  warnings.warn(\n"
     ]
    },
    {
     "data": {
      "text/plain": [
       "<AxesSubplot:xlabel='shop_distance'>"
      ]
     },
     "execution_count": 45,
     "metadata": {},
     "output_type": "execute_result"
    },
    {
     "data": {
      "image/png": "[encoded data removed]",
      "text/plain": [
       "<Figure size 432x288 with 1 Axes>"
      ]
     },
     "metadata": {
      "needs_background": "light"
     },
     "output_type": "display_data"
    }
   ],
   "source": [
    "train.loc[train['shop_distance'] > 24, 'shop_distance'] = 24\n",
    "sns.boxplot(train['shop_distance'])"
   ]
  },
  {
   "cell_type": "code",
   "execution_count": 46,
   "metadata": {},
   "outputs": [],
   "source": [
    "test.loc[test['shop_distance'] > 24, 'shop_distance'] = 24"
   ]
  },
  {
   "cell_type": "markdown",
   "metadata": {},
   "source": [
    "### lng & lat"
   ]
  },
  {
   "cell_type": "code",
   "execution_count": 47,
   "metadata": {},
   "outputs": [
    {
     "data": {
      "text/html": [
       "<div>\n",
       "<style scoped>\n",
       "    .dataframe tbody tr th:only-of-type {\n",
       "        vertical-align: middle;\n",
       "    }\n",
       "\n",
       "    .dataframe tbody tr th {\n",
       "        vertical-align: top;\n",
       "    }\n",
       "\n",
       "    .dataframe thead th {\n",
       "        text-align: right;\n",
       "    }\n",
       "</style>\n",
       "<table border=\"1\" class=\"dataframe\">\n",
       "  <thead>\n",
       "    <tr style=\"text-align: right;\">\n",
       "      <th></th>\n",
       "      <th>property_type</th>\n",
       "      <th>tenure</th>\n",
       "      <th>built_year</th>\n",
       "      <th>num_beds</th>\n",
       "      <th>num_baths</th>\n",
       "      <th>size_sqft</th>\n",
       "      <th>floor_level</th>\n",
       "      <th>furnishing</th>\n",
       "      <th>available_unit_types</th>\n",
       "      <th>total_num_units</th>\n",
       "      <th>lat</th>\n",
       "      <th>lng</th>\n",
       "      <th>subzone</th>\n",
       "      <th>planning_area</th>\n",
       "      <th>price</th>\n",
       "      <th>cc_distance</th>\n",
       "      <th>mrt_distance</th>\n",
       "      <th>primary_school_distance</th>\n",
       "      <th>secondary_school_distance</th>\n",
       "      <th>shop_distance</th>\n",
       "    </tr>\n",
       "  </thead>\n",
       "  <tbody>\n",
       "    <tr>\n",
       "      <th>0</th>\n",
       "      <td>hdb 4 rooms</td>\n",
       "      <td>NaN</td>\n",
       "      <td>1988.0</td>\n",
       "      <td>3.0</td>\n",
       "      <td>2.0</td>\n",
       "      <td>1115</td>\n",
       "      <td>NaN</td>\n",
       "      <td>unspecified</td>\n",
       "      <td>NaN</td>\n",
       "      <td>116.0</td>\n",
       "      <td>1.414399</td>\n",
       "      <td>103.837196</td>\n",
       "      <td>yishun</td>\n",
       "      <td>yishun</td>\n",
       "      <td>514500.0</td>\n",
       "      <td>8.027727</td>\n",
       "      <td>1.689357</td>\n",
       "      <td>5.178683</td>\n",
       "      <td>2.538065</td>\n",
       "      <td>2.538065</td>\n",
       "    </tr>\n",
       "    <tr>\n",
       "      <th>1</th>\n",
       "      <td>hdb</td>\n",
       "      <td>99-year leasehold</td>\n",
       "      <td>1992.0</td>\n",
       "      <td>4.0</td>\n",
       "      <td>2.0</td>\n",
       "      <td>1575</td>\n",
       "      <td>NaN</td>\n",
       "      <td>unspecified</td>\n",
       "      <td>1, 2, 3, 4, 5, 6 br</td>\n",
       "      <td>NaN</td>\n",
       "      <td>1.372597</td>\n",
       "      <td>103.875625</td>\n",
       "      <td>serangoon</td>\n",
       "      <td>serangoon</td>\n",
       "      <td>995400.0</td>\n",
       "      <td>2.400374</td>\n",
       "      <td>6.871207</td>\n",
       "      <td>8.310177</td>\n",
       "      <td>6.710202</td>\n",
       "      <td>6.710202</td>\n",
       "    </tr>\n",
       "    <tr>\n",
       "      <th>2</th>\n",
       "      <td>condo</td>\n",
       "      <td>freehold</td>\n",
       "      <td>2022.0</td>\n",
       "      <td>4.0</td>\n",
       "      <td>6.0</td>\n",
       "      <td>3070</td>\n",
       "      <td>low</td>\n",
       "      <td>partial</td>\n",
       "      <td>studio, 3, 4, 5, 6 br</td>\n",
       "      <td>56.0</td>\n",
       "      <td>1.298773</td>\n",
       "      <td>103.895798</td>\n",
       "      <td>marine parade</td>\n",
       "      <td>marine parade</td>\n",
       "      <td>8485000.0</td>\n",
       "      <td>6.389766</td>\n",
       "      <td>13.983476</td>\n",
       "      <td>9.485153</td>\n",
       "      <td>15.197137</td>\n",
       "      <td>15.197137</td>\n",
       "    </tr>\n",
       "    <tr>\n",
       "      <th>3</th>\n",
       "      <td>Condo</td>\n",
       "      <td>freehold</td>\n",
       "      <td>2023.0</td>\n",
       "      <td>3.0</td>\n",
       "      <td>2.0</td>\n",
       "      <td>958</td>\n",
       "      <td>NaN</td>\n",
       "      <td>partial</td>\n",
       "      <td>studio, 1, 2, 3, 4 br</td>\n",
       "      <td>638.0</td>\n",
       "      <td>1.312364</td>\n",
       "      <td>103.803271</td>\n",
       "      <td>bukit timah</td>\n",
       "      <td>bukit timah</td>\n",
       "      <td>2626000.0</td>\n",
       "      <td>8.802339</td>\n",
       "      <td>13.479646</td>\n",
       "      <td>3.290085</td>\n",
       "      <td>12.950660</td>\n",
       "      <td>12.950660</td>\n",
       "    </tr>\n",
       "    <tr>\n",
       "      <th>4</th>\n",
       "      <td>condo</td>\n",
       "      <td>99-year leasehold</td>\n",
       "      <td>2026.0</td>\n",
       "      <td>2.0</td>\n",
       "      <td>1.0</td>\n",
       "      <td>732</td>\n",
       "      <td>NaN</td>\n",
       "      <td>unspecified</td>\n",
       "      <td>studio, 1, 2, 3, 4, 5 br</td>\n",
       "      <td>351.0</td>\n",
       "      <td>1.273959</td>\n",
       "      <td>103.843635</td>\n",
       "      <td>downtown core</td>\n",
       "      <td>downtown core</td>\n",
       "      <td>1764000.0</td>\n",
       "      <td>9.160635</td>\n",
       "      <td>15.981982</td>\n",
       "      <td>13.818954</td>\n",
       "      <td>17.977600</td>\n",
       "      <td>17.977600</td>\n",
       "    </tr>\n",
       "  </tbody>\n",
       "</table>\n",
       "</div>"
      ],
      "text/plain": [
       "  property_type             tenure  built_year  num_beds  num_baths  \\\n",
       "0   hdb 4 rooms                NaN      1988.0       3.0        2.0   \n",
       "1           hdb  99-year leasehold      1992.0       4.0        2.0   \n",
       "2         condo           freehold      2022.0       4.0        6.0   \n",
       "3         Condo           freehold      2023.0       3.0        2.0   \n",
       "4         condo  99-year leasehold      2026.0       2.0        1.0   \n",
       "\n",
       "   size_sqft floor_level   furnishing      available_unit_types  \\\n",
       "0       1115         NaN  unspecified                       NaN   \n",
       "1       1575         NaN  unspecified       1, 2, 3, 4, 5, 6 br   \n",
       "2       3070         low      partial     studio, 3, 4, 5, 6 br   \n",
       "3        958         NaN      partial     studio, 1, 2, 3, 4 br   \n",
       "4        732         NaN  unspecified  studio, 1, 2, 3, 4, 5 br   \n",
       "\n",
       "   total_num_units       lat         lng        subzone  planning_area  \\\n",
       "0            116.0  1.414399  103.837196         yishun         yishun   \n",
       "1              NaN  1.372597  103.875625      serangoon      serangoon   \n",
       "2             56.0  1.298773  103.895798  marine parade  marine parade   \n",
       "3            638.0  1.312364  103.803271    bukit timah    bukit timah   \n",
       "4            351.0  1.273959  103.843635  downtown core  downtown core   \n",
       "\n",
       "       price  cc_distance  mrt_distance  primary_school_distance  \\\n",
       "0   514500.0     8.027727      1.689357                 5.178683   \n",
       "1   995400.0     2.400374      6.871207                 8.310177   \n",
       "2  8485000.0     6.389766     13.983476                 9.485153   \n",
       "3  2626000.0     8.802339     13.479646                 3.290085   \n",
       "4  1764000.0     9.160635     15.981982                13.818954   \n",
       "\n",
       "   secondary_school_distance  shop_distance  \n",
       "0                   2.538065       2.538065  \n",
       "1                   6.710202       6.710202  \n",
       "2                  15.197137      15.197137  \n",
       "3                  12.950660      12.950660  \n",
       "4                  17.977600      17.977600  "
      ]
     },
     "execution_count": 47,
     "metadata": {},
     "output_type": "execute_result"
    }
   ],
   "source": [
    "train.head()"
   ]
  },
  {
   "cell_type": "code",
   "execution_count": 48,
   "metadata": {},
   "outputs": [],
   "source": [
    "train = train.drop(columns=['lat','lng'])"
   ]
  },
  {
   "cell_type": "code",
   "execution_count": 49,
   "metadata": {},
   "outputs": [],
   "source": [
    "test = test.drop(columns=['lat','lng'])"
   ]
  },
  {
   "cell_type": "markdown",
   "metadata": {},
   "source": [
    "### Population"
   ]
  },
  {
   "cell_type": "code",
   "execution_count": 50,
   "metadata": {},
   "outputs": [],
   "source": [
    "population = pd.read_csv('auxiliary-data/sg-subzones.csv')"
   ]
  },
  {
   "cell_type": "code",
   "execution_count": 51,
   "metadata": {},
   "outputs": [],
   "source": [
    "expected_result = pd.merge(train, population, on = 'planning_area')\n",
    "train['population'] = expected_result['population']\n",
    "train['area_size'] = expected_result['area_size']"
   ]
  },
  {
   "cell_type": "code",
   "execution_count": 52,
   "metadata": {},
   "outputs": [],
   "source": [
    "expected_result = pd.merge(test, population, on = 'planning_area')\n",
    "test['population'] = expected_result['population']\n",
    "test['area_size'] = expected_result['area_size']"
   ]
  },
  {
   "cell_type": "code",
   "execution_count": 53,
   "metadata": {},
   "outputs": [
    {
     "name": "stderr",
     "output_type": "stream",
     "text": [
      "D:\\software\\anaconda\\lib\\site-packages\\seaborn\\_decorators.py:36: FutureWarning: Pass the following variable as a keyword arg: x. From version 0.12, the only valid positional argument will be `data`, and passing other arguments without an explicit keyword will result in an error or misinterpretation.\n",
      "  warnings.warn(\n"
     ]
    },
    {
     "data": {
      "text/plain": [
       "<AxesSubplot:xlabel='population'>"
      ]
     },
     "execution_count": 53,
     "metadata": {},
     "output_type": "execute_result"
    },
    {
     "data": {
      "image/png": "[encoded data removed]",
      "text/plain": [
       "<Figure size 432x288 with 1 Axes>"
      ]
     },
     "metadata": {
      "needs_background": "light"
     },
     "output_type": "display_data"
    }
   ],
   "source": [
    "sns.boxplot(train['population'])"
   ]
  },
  {
   "cell_type": "code",
   "execution_count": 54,
   "metadata": {},
   "outputs": [
    {
     "name": "stderr",
     "output_type": "stream",
     "text": [
      "D:\\software\\anaconda\\lib\\site-packages\\seaborn\\_decorators.py:36: FutureWarning: Pass the following variable as a keyword arg: x. From version 0.12, the only valid positional argument will be `data`, and passing other arguments without an explicit keyword will result in an error or misinterpretation.\n",
      "  warnings.warn(\n"
     ]
    },
    {
     "data": {
      "text/plain": [
       "<AxesSubplot:xlabel='population'>"
      ]
     },
     "execution_count": 54,
     "metadata": {},
     "output_type": "execute_result"
    },
    {
     "data": {
      "image/png": "[encoded data removed]",
      "text/plain": [
       "<Figure size 432x288 with 1 Axes>"
      ]
     },
     "metadata": {
      "needs_background": "light"
     },
     "output_type": "display_data"
    }
   ],
   "source": [
    "train.loc[train['population'] > 45000, 'population'] = 45000\n",
    "sns.boxplot(train['population'])"
   ]
  },
  {
   "cell_type": "code",
   "execution_count": 55,
   "metadata": {},
   "outputs": [
    {
     "data": {
      "image/png": "[encoded data removed]",
      "text/plain": [
       "<Figure size 1296x576 with 1 Axes>"
      ]
     },
     "metadata": {
      "needs_background": "light"
     },
     "output_type": "display_data"
    }
   ],
   "source": [
    "fig, axes = plt.subplots(figsize=(18,8))\n",
    "sns.boxplot(x ='population', y= 'planning_area', data=train)\n",
    "axes.set_title('Population vs Planning Area')\n",
    "plt.show()"
   ]
  },
  {
   "cell_type": "markdown",
   "metadata": {},
   "source": [
    "### Area_Size"
   ]
  },
  {
   "cell_type": "code",
   "execution_count": 56,
   "metadata": {},
   "outputs": [
    {
     "name": "stderr",
     "output_type": "stream",
     "text": [
      "D:\\software\\anaconda\\lib\\site-packages\\seaborn\\_decorators.py:36: FutureWarning: Pass the following variable as a keyword arg: x. From version 0.12, the only valid positional argument will be `data`, and passing other arguments without an explicit keyword will result in an error or misinterpretation.\n",
      "  warnings.warn(\n"
     ]
    },
    {
     "data": {
      "text/plain": [
       "<AxesSubplot:xlabel='area_size'>"
      ]
     },
     "execution_count": 56,
     "metadata": {},
     "output_type": "execute_result"
    },
    {
     "data": {
      "image/png": "[encoded data removed]",
      "text/plain": [
       "<Figure size 432x288 with 1 Axes>"
      ]
     },
     "metadata": {
      "needs_background": "light"
     },
     "output_type": "display_data"
    }
   ],
   "source": [
    "sns.boxplot(train['area_size'])"
   ]
  },
  {
   "cell_type": "code",
   "execution_count": 57,
   "metadata": {},
   "outputs": [
    {
     "data": {
      "image/png": "[encoded data removed]",
      "text/plain": [
       "<Figure size 1296x576 with 1 Axes>"
      ]
     },
     "metadata": {
      "needs_background": "light"
     },
     "output_type": "display_data"
    }
   ],
   "source": [
    "fig, axes = plt.subplots(figsize=(18,8))\n",
    "sns.boxplot(x ='area_size', y= 'planning_area', data=train)\n",
    "axes.set_title('Area_size vs Planning Area')\n",
    "plt.show()"
   ]
  },
  {
   "cell_type": "code",
   "execution_count": 58,
   "metadata": {},
   "outputs": [
    {
     "name": "stderr",
     "output_type": "stream",
     "text": [
      "D:\\software\\anaconda\\lib\\site-packages\\seaborn\\_decorators.py:36: FutureWarning: Pass the following variable as a keyword arg: x. From version 0.12, the only valid positional argument will be `data`, and passing other arguments without an explicit keyword will result in an error or misinterpretation.\n",
      "  warnings.warn(\n"
     ]
    },
    {
     "data": {
      "text/plain": [
       "<AxesSubplot:xlabel='area_size'>"
      ]
     },
     "execution_count": 58,
     "metadata": {},
     "output_type": "execute_result"
    },
    {
     "data": {
      "image/png": "[encoded data removed]",
      "text/plain": [
       "<Figure size 432x288 with 1 Axes>"
      ]
     },
     "metadata": {
      "needs_background": "light"
     },
     "output_type": "display_data"
    }
   ],
   "source": [
    "train.loc[train['area_size'] > 3.5, 'area_size'] = 3.5\n",
    "sns.boxplot(train['area_size'])"
   ]
  },
  {
   "cell_type": "code",
   "execution_count": 59,
   "metadata": {},
   "outputs": [
    {
     "data": {
      "image/png": "[encoded data removed]",
      "text/plain": [
       "<Figure size 1296x576 with 1 Axes>"
      ]
     },
     "metadata": {
      "needs_background": "light"
     },
     "output_type": "display_data"
    }
   ],
   "source": [
    "fig, axes = plt.subplots(figsize=(18,8))\n",
    "sns.boxplot(x ='area_size', y= 'planning_area', data=train)\n",
    "axes.set_title('Area_size vs Planning Area')\n",
    "plt.show()"
   ]
  },
  {
   "cell_type": "markdown",
   "metadata": {},
   "source": [
    "### Property Type cleaning"
   ]
  },
  {
   "cell_type": "code",
   "execution_count": 60,
   "metadata": {},
   "outputs": [],
   "source": [
    "#Change all to uppercase\n",
    "train['property_type']=train['property_type'].str.upper()\n",
    "\n",
    "#Change all to uppercase\n",
    "test['property_type']=test['property_type'].str.upper()"
   ]
  },
  {
   "cell_type": "code",
   "execution_count": 61,
   "metadata": {},
   "outputs": [
    {
     "data": {
      "text/html": [
       "<div>\n",
       "<style scoped>\n",
       "    .dataframe tbody tr th:only-of-type {\n",
       "        vertical-align: middle;\n",
       "    }\n",
       "\n",
       "    .dataframe tbody tr th {\n",
       "        vertical-align: top;\n",
       "    }\n",
       "\n",
       "    .dataframe thead th {\n",
       "        text-align: right;\n",
       "    }\n",
       "</style>\n",
       "<table border=\"1\" class=\"dataframe\">\n",
       "  <thead>\n",
       "    <tr style=\"text-align: right;\">\n",
       "      <th></th>\n",
       "      <th>property_type</th>\n",
       "      <th>tenure</th>\n",
       "      <th>built_year</th>\n",
       "      <th>num_beds</th>\n",
       "      <th>num_baths</th>\n",
       "      <th>size_sqft</th>\n",
       "      <th>floor_level</th>\n",
       "      <th>furnishing</th>\n",
       "      <th>available_unit_types</th>\n",
       "      <th>total_num_units</th>\n",
       "      <th>subzone</th>\n",
       "      <th>planning_area</th>\n",
       "      <th>price</th>\n",
       "      <th>cc_distance</th>\n",
       "      <th>mrt_distance</th>\n",
       "      <th>primary_school_distance</th>\n",
       "      <th>secondary_school_distance</th>\n",
       "      <th>shop_distance</th>\n",
       "      <th>population</th>\n",
       "      <th>area_size</th>\n",
       "    </tr>\n",
       "  </thead>\n",
       "  <tbody>\n",
       "    <tr>\n",
       "      <th>635</th>\n",
       "      <td>LAND ONLY</td>\n",
       "      <td>freehold</td>\n",
       "      <td>2000.0</td>\n",
       "      <td>3.0</td>\n",
       "      <td>3.0</td>\n",
       "      <td>107</td>\n",
       "      <td>NaN</td>\n",
       "      <td>unspecified</td>\n",
       "      <td>3, 4, 5, 6 br</td>\n",
       "      <td>12.0</td>\n",
       "      <td>tanglin</td>\n",
       "      <td>tanglin</td>\n",
       "      <td>101640000.0</td>\n",
       "      <td>7.065196</td>\n",
       "      <td>9.126171</td>\n",
       "      <td>10.128764</td>\n",
       "      <td>12.080913</td>\n",
       "      <td>12.080913</td>\n",
       "      <td>2620</td>\n",
       "      <td>0.4364</td>\n",
       "    </tr>\n",
       "    <tr>\n",
       "      <th>1575</th>\n",
       "      <td>LAND ONLY</td>\n",
       "      <td>99-year leasehold</td>\n",
       "      <td>NaN</td>\n",
       "      <td>5.0</td>\n",
       "      <td>5.0</td>\n",
       "      <td>5726</td>\n",
       "      <td>NaN</td>\n",
       "      <td>unfurnished</td>\n",
       "      <td>3, 4, 5, 6 br</td>\n",
       "      <td>NaN</td>\n",
       "      <td>bukit panjang</td>\n",
       "      <td>bukit panjang</td>\n",
       "      <td>1257900.0</td>\n",
       "      <td>12.424904</td>\n",
       "      <td>10.844287</td>\n",
       "      <td>14.961924</td>\n",
       "      <td>11.324306</td>\n",
       "      <td>11.324306</td>\n",
       "      <td>10250</td>\n",
       "      <td>1.4329</td>\n",
       "    </tr>\n",
       "    <tr>\n",
       "      <th>19090</th>\n",
       "      <td>SHOPHOUSE</td>\n",
       "      <td>freehold</td>\n",
       "      <td>2019.0</td>\n",
       "      <td>2.0</td>\n",
       "      <td>2.0</td>\n",
       "      <td>657</td>\n",
       "      <td>NaN</td>\n",
       "      <td>unspecified</td>\n",
       "      <td>1, 2 br</td>\n",
       "      <td>17.0</td>\n",
       "      <td>outram</td>\n",
       "      <td>outram</td>\n",
       "      <td>1621100.0</td>\n",
       "      <td>10.324064</td>\n",
       "      <td>1.401878</td>\n",
       "      <td>13.072322</td>\n",
       "      <td>13.021354</td>\n",
       "      <td>13.021354</td>\n",
       "      <td>6440</td>\n",
       "      <td>2.0385</td>\n",
       "    </tr>\n",
       "  </tbody>\n",
       "</table>\n",
       "</div>"
      ],
      "text/plain": [
       "      property_type             tenure  built_year  num_beds  num_baths  \\\n",
       "635       LAND ONLY           freehold      2000.0       3.0        3.0   \n",
       "1575      LAND ONLY  99-year leasehold         NaN       5.0        5.0   \n",
       "19090     SHOPHOUSE           freehold      2019.0       2.0        2.0   \n",
       "\n",
       "       size_sqft floor_level   furnishing available_unit_types  \\\n",
       "635          107         NaN  unspecified        3, 4, 5, 6 br   \n",
       "1575        5726         NaN  unfurnished        3, 4, 5, 6 br   \n",
       "19090        657         NaN  unspecified              1, 2 br   \n",
       "\n",
       "       total_num_units        subzone  planning_area        price  \\\n",
       "635               12.0        tanglin        tanglin  101640000.0   \n",
       "1575               NaN  bukit panjang  bukit panjang    1257900.0   \n",
       "19090             17.0         outram         outram    1621100.0   \n",
       "\n",
       "       cc_distance  mrt_distance  primary_school_distance  \\\n",
       "635       7.065196      9.126171                10.128764   \n",
       "1575     12.424904     10.844287                14.961924   \n",
       "19090    10.324064      1.401878                13.072322   \n",
       "\n",
       "       secondary_school_distance  shop_distance  population  area_size  \n",
       "635                    12.080913      12.080913        2620     0.4364  \n",
       "1575                   11.324306      11.324306       10250     1.4329  \n",
       "19090                  13.021354      13.021354        6440     2.0385  "
      ]
     },
     "execution_count": 61,
     "metadata": {},
     "output_type": "execute_result"
    }
   ],
   "source": [
    "property_to_keep = test['property_type'].unique()\n",
    "train.property_type.isin(property_to_keep)\n",
    "\n",
    "train[~train.property_type.isin(property_to_keep)]"
   ]
  },
  {
   "cell_type": "code",
   "execution_count": 62,
   "metadata": {},
   "outputs": [],
   "source": [
    "categories_not_in_test = ['LAND ONLY', 'SHOPHOUSE']\n",
    "train = train[train['property_type'].isin(categories_not_in_test) == False] "
   ]
  },
  {
   "cell_type": "code",
   "execution_count": 63,
   "metadata": {},
   "outputs": [],
   "source": [
    "train['property_type'] = train['property_type'].replace(\n",
    "    ['CLUSTER HOUSE', 'CONSERVATION HOUSE', 'LANDED', 'WALK-UP', 'TOWNHOUSE', 'GOOD CLASS BUNGALOW', 'CORNER TERRACE', 'SEMI-DETACHED HOUSE', 'BUNGALOW', 'TERRACED HOUSE'],\n",
    "    'LANDED'\n",
    ")\n",
    "\n",
    "test['property_type'] = test['property_type'].replace(\n",
    "    ['CLUSTER HOUSE', 'CONSERVATION HOUSE', 'LANDED', 'WALK-UP', 'TOWNHOUSE', 'GOOD CLASS BUNGALOW', 'CORNER TERRACE', 'SEMI-DETACHED HOUSE', 'BUNGALOW', 'TERRACED HOUSE'],\n",
    "    'LANDED'\n",
    ")"
   ]
  },
  {
   "cell_type": "code",
   "execution_count": 64,
   "metadata": {},
   "outputs": [],
   "source": [
    "train['property_type'] = train['property_type'].replace(\n",
    "    ['HDB 3 ROOMS', 'HDB 4 ROOMS', 'HDB 5 ROOMS', 'HDB EXECUTIVE', 'HDB 2 ROOMS', 'APARTMENT'],\n",
    "    'HDB'\n",
    ")\n",
    "\n",
    "test['property_type'] = test['property_type'].replace(\n",
    "    ['HDB 3 ROOMS', 'HDB 4 ROOMS', 'HDB 5 ROOMS', 'HDB EXECUTIVE', 'HDB 2 ROOMS', 'APARTMENT'],\n",
    "    'HDB'\n",
    ")"
   ]
  },
  {
   "cell_type": "code",
   "execution_count": 65,
   "metadata": {},
   "outputs": [],
   "source": [
    "train['property_type'] = train['property_type'].replace(\n",
    "    ['EXECUTIVE CONDO'],\n",
    "    'CONDO'\n",
    ")\n",
    "\n",
    "test['property_type'] = test['property_type'].replace(\n",
    "    ['EXECUTIVE CONDO'],\n",
    "    'CONDO'\n",
    ")"
   ]
  },
  {
   "cell_type": "code",
   "execution_count": 66,
   "metadata": {},
   "outputs": [],
   "source": [
    "#for regression only\n",
    "# from sklearn import preprocessing\n",
    "# le = preprocessing.LabelEncoder()\n",
    "# le.fit(train['property_type'])\n",
    "# train['property_type']=le.transform(train['property_type'])\n",
    "\n",
    "# test['property_type']=le.transform(test['property_type'])\n",
    "\n",
    "# one hot endcoding\n",
    "# pd.get_dummies(train.property_type, prefix='property')"
   ]
  },
  {
   "cell_type": "markdown",
   "metadata": {},
   "source": [
    "### Tenure "
   ]
  },
  {
   "cell_type": "code",
   "execution_count": 67,
   "metadata": {},
   "outputs": [],
   "source": [
    "train['tenure'] = train['tenure'].replace(\n",
    "    [\n",
    "    '99-year leasehold',\n",
    "    '110-year leasehold',\n",
    "    '103-year leasehold',\n",
    "    '102-year leasehold',\n",
    "    '100-year leasehold',\n",
    "    ],\n",
    "    '99-year leasehold'\n",
    ")\n",
    "\n",
    "train['tenure'] = train['tenure'].replace(\n",
    "    [\n",
    "    '946-year leasehold',\n",
    "    '999-year leasehold',\n",
    "    '956-year leasehold',\n",
    "    '929-year leasehold',\n",
    "    '947-year leasehold',\n",
    "    '999-year leasehold'\n",
    "    ],\n",
    "    'freehold'\n",
    ")\n",
    "\n",
    "\n",
    "\n",
    "test['tenure'] = test['tenure'].replace(\n",
    "    [\n",
    "    '99-year leasehold',\n",
    "    '110-year leasehold',\n",
    "    '103-year leasehold',\n",
    "    '102-year leasehold',\n",
    "    '100-year leasehold',\n",
    "    ],\n",
    "    '99-year leasehold'\n",
    ")\n",
    "\n",
    "test['tenure'] = test['tenure'].replace(\n",
    "    [\n",
    "    '946-year leasehold',\n",
    "    '999-year leasehold',\n",
    "    '956-year leasehold',\n",
    "    '929-year leasehold',\n",
    "    '947-year leasehold',\n",
    "    '999-year leasehold',\n",
    "    ],\n",
    "    'freehold'\n",
    ")"
   ]
  },
  {
   "cell_type": "code",
   "execution_count": 68,
   "metadata": {},
   "outputs": [],
   "source": [
    "test['tenure'] = test['tenure'].fillna('99-year leasehold')"
   ]
  },
  {
   "cell_type": "code",
   "execution_count": 69,
   "metadata": {},
   "outputs": [],
   "source": [
    "train['tenure'] = train['tenure'].fillna('99-year leasehold')"
   ]
  },
  {
   "cell_type": "code",
   "execution_count": 70,
   "metadata": {},
   "outputs": [],
   "source": [
    "## Remove NA \n",
    "train = train.dropna(subset=['tenure'])\n",
    "\n",
    "## Remove NA \n",
    "test['tenure'] = test['tenure'].fillna('99-year leasehold')"
   ]
  },
  {
   "cell_type": "code",
   "execution_count": 71,
   "metadata": {},
   "outputs": [],
   "source": [
    "#for regression only\n",
    "\n",
    "# from sklearn import preprocessing\n",
    "# tenurepp = preprocessing.LabelEncoder()\n",
    "# tenurepp.fit(train['tenure'])\n",
    "# train['tenure']=tenurepp.transform(train['tenure'])\n",
    "\n",
    "# test['tenure']=tenurepp.transform(test['tenure'])"
   ]
  },
  {
   "cell_type": "markdown",
   "metadata": {},
   "source": [
    "### Funishing"
   ]
  },
  {
   "cell_type": "code",
   "execution_count": 72,
   "metadata": {},
   "outputs": [],
   "source": [
    "#Assume not specified and na as unfurnished \n",
    "train['furnishing'] = train['furnishing'].replace(\n",
    "    [\n",
    "    'na',\n",
    "    'unspecified',\n",
    "    ],\n",
    "    'unfurnished'\n",
    ")\n",
    "\n",
    "#Assume not specified and na as unfurnished \n",
    "test['furnishing'] = test['furnishing'].replace(\n",
    "    [\n",
    "    'na',\n",
    "    'unspecified',\n",
    "    ],\n",
    "    'unfurnished'\n",
    ")"
   ]
  },
  {
   "cell_type": "code",
   "execution_count": 73,
   "metadata": {},
   "outputs": [],
   "source": [
    "#Assume not specified and na as unfurnished \n",
    "train['furnishing'] = train['furnishing'].replace(\n",
    "    [\n",
    "    'fully',\n",
    "    ],\n",
    "    'partial'\n",
    ")\n",
    "\n",
    "#Assume not specified and na as unfurnished \n",
    "test['furnishing'] = test['furnishing'].replace(\n",
    "    [\n",
    "    'fully',\n",
    "    ],\n",
    "    'partial'\n",
    ")"
   ]
  },
  {
   "cell_type": "code",
   "execution_count": 74,
   "metadata": {},
   "outputs": [],
   "source": [
    "#for regression only\n",
    "\n",
    "# from sklearn import preprocessing\n",
    "# furnishing = preprocessing.LabelEncoder()\n",
    "# furnishing.fit(train['furnishing'])\n",
    "# train['furnishing']=furnishing.transform(train['furnishing'])\n",
    "\n",
    "# test['furnishing']=furnishing.transform(test['furnishing'])"
   ]
  },
  {
   "cell_type": "markdown",
   "metadata": {},
   "source": [
    "### floor_level "
   ]
  },
  {
   "cell_type": "code",
   "execution_count": 75,
   "metadata": {},
   "outputs": [],
   "source": [
    "# Too few data for floor level, we should just take out the column\n",
    "train = train.drop(columns='floor_level')\n",
    "\n",
    "# Too few data for floor level, we should just take out the column\n",
    "test = test.drop(columns='floor_level')"
   ]
  },
  {
   "cell_type": "markdown",
   "metadata": {},
   "source": [
    "### total_num_units"
   ]
  },
  {
   "cell_type": "code",
   "execution_count": 76,
   "metadata": {},
   "outputs": [],
   "source": [
    "mediantotalunit = train['total_num_units'].median()\n",
    "train['total_num_units'].fillna(mediantotalunit, inplace=True)\n",
    "\n",
    "mediantotalunit = test['total_num_units'].median()\n",
    "test['total_num_units'].fillna(mediantotalunit, inplace=True)"
   ]
  },
  {
   "cell_type": "code",
   "execution_count": 77,
   "metadata": {},
   "outputs": [
    {
     "name": "stderr",
     "output_type": "stream",
     "text": [
      "D:\\software\\anaconda\\lib\\site-packages\\seaborn\\_decorators.py:36: FutureWarning: Pass the following variable as a keyword arg: x. From version 0.12, the only valid positional argument will be `data`, and passing other arguments without an explicit keyword will result in an error or misinterpretation.\n",
      "  warnings.warn(\n"
     ]
    },
    {
     "data": {
      "text/plain": [
       "<AxesSubplot:xlabel='total_num_units'>"
      ]
     },
     "execution_count": 77,
     "metadata": {},
     "output_type": "execute_result"
    },
    {
     "data": {
      "image/png": "[encoded data removed]",
      "text/plain": [
       "<Figure size 432x288 with 1 Axes>"
      ]
     },
     "metadata": {
      "needs_background": "light"
     },
     "output_type": "display_data"
    }
   ],
   "source": [
    "sns.boxplot(train['total_num_units'])"
   ]
  },
  {
   "cell_type": "code",
   "execution_count": 78,
   "metadata": {},
   "outputs": [
    {
     "name": "stderr",
     "output_type": "stream",
     "text": [
      "D:\\software\\anaconda\\lib\\site-packages\\seaborn\\_decorators.py:36: FutureWarning: Pass the following variable as a keyword arg: x. From version 0.12, the only valid positional argument will be `data`, and passing other arguments without an explicit keyword will result in an error or misinterpretation.\n",
      "  warnings.warn(\n"
     ]
    },
    {
     "data": {
      "text/plain": [
       "<AxesSubplot:xlabel='total_num_units'>"
      ]
     },
     "execution_count": 78,
     "metadata": {},
     "output_type": "execute_result"
    },
    {
     "data": {
      "image/png": "[encoded data removed]",
      "text/plain": [
       "<Figure size 432x288 with 1 Axes>"
      ]
     },
     "metadata": {
      "needs_background": "light"
     },
     "output_type": "display_data"
    }
   ],
   "source": [
    "train.loc[train['total_num_units'] > 900, 'total_num_units'] = 900\n",
    "# Creating plot\n",
    "sns.boxplot(train['total_num_units'])"
   ]
  },
  {
   "cell_type": "code",
   "execution_count": 79,
   "metadata": {},
   "outputs": [],
   "source": [
    "test.loc[test['total_num_units'] > 900, 'total_num_units'] = 900"
   ]
  },
  {
   "cell_type": "code",
   "execution_count": 80,
   "metadata": {},
   "outputs": [
    {
     "data": {
      "text/plain": [
       "property_type                20251\n",
       "tenure                       20251\n",
       "built_year                   19330\n",
       "num_beds                     20171\n",
       "num_baths                    19817\n",
       "size_sqft                    20251\n",
       "furnishing                   20251\n",
       "available_unit_types         18810\n",
       "total_num_units              20251\n",
       "subzone                      20251\n",
       "planning_area                20251\n",
       "price                        20251\n",
       "cc_distance                  20251\n",
       "mrt_distance                 20251\n",
       "primary_school_distance      20251\n",
       "secondary_school_distance    20251\n",
       "shop_distance                20251\n",
       "population                   20251\n",
       "area_size                    20251\n",
       "dtype: int64"
      ]
     },
     "execution_count": 80,
     "metadata": {},
     "output_type": "execute_result"
    }
   ],
   "source": [
    "train.count()"
   ]
  },
  {
   "cell_type": "markdown",
   "metadata": {},
   "source": [
    "### build year"
   ]
  },
  {
   "cell_type": "code",
   "execution_count": 81,
   "metadata": {},
   "outputs": [
    {
     "data": {
      "text/plain": [
       "property_type                20251\n",
       "tenure                       20251\n",
       "built_year                   19330\n",
       "num_beds                     20171\n",
       "num_baths                    19817\n",
       "size_sqft                    20251\n",
       "furnishing                   20251\n",
       "available_unit_types         18810\n",
       "total_num_units              20251\n",
       "subzone                      20251\n",
       "planning_area                20251\n",
       "price                        20251\n",
       "cc_distance                  20251\n",
       "mrt_distance                 20251\n",
       "primary_school_distance      20251\n",
       "secondary_school_distance    20251\n",
       "shop_distance                20251\n",
       "population                   20251\n",
       "area_size                    20251\n",
       "dtype: int64"
      ]
     },
     "execution_count": 81,
     "metadata": {},
     "output_type": "execute_result"
    }
   ],
   "source": [
    "train.count()"
   ]
  },
  {
   "cell_type": "code",
   "execution_count": 82,
   "metadata": {},
   "outputs": [
    {
     "data": {
      "text/plain": [
       "2.369472061557495e-05"
      ]
     },
     "execution_count": 82,
     "metadata": {},
     "output_type": "execute_result"
    }
   ],
   "source": [
    "train['built_year'].isnull().sum() / train['built_year'].sum()\n"
   ]
  },
  {
   "cell_type": "code",
   "execution_count": 83,
   "metadata": {},
   "outputs": [
    {
     "name": "stderr",
     "output_type": "stream",
     "text": [
      "D:\\software\\anaconda\\lib\\site-packages\\seaborn\\_decorators.py:36: FutureWarning: Pass the following variable as a keyword arg: x. From version 0.12, the only valid positional argument will be `data`, and passing other arguments without an explicit keyword will result in an error or misinterpretation.\n",
      "  warnings.warn(\n"
     ]
    },
    {
     "data": {
      "text/plain": [
       "<AxesSubplot:xlabel='built_year'>"
      ]
     },
     "execution_count": 83,
     "metadata": {},
     "output_type": "execute_result"
    },
    {
     "data": {
      "image/png": "[encoded data removed]",
      "text/plain": [
       "<Figure size 432x288 with 1 Axes>"
      ]
     },
     "metadata": {
      "needs_background": "light"
     },
     "output_type": "display_data"
    }
   ],
   "source": [
    "train.loc[train['built_year'] < 1966, 'built_year'] = 1966\n",
    "sns.boxplot(train['built_year'])"
   ]
  },
  {
   "cell_type": "code",
   "execution_count": 84,
   "metadata": {},
   "outputs": [],
   "source": [
    "avgbuildyear = round(train['built_year'].median(),0)\n",
    "train['built_year'] = train['built_year'].fillna(avgbuildyear)\n",
    "\n",
    "avgbuildyear = round(test['built_year'].median(),0)\n",
    "test['built_year'] = test['built_year'].fillna(avgbuildyear)"
   ]
  },
  {
   "cell_type": "code",
   "execution_count": 85,
   "metadata": {},
   "outputs": [
    {
     "name": "stderr",
     "output_type": "stream",
     "text": [
      "D:\\software\\anaconda\\lib\\site-packages\\seaborn\\_decorators.py:36: FutureWarning: Pass the following variable as a keyword arg: x. From version 0.12, the only valid positional argument will be `data`, and passing other arguments without an explicit keyword will result in an error or misinterpretation.\n",
      "  warnings.warn(\n"
     ]
    },
    {
     "data": {
      "text/plain": [
       "<AxesSubplot:xlabel='built_year'>"
      ]
     },
     "execution_count": 85,
     "metadata": {},
     "output_type": "execute_result"
    },
    {
     "data": {
      "image/png": "[encoded data removed]",
      "text/plain": [
       "<Figure size 432x288 with 1 Axes>"
      ]
     },
     "metadata": {
      "needs_background": "light"
     },
     "output_type": "display_data"
    }
   ],
   "source": [
    "sns.boxplot(test['built_year'])"
   ]
  },
  {
   "cell_type": "code",
   "execution_count": 86,
   "metadata": {},
   "outputs": [
    {
     "name": "stderr",
     "output_type": "stream",
     "text": [
      "D:\\software\\anaconda\\lib\\site-packages\\seaborn\\_decorators.py:36: FutureWarning: Pass the following variable as a keyword arg: x. From version 0.12, the only valid positional argument will be `data`, and passing other arguments without an explicit keyword will result in an error or misinterpretation.\n",
      "  warnings.warn(\n"
     ]
    },
    {
     "data": {
      "text/plain": [
       "<AxesSubplot:xlabel='built_year'>"
      ]
     },
     "execution_count": 86,
     "metadata": {},
     "output_type": "execute_result"
    },
    {
     "data": {
      "image/png": "[encoded data removed]",
      "text/plain": [
       "<Figure size 432x288 with 1 Axes>"
      ]
     },
     "metadata": {
      "needs_background": "light"
     },
     "output_type": "display_data"
    }
   ],
   "source": [
    "test.loc[test['built_year'] < 1966, 'built_year'] = 1966\n",
    "sns.boxplot(test['built_year'])"
   ]
  },
  {
   "cell_type": "markdown",
   "metadata": {},
   "source": [
    "### num_baths"
   ]
  },
  {
   "cell_type": "code",
   "execution_count": 87,
   "metadata": {},
   "outputs": [
    {
     "name": "stderr",
     "output_type": "stream",
     "text": [
      "D:\\software\\anaconda\\lib\\site-packages\\seaborn\\_decorators.py:36: FutureWarning: Pass the following variable as a keyword arg: x. From version 0.12, the only valid positional argument will be `data`, and passing other arguments without an explicit keyword will result in an error or misinterpretation.\n",
      "  warnings.warn(\n"
     ]
    },
    {
     "data": {
      "text/plain": [
       "<AxesSubplot:xlabel='num_baths'>"
      ]
     },
     "execution_count": 87,
     "metadata": {},
     "output_type": "execute_result"
    },
    {
     "data": {
      "image/png": "[encoded data removed]",
      "text/plain": [
       "<Figure size 432x288 with 1 Axes>"
      ]
     },
     "metadata": {
      "needs_background": "light"
     },
     "output_type": "display_data"
    }
   ],
   "source": [
    "sns.boxplot(train['num_baths'])"
   ]
  },
  {
   "cell_type": "code",
   "execution_count": 88,
   "metadata": {},
   "outputs": [
    {
     "data": {
      "text/html": [
       "<div>\n",
       "<style scoped>\n",
       "    .dataframe tbody tr th:only-of-type {\n",
       "        vertical-align: middle;\n",
       "    }\n",
       "\n",
       "    .dataframe tbody tr th {\n",
       "        vertical-align: top;\n",
       "    }\n",
       "\n",
       "    .dataframe thead th {\n",
       "        text-align: right;\n",
       "    }\n",
       "</style>\n",
       "<table border=\"1\" class=\"dataframe\">\n",
       "  <thead>\n",
       "    <tr style=\"text-align: right;\">\n",
       "      <th></th>\n",
       "      <th>property_type</th>\n",
       "      <th>tenure</th>\n",
       "      <th>built_year</th>\n",
       "      <th>num_beds</th>\n",
       "      <th>num_baths</th>\n",
       "      <th>size_sqft</th>\n",
       "      <th>furnishing</th>\n",
       "      <th>available_unit_types</th>\n",
       "      <th>total_num_units</th>\n",
       "      <th>subzone</th>\n",
       "      <th>planning_area</th>\n",
       "      <th>price</th>\n",
       "      <th>cc_distance</th>\n",
       "      <th>mrt_distance</th>\n",
       "      <th>primary_school_distance</th>\n",
       "      <th>secondary_school_distance</th>\n",
       "      <th>shop_distance</th>\n",
       "      <th>population</th>\n",
       "      <th>area_size</th>\n",
       "    </tr>\n",
       "  </thead>\n",
       "  <tbody>\n",
       "    <tr>\n",
       "      <th>3713</th>\n",
       "      <td>LANDED</td>\n",
       "      <td>freehold</td>\n",
       "      <td>1990.0</td>\n",
       "      <td>NaN</td>\n",
       "      <td>NaN</td>\n",
       "      <td>9594</td>\n",
       "      <td>unfurnished</td>\n",
       "      <td>studio, 1, 4, 5, 6, 7 br</td>\n",
       "      <td>296.0</td>\n",
       "      <td>novena</td>\n",
       "      <td>novena</td>\n",
       "      <td>16275000.0</td>\n",
       "      <td>5.668353</td>\n",
       "      <td>5.872226</td>\n",
       "      <td>6.905858</td>\n",
       "      <td>11.134265</td>\n",
       "      <td>11.134265</td>\n",
       "      <td>2620</td>\n",
       "      <td>0.4364</td>\n",
       "    </tr>\n",
       "    <tr>\n",
       "      <th>4691</th>\n",
       "      <td>CONDO</td>\n",
       "      <td>99-year leasehold</td>\n",
       "      <td>2023.0</td>\n",
       "      <td>NaN</td>\n",
       "      <td>NaN</td>\n",
       "      <td>431</td>\n",
       "      <td>unfurnished</td>\n",
       "      <td>studio, 1, 2, 3, 4, 5, 8 br</td>\n",
       "      <td>774.0</td>\n",
       "      <td>outram</td>\n",
       "      <td>outram</td>\n",
       "      <td>1222200.0</td>\n",
       "      <td>5.825357</td>\n",
       "      <td>8.355056</td>\n",
       "      <td>11.798265</td>\n",
       "      <td>15.372730</td>\n",
       "      <td>15.372730</td>\n",
       "      <td>890</td>\n",
       "      <td>2.2068</td>\n",
       "    </tr>\n",
       "    <tr>\n",
       "      <th>4939</th>\n",
       "      <td>HDB</td>\n",
       "      <td>99-year leasehold</td>\n",
       "      <td>1980.0</td>\n",
       "      <td>NaN</td>\n",
       "      <td>NaN</td>\n",
       "      <td>731</td>\n",
       "      <td>unfurnished</td>\n",
       "      <td>NaN</td>\n",
       "      <td>112.0</td>\n",
       "      <td>bedok</td>\n",
       "      <td>bedok</td>\n",
       "      <td>367500.0</td>\n",
       "      <td>15.229001</td>\n",
       "      <td>7.025831</td>\n",
       "      <td>8.583307</td>\n",
       "      <td>13.354867</td>\n",
       "      <td>13.354867</td>\n",
       "      <td>42240</td>\n",
       "      <td>1.3402</td>\n",
       "    </tr>\n",
       "    <tr>\n",
       "      <th>5002</th>\n",
       "      <td>HDB</td>\n",
       "      <td>99-year leasehold</td>\n",
       "      <td>2004.0</td>\n",
       "      <td>NaN</td>\n",
       "      <td>NaN</td>\n",
       "      <td>1184</td>\n",
       "      <td>unfurnished</td>\n",
       "      <td>NaN</td>\n",
       "      <td>90.0</td>\n",
       "      <td>punggol</td>\n",
       "      <td>punggol</td>\n",
       "      <td>669900.0</td>\n",
       "      <td>16.664632</td>\n",
       "      <td>6.751215</td>\n",
       "      <td>7.404180</td>\n",
       "      <td>7.477411</td>\n",
       "      <td>7.477411</td>\n",
       "      <td>42240</td>\n",
       "      <td>1.3402</td>\n",
       "    </tr>\n",
       "    <tr>\n",
       "      <th>11500</th>\n",
       "      <td>HDB</td>\n",
       "      <td>99-year leasehold</td>\n",
       "      <td>1985.0</td>\n",
       "      <td>NaN</td>\n",
       "      <td>NaN</td>\n",
       "      <td>786</td>\n",
       "      <td>unfurnished</td>\n",
       "      <td>studio, 2, 3, 4 br</td>\n",
       "      <td>296.0</td>\n",
       "      <td>bukit batok</td>\n",
       "      <td>bukit batok</td>\n",
       "      <td>409500.0</td>\n",
       "      <td>8.707527</td>\n",
       "      <td>4.914059</td>\n",
       "      <td>6.279880</td>\n",
       "      <td>18.454836</td>\n",
       "      <td>18.454836</td>\n",
       "      <td>24760</td>\n",
       "      <td>1.0619</td>\n",
       "    </tr>\n",
       "  </tbody>\n",
       "</table>\n",
       "</div>"
      ],
      "text/plain": [
       "      property_type             tenure  built_year  num_beds  num_baths  \\\n",
       "3713         LANDED           freehold      1990.0       NaN        NaN   \n",
       "4691          CONDO  99-year leasehold      2023.0       NaN        NaN   \n",
       "4939            HDB  99-year leasehold      1980.0       NaN        NaN   \n",
       "5002            HDB  99-year leasehold      2004.0       NaN        NaN   \n",
       "11500           HDB  99-year leasehold      1985.0       NaN        NaN   \n",
       "\n",
       "       size_sqft   furnishing         available_unit_types  total_num_units  \\\n",
       "3713        9594  unfurnished     studio, 1, 4, 5, 6, 7 br            296.0   \n",
       "4691         431  unfurnished  studio, 1, 2, 3, 4, 5, 8 br            774.0   \n",
       "4939         731  unfurnished                          NaN            112.0   \n",
       "5002        1184  unfurnished                          NaN             90.0   \n",
       "11500        786  unfurnished           studio, 2, 3, 4 br            296.0   \n",
       "\n",
       "           subzone planning_area       price  cc_distance  mrt_distance  \\\n",
       "3713        novena        novena  16275000.0     5.668353      5.872226   \n",
       "4691        outram        outram   1222200.0     5.825357      8.355056   \n",
       "4939         bedok         bedok    367500.0    15.229001      7.025831   \n",
       "5002       punggol       punggol    669900.0    16.664632      6.751215   \n",
       "11500  bukit batok   bukit batok    409500.0     8.707527      4.914059   \n",
       "\n",
       "       primary_school_distance  secondary_school_distance  shop_distance  \\\n",
       "3713                  6.905858                  11.134265      11.134265   \n",
       "4691                 11.798265                  15.372730      15.372730   \n",
       "4939                  8.583307                  13.354867      13.354867   \n",
       "5002                  7.404180                   7.477411       7.477411   \n",
       "11500                 6.279880                  18.454836      18.454836   \n",
       "\n",
       "       population  area_size  \n",
       "3713         2620     0.4364  \n",
       "4691          890     2.2068  \n",
       "4939        42240     1.3402  \n",
       "5002        42240     1.3402  \n",
       "11500       24760     1.0619  "
      ]
     },
     "execution_count": 88,
     "metadata": {},
     "output_type": "execute_result"
    }
   ],
   "source": [
    "a = train[train['num_baths'].isna()]\n",
    "a[a['num_beds'].isna()]"
   ]
  },
  {
   "cell_type": "code",
   "execution_count": 89,
   "metadata": {},
   "outputs": [],
   "source": [
    "avgbath = train['num_baths'].median()\n",
    "train['num_baths'] = train['num_baths'].fillna(avgbath)\n",
    "\n",
    "avgbath = test['num_baths'].median()\n",
    "test['num_baths'] = test['num_baths'].fillna(avgbath)"
   ]
  },
  {
   "cell_type": "code",
   "execution_count": 90,
   "metadata": {},
   "outputs": [
    {
     "name": "stderr",
     "output_type": "stream",
     "text": [
      "D:\\software\\anaconda\\lib\\site-packages\\seaborn\\_decorators.py:36: FutureWarning: Pass the following variable as a keyword arg: x. From version 0.12, the only valid positional argument will be `data`, and passing other arguments without an explicit keyword will result in an error or misinterpretation.\n",
      "  warnings.warn(\n"
     ]
    },
    {
     "data": {
      "text/plain": [
       "<AxesSubplot:xlabel='num_baths'>"
      ]
     },
     "execution_count": 90,
     "metadata": {},
     "output_type": "execute_result"
    },
    {
     "data": {
      "image/png": "[encoded data removed]",
      "text/plain": [
       "<Figure size 432x288 with 1 Axes>"
      ]
     },
     "metadata": {
      "needs_background": "light"
     },
     "output_type": "display_data"
    }
   ],
   "source": [
    "train.loc[train['num_baths'] > 4, 'num_baths'] = 4\n",
    "sns.boxplot(train['num_baths'])"
   ]
  },
  {
   "cell_type": "code",
   "execution_count": 91,
   "metadata": {},
   "outputs": [
    {
     "name": "stderr",
     "output_type": "stream",
     "text": [
      "D:\\software\\anaconda\\lib\\site-packages\\seaborn\\_decorators.py:36: FutureWarning: Pass the following variable as a keyword arg: x. From version 0.12, the only valid positional argument will be `data`, and passing other arguments without an explicit keyword will result in an error or misinterpretation.\n",
      "  warnings.warn(\n"
     ]
    },
    {
     "data": {
      "text/plain": [
       "<AxesSubplot:xlabel='num_baths'>"
      ]
     },
     "execution_count": 91,
     "metadata": {},
     "output_type": "execute_result"
    },
    {
     "data": {
      "image/png": "[encoded data removed]",
      "text/plain": [
       "<Figure size 432x288 with 1 Axes>"
      ]
     },
     "metadata": {
      "needs_background": "light"
     },
     "output_type": "display_data"
    }
   ],
   "source": [
    "test.loc[test['num_baths'] > 4, 'num_baths'] = 4\n",
    "sns.boxplot(train['num_baths'])"
   ]
  },
  {
   "cell_type": "markdown",
   "metadata": {},
   "source": [
    "### num_beds"
   ]
  },
  {
   "cell_type": "code",
   "execution_count": 92,
   "metadata": {},
   "outputs": [],
   "source": [
    "avgbed = train['num_beds'].median()\n",
    "train['num_beds'] = train['num_beds'].fillna(avgbath)\n",
    "\n",
    "avgbed = test['num_beds'].median()\n",
    "test['num_beds'] = test['num_beds'].fillna(avgbath)"
   ]
  },
  {
   "cell_type": "code",
   "execution_count": 93,
   "metadata": {},
   "outputs": [
    {
     "data": {
      "image/png": "[encoded data removed]",
      "text/plain": [
       "<Figure size 1296x576 with 1 Axes>"
      ]
     },
     "metadata": {
      "needs_background": "light"
     },
     "output_type": "display_data"
    }
   ],
   "source": [
    "fig, axes = plt.subplots(figsize=(18,8))\n",
    "sns.boxplot(x ='property_type', y= 'num_beds', data=test)\n",
    "axes.set_title('Property_type VS Number of Beds')\n",
    "plt.show()"
   ]
  },
  {
   "cell_type": "code",
   "execution_count": 94,
   "metadata": {},
   "outputs": [
    {
     "name": "stderr",
     "output_type": "stream",
     "text": [
      "D:\\software\\anaconda\\lib\\site-packages\\seaborn\\_decorators.py:36: FutureWarning: Pass the following variable as a keyword arg: x. From version 0.12, the only valid positional argument will be `data`, and passing other arguments without an explicit keyword will result in an error or misinterpretation.\n",
      "  warnings.warn(\n"
     ]
    },
    {
     "data": {
      "text/plain": [
       "<AxesSubplot:xlabel='num_beds'>"
      ]
     },
     "execution_count": 94,
     "metadata": {},
     "output_type": "execute_result"
    },
    {
     "data": {
      "image/png": "[encoded data removed]",
      "text/plain": [
       "<Figure size 432x288 with 1 Axes>"
      ]
     },
     "metadata": {
      "needs_background": "light"
     },
     "output_type": "display_data"
    }
   ],
   "source": [
    "sns.boxplot(train['num_beds'])"
   ]
  },
  {
   "cell_type": "code",
   "execution_count": 95,
   "metadata": {},
   "outputs": [
    {
     "name": "stderr",
     "output_type": "stream",
     "text": [
      "D:\\software\\anaconda\\lib\\site-packages\\seaborn\\_decorators.py:36: FutureWarning: Pass the following variable as a keyword arg: x. From version 0.12, the only valid positional argument will be `data`, and passing other arguments without an explicit keyword will result in an error or misinterpretation.\n",
      "  warnings.warn(\n"
     ]
    },
    {
     "data": {
      "text/plain": [
       "<AxesSubplot:xlabel='num_beds'>"
      ]
     },
     "execution_count": 95,
     "metadata": {},
     "output_type": "execute_result"
    },
    {
     "data": {
      "image/png": "[encoded data removed]",
      "text/plain": [
       "<Figure size 432x288 with 1 Axes>"
      ]
     },
     "metadata": {
      "needs_background": "light"
     },
     "output_type": "display_data"
    }
   ],
   "source": [
    "train.loc[train['num_beds'] > 7, 'num_beds'] = 7\n",
    "sns.boxplot(train['num_beds'])"
   ]
  },
  {
   "cell_type": "markdown",
   "metadata": {},
   "source": [
    "### num_avaliable_units"
   ]
  },
  {
   "cell_type": "code",
   "execution_count": 96,
   "metadata": {},
   "outputs": [],
   "source": [
    "numavaunittypes = train.available_unit_types.str.count(',') + 1\n",
    "train['available_unit_types'] = numavaunittypes"
   ]
  },
  {
   "cell_type": "code",
   "execution_count": 97,
   "metadata": {},
   "outputs": [
    {
     "name": "stderr",
     "output_type": "stream",
     "text": [
      "D:\\software\\anaconda\\lib\\site-packages\\seaborn\\_decorators.py:36: FutureWarning: Pass the following variable as a keyword arg: x. From version 0.12, the only valid positional argument will be `data`, and passing other arguments without an explicit keyword will result in an error or misinterpretation.\n",
      "  warnings.warn(\n"
     ]
    },
    {
     "data": {
      "text/plain": [
       "<AxesSubplot:xlabel='available_unit_types'>"
      ]
     },
     "execution_count": 97,
     "metadata": {},
     "output_type": "execute_result"
    },
    {
     "data": {
      "image/png": "[encoded data removed]",
      "text/plain": [
       "<Figure size 432x288 with 1 Axes>"
      ]
     },
     "metadata": {
      "needs_background": "light"
     },
     "output_type": "display_data"
    }
   ],
   "source": [
    "sns.boxplot(train['available_unit_types'])"
   ]
  },
  {
   "cell_type": "code",
   "execution_count": 98,
   "metadata": {},
   "outputs": [],
   "source": [
    "train.loc[train['available_unit_types'] > 9, 'available_unit_types'] = 9"
   ]
  },
  {
   "cell_type": "code",
   "execution_count": 99,
   "metadata": {},
   "outputs": [
    {
     "name": "stderr",
     "output_type": "stream",
     "text": [
      "D:\\software\\anaconda\\lib\\site-packages\\seaborn\\_decorators.py:36: FutureWarning: Pass the following variable as a keyword arg: x. From version 0.12, the only valid positional argument will be `data`, and passing other arguments without an explicit keyword will result in an error or misinterpretation.\n",
      "  warnings.warn(\n"
     ]
    },
    {
     "data": {
      "text/plain": [
       "<AxesSubplot:xlabel='available_unit_types'>"
      ]
     },
     "execution_count": 99,
     "metadata": {},
     "output_type": "execute_result"
    },
    {
     "data": {
      "image/png": "[encoded data removed]",
      "text/plain": [
       "<Figure size 432x288 with 1 Axes>"
      ]
     },
     "metadata": {
      "needs_background": "light"
     },
     "output_type": "display_data"
    }
   ],
   "source": [
    "sns.boxplot(train['available_unit_types'])"
   ]
  },
  {
   "cell_type": "code",
   "execution_count": 100,
   "metadata": {},
   "outputs": [],
   "source": [
    "avg_ava_units = train['available_unit_types'].median()\n",
    "train['available_unit_types'] = train['available_unit_types'].fillna(avg_ava_units)"
   ]
  },
  {
   "cell_type": "code",
   "execution_count": 101,
   "metadata": {},
   "outputs": [],
   "source": [
    "numavaunittypes = test.available_unit_types.str.count(',') +1\n",
    "test['available_unit_types'] = numavaunittypes"
   ]
  },
  {
   "cell_type": "code",
   "execution_count": 102,
   "metadata": {},
   "outputs": [],
   "source": [
    "avg_ava_units = test['available_unit_types'].median()\n",
    "test['available_unit_types'] = test['available_unit_types'].fillna(avg_ava_units)"
   ]
  },
  {
   "cell_type": "code",
   "execution_count": 103,
   "metadata": {},
   "outputs": [
    {
     "data": {
      "text/html": [
       "<div>\n",
       "<style scoped>\n",
       "    .dataframe tbody tr th:only-of-type {\n",
       "        vertical-align: middle;\n",
       "    }\n",
       "\n",
       "    .dataframe tbody tr th {\n",
       "        vertical-align: top;\n",
       "    }\n",
       "\n",
       "    .dataframe thead th {\n",
       "        text-align: right;\n",
       "    }\n",
       "</style>\n",
       "<table border=\"1\" class=\"dataframe\">\n",
       "  <thead>\n",
       "    <tr style=\"text-align: right;\">\n",
       "      <th></th>\n",
       "      <th>property_type</th>\n",
       "      <th>tenure</th>\n",
       "      <th>built_year</th>\n",
       "      <th>num_beds</th>\n",
       "      <th>num_baths</th>\n",
       "      <th>size_sqft</th>\n",
       "      <th>furnishing</th>\n",
       "      <th>available_unit_types</th>\n",
       "      <th>total_num_units</th>\n",
       "      <th>subzone</th>\n",
       "      <th>planning_area</th>\n",
       "      <th>price</th>\n",
       "      <th>cc_distance</th>\n",
       "      <th>mrt_distance</th>\n",
       "      <th>primary_school_distance</th>\n",
       "      <th>secondary_school_distance</th>\n",
       "      <th>shop_distance</th>\n",
       "      <th>population</th>\n",
       "      <th>area_size</th>\n",
       "    </tr>\n",
       "  </thead>\n",
       "  <tbody>\n",
       "    <tr>\n",
       "      <th>0</th>\n",
       "      <td>HDB</td>\n",
       "      <td>99-year leasehold</td>\n",
       "      <td>1988.0</td>\n",
       "      <td>3.0</td>\n",
       "      <td>2.0</td>\n",
       "      <td>1115</td>\n",
       "      <td>unfurnished</td>\n",
       "      <td>5.0</td>\n",
       "      <td>116.0</td>\n",
       "      <td>yishun</td>\n",
       "      <td>yishun</td>\n",
       "      <td>514500.0</td>\n",
       "      <td>8.027727</td>\n",
       "      <td>1.689357</td>\n",
       "      <td>5.178683</td>\n",
       "      <td>2.538065</td>\n",
       "      <td>2.538065</td>\n",
       "      <td>10250</td>\n",
       "      <td>1.4329</td>\n",
       "    </tr>\n",
       "    <tr>\n",
       "      <th>1</th>\n",
       "      <td>HDB</td>\n",
       "      <td>99-year leasehold</td>\n",
       "      <td>1992.0</td>\n",
       "      <td>4.0</td>\n",
       "      <td>2.0</td>\n",
       "      <td>1575</td>\n",
       "      <td>unfurnished</td>\n",
       "      <td>6.0</td>\n",
       "      <td>296.0</td>\n",
       "      <td>serangoon</td>\n",
       "      <td>serangoon</td>\n",
       "      <td>995400.0</td>\n",
       "      <td>2.400374</td>\n",
       "      <td>6.871207</td>\n",
       "      <td>8.310177</td>\n",
       "      <td>6.710202</td>\n",
       "      <td>6.710202</td>\n",
       "      <td>18660</td>\n",
       "      <td>3.5000</td>\n",
       "    </tr>\n",
       "    <tr>\n",
       "      <th>2</th>\n",
       "      <td>CONDO</td>\n",
       "      <td>freehold</td>\n",
       "      <td>2022.0</td>\n",
       "      <td>4.0</td>\n",
       "      <td>4.0</td>\n",
       "      <td>3070</td>\n",
       "      <td>partial</td>\n",
       "      <td>5.0</td>\n",
       "      <td>56.0</td>\n",
       "      <td>marine parade</td>\n",
       "      <td>marine parade</td>\n",
       "      <td>8485000.0</td>\n",
       "      <td>6.389766</td>\n",
       "      <td>13.983476</td>\n",
       "      <td>9.485153</td>\n",
       "      <td>15.197137</td>\n",
       "      <td>15.197137</td>\n",
       "      <td>890</td>\n",
       "      <td>2.2068</td>\n",
       "    </tr>\n",
       "    <tr>\n",
       "      <th>3</th>\n",
       "      <td>CONDO</td>\n",
       "      <td>freehold</td>\n",
       "      <td>2023.0</td>\n",
       "      <td>3.0</td>\n",
       "      <td>2.0</td>\n",
       "      <td>958</td>\n",
       "      <td>partial</td>\n",
       "      <td>5.0</td>\n",
       "      <td>638.0</td>\n",
       "      <td>bukit timah</td>\n",
       "      <td>bukit timah</td>\n",
       "      <td>2626000.0</td>\n",
       "      <td>8.802339</td>\n",
       "      <td>13.479646</td>\n",
       "      <td>3.290085</td>\n",
       "      <td>12.950660</td>\n",
       "      <td>12.950660</td>\n",
       "      <td>28000</td>\n",
       "      <td>1.5110</td>\n",
       "    </tr>\n",
       "    <tr>\n",
       "      <th>4</th>\n",
       "      <td>CONDO</td>\n",
       "      <td>99-year leasehold</td>\n",
       "      <td>2026.0</td>\n",
       "      <td>2.0</td>\n",
       "      <td>1.0</td>\n",
       "      <td>732</td>\n",
       "      <td>unfurnished</td>\n",
       "      <td>6.0</td>\n",
       "      <td>351.0</td>\n",
       "      <td>downtown core</td>\n",
       "      <td>downtown core</td>\n",
       "      <td>1764000.0</td>\n",
       "      <td>9.160635</td>\n",
       "      <td>15.981982</td>\n",
       "      <td>13.818954</td>\n",
       "      <td>17.977600</td>\n",
       "      <td>17.977600</td>\n",
       "      <td>4370</td>\n",
       "      <td>2.2092</td>\n",
       "    </tr>\n",
       "  </tbody>\n",
       "</table>\n",
       "</div>"
      ],
      "text/plain": [
       "  property_type             tenure  built_year  num_beds  num_baths  \\\n",
       "0           HDB  99-year leasehold      1988.0       3.0        2.0   \n",
       "1           HDB  99-year leasehold      1992.0       4.0        2.0   \n",
       "2         CONDO           freehold      2022.0       4.0        4.0   \n",
       "3         CONDO           freehold      2023.0       3.0        2.0   \n",
       "4         CONDO  99-year leasehold      2026.0       2.0        1.0   \n",
       "\n",
       "   size_sqft   furnishing  available_unit_types  total_num_units  \\\n",
       "0       1115  unfurnished                   5.0            116.0   \n",
       "1       1575  unfurnished                   6.0            296.0   \n",
       "2       3070      partial                   5.0             56.0   \n",
       "3        958      partial                   5.0            638.0   \n",
       "4        732  unfurnished                   6.0            351.0   \n",
       "\n",
       "         subzone  planning_area      price  cc_distance  mrt_distance  \\\n",
       "0         yishun         yishun   514500.0     8.027727      1.689357   \n",
       "1      serangoon      serangoon   995400.0     2.400374      6.871207   \n",
       "2  marine parade  marine parade  8485000.0     6.389766     13.983476   \n",
       "3    bukit timah    bukit timah  2626000.0     8.802339     13.479646   \n",
       "4  downtown core  downtown core  1764000.0     9.160635     15.981982   \n",
       "\n",
       "   primary_school_distance  secondary_school_distance  shop_distance  \\\n",
       "0                 5.178683                   2.538065       2.538065   \n",
       "1                 8.310177                   6.710202       6.710202   \n",
       "2                 9.485153                  15.197137      15.197137   \n",
       "3                 3.290085                  12.950660      12.950660   \n",
       "4                13.818954                  17.977600      17.977600   \n",
       "\n",
       "   population  area_size  \n",
       "0       10250     1.4329  \n",
       "1       18660     3.5000  \n",
       "2         890     2.2068  \n",
       "3       28000     1.5110  \n",
       "4        4370     2.2092  "
      ]
     },
     "execution_count": 103,
     "metadata": {},
     "output_type": "execute_result"
    }
   ],
   "source": [
    "train.head()"
   ]
  },
  {
   "cell_type": "code",
   "execution_count": 104,
   "metadata": {},
   "outputs": [
    {
     "data": {
      "text/plain": [
       "property_type                 object\n",
       "tenure                        object\n",
       "built_year                   float64\n",
       "num_beds                     float64\n",
       "num_baths                    float64\n",
       "size_sqft                      int64\n",
       "furnishing                    object\n",
       "available_unit_types         float64\n",
       "total_num_units              float64\n",
       "subzone                       object\n",
       "planning_area                 object\n",
       "price                        float64\n",
       "cc_distance                  float64\n",
       "mrt_distance                 float64\n",
       "primary_school_distance      float64\n",
       "secondary_school_distance    float64\n",
       "shop_distance                float64\n",
       "population                     int64\n",
       "area_size                    float64\n",
       "dtype: object"
      ]
     },
     "execution_count": 104,
     "metadata": {},
     "output_type": "execute_result"
    }
   ],
   "source": [
    "train.dtypes"
   ]
  },
  {
   "cell_type": "markdown",
   "metadata": {},
   "source": [
    "### price "
   ]
  },
  {
   "cell_type": "markdown",
   "metadata": {},
   "source": [
    "Remove price which is 0"
   ]
  },
  {
   "cell_type": "code",
   "execution_count": 105,
   "metadata": {},
   "outputs": [],
   "source": [
    "train = train[train['price'] != 0]"
   ]
  },
  {
   "cell_type": "code",
   "execution_count": 106,
   "metadata": {},
   "outputs": [],
   "source": [
    "train['log_price'] = np.log(train['price'])"
   ]
  },
  {
   "cell_type": "code",
   "execution_count": 107,
   "metadata": {},
   "outputs": [
    {
     "name": "stderr",
     "output_type": "stream",
     "text": [
      "D:\\software\\anaconda\\lib\\site-packages\\seaborn\\_decorators.py:36: FutureWarning: Pass the following variable as a keyword arg: x. From version 0.12, the only valid positional argument will be `data`, and passing other arguments without an explicit keyword will result in an error or misinterpretation.\n",
      "  warnings.warn(\n"
     ]
    },
    {
     "data": {
      "text/plain": [
       "<AxesSubplot:xlabel='log_price'>"
      ]
     },
     "execution_count": 107,
     "metadata": {},
     "output_type": "execute_result"
    },
    {
     "data": {
      "image/png": "[encoded data removed]",
      "text/plain": [
       "<Figure size 432x288 with 1 Axes>"
      ]
     },
     "metadata": {
      "needs_background": "light"
     },
     "output_type": "display_data"
    }
   ],
   "source": [
    "sns.boxplot(train['log_price'])"
   ]
  },
  {
   "cell_type": "code",
   "execution_count": 108,
   "metadata": {},
   "outputs": [
    {
     "name": "stderr",
     "output_type": "stream",
     "text": [
      "D:\\software\\anaconda\\lib\\site-packages\\seaborn\\_decorators.py:36: FutureWarning: Pass the following variable as a keyword arg: x. From version 0.12, the only valid positional argument will be `data`, and passing other arguments without an explicit keyword will result in an error or misinterpretation.\n",
      "  warnings.warn(\n"
     ]
    },
    {
     "data": {
      "text/plain": [
       "<AxesSubplot:xlabel='log_price'>"
      ]
     },
     "execution_count": 108,
     "metadata": {},
     "output_type": "execute_result"
    },
    {
     "data": {
      "image/png": "[encoded data removed]",
      "text/plain": [
       "<Figure size 432x288 with 1 Axes>"
      ]
     },
     "metadata": {
      "needs_background": "light"
     },
     "output_type": "display_data"
    }
   ],
   "source": [
    "train = train[train['log_price']<20]\n",
    "sns.boxplot(train['log_price'])"
   ]
  },
  {
   "cell_type": "code",
   "execution_count": 109,
   "metadata": {},
   "outputs": [
    {
     "data": {
      "text/plain": [
       "<AxesSubplot:xlabel='log_price', ylabel='property_type'>"
      ]
     },
     "execution_count": 109,
     "metadata": {},
     "output_type": "execute_result"
    },
    {
     "data": {
      "image/png": "[encoded data removed]",
      "text/plain": [
       "<Figure size 432x288 with 1 Axes>"
      ]
     },
     "metadata": {
      "needs_background": "light"
     },
     "output_type": "display_data"
    }
   ],
   "source": [
    "sns.boxplot(x=train['log_price'], y =train['property_type'])"
   ]
  },
  {
   "cell_type": "code",
   "execution_count": 110,
   "metadata": {},
   "outputs": [
    {
     "data": {
      "text/plain": [
       "<AxesSubplot:xlabel='log_price', ylabel='property_type'>"
      ]
     },
     "execution_count": 110,
     "metadata": {},
     "output_type": "execute_result"
    },
    {
     "data": {
      "image/png": "[encoded data removed]",
      "text/plain": [
       "<Figure size 432x288 with 1 Axes>"
      ]
     },
     "metadata": {
      "needs_background": "light"
     },
     "output_type": "display_data"
    }
   ],
   "source": [
    "train = train[train['log_price'] < 17.1]\n",
    "sns.boxplot(x=train['log_price'], y =train['property_type'])"
   ]
  },
  {
   "cell_type": "code",
   "execution_count": 111,
   "metadata": {},
   "outputs": [
    {
     "name": "stderr",
     "output_type": "stream",
     "text": [
      "D:\\software\\anaconda\\lib\\site-packages\\seaborn\\_decorators.py:36: FutureWarning: Pass the following variable as a keyword arg: x. From version 0.12, the only valid positional argument will be `data`, and passing other arguments without an explicit keyword will result in an error or misinterpretation.\n",
      "  warnings.warn(\n"
     ]
    },
    {
     "data": {
      "text/plain": [
       "<AxesSubplot:xlabel='log_price'>"
      ]
     },
     "execution_count": 111,
     "metadata": {},
     "output_type": "execute_result"
    },
    {
     "data": {
      "image/png": "[encoded data removed]",
      "text/plain": [
       "<Figure size 432x288 with 1 Axes>"
      ]
     },
     "metadata": {
      "needs_background": "light"
     },
     "output_type": "display_data"
    }
   ],
   "source": [
    "sns.boxplot(train['log_price'])"
   ]
  },
  {
   "cell_type": "code",
   "execution_count": 112,
   "metadata": {},
   "outputs": [],
   "source": [
    "train = train[train['log_price'] <= 17]"
   ]
  },
  {
   "cell_type": "code",
   "execution_count": 113,
   "metadata": {},
   "outputs": [
    {
     "name": "stderr",
     "output_type": "stream",
     "text": [
      "D:\\software\\anaconda\\lib\\site-packages\\seaborn\\_decorators.py:36: FutureWarning: Pass the following variable as a keyword arg: x. From version 0.12, the only valid positional argument will be `data`, and passing other arguments without an explicit keyword will result in an error or misinterpretation.\n",
      "  warnings.warn(\n"
     ]
    },
    {
     "data": {
      "text/plain": [
       "<AxesSubplot:xlabel='price'>"
      ]
     },
     "execution_count": 113,
     "metadata": {},
     "output_type": "execute_result"
    },
    {
     "data": {
      "image/png": "[encoded data removed]",
      "text/plain": [
       "<Figure size 432x288 with 1 Axes>"
      ]
     },
     "metadata": {
      "needs_background": "light"
     },
     "output_type": "display_data"
    }
   ],
   "source": [
    "sns.boxplot(train['price'])"
   ]
  },
  {
   "cell_type": "code",
   "execution_count": 114,
   "metadata": {},
   "outputs": [
    {
     "data": {
      "text/plain": [
       "property_type                19994\n",
       "tenure                       19994\n",
       "built_year                   19994\n",
       "num_beds                     19994\n",
       "num_baths                    19994\n",
       "size_sqft                    19994\n",
       "furnishing                   19994\n",
       "available_unit_types         19994\n",
       "total_num_units              19994\n",
       "subzone                      19994\n",
       "planning_area                19994\n",
       "price                        19994\n",
       "cc_distance                  19994\n",
       "mrt_distance                 19994\n",
       "primary_school_distance      19994\n",
       "secondary_school_distance    19994\n",
       "shop_distance                19994\n",
       "population                   19994\n",
       "area_size                    19994\n",
       "log_price                    19994\n",
       "dtype: int64"
      ]
     },
     "execution_count": 114,
     "metadata": {},
     "output_type": "execute_result"
    }
   ],
   "source": [
    "train.count()"
   ]
  },
  {
   "cell_type": "markdown",
   "metadata": {},
   "source": [
    "### size_sqft"
   ]
  },
  {
   "cell_type": "code",
   "execution_count": 115,
   "metadata": {},
   "outputs": [
    {
     "data": {
      "text/plain": [
       "<AxesSubplot:xlabel='size_sqft'>"
      ]
     },
     "execution_count": 115,
     "metadata": {},
     "output_type": "execute_result"
    },
    {
     "data": {
      "image/png": "[encoded data removed]",
      "text/plain": [
       "<Figure size 432x288 with 1 Axes>"
      ]
     },
     "metadata": {
      "needs_background": "light"
     },
     "output_type": "display_data"
    }
   ],
   "source": [
    "sns.boxplot(x = train['size_sqft'])"
   ]
  },
  {
   "cell_type": "code",
   "execution_count": 116,
   "metadata": {},
   "outputs": [],
   "source": [
    "train['log_size_sqft'] = np.log(train['size_sqft'])\n",
    "test['log_size_sqft'] = np.log(test['size_sqft'])"
   ]
  },
  {
   "cell_type": "code",
   "execution_count": 117,
   "metadata": {},
   "outputs": [],
   "source": [
    "train = train.drop(columns='size_sqft')\n",
    "test = test.drop(columns='size_sqft')"
   ]
  },
  {
   "cell_type": "code",
   "execution_count": 118,
   "metadata": {},
   "outputs": [
    {
     "name": "stderr",
     "output_type": "stream",
     "text": [
      "D:\\software\\anaconda\\lib\\site-packages\\seaborn\\_decorators.py:36: FutureWarning: Pass the following variable as a keyword arg: x. From version 0.12, the only valid positional argument will be `data`, and passing other arguments without an explicit keyword will result in an error or misinterpretation.\n",
      "  warnings.warn(\n"
     ]
    },
    {
     "data": {
      "text/plain": [
       "<AxesSubplot:xlabel='log_size_sqft'>"
      ]
     },
     "execution_count": 118,
     "metadata": {},
     "output_type": "execute_result"
    },
    {
     "data": {
      "image/png": "[encoded data removed]",
      "text/plain": [
       "<Figure size 432x288 with 1 Axes>"
      ]
     },
     "metadata": {
      "needs_background": "light"
     },
     "output_type": "display_data"
    }
   ],
   "source": [
    "sns.boxplot(train['log_size_sqft'])"
   ]
  },
  {
   "cell_type": "code",
   "execution_count": 119,
   "metadata": {},
   "outputs": [
    {
     "data": {
      "text/plain": [
       "<AxesSubplot:xlabel='log_size_sqft', ylabel='property_type'>"
      ]
     },
     "execution_count": 119,
     "metadata": {},
     "output_type": "execute_result"
    },
    {
     "data": {
      "image/png": "[encoded data removed]",
      "text/plain": [
       "<Figure size 432x288 with 1 Axes>"
      ]
     },
     "metadata": {
      "needs_background": "light"
     },
     "output_type": "display_data"
    }
   ],
   "source": [
    "sns.boxplot(x = train['log_size_sqft'], y = train['property_type'])"
   ]
  },
  {
   "cell_type": "code",
   "execution_count": 120,
   "metadata": {},
   "outputs": [],
   "source": [
    "train = train[train['log_size_sqft'] <9.7]"
   ]
  },
  {
   "cell_type": "code",
   "execution_count": 121,
   "metadata": {},
   "outputs": [
    {
     "data": {
      "text/plain": [
       "<AxesSubplot:xlabel='log_size_sqft', ylabel='property_type'>"
      ]
     },
     "execution_count": 121,
     "metadata": {},
     "output_type": "execute_result"
    },
    {
     "data": {
      "image/png": "[encoded data removed]",
      "text/plain": [
       "<Figure size 432x288 with 1 Axes>"
      ]
     },
     "metadata": {
      "needs_background": "light"
     },
     "output_type": "display_data"
    }
   ],
   "source": [
    "sns.boxplot(x = train['log_size_sqft'], y = train['property_type'])"
   ]
  },
  {
   "cell_type": "code",
   "execution_count": 122,
   "metadata": {},
   "outputs": [
    {
     "data": {
      "text/plain": [
       "<AxesSubplot:xlabel='log_size_sqft', ylabel='property_type'>"
      ]
     },
     "execution_count": 122,
     "metadata": {},
     "output_type": "execute_result"
    },
    {
     "data": {
      "image/png": "[encoded data removed]",
      "text/plain": [
       "<Figure size 432x288 with 1 Axes>"
      ]
     },
     "metadata": {
      "needs_background": "light"
     },
     "output_type": "display_data"
    }
   ],
   "source": [
    "train = train[train['log_size_sqft'] > 5.5]\n",
    "sns.boxplot(x = train['log_size_sqft'], y = train['property_type'])"
   ]
  },
  {
   "cell_type": "code",
   "execution_count": 123,
   "metadata": {},
   "outputs": [
    {
     "name": "stderr",
     "output_type": "stream",
     "text": [
      "D:\\software\\anaconda\\lib\\site-packages\\seaborn\\_decorators.py:36: FutureWarning: Pass the following variable as a keyword arg: x. From version 0.12, the only valid positional argument will be `data`, and passing other arguments without an explicit keyword will result in an error or misinterpretation.\n",
      "  warnings.warn(\n"
     ]
    },
    {
     "data": {
      "text/plain": [
       "<AxesSubplot:xlabel='log_size_sqft'>"
      ]
     },
     "execution_count": 123,
     "metadata": {},
     "output_type": "execute_result"
    },
    {
     "data": {
      "image/png": "[encoded data removed]",
      "text/plain": [
       "<Figure size 432x288 with 1 Axes>"
      ]
     },
     "metadata": {
      "needs_background": "light"
     },
     "output_type": "display_data"
    }
   ],
   "source": [
    "sns.boxplot(train['log_size_sqft'])"
   ]
  },
  {
   "cell_type": "markdown",
   "metadata": {},
   "source": [
    "### subzone and planning_area"
   ]
  },
  {
   "cell_type": "code",
   "execution_count": 124,
   "metadata": {},
   "outputs": [],
   "source": [
    "# adding regions\n",
    "central = ['bishan', 'bukit merah', 'bukit timah', 'downtown core', 'geylang', 'kallang', 'marina east', 'marina south', 'marine parade', 'museum', 'newton',\n",
    "           'novena', 'orchard', 'outram', 'queenstown', 'river valley', 'rochor', 'singapore river', 'southern islands', 'straits view', 'tanglin', 'toa payoh']\n",
    "\n",
    "east = [ 'bedok', 'changi', 'changi bay', 'pasir ris', 'paya lebar', 'tampines']\n",
    "\n",
    "north = ['central water catchment', 'lim chu kang', 'mandai', 'sembawang', 'simpang', 'sungei kadut', 'woodlands', 'yishun']\n",
    "\n",
    "north_east = ['ang mo kio', 'hougang', 'north-eastern islands', 'punggol', 'seletar', 'sengkang', 'serangoon']\n",
    "\n",
    "west = ['boon lay', 'bukit batok', 'bukit panjang', 'choa chu kang', 'clementi', 'jurong east', 'jurong west', 'pioneer', 'tengah', 'tuas', 'western islands', 'western water catchment']"
   ]
  },
  {
   "cell_type": "code",
   "execution_count": 125,
   "metadata": {},
   "outputs": [],
   "source": [
    "train['region'] = train['subzone'].copy()"
   ]
  },
  {
   "cell_type": "code",
   "execution_count": 126,
   "metadata": {},
   "outputs": [],
   "source": [
    "train['region'] = train['region'].replace(\n",
    "    central,\n",
    "    'central'\n",
    ")\n",
    "\n",
    "train['region'] = train['region'].replace(\n",
    "    east,\n",
    "    'east'\n",
    ")\n",
    "\n",
    "train['region'] = train['region'].replace(\n",
    "    north,\n",
    "    'north'\n",
    ")\n",
    "\n",
    "train['region'] = train['region'].replace(\n",
    "    north_east,\n",
    "    'north_east'\n",
    ")\n",
    "\n",
    "train['region'] = train['region'].replace(\n",
    "    west,\n",
    "    'west'\n",
    ")"
   ]
  },
  {
   "cell_type": "code",
   "execution_count": 127,
   "metadata": {},
   "outputs": [
    {
     "data": {
      "text/html": [
       "<div>\n",
       "<style scoped>\n",
       "    .dataframe tbody tr th:only-of-type {\n",
       "        vertical-align: middle;\n",
       "    }\n",
       "\n",
       "    .dataframe tbody tr th {\n",
       "        vertical-align: top;\n",
       "    }\n",
       "\n",
       "    .dataframe thead th {\n",
       "        text-align: right;\n",
       "    }\n",
       "</style>\n",
       "<table border=\"1\" class=\"dataframe\">\n",
       "  <thead>\n",
       "    <tr style=\"text-align: right;\">\n",
       "      <th></th>\n",
       "      <th>property_type</th>\n",
       "      <th>tenure</th>\n",
       "      <th>built_year</th>\n",
       "      <th>num_beds</th>\n",
       "      <th>num_baths</th>\n",
       "      <th>furnishing</th>\n",
       "      <th>available_unit_types</th>\n",
       "      <th>total_num_units</th>\n",
       "      <th>subzone</th>\n",
       "      <th>planning_area</th>\n",
       "      <th>...</th>\n",
       "      <th>cc_distance</th>\n",
       "      <th>mrt_distance</th>\n",
       "      <th>primary_school_distance</th>\n",
       "      <th>secondary_school_distance</th>\n",
       "      <th>shop_distance</th>\n",
       "      <th>population</th>\n",
       "      <th>area_size</th>\n",
       "      <th>log_price</th>\n",
       "      <th>log_size_sqft</th>\n",
       "      <th>region</th>\n",
       "    </tr>\n",
       "  </thead>\n",
       "  <tbody>\n",
       "    <tr>\n",
       "      <th>0</th>\n",
       "      <td>HDB</td>\n",
       "      <td>99-year leasehold</td>\n",
       "      <td>1988.0</td>\n",
       "      <td>3.0</td>\n",
       "      <td>2.0</td>\n",
       "      <td>unfurnished</td>\n",
       "      <td>5.0</td>\n",
       "      <td>116.0</td>\n",
       "      <td>yishun</td>\n",
       "      <td>yishun</td>\n",
       "      <td>...</td>\n",
       "      <td>8.027727</td>\n",
       "      <td>1.689357</td>\n",
       "      <td>5.178683</td>\n",
       "      <td>2.538065</td>\n",
       "      <td>2.538065</td>\n",
       "      <td>10250</td>\n",
       "      <td>1.4329</td>\n",
       "      <td>13.150951</td>\n",
       "      <td>7.016610</td>\n",
       "      <td>north</td>\n",
       "    </tr>\n",
       "    <tr>\n",
       "      <th>1</th>\n",
       "      <td>HDB</td>\n",
       "      <td>99-year leasehold</td>\n",
       "      <td>1992.0</td>\n",
       "      <td>4.0</td>\n",
       "      <td>2.0</td>\n",
       "      <td>unfurnished</td>\n",
       "      <td>6.0</td>\n",
       "      <td>296.0</td>\n",
       "      <td>serangoon</td>\n",
       "      <td>serangoon</td>\n",
       "      <td>...</td>\n",
       "      <td>2.400374</td>\n",
       "      <td>6.871207</td>\n",
       "      <td>8.310177</td>\n",
       "      <td>6.710202</td>\n",
       "      <td>6.710202</td>\n",
       "      <td>18660</td>\n",
       "      <td>3.5000</td>\n",
       "      <td>13.810900</td>\n",
       "      <td>7.362011</td>\n",
       "      <td>north_east</td>\n",
       "    </tr>\n",
       "    <tr>\n",
       "      <th>2</th>\n",
       "      <td>CONDO</td>\n",
       "      <td>freehold</td>\n",
       "      <td>2022.0</td>\n",
       "      <td>4.0</td>\n",
       "      <td>4.0</td>\n",
       "      <td>partial</td>\n",
       "      <td>5.0</td>\n",
       "      <td>56.0</td>\n",
       "      <td>marine parade</td>\n",
       "      <td>marine parade</td>\n",
       "      <td>...</td>\n",
       "      <td>6.389766</td>\n",
       "      <td>13.983476</td>\n",
       "      <td>9.485153</td>\n",
       "      <td>15.197137</td>\n",
       "      <td>15.197137</td>\n",
       "      <td>890</td>\n",
       "      <td>2.2068</td>\n",
       "      <td>15.953810</td>\n",
       "      <td>8.029433</td>\n",
       "      <td>central</td>\n",
       "    </tr>\n",
       "    <tr>\n",
       "      <th>3</th>\n",
       "      <td>CONDO</td>\n",
       "      <td>freehold</td>\n",
       "      <td>2023.0</td>\n",
       "      <td>3.0</td>\n",
       "      <td>2.0</td>\n",
       "      <td>partial</td>\n",
       "      <td>5.0</td>\n",
       "      <td>638.0</td>\n",
       "      <td>bukit timah</td>\n",
       "      <td>bukit timah</td>\n",
       "      <td>...</td>\n",
       "      <td>8.802339</td>\n",
       "      <td>13.479646</td>\n",
       "      <td>3.290085</td>\n",
       "      <td>12.950660</td>\n",
       "      <td>12.950660</td>\n",
       "      <td>28000</td>\n",
       "      <td>1.5110</td>\n",
       "      <td>14.780972</td>\n",
       "      <td>6.864848</td>\n",
       "      <td>central</td>\n",
       "    </tr>\n",
       "    <tr>\n",
       "      <th>4</th>\n",
       "      <td>CONDO</td>\n",
       "      <td>99-year leasehold</td>\n",
       "      <td>2026.0</td>\n",
       "      <td>2.0</td>\n",
       "      <td>1.0</td>\n",
       "      <td>unfurnished</td>\n",
       "      <td>6.0</td>\n",
       "      <td>351.0</td>\n",
       "      <td>downtown core</td>\n",
       "      <td>downtown core</td>\n",
       "      <td>...</td>\n",
       "      <td>9.160635</td>\n",
       "      <td>15.981982</td>\n",
       "      <td>13.818954</td>\n",
       "      <td>17.977600</td>\n",
       "      <td>17.977600</td>\n",
       "      <td>4370</td>\n",
       "      <td>2.2092</td>\n",
       "      <td>14.383095</td>\n",
       "      <td>6.595781</td>\n",
       "      <td>central</td>\n",
       "    </tr>\n",
       "  </tbody>\n",
       "</table>\n",
       "<p>5 rows × 21 columns</p>\n",
       "</div>"
      ],
      "text/plain": [
       "  property_type             tenure  built_year  num_beds  num_baths  \\\n",
       "0           HDB  99-year leasehold      1988.0       3.0        2.0   \n",
       "1           HDB  99-year leasehold      1992.0       4.0        2.0   \n",
       "2         CONDO           freehold      2022.0       4.0        4.0   \n",
       "3         CONDO           freehold      2023.0       3.0        2.0   \n",
       "4         CONDO  99-year leasehold      2026.0       2.0        1.0   \n",
       "\n",
       "    furnishing  available_unit_types  total_num_units        subzone  \\\n",
       "0  unfurnished                   5.0            116.0         yishun   \n",
       "1  unfurnished                   6.0            296.0      serangoon   \n",
       "2      partial                   5.0             56.0  marine parade   \n",
       "3      partial                   5.0            638.0    bukit timah   \n",
       "4  unfurnished                   6.0            351.0  downtown core   \n",
       "\n",
       "   planning_area  ...  cc_distance  mrt_distance  primary_school_distance  \\\n",
       "0         yishun  ...     8.027727      1.689357                 5.178683   \n",
       "1      serangoon  ...     2.400374      6.871207                 8.310177   \n",
       "2  marine parade  ...     6.389766     13.983476                 9.485153   \n",
       "3    bukit timah  ...     8.802339     13.479646                 3.290085   \n",
       "4  downtown core  ...     9.160635     15.981982                13.818954   \n",
       "\n",
       "   secondary_school_distance  shop_distance  population  area_size  log_price  \\\n",
       "0                   2.538065       2.538065       10250     1.4329  13.150951   \n",
       "1                   6.710202       6.710202       18660     3.5000  13.810900   \n",
       "2                  15.197137      15.197137         890     2.2068  15.953810   \n",
       "3                  12.950660      12.950660       28000     1.5110  14.780972   \n",
       "4                  17.977600      17.977600        4370     2.2092  14.383095   \n",
       "\n",
       "   log_size_sqft      region  \n",
       "0       7.016610       north  \n",
       "1       7.362011  north_east  \n",
       "2       8.029433     central  \n",
       "3       6.864848     central  \n",
       "4       6.595781     central  \n",
       "\n",
       "[5 rows x 21 columns]"
      ]
     },
     "execution_count": 127,
     "metadata": {},
     "output_type": "execute_result"
    }
   ],
   "source": [
    "train.head()"
   ]
  },
  {
   "cell_type": "code",
   "execution_count": 128,
   "metadata": {},
   "outputs": [
    {
     "name": "stderr",
     "output_type": "stream",
     "text": [
      "D:\\software\\anaconda\\lib\\site-packages\\seaborn\\_decorators.py:36: FutureWarning: Pass the following variable as a keyword arg: x. From version 0.12, the only valid positional argument will be `data`, and passing other arguments without an explicit keyword will result in an error or misinterpretation.\n",
      "  warnings.warn(\n"
     ]
    },
    {
     "data": {
      "text/plain": [
       "<AxesSubplot:xlabel='region', ylabel='count'>"
      ]
     },
     "execution_count": 128,
     "metadata": {},
     "output_type": "execute_result"
    },
    {
     "data": {
      "image/png": "[encoded data removed]",
      "text/plain": [
       "<Figure size 432x288 with 1 Axes>"
      ]
     },
     "metadata": {
      "needs_background": "light"
     },
     "output_type": "display_data"
    }
   ],
   "source": [
    "sns.countplot(train['region'])"
   ]
  },
  {
   "cell_type": "code",
   "execution_count": 129,
   "metadata": {},
   "outputs": [
    {
     "data": {
      "text/plain": [
       "array(['serangoon', 'pasir ris', 'museum', 'choa chu kang', 'toa payoh',\n",
       "       'geylang', 'clementi', 'yishun', 'hougang', 'sengkang',\n",
       "       'bukit batok', 'bukit panjang', 'woodlands', 'ang mo kio',\n",
       "       'downtown core', 'queenstown', 'kallang', 'bukit timah', 'bedok',\n",
       "       'river valley', 'novena', 'seletar', 'bishan', 'outram', 'tanglin',\n",
       "       'jurong west', 'marine parade', 'punggol', 'sembawang',\n",
       "       'singapore river', 'bukit merah', 'southern islands', 'changi',\n",
       "       'newton', 'tampines', 'orchard', 'jurong east', 'tengah', 'rochor',\n",
       "       'central water catchment', 'geyland', 'lim chu kang', 'mandai',\n",
       "       'boon lay'], dtype=object)"
      ]
     },
     "execution_count": 129,
     "metadata": {},
     "output_type": "execute_result"
    }
   ],
   "source": [
    "test['region'] = test['subzone'].copy()\n",
    "test['region'].unique()"
   ]
  },
  {
   "cell_type": "code",
   "execution_count": 130,
   "metadata": {},
   "outputs": [
    {
     "data": {
      "text/plain": [
       "array(['north_east', 'east', 'central', 'west', 'north', 'geyland'],\n",
       "      dtype=object)"
      ]
     },
     "execution_count": 130,
     "metadata": {},
     "output_type": "execute_result"
    }
   ],
   "source": [
    "test['region'] = test['region'].replace(\n",
    "    central,\n",
    "    'central'\n",
    ")\n",
    "\n",
    "test['region'] = test['region'].replace(\n",
    "    east,\n",
    "    'east'\n",
    ")\n",
    "\n",
    "test['region'] = test['region'].replace(\n",
    "    north,\n",
    "    'north'\n",
    ")\n",
    "\n",
    "test['region'] = test['region'].replace(\n",
    "    north_east,\n",
    "    'north_east'\n",
    ")\n",
    "\n",
    "test['region'] = test['region'].replace(\n",
    "    west,\n",
    "    'west'\n",
    ")\n",
    "\n",
    "test['region'].unique()"
   ]
  },
  {
   "cell_type": "code",
   "execution_count": 131,
   "metadata": {},
   "outputs": [
    {
     "data": {
      "text/html": [
       "<div>\n",
       "<style scoped>\n",
       "    .dataframe tbody tr th:only-of-type {\n",
       "        vertical-align: middle;\n",
       "    }\n",
       "\n",
       "    .dataframe tbody tr th {\n",
       "        vertical-align: top;\n",
       "    }\n",
       "\n",
       "    .dataframe thead th {\n",
       "        text-align: right;\n",
       "    }\n",
       "</style>\n",
       "<table border=\"1\" class=\"dataframe\">\n",
       "  <thead>\n",
       "    <tr style=\"text-align: right;\">\n",
       "      <th></th>\n",
       "      <th>property_type</th>\n",
       "      <th>tenure</th>\n",
       "      <th>built_year</th>\n",
       "      <th>num_beds</th>\n",
       "      <th>num_baths</th>\n",
       "      <th>furnishing</th>\n",
       "      <th>available_unit_types</th>\n",
       "      <th>total_num_units</th>\n",
       "      <th>subzone</th>\n",
       "      <th>planning_area</th>\n",
       "      <th>cc_distance</th>\n",
       "      <th>mrt_distance</th>\n",
       "      <th>primary_school_distance</th>\n",
       "      <th>secondary_school_distance</th>\n",
       "      <th>shop_distance</th>\n",
       "      <th>population</th>\n",
       "      <th>area_size</th>\n",
       "      <th>log_size_sqft</th>\n",
       "      <th>region</th>\n",
       "    </tr>\n",
       "  </thead>\n",
       "  <tbody>\n",
       "    <tr>\n",
       "      <th>0</th>\n",
       "      <td>CONDO</td>\n",
       "      <td>freehold</td>\n",
       "      <td>2022.0</td>\n",
       "      <td>1.0</td>\n",
       "      <td>1.0</td>\n",
       "      <td>unfurnished</td>\n",
       "      <td>6.0</td>\n",
       "      <td>250.0</td>\n",
       "      <td>serangoon</td>\n",
       "      <td>serangoon</td>\n",
       "      <td>1.046868</td>\n",
       "      <td>0.960436</td>\n",
       "      <td>13.993735</td>\n",
       "      <td>1.853769</td>\n",
       "      <td>1.853769</td>\n",
       "      <td>8490</td>\n",
       "      <td>1.1801</td>\n",
       "      <td>6.137727</td>\n",
       "      <td>north_east</td>\n",
       "    </tr>\n",
       "    <tr>\n",
       "      <th>1</th>\n",
       "      <td>CONDO</td>\n",
       "      <td>99-year leasehold</td>\n",
       "      <td>2017.0</td>\n",
       "      <td>3.0</td>\n",
       "      <td>3.0</td>\n",
       "      <td>unfurnished</td>\n",
       "      <td>6.0</td>\n",
       "      <td>463.0</td>\n",
       "      <td>pasir ris</td>\n",
       "      <td>pasir ris</td>\n",
       "      <td>8.581574</td>\n",
       "      <td>9.346690</td>\n",
       "      <td>13.709624</td>\n",
       "      <td>8.403509</td>\n",
       "      <td>8.403509</td>\n",
       "      <td>14700</td>\n",
       "      <td>2.3307</td>\n",
       "      <td>6.940222</td>\n",
       "      <td>east</td>\n",
       "    </tr>\n",
       "    <tr>\n",
       "      <th>2</th>\n",
       "      <td>CONDO</td>\n",
       "      <td>99-year leasehold</td>\n",
       "      <td>2007.0</td>\n",
       "      <td>1.0</td>\n",
       "      <td>1.0</td>\n",
       "      <td>partial</td>\n",
       "      <td>4.0</td>\n",
       "      <td>646.0</td>\n",
       "      <td>museum</td>\n",
       "      <td>museum</td>\n",
       "      <td>6.755363</td>\n",
       "      <td>6.710905</td>\n",
       "      <td>8.965840</td>\n",
       "      <td>6.503082</td>\n",
       "      <td>6.503082</td>\n",
       "      <td>24760</td>\n",
       "      <td>1.0619</td>\n",
       "      <td>6.345636</td>\n",
       "      <td>central</td>\n",
       "    </tr>\n",
       "    <tr>\n",
       "      <th>3</th>\n",
       "      <td>HDB</td>\n",
       "      <td>99-year leasehold</td>\n",
       "      <td>2017.0</td>\n",
       "      <td>3.0</td>\n",
       "      <td>2.0</td>\n",
       "      <td>unfurnished</td>\n",
       "      <td>5.0</td>\n",
       "      <td>900.0</td>\n",
       "      <td>choa chu kang</td>\n",
       "      <td>choa chu kang</td>\n",
       "      <td>14.229296</td>\n",
       "      <td>14.293216</td>\n",
       "      <td>12.559347</td>\n",
       "      <td>13.963584</td>\n",
       "      <td>13.963584</td>\n",
       "      <td>36080</td>\n",
       "      <td>3.0232</td>\n",
       "      <td>7.103322</td>\n",
       "      <td>west</td>\n",
       "    </tr>\n",
       "    <tr>\n",
       "      <th>4</th>\n",
       "      <td>HDB</td>\n",
       "      <td>99-year leasehold</td>\n",
       "      <td>1973.0</td>\n",
       "      <td>3.0</td>\n",
       "      <td>2.0</td>\n",
       "      <td>unfurnished</td>\n",
       "      <td>4.0</td>\n",
       "      <td>298.0</td>\n",
       "      <td>toa payoh</td>\n",
       "      <td>toa payoh</td>\n",
       "      <td>2.802424</td>\n",
       "      <td>2.077951</td>\n",
       "      <td>6.903112</td>\n",
       "      <td>3.079569</td>\n",
       "      <td>3.079569</td>\n",
       "      <td>15940</td>\n",
       "      <td>0.6847</td>\n",
       "      <td>6.841615</td>\n",
       "      <td>central</td>\n",
       "    </tr>\n",
       "  </tbody>\n",
       "</table>\n",
       "</div>"
      ],
      "text/plain": [
       "  property_type             tenure  built_year  num_beds  num_baths  \\\n",
       "0         CONDO           freehold      2022.0       1.0        1.0   \n",
       "1         CONDO  99-year leasehold      2017.0       3.0        3.0   \n",
       "2         CONDO  99-year leasehold      2007.0       1.0        1.0   \n",
       "3           HDB  99-year leasehold      2017.0       3.0        2.0   \n",
       "4           HDB  99-year leasehold      1973.0       3.0        2.0   \n",
       "\n",
       "    furnishing  available_unit_types  total_num_units        subzone  \\\n",
       "0  unfurnished                   6.0            250.0      serangoon   \n",
       "1  unfurnished                   6.0            463.0      pasir ris   \n",
       "2      partial                   4.0            646.0         museum   \n",
       "3  unfurnished                   5.0            900.0  choa chu kang   \n",
       "4  unfurnished                   4.0            298.0      toa payoh   \n",
       "\n",
       "   planning_area  cc_distance  mrt_distance  primary_school_distance  \\\n",
       "0      serangoon     1.046868      0.960436                13.993735   \n",
       "1      pasir ris     8.581574      9.346690                13.709624   \n",
       "2         museum     6.755363      6.710905                 8.965840   \n",
       "3  choa chu kang    14.229296     14.293216                12.559347   \n",
       "4      toa payoh     2.802424      2.077951                 6.903112   \n",
       "\n",
       "   secondary_school_distance  shop_distance  population  area_size  \\\n",
       "0                   1.853769       1.853769        8490     1.1801   \n",
       "1                   8.403509       8.403509       14700     2.3307   \n",
       "2                   6.503082       6.503082       24760     1.0619   \n",
       "3                  13.963584      13.963584       36080     3.0232   \n",
       "4                   3.079569       3.079569       15940     0.6847   \n",
       "\n",
       "   log_size_sqft      region  \n",
       "0       6.137727  north_east  \n",
       "1       6.940222        east  \n",
       "2       6.345636     central  \n",
       "3       7.103322        west  \n",
       "4       6.841615     central  "
      ]
     },
     "execution_count": 131,
     "metadata": {},
     "output_type": "execute_result"
    }
   ],
   "source": [
    "test.head()"
   ]
  },
  {
   "cell_type": "markdown",
   "metadata": {},
   "source": [
    "### Types"
   ]
  },
  {
   "cell_type": "code",
   "execution_count": 132,
   "metadata": {},
   "outputs": [
    {
     "data": {
      "text/plain": [
       "property_type                 object\n",
       "tenure                        object\n",
       "built_year                   float64\n",
       "num_beds                     float64\n",
       "num_baths                    float64\n",
       "furnishing                    object\n",
       "available_unit_types         float64\n",
       "total_num_units              float64\n",
       "subzone                       object\n",
       "planning_area                 object\n",
       "price                        float64\n",
       "cc_distance                  float64\n",
       "mrt_distance                 float64\n",
       "primary_school_distance      float64\n",
       "secondary_school_distance    float64\n",
       "shop_distance                float64\n",
       "population                     int64\n",
       "area_size                    float64\n",
       "log_price                    float64\n",
       "log_size_sqft                float64\n",
       "region                        object\n",
       "dtype: object"
      ]
     },
     "execution_count": 132,
     "metadata": {},
     "output_type": "execute_result"
    }
   ],
   "source": [
    "train.dtypes"
   ]
  },
  {
   "cell_type": "markdown",
   "metadata": {},
   "source": [
    "### Remove Redundant features"
   ]
  },
  {
   "cell_type": "code",
   "execution_count": 133,
   "metadata": {},
   "outputs": [
    {
     "data": {
      "text/plain": [
       "property_type                 object\n",
       "tenure                        object\n",
       "built_year                   float64\n",
       "num_beds                     float64\n",
       "num_baths                    float64\n",
       "furnishing                    object\n",
       "available_unit_types         float64\n",
       "total_num_units              float64\n",
       "subzone                       object\n",
       "planning_area                 object\n",
       "price                        float64\n",
       "cc_distance                  float64\n",
       "mrt_distance                 float64\n",
       "primary_school_distance      float64\n",
       "secondary_school_distance    float64\n",
       "shop_distance                float64\n",
       "population                     int64\n",
       "area_size                    float64\n",
       "log_price                    float64\n",
       "log_size_sqft                float64\n",
       "region                        object\n",
       "dtype: object"
      ]
     },
     "execution_count": 133,
     "metadata": {},
     "output_type": "execute_result"
    }
   ],
   "source": [
    "train.dtypes"
   ]
  },
  {
   "cell_type": "code",
   "execution_count": 134,
   "metadata": {},
   "outputs": [
    {
     "data": {
      "text/plain": [
       "property_type                6966\n",
       "tenure                       6966\n",
       "built_year                   6966\n",
       "num_beds                     6966\n",
       "num_baths                    6966\n",
       "furnishing                   6966\n",
       "available_unit_types         6966\n",
       "total_num_units              6966\n",
       "subzone                      6966\n",
       "planning_area                6966\n",
       "cc_distance                  6966\n",
       "mrt_distance                 6966\n",
       "primary_school_distance      6966\n",
       "secondary_school_distance    6966\n",
       "shop_distance                6966\n",
       "population                   6966\n",
       "area_size                    6966\n",
       "log_size_sqft                6966\n",
       "region                       6966\n",
       "dtype: int64"
      ]
     },
     "execution_count": 134,
     "metadata": {},
     "output_type": "execute_result"
    }
   ],
   "source": [
    "test.count()"
   ]
  },
  {
   "cell_type": "code",
   "execution_count": 135,
   "metadata": {},
   "outputs": [],
   "source": [
    "test = test.drop(columns=['subzone','planning_area'])"
   ]
  },
  {
   "cell_type": "code",
   "execution_count": 136,
   "metadata": {},
   "outputs": [],
   "source": [
    "x_train = train.drop(columns=['subzone', 'planning_area','log_price'])\n",
    "y_train = x_train.pop('price')"
   ]
  },
  {
   "cell_type": "markdown",
   "metadata": {},
   "source": [
    "### Distance Correlation Analysis"
   ]
  },
  {
   "cell_type": "code",
   "execution_count": 144,
   "metadata": {},
   "outputs": [
    {
     "name": "stdout",
     "output_type": "stream",
     "text": [
      "spearman:\n",
      "-0.1252982971581197\n",
      "-0.2653787706303225\n",
      "-0.0016628135463115344\n",
      "-0.06597686073167204\n",
      "-0.07093019749636274\n",
      "kendall:\n",
      "-0.08536565522949051\n",
      "-0.17686392556749014\n",
      "-0.0010322884804899583\n",
      "-0.04377726504307879\n",
      "-0.047213096699579314\n"
     ]
    }
   ],
   "source": [
    "distance_list = ['cc_distance', 'mrt_distance', 'primary_school_distance', 'secondary_school_distance', 'shop_distance']\n",
    "print('spearman:')\n",
    "for distance_type in distance_list:\n",
    "    print(train[distance_type].corr(y_train, method='spearman'))\n",
    "print('kendall:')\n",
    "for distance_type in distance_list:\n",
    "    print(train[distance_type].corr(y_train, method='kendall'))"
   ]
  },
  {
   "cell_type": "markdown",
   "metadata": {},
   "source": [
    "The distance ranked by correlation is like this:\n",
    "1. distance to MRT station\n",
    "2. distance to Commercial Centre\n",
    "3. distance to Shopping mall\n",
    "4. distance to Secondary school\n",
    "5. distance to Primary school\n",
    "Result shows that the influence of distance to Primary school is very little and can almost be ignored. On the contrary, distance to MRT station affect the price obviously."
   ]
  },
  {
   "cell_type": "markdown",
   "metadata": {},
   "source": [
    "# Mining"
   ]
  },
  {
   "cell_type": "markdown",
   "metadata": {},
   "source": [
    "#### Scale Numerical and Categorial columns"
   ]
  },
  {
   "cell_type": "code",
   "execution_count": 1153,
   "metadata": {},
   "outputs": [],
   "source": [
    "num_selector = make_column_selector(dtype_include = [np.float64])\n",
    "cat_selector = make_column_selector(dtype_include = [object])"
   ]
  },
  {
   "cell_type": "code",
   "execution_count": 1154,
   "metadata": {},
   "outputs": [],
   "source": [
    "numerics = ['int16', 'int32', 'int64', 'float16', 'float32', 'float64']\n",
    "numeric_features = x_train.select_dtypes(include=numerics).columns"
   ]
  },
  {
   "cell_type": "code",
   "execution_count": 1155,
   "metadata": {},
   "outputs": [],
   "source": [
    "numeric_transformer = Pipeline(\n",
    "    steps=[(\"scaler\", StandardScaler())]\n",
    ")"
   ]
  },
  {
   "cell_type": "code",
   "execution_count": 1156,
   "metadata": {},
   "outputs": [],
   "source": [
    "categorial = ['object']\n",
    "categorical_features = x_train.select_dtypes(include=categorial).columns"
   ]
  },
  {
   "cell_type": "code",
   "execution_count": 1157,
   "metadata": {},
   "outputs": [],
   "source": [
    "categorical_transformer = ce.OneHotEncoder(handle_unknown=\"ignore\")"
   ]
  },
  {
   "cell_type": "code",
   "execution_count": 1158,
   "metadata": {},
   "outputs": [],
   "source": [
    "preprocessor = ColumnTransformer(\n",
    "    transformers=[\n",
    "        (\"num\", numeric_transformer, numeric_features),\n",
    "        (\"cat\", categorical_transformer, categorical_features),\n",
    "    ]\n",
    ")"
   ]
  },
  {
   "cell_type": "code",
   "execution_count": 1159,
   "metadata": {},
   "outputs": [],
   "source": [
    "from sklearn.model_selection import StratifiedKFold, cross_val_score\n",
    "\n",
    "def get_PR_AUC(clf, x, y):\n",
    "    \n",
    "    avg_precision = cross_val_score(clf, x, y, scoring=\"neg_mean_squared_error\", cv=5, n_jobs=-1).mean()\n",
    "    return (avg_precision)"
   ]
  },
  {
   "cell_type": "markdown",
   "metadata": {},
   "source": [
    "### LightGBM"
   ]
  },
  {
   "cell_type": "code",
   "execution_count": 1160,
   "metadata": {},
   "outputs": [],
   "source": [
    "clf = Pipeline(\n",
    "    steps=[(\"preprocessor\", preprocessor), (\"classifier\", lgb.LGBMClassifier())]\n",
    ")\n",
    "\n",
    "param_grid = {'preprocessor__num__scaler': [StandardScaler(), MinMaxScaler(), RobustScaler(), MaxAbsScaler()], \n",
    "              'classifier__n_estimators': list(range(15,30,5)),\n",
    "              'classifier__learning_rate': [0.01,0.05, 0.1],\n",
    "              'classifier__max_depth': list(range(1,4,1))\n",
    "}"
   ]
  },
  {
   "cell_type": "code",
   "execution_count": 1168,
   "metadata": {},
   "outputs": [
    {
     "name": "stdout",
     "output_type": "stream",
     "text": [
      "Fitting 5 folds for each of 108 candidates, totalling 540 fits\n"
     ]
    },
    {
     "name": "stderr",
     "output_type": "stream",
     "text": [
      "/usr/local/lib/python3.9/site-packages/sklearn/model_selection/_split.py:684: UserWarning: The least populated class in y has only 1 members, which is less than n_splits=5.\n",
      "  warnings.warn(\n"
     ]
    },
    {
     "name": "stdout",
     "output_type": "stream",
     "text": [
      "[CV] END classifier__learning_rate=0.01, classifier__max_depth=1, classifier__n_estimators=15, preprocessor__num__scaler=MinMaxScaler(); total time= 3.1min\n",
      "[CV] END classifier__learning_rate=0.01, classifier__max_depth=1, classifier__n_estimators=15, preprocessor__num__scaler=StandardScaler(); total time= 3.1min\n",
      "[CV] END classifier__learning_rate=0.01, classifier__max_depth=1, classifier__n_estimators=15, preprocessor__num__scaler=MinMaxScaler(); total time= 3.1min\n",
      "[CV] END classifier__learning_rate=0.01, classifier__max_depth=1, classifier__n_estimators=15, preprocessor__num__scaler=StandardScaler(); total time= 3.2min\n",
      "[CV] END classifier__learning_rate=0.01, classifier__max_depth=1, classifier__n_estimators=15, preprocessor__num__scaler=StandardScaler(); total time= 3.2min\n",
      "[CV] END classifier__learning_rate=0.01, classifier__max_depth=1, classifier__n_estimators=15, preprocessor__num__scaler=MinMaxScaler(); total time= 3.2min\n",
      "[CV] END classifier__learning_rate=0.01, classifier__max_depth=1, classifier__n_estimators=15, preprocessor__num__scaler=StandardScaler(); total time= 3.2min\n",
      "[CV] END classifier__learning_rate=0.01, classifier__max_depth=1, classifier__n_estimators=15, preprocessor__num__scaler=StandardScaler(); total time= 3.3min\n",
      "[CV] END classifier__learning_rate=0.01, classifier__max_depth=1, classifier__n_estimators=15, preprocessor__num__scaler=MinMaxScaler(); total time= 2.8min\n",
      "[CV] END classifier__learning_rate=0.01, classifier__max_depth=1, classifier__n_estimators=15, preprocessor__num__scaler=MinMaxScaler(); total time= 2.9min\n",
      "[CV] END classifier__learning_rate=0.01, classifier__max_depth=1, classifier__n_estimators=15, preprocessor__num__scaler=RobustScaler(); total time= 2.9min\n",
      "[CV] END classifier__learning_rate=0.01, classifier__max_depth=1, classifier__n_estimators=15, preprocessor__num__scaler=MaxAbsScaler(); total time= 2.9min\n",
      "[CV] END classifier__learning_rate=0.01, classifier__max_depth=1, classifier__n_estimators=15, preprocessor__num__scaler=RobustScaler(); total time= 3.0min\n",
      "[CV] END classifier__learning_rate=0.01, classifier__max_depth=1, classifier__n_estimators=15, preprocessor__num__scaler=RobustScaler(); total time= 3.0min\n",
      "[CV] END classifier__learning_rate=0.01, classifier__max_depth=1, classifier__n_estimators=15, preprocessor__num__scaler=RobustScaler(); total time= 3.0min\n",
      "[CV] END classifier__learning_rate=0.01, classifier__max_depth=1, classifier__n_estimators=15, preprocessor__num__scaler=RobustScaler(); total time= 3.0min\n",
      "[CV] END classifier__learning_rate=0.01, classifier__max_depth=1, classifier__n_estimators=15, preprocessor__num__scaler=MaxAbsScaler(); total time= 2.8min\n",
      "[CV] END classifier__learning_rate=0.01, classifier__max_depth=1, classifier__n_estimators=15, preprocessor__num__scaler=MaxAbsScaler(); total time= 3.0min\n",
      "[CV] END classifier__learning_rate=0.01, classifier__max_depth=1, classifier__n_estimators=15, preprocessor__num__scaler=MaxAbsScaler(); total time= 2.9min\n",
      "[CV] END classifier__learning_rate=0.01, classifier__max_depth=1, classifier__n_estimators=15, preprocessor__num__scaler=MaxAbsScaler(); total time= 2.8min\n",
      "[CV] END classifier__learning_rate=0.01, classifier__max_depth=1, classifier__n_estimators=20, preprocessor__num__scaler=StandardScaler(); total time= 3.7min\n",
      "[CV] END classifier__learning_rate=0.01, classifier__max_depth=1, classifier__n_estimators=20, preprocessor__num__scaler=StandardScaler(); total time= 3.7min\n",
      "[CV] END classifier__learning_rate=0.01, classifier__max_depth=1, classifier__n_estimators=20, preprocessor__num__scaler=StandardScaler(); total time= 3.7min\n",
      "[CV] END classifier__learning_rate=0.01, classifier__max_depth=1, classifier__n_estimators=20, preprocessor__num__scaler=StandardScaler(); total time= 3.8min\n",
      "[CV] END classifier__learning_rate=0.01, classifier__max_depth=1, classifier__n_estimators=20, preprocessor__num__scaler=StandardScaler(); total time= 3.3min\n",
      "[CV] END classifier__learning_rate=0.01, classifier__max_depth=1, classifier__n_estimators=20, preprocessor__num__scaler=MinMaxScaler(); total time= 3.3min\n",
      "[CV] END classifier__learning_rate=0.01, classifier__max_depth=1, classifier__n_estimators=20, preprocessor__num__scaler=MinMaxScaler(); total time= 3.3min\n",
      "[CV] END classifier__learning_rate=0.01, classifier__max_depth=1, classifier__n_estimators=20, preprocessor__num__scaler=MinMaxScaler(); total time= 3.3min\n",
      "[CV] END classifier__learning_rate=0.01, classifier__max_depth=1, classifier__n_estimators=20, preprocessor__num__scaler=MinMaxScaler(); total time= 3.4min\n",
      "[CV] END classifier__learning_rate=0.01, classifier__max_depth=1, classifier__n_estimators=20, preprocessor__num__scaler=RobustScaler(); total time= 3.4min\n",
      "[CV] END classifier__learning_rate=0.01, classifier__max_depth=1, classifier__n_estimators=20, preprocessor__num__scaler=MinMaxScaler(); total time= 3.4min\n",
      "[CV] END classifier__learning_rate=0.01, classifier__max_depth=1, classifier__n_estimators=20, preprocessor__num__scaler=RobustScaler(); total time= 3.4min\n",
      "[CV] END classifier__learning_rate=0.01, classifier__max_depth=1, classifier__n_estimators=20, preprocessor__num__scaler=RobustScaler(); total time= 3.2min\n",
      "[CV] END classifier__learning_rate=0.01, classifier__max_depth=1, classifier__n_estimators=20, preprocessor__num__scaler=RobustScaler(); total time= 3.3min\n",
      "[CV] END classifier__learning_rate=0.01, classifier__max_depth=1, classifier__n_estimators=20, preprocessor__num__scaler=MaxAbsScaler(); total time= 3.2min\n",
      "[CV] END classifier__learning_rate=0.01, classifier__max_depth=1, classifier__n_estimators=20, preprocessor__num__scaler=RobustScaler(); total time= 3.3min\n",
      "[CV] END classifier__learning_rate=0.01, classifier__max_depth=1, classifier__n_estimators=20, preprocessor__num__scaler=MaxAbsScaler(); total time= 3.2min\n",
      "[CV] END classifier__learning_rate=0.01, classifier__max_depth=1, classifier__n_estimators=20, preprocessor__num__scaler=MaxAbsScaler(); total time= 3.2min\n",
      "[CV] END classifier__learning_rate=0.01, classifier__max_depth=1, classifier__n_estimators=20, preprocessor__num__scaler=MaxAbsScaler(); total time= 3.2min\n",
      "[CV] END classifier__learning_rate=0.01, classifier__max_depth=1, classifier__n_estimators=20, preprocessor__num__scaler=MaxAbsScaler(); total time= 3.6min\n",
      "[CV] END classifier__learning_rate=0.01, classifier__max_depth=1, classifier__n_estimators=25, preprocessor__num__scaler=StandardScaler(); total time= 4.2min\n",
      "[CV] END classifier__learning_rate=0.01, classifier__max_depth=1, classifier__n_estimators=25, preprocessor__num__scaler=StandardScaler(); total time= 4.4min\n",
      "[CV] END classifier__learning_rate=0.01, classifier__max_depth=1, classifier__n_estimators=25, preprocessor__num__scaler=StandardScaler(); total time= 4.4min\n",
      "[CV] END classifier__learning_rate=0.01, classifier__max_depth=1, classifier__n_estimators=25, preprocessor__num__scaler=StandardScaler(); total time= 4.4min\n",
      "[CV] END classifier__learning_rate=0.01, classifier__max_depth=1, classifier__n_estimators=25, preprocessor__num__scaler=MinMaxScaler(); total time= 4.5min\n",
      "[CV] END classifier__learning_rate=0.01, classifier__max_depth=1, classifier__n_estimators=25, preprocessor__num__scaler=StandardScaler(); total time= 4.6min\n",
      "[CV] END classifier__learning_rate=0.01, classifier__max_depth=1, classifier__n_estimators=25, preprocessor__num__scaler=MinMaxScaler(); total time= 4.7min\n",
      "[CV] END classifier__learning_rate=0.01, classifier__max_depth=1, classifier__n_estimators=25, preprocessor__num__scaler=MinMaxScaler(); total time= 4.8min\n",
      "[CV] END classifier__learning_rate=0.01, classifier__max_depth=1, classifier__n_estimators=25, preprocessor__num__scaler=MinMaxScaler(); total time= 4.6min\n",
      "[CV] END classifier__learning_rate=0.01, classifier__max_depth=1, classifier__n_estimators=25, preprocessor__num__scaler=RobustScaler(); total time= 4.7min\n",
      "[CV] END classifier__learning_rate=0.01, classifier__max_depth=1, classifier__n_estimators=25, preprocessor__num__scaler=MinMaxScaler(); total time= 4.7min\n",
      "[CV] END classifier__learning_rate=0.01, classifier__max_depth=1, classifier__n_estimators=25, preprocessor__num__scaler=RobustScaler(); total time= 4.7min\n",
      "[CV] END classifier__learning_rate=0.01, classifier__max_depth=1, classifier__n_estimators=25, preprocessor__num__scaler=RobustScaler(); total time= 4.4min\n",
      "[CV] END classifier__learning_rate=0.01, classifier__max_depth=1, classifier__n_estimators=25, preprocessor__num__scaler=RobustScaler(); total time= 4.5min\n",
      "[CV] END classifier__learning_rate=0.01, classifier__max_depth=1, classifier__n_estimators=25, preprocessor__num__scaler=RobustScaler(); total time= 4.4min\n",
      "[CV] END classifier__learning_rate=0.01, classifier__max_depth=1, classifier__n_estimators=25, preprocessor__num__scaler=MaxAbsScaler(); total time= 4.1min\n",
      "[CV] END classifier__learning_rate=0.01, classifier__max_depth=1, classifier__n_estimators=25, preprocessor__num__scaler=MaxAbsScaler(); total time= 3.7min\n",
      "[CV] END classifier__learning_rate=0.01, classifier__max_depth=2, classifier__n_estimators=15, preprocessor__num__scaler=StandardScaler(); total time= 3.0min\n",
      "[CV] END classifier__learning_rate=0.01, classifier__max_depth=2, classifier__n_estimators=15, preprocessor__num__scaler=StandardScaler(); total time= 3.2min\n",
      "[CV] END classifier__learning_rate=0.01, classifier__max_depth=1, classifier__n_estimators=25, preprocessor__num__scaler=MaxAbsScaler(); total time= 4.2min\n",
      "[CV] END classifier__learning_rate=0.01, classifier__max_depth=2, classifier__n_estimators=15, preprocessor__num__scaler=StandardScaler(); total time= 3.2min\n",
      "[CV] END classifier__learning_rate=0.01, classifier__max_depth=1, classifier__n_estimators=25, preprocessor__num__scaler=MaxAbsScaler(); total time= 4.2min\n",
      "[CV] END classifier__learning_rate=0.01, classifier__max_depth=2, classifier__n_estimators=15, preprocessor__num__scaler=StandardScaler(); total time= 3.2min\n",
      "[CV] END classifier__learning_rate=0.01, classifier__max_depth=1, classifier__n_estimators=25, preprocessor__num__scaler=MaxAbsScaler(); total time= 4.3min\n",
      "[CV] END classifier__learning_rate=0.01, classifier__max_depth=2, classifier__n_estimators=15, preprocessor__num__scaler=StandardScaler(); total time= 2.6min\n",
      "[CV] END classifier__learning_rate=0.01, classifier__max_depth=2, classifier__n_estimators=15, preprocessor__num__scaler=MinMaxScaler(); total time= 2.5min\n",
      "[CV] END classifier__learning_rate=0.01, classifier__max_depth=2, classifier__n_estimators=15, preprocessor__num__scaler=MinMaxScaler(); total time= 2.9min\n",
      "[CV] END classifier__learning_rate=0.01, classifier__max_depth=2, classifier__n_estimators=15, preprocessor__num__scaler=MinMaxScaler(); total time= 2.9min\n",
      "[CV] END classifier__learning_rate=0.01, classifier__max_depth=2, classifier__n_estimators=15, preprocessor__num__scaler=MinMaxScaler(); total time= 2.9min\n",
      "[CV] END classifier__learning_rate=0.01, classifier__max_depth=2, classifier__n_estimators=15, preprocessor__num__scaler=MinMaxScaler(); total time= 3.0min\n",
      "[CV] END classifier__learning_rate=0.01, classifier__max_depth=2, classifier__n_estimators=15, preprocessor__num__scaler=RobustScaler(); total time= 2.9min\n",
      "[CV] END classifier__learning_rate=0.01, classifier__max_depth=2, classifier__n_estimators=15, preprocessor__num__scaler=RobustScaler(); total time= 2.9min\n",
      "[CV] END classifier__learning_rate=0.01, classifier__max_depth=2, classifier__n_estimators=15, preprocessor__num__scaler=RobustScaler(); total time= 3.5min\n",
      "[CV] END classifier__learning_rate=0.01, classifier__max_depth=2, classifier__n_estimators=15, preprocessor__num__scaler=RobustScaler(); total time= 3.1min\n",
      "[CV] END classifier__learning_rate=0.01, classifier__max_depth=2, classifier__n_estimators=15, preprocessor__num__scaler=MaxAbsScaler(); total time= 3.1min\n",
      "[CV] END classifier__learning_rate=0.01, classifier__max_depth=2, classifier__n_estimators=15, preprocessor__num__scaler=RobustScaler(); total time= 3.2min\n",
      "[CV] END classifier__learning_rate=0.01, classifier__max_depth=2, classifier__n_estimators=15, preprocessor__num__scaler=MaxAbsScaler(); total time= 3.3min\n",
      "[CV] END classifier__learning_rate=0.01, classifier__max_depth=2, classifier__n_estimators=15, preprocessor__num__scaler=MaxAbsScaler(); total time= 3.4min\n",
      "[CV] END classifier__learning_rate=0.01, classifier__max_depth=2, classifier__n_estimators=15, preprocessor__num__scaler=MaxAbsScaler(); total time= 3.4min\n",
      "[CV] END classifier__learning_rate=0.01, classifier__max_depth=2, classifier__n_estimators=15, preprocessor__num__scaler=MaxAbsScaler(); total time= 3.6min\n",
      "[CV] END classifier__learning_rate=0.01, classifier__max_depth=2, classifier__n_estimators=20, preprocessor__num__scaler=StandardScaler(); total time= 3.4min\n",
      "[CV] END classifier__learning_rate=0.01, classifier__max_depth=2, classifier__n_estimators=20, preprocessor__num__scaler=StandardScaler(); total time= 3.4min\n",
      "[CV] END classifier__learning_rate=0.01, classifier__max_depth=2, classifier__n_estimators=20, preprocessor__num__scaler=StandardScaler(); total time= 3.6min\n",
      "[CV] END classifier__learning_rate=0.01, classifier__max_depth=2, classifier__n_estimators=20, preprocessor__num__scaler=StandardScaler(); total time= 3.6min\n",
      "[CV] END classifier__learning_rate=0.01, classifier__max_depth=2, classifier__n_estimators=20, preprocessor__num__scaler=StandardScaler(); total time= 3.7min\n",
      "[CV] END classifier__learning_rate=0.01, classifier__max_depth=2, classifier__n_estimators=20, preprocessor__num__scaler=MinMaxScaler(); total time= 3.7min\n",
      "[CV] END classifier__learning_rate=0.01, classifier__max_depth=2, classifier__n_estimators=20, preprocessor__num__scaler=MinMaxScaler(); total time= 3.6min\n",
      "[CV] END classifier__learning_rate=0.01, classifier__max_depth=2, classifier__n_estimators=20, preprocessor__num__scaler=MinMaxScaler(); total time= 4.0min\n",
      "[CV] END classifier__learning_rate=0.01, classifier__max_depth=2, classifier__n_estimators=20, preprocessor__num__scaler=MinMaxScaler(); total time= 3.3min\n",
      "[CV] END classifier__learning_rate=0.01, classifier__max_depth=2, classifier__n_estimators=20, preprocessor__num__scaler=MinMaxScaler(); total time= 3.2min\n",
      "[CV] END classifier__learning_rate=0.01, classifier__max_depth=2, classifier__n_estimators=20, preprocessor__num__scaler=RobustScaler(); total time= 3.4min\n",
      "[CV] END classifier__learning_rate=0.01, classifier__max_depth=2, classifier__n_estimators=20, preprocessor__num__scaler=RobustScaler(); total time= 3.5min\n",
      "[CV] END classifier__learning_rate=0.01, classifier__max_depth=2, classifier__n_estimators=20, preprocessor__num__scaler=RobustScaler(); total time= 3.6min\n",
      "[CV] END classifier__learning_rate=0.01, classifier__max_depth=2, classifier__n_estimators=20, preprocessor__num__scaler=RobustScaler(); total time= 3.7min\n",
      "[CV] END classifier__learning_rate=0.01, classifier__max_depth=2, classifier__n_estimators=20, preprocessor__num__scaler=RobustScaler(); total time= 3.7min\n",
      "[CV] END classifier__learning_rate=0.01, classifier__max_depth=2, classifier__n_estimators=20, preprocessor__num__scaler=MaxAbsScaler(); total time= 3.5min\n",
      "[CV] END classifier__learning_rate=0.01, classifier__max_depth=2, classifier__n_estimators=20, preprocessor__num__scaler=MaxAbsScaler(); total time= 3.3min\n",
      "[CV] END classifier__learning_rate=0.01, classifier__max_depth=2, classifier__n_estimators=20, preprocessor__num__scaler=MaxAbsScaler(); total time= 3.3min\n",
      "[CV] END classifier__learning_rate=0.01, classifier__max_depth=2, classifier__n_estimators=20, preprocessor__num__scaler=MaxAbsScaler(); total time= 7.1min\n",
      "[CV] END classifier__learning_rate=0.01, classifier__max_depth=2, classifier__n_estimators=20, preprocessor__num__scaler=MaxAbsScaler(); total time= 7.2min\n",
      "[CV] END classifier__learning_rate=0.01, classifier__max_depth=2, classifier__n_estimators=25, preprocessor__num__scaler=StandardScaler(); total time= 8.1min\n",
      "[CV] END classifier__learning_rate=0.01, classifier__max_depth=2, classifier__n_estimators=25, preprocessor__num__scaler=StandardScaler(); total time= 8.4min\n",
      "[CV] END classifier__learning_rate=0.01, classifier__max_depth=2, classifier__n_estimators=25, preprocessor__num__scaler=StandardScaler(); total time= 8.4min\n",
      "[CV] END classifier__learning_rate=0.01, classifier__max_depth=2, classifier__n_estimators=25, preprocessor__num__scaler=StandardScaler(); total time= 8.4min\n",
      "[CV] END classifier__learning_rate=0.01, classifier__max_depth=2, classifier__n_estimators=25, preprocessor__num__scaler=StandardScaler(); total time= 8.0min\n",
      "[CV] END classifier__learning_rate=0.01, classifier__max_depth=2, classifier__n_estimators=25, preprocessor__num__scaler=MinMaxScaler(); total time= 8.0min\n",
      "[CV] END classifier__learning_rate=0.01, classifier__max_depth=2, classifier__n_estimators=25, preprocessor__num__scaler=MinMaxScaler(); total time= 4.3min\n",
      "[CV] END classifier__learning_rate=0.01, classifier__max_depth=2, classifier__n_estimators=25, preprocessor__num__scaler=MinMaxScaler(); total time= 4.2min\n",
      "[CV] END classifier__learning_rate=0.01, classifier__max_depth=2, classifier__n_estimators=25, preprocessor__num__scaler=MinMaxScaler(); total time= 4.3min\n",
      "[CV] END classifier__learning_rate=0.01, classifier__max_depth=2, classifier__n_estimators=25, preprocessor__num__scaler=MinMaxScaler(); total time= 4.4min\n",
      "[CV] END classifier__learning_rate=0.01, classifier__max_depth=2, classifier__n_estimators=25, preprocessor__num__scaler=RobustScaler(); total time= 4.4min\n",
      "[CV] END classifier__learning_rate=0.01, classifier__max_depth=2, classifier__n_estimators=25, preprocessor__num__scaler=RobustScaler(); total time= 4.5min\n",
      "[CV] END classifier__learning_rate=0.01, classifier__max_depth=2, classifier__n_estimators=25, preprocessor__num__scaler=RobustScaler(); total time= 4.4min\n",
      "[CV] END classifier__learning_rate=0.01, classifier__max_depth=2, classifier__n_estimators=25, preprocessor__num__scaler=RobustScaler(); total time= 4.6min\n",
      "[CV] END classifier__learning_rate=0.01, classifier__max_depth=2, classifier__n_estimators=25, preprocessor__num__scaler=RobustScaler(); total time= 4.4min\n",
      "[CV] END classifier__learning_rate=0.01, classifier__max_depth=2, classifier__n_estimators=25, preprocessor__num__scaler=MaxAbsScaler(); total time= 4.3min\n",
      "[CV] END classifier__learning_rate=0.01, classifier__max_depth=2, classifier__n_estimators=25, preprocessor__num__scaler=MaxAbsScaler(); total time= 4.3min\n",
      "[CV] END classifier__learning_rate=0.01, classifier__max_depth=2, classifier__n_estimators=25, preprocessor__num__scaler=MaxAbsScaler(); total time= 6.3min\n",
      "[CV] END classifier__learning_rate=0.01, classifier__max_depth=3, classifier__n_estimators=15, preprocessor__num__scaler=StandardScaler(); total time= 5.3min\n",
      "[CV] END classifier__learning_rate=0.01, classifier__max_depth=3, classifier__n_estimators=15, preprocessor__num__scaler=StandardScaler(); total time= 5.3min\n",
      "[CV] END classifier__learning_rate=0.01, classifier__max_depth=2, classifier__n_estimators=25, preprocessor__num__scaler=MaxAbsScaler(); total time= 6.4min\n",
      "[CV] END classifier__learning_rate=0.01, classifier__max_depth=2, classifier__n_estimators=25, preprocessor__num__scaler=MaxAbsScaler(); total time= 6.3min\n",
      "[CV] END classifier__learning_rate=0.01, classifier__max_depth=3, classifier__n_estimators=15, preprocessor__num__scaler=StandardScaler(); total time= 4.9min\n",
      "[CV] END classifier__learning_rate=0.01, classifier__max_depth=3, classifier__n_estimators=15, preprocessor__num__scaler=StandardScaler(); total time= 4.9min\n",
      "[CV] END classifier__learning_rate=0.01, classifier__max_depth=3, classifier__n_estimators=15, preprocessor__num__scaler=StandardScaler(); total time= 4.9min\n",
      "[CV] END classifier__learning_rate=0.01, classifier__max_depth=3, classifier__n_estimators=15, preprocessor__num__scaler=MinMaxScaler(); total time= 3.3min\n",
      "[CV] END classifier__learning_rate=0.01, classifier__max_depth=3, classifier__n_estimators=15, preprocessor__num__scaler=MinMaxScaler(); total time= 3.5min\n",
      "[CV] END classifier__learning_rate=0.01, classifier__max_depth=3, classifier__n_estimators=15, preprocessor__num__scaler=MinMaxScaler(); total time= 3.6min\n",
      "[CV] END classifier__learning_rate=0.01, classifier__max_depth=3, classifier__n_estimators=15, preprocessor__num__scaler=MinMaxScaler(); total time= 3.4min\n",
      "[CV] END classifier__learning_rate=0.01, classifier__max_depth=3, classifier__n_estimators=15, preprocessor__num__scaler=MinMaxScaler(); total time= 3.4min\n",
      "[CV] END classifier__learning_rate=0.01, classifier__max_depth=3, classifier__n_estimators=15, preprocessor__num__scaler=RobustScaler(); total time= 3.3min\n",
      "[CV] END classifier__learning_rate=0.01, classifier__max_depth=3, classifier__n_estimators=15, preprocessor__num__scaler=RobustScaler(); total time= 3.3min\n",
      "[CV] END classifier__learning_rate=0.01, classifier__max_depth=3, classifier__n_estimators=15, preprocessor__num__scaler=RobustScaler(); total time= 3.2min\n",
      "[CV] END classifier__learning_rate=0.01, classifier__max_depth=3, classifier__n_estimators=15, preprocessor__num__scaler=RobustScaler(); total time= 3.3min\n",
      "[CV] END classifier__learning_rate=0.01, classifier__max_depth=3, classifier__n_estimators=15, preprocessor__num__scaler=RobustScaler(); total time= 3.5min\n",
      "[CV] END classifier__learning_rate=0.01, classifier__max_depth=3, classifier__n_estimators=15, preprocessor__num__scaler=MaxAbsScaler(); total time= 3.5min\n",
      "[CV] END classifier__learning_rate=0.01, classifier__max_depth=3, classifier__n_estimators=15, preprocessor__num__scaler=MaxAbsScaler(); total time= 3.5min\n",
      "[CV] END classifier__learning_rate=0.01, classifier__max_depth=3, classifier__n_estimators=15, preprocessor__num__scaler=MaxAbsScaler(); total time= 3.5min\n",
      "[CV] END classifier__learning_rate=0.01, classifier__max_depth=3, classifier__n_estimators=15, preprocessor__num__scaler=MaxAbsScaler(); total time= 3.3min\n",
      "[CV] END classifier__learning_rate=0.01, classifier__max_depth=3, classifier__n_estimators=15, preprocessor__num__scaler=MaxAbsScaler(); total time= 3.3min\n",
      "[CV] END classifier__learning_rate=0.01, classifier__max_depth=3, classifier__n_estimators=20, preprocessor__num__scaler=StandardScaler(); total time= 4.0min\n",
      "[CV] END classifier__learning_rate=0.01, classifier__max_depth=3, classifier__n_estimators=20, preprocessor__num__scaler=StandardScaler(); total time= 4.6min\n",
      "[CV] END classifier__learning_rate=0.01, classifier__max_depth=3, classifier__n_estimators=20, preprocessor__num__scaler=StandardScaler(); total time=17.2min\n",
      "[CV] END classifier__learning_rate=0.01, classifier__max_depth=3, classifier__n_estimators=20, preprocessor__num__scaler=StandardScaler(); total time=17.2min\n",
      "[CV] END classifier__learning_rate=0.01, classifier__max_depth=3, classifier__n_estimators=20, preprocessor__num__scaler=MinMaxScaler(); total time=17.1min\n",
      "[CV] END classifier__learning_rate=0.01, classifier__max_depth=3, classifier__n_estimators=20, preprocessor__num__scaler=StandardScaler(); total time=17.2min\n",
      "[CV] END classifier__learning_rate=0.01, classifier__max_depth=3, classifier__n_estimators=20, preprocessor__num__scaler=MinMaxScaler(); total time=17.1min\n",
      "[CV] END classifier__learning_rate=0.01, classifier__max_depth=3, classifier__n_estimators=20, preprocessor__num__scaler=MinMaxScaler(); total time=17.5min\n",
      "[CV] END classifier__learning_rate=0.01, classifier__max_depth=3, classifier__n_estimators=20, preprocessor__num__scaler=MinMaxScaler(); total time=16.7min\n",
      "[CV] END classifier__learning_rate=0.01, classifier__max_depth=3, classifier__n_estimators=20, preprocessor__num__scaler=MinMaxScaler(); total time=16.5min\n",
      "[CV] END classifier__learning_rate=0.01, classifier__max_depth=3, classifier__n_estimators=20, preprocessor__num__scaler=RobustScaler(); total time= 4.5min\n",
      "[CV] END classifier__learning_rate=0.01, classifier__max_depth=3, classifier__n_estimators=20, preprocessor__num__scaler=RobustScaler(); total time= 4.5min\n",
      "[CV] END classifier__learning_rate=0.01, classifier__max_depth=3, classifier__n_estimators=20, preprocessor__num__scaler=RobustScaler(); total time= 4.5min\n",
      "[CV] END classifier__learning_rate=0.01, classifier__max_depth=3, classifier__n_estimators=20, preprocessor__num__scaler=RobustScaler(); total time= 4.4min\n",
      "[CV] END classifier__learning_rate=0.01, classifier__max_depth=3, classifier__n_estimators=20, preprocessor__num__scaler=RobustScaler(); total time= 5.2min\n",
      "[CV] END classifier__learning_rate=0.01, classifier__max_depth=3, classifier__n_estimators=20, preprocessor__num__scaler=MaxAbsScaler(); total time= 4.9min\n",
      "[CV] END classifier__learning_rate=0.01, classifier__max_depth=3, classifier__n_estimators=20, preprocessor__num__scaler=MaxAbsScaler(); total time= 4.1min\n",
      "[CV] END classifier__learning_rate=0.01, classifier__max_depth=3, classifier__n_estimators=20, preprocessor__num__scaler=MaxAbsScaler(); total time= 4.2min\n",
      "[CV] END classifier__learning_rate=0.01, classifier__max_depth=3, classifier__n_estimators=20, preprocessor__num__scaler=MaxAbsScaler(); total time= 4.3min\n",
      "[CV] END classifier__learning_rate=0.01, classifier__max_depth=3, classifier__n_estimators=20, preprocessor__num__scaler=MaxAbsScaler(); total time= 4.3min\n",
      "[CV] END classifier__learning_rate=0.01, classifier__max_depth=3, classifier__n_estimators=25, preprocessor__num__scaler=StandardScaler(); total time= 5.5min\n",
      "[CV] END classifier__learning_rate=0.01, classifier__max_depth=3, classifier__n_estimators=25, preprocessor__num__scaler=StandardScaler(); total time= 5.7min\n",
      "[CV] END classifier__learning_rate=0.01, classifier__max_depth=3, classifier__n_estimators=25, preprocessor__num__scaler=StandardScaler(); total time= 5.5min\n",
      "[CV] END classifier__learning_rate=0.01, classifier__max_depth=3, classifier__n_estimators=25, preprocessor__num__scaler=StandardScaler(); total time= 5.6min\n",
      "[CV] END classifier__learning_rate=0.01, classifier__max_depth=3, classifier__n_estimators=25, preprocessor__num__scaler=StandardScaler(); total time= 5.8min\n",
      "[CV] END classifier__learning_rate=0.01, classifier__max_depth=3, classifier__n_estimators=25, preprocessor__num__scaler=MinMaxScaler(); total time= 5.6min\n",
      "[CV] END classifier__learning_rate=0.01, classifier__max_depth=3, classifier__n_estimators=25, preprocessor__num__scaler=MinMaxScaler(); total time= 5.7min\n",
      "[CV] END classifier__learning_rate=0.01, classifier__max_depth=3, classifier__n_estimators=25, preprocessor__num__scaler=MinMaxScaler(); total time= 5.7min\n",
      "[CV] END classifier__learning_rate=0.01, classifier__max_depth=3, classifier__n_estimators=25, preprocessor__num__scaler=MinMaxScaler(); total time= 5.8min\n",
      "[CV] END classifier__learning_rate=0.01, classifier__max_depth=3, classifier__n_estimators=25, preprocessor__num__scaler=RobustScaler(); total time= 6.2min\n",
      "[CV] END classifier__learning_rate=0.01, classifier__max_depth=3, classifier__n_estimators=25, preprocessor__num__scaler=MinMaxScaler(); total time= 6.9min\n",
      "[CV] END classifier__learning_rate=0.01, classifier__max_depth=3, classifier__n_estimators=25, preprocessor__num__scaler=RobustScaler(); total time= 6.0min\n",
      "[CV] END classifier__learning_rate=0.01, classifier__max_depth=3, classifier__n_estimators=25, preprocessor__num__scaler=RobustScaler(); total time= 5.7min\n",
      "[CV] END classifier__learning_rate=0.01, classifier__max_depth=3, classifier__n_estimators=25, preprocessor__num__scaler=RobustScaler(); total time= 5.4min\n",
      "[CV] END classifier__learning_rate=0.01, classifier__max_depth=3, classifier__n_estimators=25, preprocessor__num__scaler=RobustScaler(); total time= 5.4min\n",
      "[CV] END classifier__learning_rate=0.01, classifier__max_depth=3, classifier__n_estimators=25, preprocessor__num__scaler=MaxAbsScaler(); total time= 5.2min\n",
      "[CV] END classifier__learning_rate=0.05, classifier__max_depth=1, classifier__n_estimators=15, preprocessor__num__scaler=StandardScaler(); total time= 2.2min\n",
      "[CV] END classifier__learning_rate=0.05, classifier__max_depth=1, classifier__n_estimators=15, preprocessor__num__scaler=StandardScaler(); total time= 2.7min\n",
      "[CV] END classifier__learning_rate=0.01, classifier__max_depth=3, classifier__n_estimators=25, preprocessor__num__scaler=MaxAbsScaler(); total time= 5.3min\n",
      "[CV] END classifier__learning_rate=0.05, classifier__max_depth=1, classifier__n_estimators=15, preprocessor__num__scaler=StandardScaler(); total time= 2.4min\n",
      "[CV] END classifier__learning_rate=0.05, classifier__max_depth=1, classifier__n_estimators=15, preprocessor__num__scaler=StandardScaler(); total time= 2.5min\n",
      "[CV] END classifier__learning_rate=0.05, classifier__max_depth=1, classifier__n_estimators=15, preprocessor__num__scaler=StandardScaler(); total time= 2.4min\n",
      "[CV] END classifier__learning_rate=0.01, classifier__max_depth=3, classifier__n_estimators=25, preprocessor__num__scaler=MaxAbsScaler(); total time= 5.8min\n",
      "[CV] END classifier__learning_rate=0.01, classifier__max_depth=3, classifier__n_estimators=25, preprocessor__num__scaler=MaxAbsScaler(); total time= 5.9min\n",
      "[CV] END classifier__learning_rate=0.01, classifier__max_depth=3, classifier__n_estimators=25, preprocessor__num__scaler=MaxAbsScaler(); total time= 5.8min\n",
      "[CV] END classifier__learning_rate=0.05, classifier__max_depth=1, classifier__n_estimators=15, preprocessor__num__scaler=MinMaxScaler(); total time= 2.2min\n",
      "[CV] END classifier__learning_rate=0.05, classifier__max_depth=1, classifier__n_estimators=15, preprocessor__num__scaler=MinMaxScaler(); total time= 2.5min\n",
      "[CV] END classifier__learning_rate=0.05, classifier__max_depth=1, classifier__n_estimators=15, preprocessor__num__scaler=MinMaxScaler(); total time= 2.4min\n",
      "[CV] END classifier__learning_rate=0.05, classifier__max_depth=1, classifier__n_estimators=15, preprocessor__num__scaler=MinMaxScaler(); total time=32.4min\n",
      "[CV] END classifier__learning_rate=0.05, classifier__max_depth=1, classifier__n_estimators=15, preprocessor__num__scaler=MinMaxScaler(); total time=32.6min\n",
      "[CV] END classifier__learning_rate=0.05, classifier__max_depth=1, classifier__n_estimators=15, preprocessor__num__scaler=RobustScaler(); total time=33.3min\n",
      "[CV] END classifier__learning_rate=0.05, classifier__max_depth=1, classifier__n_estimators=15, preprocessor__num__scaler=RobustScaler(); total time=33.7min\n",
      "[CV] END classifier__learning_rate=0.05, classifier__max_depth=1, classifier__n_estimators=15, preprocessor__num__scaler=RobustScaler(); total time=34.1min\n",
      "[CV] END classifier__learning_rate=0.05, classifier__max_depth=1, classifier__n_estimators=15, preprocessor__num__scaler=RobustScaler(); total time=34.6min\n",
      "[CV] END classifier__learning_rate=0.05, classifier__max_depth=1, classifier__n_estimators=15, preprocessor__num__scaler=RobustScaler(); total time=48.7min\n",
      "[CV] END classifier__learning_rate=0.05, classifier__max_depth=1, classifier__n_estimators=15, preprocessor__num__scaler=MaxAbsScaler(); total time=48.8min\n",
      "[CV] END classifier__learning_rate=0.05, classifier__max_depth=1, classifier__n_estimators=15, preprocessor__num__scaler=MaxAbsScaler(); total time=18.7min\n",
      "[CV] END classifier__learning_rate=0.05, classifier__max_depth=1, classifier__n_estimators=15, preprocessor__num__scaler=MaxAbsScaler(); total time=19.0min\n",
      "[CV] END classifier__learning_rate=0.05, classifier__max_depth=1, classifier__n_estimators=15, preprocessor__num__scaler=MaxAbsScaler(); total time=17.9min\n",
      "[CV] END classifier__learning_rate=0.05, classifier__max_depth=1, classifier__n_estimators=15, preprocessor__num__scaler=MaxAbsScaler(); total time=17.4min\n",
      "[CV] END classifier__learning_rate=0.05, classifier__max_depth=1, classifier__n_estimators=20, preprocessor__num__scaler=StandardScaler(); total time=18.1min\n",
      "[CV] END classifier__learning_rate=0.05, classifier__max_depth=1, classifier__n_estimators=20, preprocessor__num__scaler=StandardScaler(); total time=17.3min\n",
      "[CV] END classifier__learning_rate=0.05, classifier__max_depth=1, classifier__n_estimators=20, preprocessor__num__scaler=StandardScaler(); total time= 3.0min\n",
      "[CV] END classifier__learning_rate=0.05, classifier__max_depth=1, classifier__n_estimators=20, preprocessor__num__scaler=StandardScaler(); total time= 2.9min\n",
      "[CV] END classifier__learning_rate=0.05, classifier__max_depth=1, classifier__n_estimators=20, preprocessor__num__scaler=MinMaxScaler(); total time= 2.9min\n",
      "[CV] END classifier__learning_rate=0.05, classifier__max_depth=1, classifier__n_estimators=20, preprocessor__num__scaler=StandardScaler(); total time= 2.9min\n",
      "[CV] END classifier__learning_rate=0.05, classifier__max_depth=1, classifier__n_estimators=20, preprocessor__num__scaler=MinMaxScaler(); total time= 2.9min\n",
      "[CV] END classifier__learning_rate=0.05, classifier__max_depth=1, classifier__n_estimators=20, preprocessor__num__scaler=MinMaxScaler(); total time= 2.7min\n",
      "[CV] END classifier__learning_rate=0.05, classifier__max_depth=1, classifier__n_estimators=20, preprocessor__num__scaler=MinMaxScaler(); total time= 2.7min\n",
      "[CV] END classifier__learning_rate=0.05, classifier__max_depth=1, classifier__n_estimators=20, preprocessor__num__scaler=MinMaxScaler(); total time= 2.7min\n",
      "[CV] END classifier__learning_rate=0.05, classifier__max_depth=1, classifier__n_estimators=20, preprocessor__num__scaler=RobustScaler(); total time= 2.6min\n",
      "[CV] END classifier__learning_rate=0.05, classifier__max_depth=1, classifier__n_estimators=20, preprocessor__num__scaler=RobustScaler(); total time= 2.7min\n",
      "[CV] END classifier__learning_rate=0.05, classifier__max_depth=1, classifier__n_estimators=20, preprocessor__num__scaler=RobustScaler(); total time= 2.9min\n",
      "[CV] END classifier__learning_rate=0.05, classifier__max_depth=1, classifier__n_estimators=20, preprocessor__num__scaler=RobustScaler(); total time= 3.0min\n",
      "[CV] END classifier__learning_rate=0.05, classifier__max_depth=1, classifier__n_estimators=20, preprocessor__num__scaler=RobustScaler(); total time= 3.0min\n",
      "[CV] END classifier__learning_rate=0.05, classifier__max_depth=1, classifier__n_estimators=20, preprocessor__num__scaler=MaxAbsScaler(); total time= 2.8min\n",
      "[CV] END classifier__learning_rate=0.05, classifier__max_depth=1, classifier__n_estimators=20, preprocessor__num__scaler=MaxAbsScaler(); total time= 2.6min\n",
      "[CV] END classifier__learning_rate=0.05, classifier__max_depth=1, classifier__n_estimators=20, preprocessor__num__scaler=MaxAbsScaler(); total time= 2.8min\n",
      "[CV] END classifier__learning_rate=0.05, classifier__max_depth=1, classifier__n_estimators=20, preprocessor__num__scaler=MaxAbsScaler(); total time= 3.1min\n",
      "[CV] END classifier__learning_rate=0.05, classifier__max_depth=1, classifier__n_estimators=20, preprocessor__num__scaler=MaxAbsScaler(); total time= 2.6min\n",
      "[CV] END classifier__learning_rate=0.05, classifier__max_depth=1, classifier__n_estimators=25, preprocessor__num__scaler=StandardScaler(); total time= 3.4min\n",
      "[CV] END classifier__learning_rate=0.05, classifier__max_depth=1, classifier__n_estimators=25, preprocessor__num__scaler=StandardScaler(); total time= 3.4min\n",
      "[CV] END classifier__learning_rate=0.05, classifier__max_depth=1, classifier__n_estimators=25, preprocessor__num__scaler=StandardScaler(); total time= 3.6min\n",
      "[CV] END classifier__learning_rate=0.05, classifier__max_depth=1, classifier__n_estimators=25, preprocessor__num__scaler=StandardScaler(); total time= 3.7min\n",
      "[CV] END classifier__learning_rate=0.05, classifier__max_depth=1, classifier__n_estimators=25, preprocessor__num__scaler=StandardScaler(); total time= 3.3min\n",
      "[CV] END classifier__learning_rate=0.05, classifier__max_depth=1, classifier__n_estimators=25, preprocessor__num__scaler=MinMaxScaler(); total time= 3.3min\n",
      "[CV] END classifier__learning_rate=0.05, classifier__max_depth=1, classifier__n_estimators=25, preprocessor__num__scaler=MinMaxScaler(); total time= 3.4min\n",
      "[CV] END classifier__learning_rate=0.05, classifier__max_depth=1, classifier__n_estimators=25, preprocessor__num__scaler=MinMaxScaler(); total time= 3.3min\n",
      "[CV] END classifier__learning_rate=0.05, classifier__max_depth=1, classifier__n_estimators=25, preprocessor__num__scaler=MinMaxScaler(); total time= 3.6min\n",
      "[CV] END classifier__learning_rate=0.05, classifier__max_depth=1, classifier__n_estimators=25, preprocessor__num__scaler=MinMaxScaler(); total time= 3.6min\n",
      "[CV] END classifier__learning_rate=0.05, classifier__max_depth=1, classifier__n_estimators=25, preprocessor__num__scaler=RobustScaler(); total time= 3.4min\n",
      "[CV] END classifier__learning_rate=0.05, classifier__max_depth=1, classifier__n_estimators=25, preprocessor__num__scaler=RobustScaler(); total time= 3.4min\n",
      "[CV] END classifier__learning_rate=0.05, classifier__max_depth=1, classifier__n_estimators=25, preprocessor__num__scaler=RobustScaler(); total time= 3.4min\n",
      "[CV] END classifier__learning_rate=0.05, classifier__max_depth=1, classifier__n_estimators=25, preprocessor__num__scaler=RobustScaler(); total time= 3.5min\n",
      "[CV] END classifier__learning_rate=0.05, classifier__max_depth=1, classifier__n_estimators=25, preprocessor__num__scaler=RobustScaler(); total time= 3.9min\n",
      "[CV] END classifier__learning_rate=0.05, classifier__max_depth=1, classifier__n_estimators=25, preprocessor__num__scaler=MaxAbsScaler(); total time= 3.4min\n",
      "[CV] END classifier__learning_rate=0.05, classifier__max_depth=2, classifier__n_estimators=15, preprocessor__num__scaler=StandardScaler(); total time= 1.9min\n",
      "[CV] END classifier__learning_rate=0.05, classifier__max_depth=1, classifier__n_estimators=25, preprocessor__num__scaler=MaxAbsScaler(); total time= 3.3min\n",
      "[CV] END classifier__learning_rate=0.05, classifier__max_depth=1, classifier__n_estimators=25, preprocessor__num__scaler=MaxAbsScaler(); total time= 3.5min\n",
      "[CV] END classifier__learning_rate=0.05, classifier__max_depth=2, classifier__n_estimators=15, preprocessor__num__scaler=StandardScaler(); total time= 2.0min\n",
      "[CV] END classifier__learning_rate=0.05, classifier__max_depth=1, classifier__n_estimators=25, preprocessor__num__scaler=MaxAbsScaler(); total time= 3.4min\n",
      "[CV] END classifier__learning_rate=0.05, classifier__max_depth=2, classifier__n_estimators=15, preprocessor__num__scaler=StandardScaler(); total time= 1.9min\n",
      "[CV] END classifier__learning_rate=0.05, classifier__max_depth=1, classifier__n_estimators=25, preprocessor__num__scaler=MaxAbsScaler(); total time= 3.7min\n",
      "[CV] END classifier__learning_rate=0.05, classifier__max_depth=2, classifier__n_estimators=15, preprocessor__num__scaler=StandardScaler(); total time= 2.2min\n",
      "[CV] END classifier__learning_rate=0.05, classifier__max_depth=2, classifier__n_estimators=15, preprocessor__num__scaler=StandardScaler(); total time= 1.8min\n",
      "[CV] END classifier__learning_rate=0.05, classifier__max_depth=2, classifier__n_estimators=15, preprocessor__num__scaler=MinMaxScaler(); total time= 1.8min\n",
      "[CV] END classifier__learning_rate=0.05, classifier__max_depth=2, classifier__n_estimators=15, preprocessor__num__scaler=MinMaxScaler(); total time= 1.9min\n",
      "[CV] END classifier__learning_rate=0.05, classifier__max_depth=2, classifier__n_estimators=15, preprocessor__num__scaler=MinMaxScaler(); total time= 1.8min\n",
      "[CV] END classifier__learning_rate=0.05, classifier__max_depth=2, classifier__n_estimators=15, preprocessor__num__scaler=MinMaxScaler(); total time= 2.0min\n",
      "[CV] END classifier__learning_rate=0.05, classifier__max_depth=2, classifier__n_estimators=15, preprocessor__num__scaler=RobustScaler(); total time= 1.9min\n",
      "[CV] END classifier__learning_rate=0.05, classifier__max_depth=2, classifier__n_estimators=15, preprocessor__num__scaler=MinMaxScaler(); total time= 2.1min\n",
      "[CV] END classifier__learning_rate=0.05, classifier__max_depth=2, classifier__n_estimators=15, preprocessor__num__scaler=RobustScaler(); total time= 1.9min\n",
      "[CV] END classifier__learning_rate=0.05, classifier__max_depth=2, classifier__n_estimators=15, preprocessor__num__scaler=RobustScaler(); total time= 2.0min\n",
      "[CV] END classifier__learning_rate=0.05, classifier__max_depth=2, classifier__n_estimators=15, preprocessor__num__scaler=RobustScaler(); total time= 2.4min\n",
      "[CV] END classifier__learning_rate=0.05, classifier__max_depth=2, classifier__n_estimators=15, preprocessor__num__scaler=RobustScaler(); total time= 8.1min\n",
      "[CV] END classifier__learning_rate=0.05, classifier__max_depth=2, classifier__n_estimators=15, preprocessor__num__scaler=MaxAbsScaler(); total time= 8.2min\n",
      "[CV] END classifier__learning_rate=0.05, classifier__max_depth=2, classifier__n_estimators=15, preprocessor__num__scaler=MaxAbsScaler(); total time= 8.0min\n",
      "[CV] END classifier__learning_rate=0.05, classifier__max_depth=2, classifier__n_estimators=15, preprocessor__num__scaler=MaxAbsScaler(); total time= 8.3min\n",
      "[CV] END classifier__learning_rate=0.05, classifier__max_depth=2, classifier__n_estimators=15, preprocessor__num__scaler=MaxAbsScaler(); total time= 8.4min\n",
      "[CV] END classifier__learning_rate=0.05, classifier__max_depth=2, classifier__n_estimators=15, preprocessor__num__scaler=MaxAbsScaler(); total time= 8.3min\n",
      "[CV] END classifier__learning_rate=0.05, classifier__max_depth=2, classifier__n_estimators=20, preprocessor__num__scaler=StandardScaler(); total time= 8.7min\n",
      "[CV] END classifier__learning_rate=0.05, classifier__max_depth=2, classifier__n_estimators=20, preprocessor__num__scaler=StandardScaler(); total time= 8.1min\n",
      "[CV] END classifier__learning_rate=0.05, classifier__max_depth=2, classifier__n_estimators=20, preprocessor__num__scaler=StandardScaler(); total time= 2.6min\n",
      "[CV] END classifier__learning_rate=0.05, classifier__max_depth=2, classifier__n_estimators=20, preprocessor__num__scaler=StandardScaler(); total time= 2.5min\n",
      "[CV] END classifier__learning_rate=0.05, classifier__max_depth=2, classifier__n_estimators=20, preprocessor__num__scaler=StandardScaler(); total time= 2.5min\n",
      "[CV] END classifier__learning_rate=0.05, classifier__max_depth=2, classifier__n_estimators=20, preprocessor__num__scaler=MinMaxScaler(); total time= 2.5min\n",
      "[CV] END classifier__learning_rate=0.05, classifier__max_depth=2, classifier__n_estimators=20, preprocessor__num__scaler=MinMaxScaler(); total time= 2.5min\n",
      "[CV] END classifier__learning_rate=0.05, classifier__max_depth=2, classifier__n_estimators=20, preprocessor__num__scaler=MinMaxScaler(); total time= 2.5min\n",
      "[CV] END classifier__learning_rate=0.05, classifier__max_depth=2, classifier__n_estimators=20, preprocessor__num__scaler=MinMaxScaler(); total time= 2.5min\n",
      "[CV] END classifier__learning_rate=0.05, classifier__max_depth=2, classifier__n_estimators=20, preprocessor__num__scaler=MinMaxScaler(); total time= 2.6min\n",
      "[CV] END classifier__learning_rate=0.05, classifier__max_depth=2, classifier__n_estimators=20, preprocessor__num__scaler=RobustScaler(); total time= 2.3min\n",
      "[CV] END classifier__learning_rate=0.05, classifier__max_depth=2, classifier__n_estimators=20, preprocessor__num__scaler=RobustScaler(); total time= 2.5min\n",
      "[CV] END classifier__learning_rate=0.05, classifier__max_depth=2, classifier__n_estimators=20, preprocessor__num__scaler=RobustScaler(); total time= 2.5min\n",
      "[CV] END classifier__learning_rate=0.05, classifier__max_depth=2, classifier__n_estimators=20, preprocessor__num__scaler=RobustScaler(); total time= 2.2min\n",
      "[CV] END classifier__learning_rate=0.05, classifier__max_depth=2, classifier__n_estimators=20, preprocessor__num__scaler=RobustScaler(); total time= 2.5min\n",
      "[CV] END classifier__learning_rate=0.05, classifier__max_depth=2, classifier__n_estimators=20, preprocessor__num__scaler=MaxAbsScaler(); total time= 2.6min\n",
      "[CV] END classifier__learning_rate=0.05, classifier__max_depth=2, classifier__n_estimators=20, preprocessor__num__scaler=MaxAbsScaler(); total time= 2.7min\n",
      "[CV] END classifier__learning_rate=0.05, classifier__max_depth=2, classifier__n_estimators=20, preprocessor__num__scaler=MaxAbsScaler(); total time= 2.3min\n",
      "[CV] END classifier__learning_rate=0.05, classifier__max_depth=2, classifier__n_estimators=20, preprocessor__num__scaler=MaxAbsScaler(); total time= 2.6min\n",
      "[CV] END classifier__learning_rate=0.05, classifier__max_depth=2, classifier__n_estimators=20, preprocessor__num__scaler=MaxAbsScaler(); total time= 2.6min\n",
      "[CV] END classifier__learning_rate=0.05, classifier__max_depth=2, classifier__n_estimators=25, preprocessor__num__scaler=StandardScaler(); total time= 3.1min\n",
      "[CV] END classifier__learning_rate=0.05, classifier__max_depth=2, classifier__n_estimators=25, preprocessor__num__scaler=StandardScaler(); total time= 3.2min\n",
      "[CV] END classifier__learning_rate=0.05, classifier__max_depth=2, classifier__n_estimators=25, preprocessor__num__scaler=StandardScaler(); total time= 3.1min\n",
      "[CV] END classifier__learning_rate=0.05, classifier__max_depth=2, classifier__n_estimators=25, preprocessor__num__scaler=StandardScaler(); total time= 3.0min\n",
      "[CV] END classifier__learning_rate=0.05, classifier__max_depth=2, classifier__n_estimators=25, preprocessor__num__scaler=StandardScaler(); total time= 3.1min\n",
      "[CV] END classifier__learning_rate=0.05, classifier__max_depth=2, classifier__n_estimators=25, preprocessor__num__scaler=MinMaxScaler(); total time= 3.1min\n",
      "[CV] END classifier__learning_rate=0.05, classifier__max_depth=2, classifier__n_estimators=25, preprocessor__num__scaler=MinMaxScaler(); total time= 3.3min\n",
      "[CV] END classifier__learning_rate=0.05, classifier__max_depth=2, classifier__n_estimators=25, preprocessor__num__scaler=MinMaxScaler(); total time= 3.3min\n",
      "[CV] END classifier__learning_rate=0.05, classifier__max_depth=2, classifier__n_estimators=25, preprocessor__num__scaler=MinMaxScaler(); total time= 3.4min\n",
      "[CV] END classifier__learning_rate=0.05, classifier__max_depth=2, classifier__n_estimators=25, preprocessor__num__scaler=RobustScaler(); total time= 3.2min\n",
      "[CV] END classifier__learning_rate=0.05, classifier__max_depth=2, classifier__n_estimators=25, preprocessor__num__scaler=MinMaxScaler(); total time= 3.6min\n",
      "[CV] END classifier__learning_rate=0.05, classifier__max_depth=2, classifier__n_estimators=25, preprocessor__num__scaler=RobustScaler(); total time= 3.6min\n",
      "[CV] END classifier__learning_rate=0.05, classifier__max_depth=2, classifier__n_estimators=25, preprocessor__num__scaler=RobustScaler(); total time= 3.6min\n",
      "[CV] END classifier__learning_rate=0.05, classifier__max_depth=2, classifier__n_estimators=25, preprocessor__num__scaler=RobustScaler(); total time= 3.3min\n",
      "[CV] END classifier__learning_rate=0.05, classifier__max_depth=2, classifier__n_estimators=25, preprocessor__num__scaler=RobustScaler(); total time= 6.9min\n",
      "[CV] END classifier__learning_rate=0.05, classifier__max_depth=2, classifier__n_estimators=25, preprocessor__num__scaler=MaxAbsScaler(); total time= 7.1min\n",
      "[CV] END classifier__learning_rate=0.05, classifier__max_depth=2, classifier__n_estimators=25, preprocessor__num__scaler=MaxAbsScaler(); total time= 7.4min\n",
      "[CV] END classifier__learning_rate=0.05, classifier__max_depth=3, classifier__n_estimators=15, preprocessor__num__scaler=StandardScaler(); total time= 6.0min\n",
      "[CV] END classifier__learning_rate=0.05, classifier__max_depth=2, classifier__n_estimators=25, preprocessor__num__scaler=MaxAbsScaler(); total time= 7.4min\n",
      "[CV] END classifier__learning_rate=0.05, classifier__max_depth=3, classifier__n_estimators=15, preprocessor__num__scaler=StandardScaler(); total time= 6.2min\n",
      "[CV] END classifier__learning_rate=0.05, classifier__max_depth=2, classifier__n_estimators=25, preprocessor__num__scaler=MaxAbsScaler(); total time= 7.6min\n",
      "[CV] END classifier__learning_rate=0.05, classifier__max_depth=2, classifier__n_estimators=25, preprocessor__num__scaler=MaxAbsScaler(); total time= 7.4min\n",
      "[CV] END classifier__learning_rate=0.05, classifier__max_depth=3, classifier__n_estimators=15, preprocessor__num__scaler=StandardScaler(); total time= 2.7min\n",
      "[CV] END classifier__learning_rate=0.05, classifier__max_depth=3, classifier__n_estimators=15, preprocessor__num__scaler=StandardScaler(); total time= 2.7min\n",
      "[CV] END classifier__learning_rate=0.05, classifier__max_depth=3, classifier__n_estimators=15, preprocessor__num__scaler=MinMaxScaler(); total time= 2.6min\n",
      "[CV] END classifier__learning_rate=0.05, classifier__max_depth=3, classifier__n_estimators=15, preprocessor__num__scaler=StandardScaler(); total time= 2.7min\n",
      "[CV] END classifier__learning_rate=0.05, classifier__max_depth=3, classifier__n_estimators=15, preprocessor__num__scaler=MinMaxScaler(); total time= 2.6min\n",
      "[CV] END classifier__learning_rate=0.05, classifier__max_depth=3, classifier__n_estimators=15, preprocessor__num__scaler=MinMaxScaler(); total time= 2.5min\n",
      "[CV] END classifier__learning_rate=0.05, classifier__max_depth=3, classifier__n_estimators=15, preprocessor__num__scaler=MinMaxScaler(); total time= 2.5min\n",
      "[CV] END classifier__learning_rate=0.05, classifier__max_depth=3, classifier__n_estimators=15, preprocessor__num__scaler=MinMaxScaler(); total time= 2.5min\n",
      "[CV] END classifier__learning_rate=0.05, classifier__max_depth=3, classifier__n_estimators=15, preprocessor__num__scaler=RobustScaler(); total time= 2.3min\n",
      "[CV] END classifier__learning_rate=0.05, classifier__max_depth=3, classifier__n_estimators=15, preprocessor__num__scaler=RobustScaler(); total time= 2.3min\n",
      "[CV] END classifier__learning_rate=0.05, classifier__max_depth=3, classifier__n_estimators=15, preprocessor__num__scaler=RobustScaler(); total time= 2.2min\n",
      "[CV] END classifier__learning_rate=0.05, classifier__max_depth=3, classifier__n_estimators=15, preprocessor__num__scaler=MaxAbsScaler(); total time= 2.5min\n",
      "[CV] END classifier__learning_rate=0.05, classifier__max_depth=3, classifier__n_estimators=15, preprocessor__num__scaler=MaxAbsScaler(); total time= 2.6min\n",
      "[CV] END classifier__learning_rate=0.05, classifier__max_depth=3, classifier__n_estimators=15, preprocessor__num__scaler=MaxAbsScaler(); total time= 2.5min\n",
      "[CV] END classifier__learning_rate=0.05, classifier__max_depth=3, classifier__n_estimators=15, preprocessor__num__scaler=RobustScaler(); total time= 2.7min\n",
      "[CV] END classifier__learning_rate=0.05, classifier__max_depth=3, classifier__n_estimators=15, preprocessor__num__scaler=RobustScaler(); total time= 3.0min\n",
      "[CV] END classifier__learning_rate=0.05, classifier__max_depth=3, classifier__n_estimators=15, preprocessor__num__scaler=MaxAbsScaler(); total time= 2.4min\n",
      "[CV] END classifier__learning_rate=0.05, classifier__max_depth=3, classifier__n_estimators=15, preprocessor__num__scaler=MaxAbsScaler(); total time= 2.2min\n",
      "[CV] END classifier__learning_rate=0.05, classifier__max_depth=3, classifier__n_estimators=20, preprocessor__num__scaler=StandardScaler(); total time= 3.1min\n",
      "[CV] END classifier__learning_rate=0.05, classifier__max_depth=3, classifier__n_estimators=20, preprocessor__num__scaler=StandardScaler(); total time= 3.5min\n",
      "[CV] END classifier__learning_rate=0.05, classifier__max_depth=3, classifier__n_estimators=20, preprocessor__num__scaler=StandardScaler(); total time= 3.6min\n",
      "[CV] END classifier__learning_rate=0.05, classifier__max_depth=3, classifier__n_estimators=20, preprocessor__num__scaler=MinMaxScaler(); total time= 3.6min\n",
      "[CV] END classifier__learning_rate=0.05, classifier__max_depth=3, classifier__n_estimators=20, preprocessor__num__scaler=StandardScaler(); total time= 3.6min\n",
      "[CV] END classifier__learning_rate=0.05, classifier__max_depth=3, classifier__n_estimators=20, preprocessor__num__scaler=StandardScaler(); total time= 3.7min\n",
      "[CV] END classifier__learning_rate=0.05, classifier__max_depth=3, classifier__n_estimators=20, preprocessor__num__scaler=MinMaxScaler(); total time= 3.4min\n",
      "[CV] END classifier__learning_rate=0.05, classifier__max_depth=3, classifier__n_estimators=20, preprocessor__num__scaler=MinMaxScaler(); total time= 3.4min\n",
      "[CV] END classifier__learning_rate=0.05, classifier__max_depth=3, classifier__n_estimators=20, preprocessor__num__scaler=MinMaxScaler(); total time=12.4min\n",
      "[CV] END classifier__learning_rate=0.05, classifier__max_depth=3, classifier__n_estimators=20, preprocessor__num__scaler=RobustScaler(); total time=50.7min\n",
      "[CV] END classifier__learning_rate=0.05, classifier__max_depth=3, classifier__n_estimators=20, preprocessor__num__scaler=MinMaxScaler(); total time=51.5min\n",
      "[CV] END classifier__learning_rate=0.05, classifier__max_depth=3, classifier__n_estimators=20, preprocessor__num__scaler=RobustScaler(); total time=52.0min\n",
      "[CV] END classifier__learning_rate=0.05, classifier__max_depth=3, classifier__n_estimators=20, preprocessor__num__scaler=RobustScaler(); total time=51.9min\n",
      "[CV] END classifier__learning_rate=0.05, classifier__max_depth=3, classifier__n_estimators=20, preprocessor__num__scaler=RobustScaler(); total time=52.0min\n",
      "[CV] END classifier__learning_rate=0.05, classifier__max_depth=3, classifier__n_estimators=20, preprocessor__num__scaler=RobustScaler(); total time=52.1min\n",
      "[CV] END classifier__learning_rate=0.05, classifier__max_depth=3, classifier__n_estimators=20, preprocessor__num__scaler=MaxAbsScaler(); total time=52.2min\n",
      "[CV] END classifier__learning_rate=0.05, classifier__max_depth=3, classifier__n_estimators=20, preprocessor__num__scaler=MaxAbsScaler(); total time=43.7min\n",
      "[CV] END classifier__learning_rate=0.05, classifier__max_depth=3, classifier__n_estimators=20, preprocessor__num__scaler=MaxAbsScaler(); total time=57.1min\n",
      "[CV] END classifier__learning_rate=0.05, classifier__max_depth=3, classifier__n_estimators=20, preprocessor__num__scaler=MaxAbsScaler(); total time=56.9min\n",
      "[CV] END classifier__learning_rate=0.05, classifier__max_depth=3, classifier__n_estimators=20, preprocessor__num__scaler=MaxAbsScaler(); total time=57.4min\n",
      "[CV] END classifier__learning_rate=0.05, classifier__max_depth=3, classifier__n_estimators=25, preprocessor__num__scaler=StandardScaler(); total time=58.0min\n",
      "[CV] END classifier__learning_rate=0.05, classifier__max_depth=3, classifier__n_estimators=25, preprocessor__num__scaler=StandardScaler(); total time=58.4min\n",
      "[CV] END classifier__learning_rate=0.05, classifier__max_depth=3, classifier__n_estimators=25, preprocessor__num__scaler=StandardScaler(); total time=58.4min\n",
      "[CV] END classifier__learning_rate=0.05, classifier__max_depth=3, classifier__n_estimators=25, preprocessor__num__scaler=StandardScaler(); total time=59.3min\n",
      "[CV] END classifier__learning_rate=0.05, classifier__max_depth=3, classifier__n_estimators=25, preprocessor__num__scaler=StandardScaler(); total time=97.9min\n",
      "[CV] END classifier__learning_rate=0.05, classifier__max_depth=3, classifier__n_estimators=25, preprocessor__num__scaler=MinMaxScaler(); total time=99.5min\n",
      "[CV] END classifier__learning_rate=0.05, classifier__max_depth=3, classifier__n_estimators=25, preprocessor__num__scaler=MinMaxScaler(); total time=113.8min\n",
      "[CV] END classifier__learning_rate=0.05, classifier__max_depth=3, classifier__n_estimators=25, preprocessor__num__scaler=MinMaxScaler(); total time=131.5min\n",
      "[CV] END classifier__learning_rate=0.05, classifier__max_depth=3, classifier__n_estimators=25, preprocessor__num__scaler=MinMaxScaler(); total time=165.5min\n",
      "[CV] END classifier__learning_rate=0.05, classifier__max_depth=3, classifier__n_estimators=25, preprocessor__num__scaler=MinMaxScaler(); total time=181.1min\n",
      "[CV] END classifier__learning_rate=0.05, classifier__max_depth=3, classifier__n_estimators=25, preprocessor__num__scaler=RobustScaler(); total time=180.9min\n",
      "[CV] END classifier__learning_rate=0.05, classifier__max_depth=3, classifier__n_estimators=25, preprocessor__num__scaler=RobustScaler(); total time=230.9min\n",
      "[CV] END classifier__learning_rate=0.05, classifier__max_depth=3, classifier__n_estimators=25, preprocessor__num__scaler=RobustScaler(); total time=190.3min\n",
      "[CV] END classifier__learning_rate=0.05, classifier__max_depth=3, classifier__n_estimators=25, preprocessor__num__scaler=RobustScaler(); total time=207.1min\n",
      "[CV] END classifier__learning_rate=0.05, classifier__max_depth=3, classifier__n_estimators=25, preprocessor__num__scaler=RobustScaler(); total time=209.3min\n",
      "[CV] END classifier__learning_rate=0.1, classifier__max_depth=1, classifier__n_estimators=15, preprocessor__num__scaler=StandardScaler(); total time=92.8min\n",
      "[CV] END classifier__learning_rate=0.05, classifier__max_depth=3, classifier__n_estimators=25, preprocessor__num__scaler=MaxAbsScaler(); total time=160.6min\n",
      "[CV] END classifier__learning_rate=0.05, classifier__max_depth=3, classifier__n_estimators=25, preprocessor__num__scaler=MaxAbsScaler(); total time=196.0min\n",
      "[CV] END classifier__learning_rate=0.05, classifier__max_depth=3, classifier__n_estimators=25, preprocessor__num__scaler=MaxAbsScaler(); total time=144.8min\n",
      "[CV] END classifier__learning_rate=0.05, classifier__max_depth=3, classifier__n_estimators=25, preprocessor__num__scaler=MaxAbsScaler(); total time=144.8min\n",
      "[CV] END classifier__learning_rate=0.05, classifier__max_depth=3, classifier__n_estimators=25, preprocessor__num__scaler=MaxAbsScaler(); total time=93.9min\n",
      "[CV] END classifier__learning_rate=0.1, classifier__max_depth=1, classifier__n_estimators=15, preprocessor__num__scaler=StandardScaler(); total time= 5.3min\n",
      "[CV] END classifier__learning_rate=0.1, classifier__max_depth=1, classifier__n_estimators=15, preprocessor__num__scaler=StandardScaler(); total time=22.9min\n",
      "[CV] END classifier__learning_rate=0.1, classifier__max_depth=1, classifier__n_estimators=15, preprocessor__num__scaler=StandardScaler(); total time= 1.9min\n",
      "[CV] END classifier__learning_rate=0.1, classifier__max_depth=1, classifier__n_estimators=15, preprocessor__num__scaler=StandardScaler(); total time= 2.0min\n",
      "[CV] END classifier__learning_rate=0.1, classifier__max_depth=1, classifier__n_estimators=15, preprocessor__num__scaler=MinMaxScaler(); total time= 1.9min\n",
      "[CV] END classifier__learning_rate=0.1, classifier__max_depth=1, classifier__n_estimators=15, preprocessor__num__scaler=MinMaxScaler(); total time= 2.0min\n",
      "[CV] END classifier__learning_rate=0.1, classifier__max_depth=1, classifier__n_estimators=15, preprocessor__num__scaler=MinMaxScaler(); total time= 1.9min\n",
      "[CV] END classifier__learning_rate=0.1, classifier__max_depth=1, classifier__n_estimators=15, preprocessor__num__scaler=MinMaxScaler(); total time= 1.9min\n",
      "[CV] END classifier__learning_rate=0.1, classifier__max_depth=1, classifier__n_estimators=15, preprocessor__num__scaler=MinMaxScaler(); total time= 2.0min\n",
      "[CV] END classifier__learning_rate=0.1, classifier__max_depth=1, classifier__n_estimators=15, preprocessor__num__scaler=RobustScaler(); total time= 1.9min\n",
      "[CV] END classifier__learning_rate=0.1, classifier__max_depth=1, classifier__n_estimators=15, preprocessor__num__scaler=RobustScaler(); total time= 2.0min\n",
      "[CV] END classifier__learning_rate=0.1, classifier__max_depth=1, classifier__n_estimators=15, preprocessor__num__scaler=RobustScaler(); total time= 1.9min\n",
      "[CV] END classifier__learning_rate=0.1, classifier__max_depth=1, classifier__n_estimators=15, preprocessor__num__scaler=RobustScaler(); total time= 2.0min\n",
      "[CV] END classifier__learning_rate=0.1, classifier__max_depth=1, classifier__n_estimators=15, preprocessor__num__scaler=MaxAbsScaler(); total time= 2.0min\n",
      "[CV] END classifier__learning_rate=0.1, classifier__max_depth=1, classifier__n_estimators=15, preprocessor__num__scaler=RobustScaler(); total time= 2.0min\n",
      "[CV] END classifier__learning_rate=0.1, classifier__max_depth=1, classifier__n_estimators=15, preprocessor__num__scaler=MaxAbsScaler(); total time= 2.0min\n",
      "[CV] END classifier__learning_rate=0.1, classifier__max_depth=1, classifier__n_estimators=15, preprocessor__num__scaler=MaxAbsScaler(); total time= 1.9min\n",
      "[CV] END classifier__learning_rate=0.1, classifier__max_depth=1, classifier__n_estimators=15, preprocessor__num__scaler=MaxAbsScaler(); total time= 2.0min\n",
      "[CV] END classifier__learning_rate=0.1, classifier__max_depth=1, classifier__n_estimators=15, preprocessor__num__scaler=MaxAbsScaler(); total time= 2.0min\n",
      "[CV] END classifier__learning_rate=0.1, classifier__max_depth=1, classifier__n_estimators=20, preprocessor__num__scaler=StandardScaler(); total time= 2.4min\n",
      "[CV] END classifier__learning_rate=0.1, classifier__max_depth=1, classifier__n_estimators=20, preprocessor__num__scaler=StandardScaler(); total time= 2.4min\n",
      "[CV] END classifier__learning_rate=0.1, classifier__max_depth=1, classifier__n_estimators=20, preprocessor__num__scaler=StandardScaler(); total time= 2.6min\n",
      "[CV] END classifier__learning_rate=0.1, classifier__max_depth=1, classifier__n_estimators=20, preprocessor__num__scaler=StandardScaler(); total time= 2.5min\n",
      "[CV] END classifier__learning_rate=0.1, classifier__max_depth=1, classifier__n_estimators=20, preprocessor__num__scaler=StandardScaler(); total time= 3.0min\n",
      "[CV] END classifier__learning_rate=0.1, classifier__max_depth=1, classifier__n_estimators=20, preprocessor__num__scaler=MinMaxScaler(); total time= 2.4min\n",
      "[CV] END classifier__learning_rate=0.1, classifier__max_depth=1, classifier__n_estimators=20, preprocessor__num__scaler=MinMaxScaler(); total time= 2.5min\n",
      "[CV] END classifier__learning_rate=0.1, classifier__max_depth=1, classifier__n_estimators=20, preprocessor__num__scaler=MinMaxScaler(); total time= 2.4min\n",
      "[CV] END classifier__learning_rate=0.1, classifier__max_depth=1, classifier__n_estimators=20, preprocessor__num__scaler=MinMaxScaler(); total time= 2.4min\n",
      "[CV] END classifier__learning_rate=0.1, classifier__max_depth=1, classifier__n_estimators=20, preprocessor__num__scaler=MinMaxScaler(); total time= 2.6min\n",
      "[CV] END classifier__learning_rate=0.1, classifier__max_depth=1, classifier__n_estimators=20, preprocessor__num__scaler=RobustScaler(); total time= 2.5min\n",
      "[CV] END classifier__learning_rate=0.1, classifier__max_depth=1, classifier__n_estimators=20, preprocessor__num__scaler=RobustScaler(); total time= 2.7min\n",
      "[CV] END classifier__learning_rate=0.1, classifier__max_depth=1, classifier__n_estimators=20, preprocessor__num__scaler=RobustScaler(); total time= 2.6min\n",
      "[CV] END classifier__learning_rate=0.1, classifier__max_depth=1, classifier__n_estimators=20, preprocessor__num__scaler=RobustScaler(); total time= 2.5min\n",
      "[CV] END classifier__learning_rate=0.1, classifier__max_depth=1, classifier__n_estimators=20, preprocessor__num__scaler=RobustScaler(); total time= 2.7min\n",
      "[CV] END classifier__learning_rate=0.1, classifier__max_depth=1, classifier__n_estimators=20, preprocessor__num__scaler=MaxAbsScaler(); total time= 3.7min\n",
      "[CV] END classifier__learning_rate=0.1, classifier__max_depth=1, classifier__n_estimators=20, preprocessor__num__scaler=MaxAbsScaler(); total time=51.4min\n",
      "[CV] END classifier__learning_rate=0.1, classifier__max_depth=1, classifier__n_estimators=20, preprocessor__num__scaler=MaxAbsScaler(); total time=69.2min\n",
      "[CV] END classifier__learning_rate=0.1, classifier__max_depth=1, classifier__n_estimators=20, preprocessor__num__scaler=MaxAbsScaler(); total time=74.4min\n",
      "[CV] END classifier__learning_rate=0.1, classifier__max_depth=1, classifier__n_estimators=20, preprocessor__num__scaler=MaxAbsScaler(); total time=74.5min\n",
      "[CV] END classifier__learning_rate=0.1, classifier__max_depth=1, classifier__n_estimators=25, preprocessor__num__scaler=StandardScaler(); total time=75.0min\n",
      "[CV] END classifier__learning_rate=0.1, classifier__max_depth=1, classifier__n_estimators=25, preprocessor__num__scaler=StandardScaler(); total time=74.9min\n",
      "[CV] END classifier__learning_rate=0.1, classifier__max_depth=1, classifier__n_estimators=25, preprocessor__num__scaler=StandardScaler(); total time=75.0min\n",
      "[CV] END classifier__learning_rate=0.1, classifier__max_depth=1, classifier__n_estimators=25, preprocessor__num__scaler=StandardScaler(); total time=74.2min\n",
      "[CV] END classifier__learning_rate=0.1, classifier__max_depth=1, classifier__n_estimators=25, preprocessor__num__scaler=StandardScaler(); total time=26.0min\n",
      "[CV] END classifier__learning_rate=0.1, classifier__max_depth=1, classifier__n_estimators=25, preprocessor__num__scaler=MinMaxScaler(); total time= 8.0min\n",
      "[CV] END classifier__learning_rate=0.1, classifier__max_depth=1, classifier__n_estimators=25, preprocessor__num__scaler=MinMaxScaler(); total time= 3.4min\n",
      "[CV] END classifier__learning_rate=0.1, classifier__max_depth=1, classifier__n_estimators=25, preprocessor__num__scaler=MinMaxScaler(); total time= 3.2min\n",
      "[CV] END classifier__learning_rate=0.1, classifier__max_depth=1, classifier__n_estimators=25, preprocessor__num__scaler=MinMaxScaler(); total time= 2.9min\n",
      "[CV] END classifier__learning_rate=0.1, classifier__max_depth=1, classifier__n_estimators=25, preprocessor__num__scaler=MinMaxScaler(); total time= 3.1min\n",
      "[CV] END classifier__learning_rate=0.1, classifier__max_depth=1, classifier__n_estimators=25, preprocessor__num__scaler=RobustScaler(); total time= 3.1min\n",
      "[CV] END classifier__learning_rate=0.1, classifier__max_depth=1, classifier__n_estimators=25, preprocessor__num__scaler=RobustScaler(); total time= 3.1min\n",
      "[CV] END classifier__learning_rate=0.1, classifier__max_depth=1, classifier__n_estimators=25, preprocessor__num__scaler=RobustScaler(); total time= 3.1min\n",
      "[CV] END classifier__learning_rate=0.1, classifier__max_depth=1, classifier__n_estimators=25, preprocessor__num__scaler=RobustScaler(); total time= 2.9min\n",
      "[CV] END classifier__learning_rate=0.1, classifier__max_depth=1, classifier__n_estimators=25, preprocessor__num__scaler=MaxAbsScaler(); total time= 3.1min\n",
      "[CV] END classifier__learning_rate=0.1, classifier__max_depth=1, classifier__n_estimators=25, preprocessor__num__scaler=RobustScaler(); total time= 3.4min\n",
      "[CV] END classifier__learning_rate=0.1, classifier__max_depth=1, classifier__n_estimators=25, preprocessor__num__scaler=MaxAbsScaler(); total time= 3.3min\n",
      "[CV] END classifier__learning_rate=0.1, classifier__max_depth=1, classifier__n_estimators=25, preprocessor__num__scaler=MaxAbsScaler(); total time= 3.0min\n",
      "[CV] END classifier__learning_rate=0.1, classifier__max_depth=2, classifier__n_estimators=15, preprocessor__num__scaler=StandardScaler(); total time= 1.8min\n",
      "[CV] END classifier__learning_rate=0.1, classifier__max_depth=2, classifier__n_estimators=15, preprocessor__num__scaler=StandardScaler(); total time= 1.9min\n",
      "[CV] END classifier__learning_rate=0.1, classifier__max_depth=1, classifier__n_estimators=25, preprocessor__num__scaler=MaxAbsScaler(); total time= 3.3min\n",
      "[CV] END classifier__learning_rate=0.1, classifier__max_depth=2, classifier__n_estimators=15, preprocessor__num__scaler=StandardScaler(); total time= 1.9min\n",
      "[CV] END classifier__learning_rate=0.1, classifier__max_depth=1, classifier__n_estimators=25, preprocessor__num__scaler=MaxAbsScaler(); total time= 3.3min\n",
      "[CV] END classifier__learning_rate=0.1, classifier__max_depth=2, classifier__n_estimators=15, preprocessor__num__scaler=StandardScaler(); total time= 1.9min\n",
      "[CV] END classifier__learning_rate=0.1, classifier__max_depth=2, classifier__n_estimators=15, preprocessor__num__scaler=StandardScaler(); total time= 1.9min\n",
      "[CV] END classifier__learning_rate=0.1, classifier__max_depth=2, classifier__n_estimators=15, preprocessor__num__scaler=MinMaxScaler(); total time= 2.0min\n",
      "[CV] END classifier__learning_rate=0.1, classifier__max_depth=2, classifier__n_estimators=15, preprocessor__num__scaler=MinMaxScaler(); total time= 1.9min\n",
      "[CV] END classifier__learning_rate=0.1, classifier__max_depth=2, classifier__n_estimators=15, preprocessor__num__scaler=MinMaxScaler(); total time= 1.9min\n",
      "[CV] END classifier__learning_rate=0.1, classifier__max_depth=2, classifier__n_estimators=15, preprocessor__num__scaler=MinMaxScaler(); total time= 1.8min\n",
      "[CV] END classifier__learning_rate=0.1, classifier__max_depth=2, classifier__n_estimators=15, preprocessor__num__scaler=RobustScaler(); total time= 1.7min\n",
      "[CV] END classifier__learning_rate=0.1, classifier__max_depth=2, classifier__n_estimators=15, preprocessor__num__scaler=MinMaxScaler(); total time= 1.8min\n",
      "[CV] END classifier__learning_rate=0.1, classifier__max_depth=2, classifier__n_estimators=15, preprocessor__num__scaler=RobustScaler(); total time= 1.9min\n",
      "[CV] END classifier__learning_rate=0.1, classifier__max_depth=2, classifier__n_estimators=15, preprocessor__num__scaler=RobustScaler(); total time= 1.9min\n",
      "[CV] END classifier__learning_rate=0.1, classifier__max_depth=2, classifier__n_estimators=15, preprocessor__num__scaler=RobustScaler(); total time= 2.0min\n",
      "[CV] END classifier__learning_rate=0.1, classifier__max_depth=2, classifier__n_estimators=15, preprocessor__num__scaler=RobustScaler(); total time= 1.8min\n",
      "[CV] END classifier__learning_rate=0.1, classifier__max_depth=2, classifier__n_estimators=15, preprocessor__num__scaler=MaxAbsScaler(); total time= 2.5min\n",
      "[CV] END classifier__learning_rate=0.1, classifier__max_depth=2, classifier__n_estimators=15, preprocessor__num__scaler=MaxAbsScaler(); total time= 2.6min\n",
      "[CV] END classifier__learning_rate=0.1, classifier__max_depth=2, classifier__n_estimators=15, preprocessor__num__scaler=MaxAbsScaler(); total time= 2.7min\n",
      "[CV] END classifier__learning_rate=0.1, classifier__max_depth=2, classifier__n_estimators=15, preprocessor__num__scaler=MaxAbsScaler(); total time= 2.8min\n",
      "[CV] END classifier__learning_rate=0.1, classifier__max_depth=2, classifier__n_estimators=15, preprocessor__num__scaler=MaxAbsScaler(); total time= 2.8min\n",
      "[CV] END classifier__learning_rate=0.1, classifier__max_depth=2, classifier__n_estimators=20, preprocessor__num__scaler=StandardScaler(); total time= 3.6min\n",
      "[CV] END classifier__learning_rate=0.1, classifier__max_depth=2, classifier__n_estimators=20, preprocessor__num__scaler=StandardScaler(); total time= 3.5min\n",
      "[CV] END classifier__learning_rate=0.1, classifier__max_depth=2, classifier__n_estimators=20, preprocessor__num__scaler=StandardScaler(); total time= 3.5min\n",
      "[CV] END classifier__learning_rate=0.1, classifier__max_depth=2, classifier__n_estimators=20, preprocessor__num__scaler=StandardScaler(); total time= 3.0min\n",
      "[CV] END classifier__learning_rate=0.1, classifier__max_depth=2, classifier__n_estimators=20, preprocessor__num__scaler=StandardScaler(); total time= 2.9min\n",
      "[CV] END classifier__learning_rate=0.1, classifier__max_depth=2, classifier__n_estimators=20, preprocessor__num__scaler=MinMaxScaler(); total time= 2.7min\n",
      "[CV] END classifier__learning_rate=0.1, classifier__max_depth=2, classifier__n_estimators=20, preprocessor__num__scaler=MinMaxScaler(); total time= 2.7min\n",
      "[CV] END classifier__learning_rate=0.1, classifier__max_depth=2, classifier__n_estimators=20, preprocessor__num__scaler=MinMaxScaler(); total time= 2.7min\n",
      "[CV] END classifier__learning_rate=0.1, classifier__max_depth=2, classifier__n_estimators=20, preprocessor__num__scaler=MinMaxScaler(); total time= 2.7min\n",
      "[CV] END classifier__learning_rate=0.1, classifier__max_depth=2, classifier__n_estimators=20, preprocessor__num__scaler=RobustScaler(); total time= 2.6min\n",
      "[CV] END classifier__learning_rate=0.1, classifier__max_depth=2, classifier__n_estimators=20, preprocessor__num__scaler=MinMaxScaler(); total time= 2.7min\n",
      "[CV] END classifier__learning_rate=0.1, classifier__max_depth=2, classifier__n_estimators=20, preprocessor__num__scaler=RobustScaler(); total time= 2.8min\n",
      "[CV] END classifier__learning_rate=0.1, classifier__max_depth=2, classifier__n_estimators=20, preprocessor__num__scaler=RobustScaler(); total time= 2.6min\n",
      "[CV] END classifier__learning_rate=0.1, classifier__max_depth=2, classifier__n_estimators=20, preprocessor__num__scaler=RobustScaler(); total time= 2.5min\n",
      "[CV] END classifier__learning_rate=0.1, classifier__max_depth=2, classifier__n_estimators=20, preprocessor__num__scaler=RobustScaler(); total time= 2.8min\n",
      "[CV] END classifier__learning_rate=0.1, classifier__max_depth=2, classifier__n_estimators=20, preprocessor__num__scaler=MaxAbsScaler(); total time= 2.6min\n",
      "[CV] END classifier__learning_rate=0.1, classifier__max_depth=2, classifier__n_estimators=20, preprocessor__num__scaler=MaxAbsScaler(); total time= 2.5min\n",
      "[CV] END classifier__learning_rate=0.1, classifier__max_depth=2, classifier__n_estimators=20, preprocessor__num__scaler=MaxAbsScaler(); total time= 2.5min\n",
      "[CV] END classifier__learning_rate=0.1, classifier__max_depth=2, classifier__n_estimators=20, preprocessor__num__scaler=MaxAbsScaler(); total time= 2.6min\n",
      "[CV] END classifier__learning_rate=0.1, classifier__max_depth=2, classifier__n_estimators=20, preprocessor__num__scaler=MaxAbsScaler(); total time= 2.6min\n",
      "[CV] END classifier__learning_rate=0.1, classifier__max_depth=2, classifier__n_estimators=25, preprocessor__num__scaler=StandardScaler(); total time= 3.2min\n",
      "[CV] END classifier__learning_rate=0.1, classifier__max_depth=2, classifier__n_estimators=25, preprocessor__num__scaler=StandardScaler(); total time= 3.2min\n",
      "[CV] END classifier__learning_rate=0.1, classifier__max_depth=2, classifier__n_estimators=25, preprocessor__num__scaler=StandardScaler(); total time= 3.3min\n",
      "[CV] END classifier__learning_rate=0.1, classifier__max_depth=2, classifier__n_estimators=25, preprocessor__num__scaler=StandardScaler(); total time= 3.3min\n",
      "[CV] END classifier__learning_rate=0.1, classifier__max_depth=2, classifier__n_estimators=25, preprocessor__num__scaler=StandardScaler(); total time= 3.4min\n",
      "[CV] END classifier__learning_rate=0.1, classifier__max_depth=2, classifier__n_estimators=25, preprocessor__num__scaler=MinMaxScaler(); total time= 3.3min\n",
      "[CV] END classifier__learning_rate=0.1, classifier__max_depth=2, classifier__n_estimators=25, preprocessor__num__scaler=MinMaxScaler(); total time= 3.1min\n",
      "[CV] END classifier__learning_rate=0.1, classifier__max_depth=2, classifier__n_estimators=25, preprocessor__num__scaler=MinMaxScaler(); total time= 3.2min\n",
      "[CV] END classifier__learning_rate=0.1, classifier__max_depth=2, classifier__n_estimators=25, preprocessor__num__scaler=MinMaxScaler(); total time= 3.2min\n",
      "[CV] END classifier__learning_rate=0.1, classifier__max_depth=2, classifier__n_estimators=25, preprocessor__num__scaler=MinMaxScaler(); total time= 3.2min\n",
      "[CV] END classifier__learning_rate=0.1, classifier__max_depth=2, classifier__n_estimators=25, preprocessor__num__scaler=RobustScaler(); total time= 3.1min\n",
      "[CV] END classifier__learning_rate=0.1, classifier__max_depth=2, classifier__n_estimators=25, preprocessor__num__scaler=RobustScaler(); total time= 3.3min\n",
      "[CV] END classifier__learning_rate=0.1, classifier__max_depth=2, classifier__n_estimators=25, preprocessor__num__scaler=RobustScaler(); total time= 3.1min\n",
      "[CV] END classifier__learning_rate=0.1, classifier__max_depth=2, classifier__n_estimators=25, preprocessor__num__scaler=RobustScaler(); total time= 3.2min\n",
      "[CV] END classifier__learning_rate=0.1, classifier__max_depth=2, classifier__n_estimators=25, preprocessor__num__scaler=RobustScaler(); total time= 3.4min\n",
      "[CV] END classifier__learning_rate=0.1, classifier__max_depth=2, classifier__n_estimators=25, preprocessor__num__scaler=MaxAbsScaler(); total time= 3.1min\n",
      "[CV] END classifier__learning_rate=0.1, classifier__max_depth=2, classifier__n_estimators=25, preprocessor__num__scaler=MaxAbsScaler(); total time= 3.0min\n",
      "[CV] END classifier__learning_rate=0.1, classifier__max_depth=2, classifier__n_estimators=25, preprocessor__num__scaler=MaxAbsScaler(); total time= 3.0min\n",
      "[CV] END classifier__learning_rate=0.1, classifier__max_depth=2, classifier__n_estimators=25, preprocessor__num__scaler=MaxAbsScaler(); total time= 3.4min\n",
      "[CV] END classifier__learning_rate=0.1, classifier__max_depth=3, classifier__n_estimators=15, preprocessor__num__scaler=StandardScaler(); total time= 2.2min\n",
      "[CV] END classifier__learning_rate=0.1, classifier__max_depth=3, classifier__n_estimators=15, preprocessor__num__scaler=StandardScaler(); total time= 2.2min\n",
      "[CV] END classifier__learning_rate=0.1, classifier__max_depth=3, classifier__n_estimators=15, preprocessor__num__scaler=StandardScaler(); total time= 2.1min\n",
      "[CV] END classifier__learning_rate=0.1, classifier__max_depth=2, classifier__n_estimators=25, preprocessor__num__scaler=MaxAbsScaler(); total time= 3.4min\n",
      "[CV] END classifier__learning_rate=0.1, classifier__max_depth=3, classifier__n_estimators=15, preprocessor__num__scaler=StandardScaler(); total time= 2.2min\n",
      "[CV] END classifier__learning_rate=0.1, classifier__max_depth=3, classifier__n_estimators=15, preprocessor__num__scaler=StandardScaler(); total time= 2.0min\n",
      "[CV] END classifier__learning_rate=0.1, classifier__max_depth=3, classifier__n_estimators=15, preprocessor__num__scaler=MinMaxScaler(); total time= 2.2min\n",
      "[CV] END classifier__learning_rate=0.1, classifier__max_depth=3, classifier__n_estimators=15, preprocessor__num__scaler=MinMaxScaler(); total time= 2.3min\n",
      "[CV] END classifier__learning_rate=0.1, classifier__max_depth=3, classifier__n_estimators=15, preprocessor__num__scaler=MinMaxScaler(); total time= 2.3min\n",
      "[CV] END classifier__learning_rate=0.1, classifier__max_depth=3, classifier__n_estimators=15, preprocessor__num__scaler=MinMaxScaler(); total time= 2.3min\n",
      "[CV] END classifier__learning_rate=0.1, classifier__max_depth=3, classifier__n_estimators=15, preprocessor__num__scaler=MinMaxScaler(); total time= 2.4min\n",
      "[CV] END classifier__learning_rate=0.1, classifier__max_depth=3, classifier__n_estimators=15, preprocessor__num__scaler=RobustScaler(); total time= 2.3min\n",
      "[CV] END classifier__learning_rate=0.1, classifier__max_depth=3, classifier__n_estimators=15, preprocessor__num__scaler=RobustScaler(); total time= 2.4min\n",
      "[CV] END classifier__learning_rate=0.1, classifier__max_depth=3, classifier__n_estimators=15, preprocessor__num__scaler=RobustScaler(); total time= 2.3min\n",
      "[CV] END classifier__learning_rate=0.1, classifier__max_depth=3, classifier__n_estimators=15, preprocessor__num__scaler=RobustScaler(); total time= 2.1min\n",
      "[CV] END classifier__learning_rate=0.1, classifier__max_depth=3, classifier__n_estimators=15, preprocessor__num__scaler=RobustScaler(); total time= 2.2min\n",
      "[CV] END classifier__learning_rate=0.1, classifier__max_depth=3, classifier__n_estimators=15, preprocessor__num__scaler=MaxAbsScaler(); total time= 2.0min\n",
      "[CV] END classifier__learning_rate=0.1, classifier__max_depth=3, classifier__n_estimators=15, preprocessor__num__scaler=MaxAbsScaler(); total time= 2.1min\n",
      "[CV] END classifier__learning_rate=0.1, classifier__max_depth=3, classifier__n_estimators=15, preprocessor__num__scaler=MaxAbsScaler(); total time= 2.6min\n",
      "[CV] END classifier__learning_rate=0.1, classifier__max_depth=3, classifier__n_estimators=15, preprocessor__num__scaler=MaxAbsScaler(); total time= 2.1min\n",
      "[CV] END classifier__learning_rate=0.1, classifier__max_depth=3, classifier__n_estimators=15, preprocessor__num__scaler=MaxAbsScaler(); total time= 2.1min\n",
      "[CV] END classifier__learning_rate=0.1, classifier__max_depth=3, classifier__n_estimators=20, preprocessor__num__scaler=StandardScaler(); total time= 2.9min\n",
      "[CV] END classifier__learning_rate=0.1, classifier__max_depth=3, classifier__n_estimators=20, preprocessor__num__scaler=StandardScaler(); total time= 3.0min\n",
      "[CV] END classifier__learning_rate=0.1, classifier__max_depth=3, classifier__n_estimators=20, preprocessor__num__scaler=StandardScaler(); total time= 2.8min\n",
      "[CV] END classifier__learning_rate=0.1, classifier__max_depth=3, classifier__n_estimators=20, preprocessor__num__scaler=StandardScaler(); total time= 3.0min\n",
      "[CV] END classifier__learning_rate=0.1, classifier__max_depth=3, classifier__n_estimators=20, preprocessor__num__scaler=StandardScaler(); total time= 3.0min\n",
      "[CV] END classifier__learning_rate=0.1, classifier__max_depth=3, classifier__n_estimators=20, preprocessor__num__scaler=MinMaxScaler(); total time= 2.9min\n",
      "[CV] END classifier__learning_rate=0.1, classifier__max_depth=3, classifier__n_estimators=20, preprocessor__num__scaler=MinMaxScaler(); total time= 3.0min\n",
      "[CV] END classifier__learning_rate=0.1, classifier__max_depth=3, classifier__n_estimators=20, preprocessor__num__scaler=MinMaxScaler(); total time= 3.1min\n",
      "[CV] END classifier__learning_rate=0.1, classifier__max_depth=3, classifier__n_estimators=20, preprocessor__num__scaler=MinMaxScaler(); total time= 2.8min\n",
      "[CV] END classifier__learning_rate=0.1, classifier__max_depth=3, classifier__n_estimators=20, preprocessor__num__scaler=MinMaxScaler(); total time= 2.5min\n",
      "[CV] END classifier__learning_rate=0.1, classifier__max_depth=3, classifier__n_estimators=20, preprocessor__num__scaler=RobustScaler(); total time= 2.7min\n",
      "[CV] END classifier__learning_rate=0.1, classifier__max_depth=3, classifier__n_estimators=20, preprocessor__num__scaler=RobustScaler(); total time= 2.7min\n",
      "[CV] END classifier__learning_rate=0.1, classifier__max_depth=3, classifier__n_estimators=20, preprocessor__num__scaler=RobustScaler(); total time= 2.9min\n",
      "[CV] END classifier__learning_rate=0.1, classifier__max_depth=3, classifier__n_estimators=20, preprocessor__num__scaler=RobustScaler(); total time= 2.9min\n",
      "[CV] END classifier__learning_rate=0.1, classifier__max_depth=3, classifier__n_estimators=20, preprocessor__num__scaler=RobustScaler(); total time= 3.0min\n",
      "[CV] END classifier__learning_rate=0.1, classifier__max_depth=3, classifier__n_estimators=20, preprocessor__num__scaler=MaxAbsScaler(); total time= 3.0min\n",
      "[CV] END classifier__learning_rate=0.1, classifier__max_depth=3, classifier__n_estimators=20, preprocessor__num__scaler=MaxAbsScaler(); total time= 2.7min\n",
      "[CV] END classifier__learning_rate=0.1, classifier__max_depth=3, classifier__n_estimators=20, preprocessor__num__scaler=MaxAbsScaler(); total time= 2.7min\n",
      "[CV] END classifier__learning_rate=0.1, classifier__max_depth=3, classifier__n_estimators=20, preprocessor__num__scaler=MaxAbsScaler(); total time= 3.0min\n",
      "[CV] END classifier__learning_rate=0.1, classifier__max_depth=3, classifier__n_estimators=20, preprocessor__num__scaler=MaxAbsScaler(); total time= 3.0min\n",
      "[CV] END classifier__learning_rate=0.1, classifier__max_depth=3, classifier__n_estimators=25, preprocessor__num__scaler=StandardScaler(); total time= 3.6min\n",
      "[CV] END classifier__learning_rate=0.1, classifier__max_depth=3, classifier__n_estimators=25, preprocessor__num__scaler=StandardScaler(); total time= 3.6min\n",
      "[CV] END classifier__learning_rate=0.1, classifier__max_depth=3, classifier__n_estimators=25, preprocessor__num__scaler=StandardScaler(); total time= 3.7min\n",
      "[CV] END classifier__learning_rate=0.1, classifier__max_depth=3, classifier__n_estimators=25, preprocessor__num__scaler=StandardScaler(); total time= 3.8min\n",
      "[CV] END classifier__learning_rate=0.1, classifier__max_depth=3, classifier__n_estimators=25, preprocessor__num__scaler=StandardScaler(); total time= 3.4min\n",
      "[CV] END classifier__learning_rate=0.1, classifier__max_depth=3, classifier__n_estimators=25, preprocessor__num__scaler=MinMaxScaler(); total time= 3.5min\n",
      "[CV] END classifier__learning_rate=0.1, classifier__max_depth=3, classifier__n_estimators=25, preprocessor__num__scaler=MinMaxScaler(); total time= 3.6min\n",
      "[CV] END classifier__learning_rate=0.1, classifier__max_depth=3, classifier__n_estimators=25, preprocessor__num__scaler=MinMaxScaler(); total time= 3.7min\n",
      "[CV] END classifier__learning_rate=0.1, classifier__max_depth=3, classifier__n_estimators=25, preprocessor__num__scaler=MinMaxScaler(); total time= 3.1min\n",
      "[CV] END classifier__learning_rate=0.1, classifier__max_depth=3, classifier__n_estimators=25, preprocessor__num__scaler=MinMaxScaler(); total time= 3.6min\n",
      "[CV] END classifier__learning_rate=0.1, classifier__max_depth=3, classifier__n_estimators=25, preprocessor__num__scaler=RobustScaler(); total time= 3.2min\n",
      "[CV] END classifier__learning_rate=0.1, classifier__max_depth=3, classifier__n_estimators=25, preprocessor__num__scaler=RobustScaler(); total time= 3.2min\n",
      "[CV] END classifier__learning_rate=0.1, classifier__max_depth=3, classifier__n_estimators=25, preprocessor__num__scaler=RobustScaler(); total time= 3.5min\n",
      "[CV] END classifier__learning_rate=0.1, classifier__max_depth=3, classifier__n_estimators=25, preprocessor__num__scaler=RobustScaler(); total time= 4.2min\n",
      "[CV] END classifier__learning_rate=0.1, classifier__max_depth=3, classifier__n_estimators=25, preprocessor__num__scaler=MaxAbsScaler(); total time= 3.4min\n",
      "[CV] END classifier__learning_rate=0.1, classifier__max_depth=3, classifier__n_estimators=25, preprocessor__num__scaler=RobustScaler(); total time= 3.5min\n",
      "[CV] END classifier__learning_rate=0.1, classifier__max_depth=3, classifier__n_estimators=25, preprocessor__num__scaler=MaxAbsScaler(); total time= 2.9min\n",
      "[CV] END classifier__learning_rate=0.1, classifier__max_depth=3, classifier__n_estimators=25, preprocessor__num__scaler=MaxAbsScaler(); total time= 3.0min\n",
      "[CV] END classifier__learning_rate=0.1, classifier__max_depth=3, classifier__n_estimators=25, preprocessor__num__scaler=MaxAbsScaler(); total time= 2.8min\n",
      "[CV] END classifier__learning_rate=0.1, classifier__max_depth=3, classifier__n_estimators=25, preprocessor__num__scaler=MaxAbsScaler(); total time= 3.2min\n"
     ]
    },
    {
     "data": {
      "text/html": [
       "<style>#sk-container-id-7 {color: black;background-color: white;}#sk-container-id-7 pre{padding: 0;}#sk-container-id-7 div.sk-toggleable {background-color: white;}#sk-container-id-7 label.sk-toggleable__label {cursor: pointer;display: block;width: 100%;margin-bottom: 0;padding: 0.3em;box-sizing: border-box;text-align: center;}#sk-container-id-7 label.sk-toggleable__label-arrow:before {content: \"▸\";float: left;margin-right: 0.25em;color: #696969;}#sk-container-id-7 label.sk-toggleable__label-arrow:hover:before {color: black;}#sk-container-id-7 div.sk-estimator:hover label.sk-toggleable__label-arrow:before {color: black;}#sk-container-id-7 div.sk-toggleable__content {max-height: 0;max-width: 0;overflow: hidden;text-align: left;background-color: #f0f8ff;}#sk-container-id-7 div.sk-toggleable__content pre {margin: 0.2em;color: black;border-radius: 0.25em;background-color: #f0f8ff;}#sk-container-id-7 input.sk-toggleable__control:checked~div.sk-toggleable__content {max-height: 200px;max-width: 100%;overflow: auto;}#sk-container-id-7 input.sk-toggleable__control:checked~label.sk-toggleable__label-arrow:before {content: \"▾\";}#sk-container-id-7 div.sk-estimator input.sk-toggleable__control:checked~label.sk-toggleable__label {background-color: #d4ebff;}#sk-container-id-7 div.sk-label input.sk-toggleable__control:checked~label.sk-toggleable__label {background-color: #d4ebff;}#sk-container-id-7 input.sk-hidden--visually {border: 0;clip: rect(1px 1px 1px 1px);clip: rect(1px, 1px, 1px, 1px);height: 1px;margin: -1px;overflow: hidden;padding: 0;position: absolute;width: 1px;}#sk-container-id-7 div.sk-estimator {font-family: monospace;background-color: #f0f8ff;border: 1px dotted black;border-radius: 0.25em;box-sizing: border-box;margin-bottom: 0.5em;}#sk-container-id-7 div.sk-estimator:hover {background-color: #d4ebff;}#sk-container-id-7 div.sk-parallel-item::after {content: \"\";width: 100%;border-bottom: 1px solid gray;flex-grow: 1;}#sk-container-id-7 div.sk-label:hover label.sk-toggleable__label {background-color: #d4ebff;}#sk-container-id-7 div.sk-serial::before {content: \"\";position: absolute;border-left: 1px solid gray;box-sizing: border-box;top: 0;bottom: 0;left: 50%;z-index: 0;}#sk-container-id-7 div.sk-serial {display: flex;flex-direction: column;align-items: center;background-color: white;padding-right: 0.2em;padding-left: 0.2em;position: relative;}#sk-container-id-7 div.sk-item {position: relative;z-index: 1;}#sk-container-id-7 div.sk-parallel {display: flex;align-items: stretch;justify-content: center;background-color: white;position: relative;}#sk-container-id-7 div.sk-item::before, #sk-container-id-7 div.sk-parallel-item::before {content: \"\";position: absolute;border-left: 1px solid gray;box-sizing: border-box;top: 0;bottom: 0;left: 50%;z-index: -1;}#sk-container-id-7 div.sk-parallel-item {display: flex;flex-direction: column;z-index: 1;position: relative;background-color: white;}#sk-container-id-7 div.sk-parallel-item:first-child::after {align-self: flex-end;width: 50%;}#sk-container-id-7 div.sk-parallel-item:last-child::after {align-self: flex-start;width: 50%;}#sk-container-id-7 div.sk-parallel-item:only-child::after {width: 0;}#sk-container-id-7 div.sk-dashed-wrapped {border: 1px dashed gray;margin: 0 0.4em 0.5em 0.4em;box-sizing: border-box;padding-bottom: 0.4em;background-color: white;}#sk-container-id-7 div.sk-label label {font-family: monospace;font-weight: bold;display: inline-block;line-height: 1.2em;}#sk-container-id-7 div.sk-label-container {text-align: center;}#sk-container-id-7 div.sk-container {/* jupyter's `normalize.less` sets `[hidden] { display: none; }` but bootstrap.min.css set `[hidden] { display: none !important; }` so we also need the `!important` here to be able to override the default hidden behavior on the sphinx rendered scikit-learn.org. See: https://github.com/scikit-learn/scikit-learn/issues/21755 */display: inline-block !important;position: relative;}#sk-container-id-7 div.sk-text-repr-fallback {display: none;}</style><div id=\"sk-container-id-7\" class=\"sk-top-container\"><div class=\"sk-text-repr-fallback\"><pre>GridSearchCV(cv=5,\n",
       "             estimator=Pipeline(steps=[(&#x27;preprocessor&#x27;,\n",
       "                                        ColumnTransformer(transformers=[(&#x27;num&#x27;,\n",
       "                                                                         Pipeline(steps=[(&#x27;scaler&#x27;,\n",
       "                                                                                          StandardScaler())]),\n",
       "                                                                         Index([&#x27;built_year&#x27;, &#x27;num_beds&#x27;, &#x27;num_baths&#x27;, &#x27;available_unit_types&#x27;,\n",
       "       &#x27;total_num_units&#x27;, &#x27;cc_distance&#x27;, &#x27;mrt_distance&#x27;,\n",
       "       &#x27;primary_school_distance&#x27;, &#x27;secondary_school_distance&#x27;, &#x27;shop_distance&#x27;,\n",
       "       &#x27;population&#x27;, &#x27;area_siz...\n",
       "                                                                         Index([&#x27;property_type&#x27;, &#x27;tenure&#x27;, &#x27;furnishing&#x27;, &#x27;region&#x27;], dtype=&#x27;object&#x27;))])),\n",
       "                                       (&#x27;classifier&#x27;, LGBMClassifier())]),\n",
       "             n_jobs=-1,\n",
       "             param_grid={&#x27;classifier__learning_rate&#x27;: [0.01, 0.05, 0.1],\n",
       "                         &#x27;classifier__max_depth&#x27;: [1, 2, 3],\n",
       "                         &#x27;classifier__n_estimators&#x27;: [15, 20, 25],\n",
       "                         &#x27;preprocessor__num__scaler&#x27;: [StandardScaler(),\n",
       "                                                       MinMaxScaler(),\n",
       "                                                       RobustScaler(),\n",
       "                                                       MaxAbsScaler()]},\n",
       "             scoring=&#x27;neg_mean_squared_error&#x27;, verbose=2)</pre><b>In a Jupyter environment, please rerun this cell to show the HTML representation or trust the notebook. <br />On GitHub, the HTML representation is unable to render, please try loading this page with nbviewer.org.</b></div><div class=\"sk-container\" hidden><div class=\"sk-item sk-dashed-wrapped\"><div class=\"sk-label-container\"><div class=\"sk-label sk-toggleable\"><input class=\"sk-toggleable__control sk-hidden--visually\" id=\"sk-estimator-id-29\" type=\"checkbox\" ><label for=\"sk-estimator-id-29\" class=\"sk-toggleable__label sk-toggleable__label-arrow\">GridSearchCV</label><div class=\"sk-toggleable__content\"><pre>GridSearchCV(cv=5,\n",
       "             estimator=Pipeline(steps=[(&#x27;preprocessor&#x27;,\n",
       "                                        ColumnTransformer(transformers=[(&#x27;num&#x27;,\n",
       "                                                                         Pipeline(steps=[(&#x27;scaler&#x27;,\n",
       "                                                                                          StandardScaler())]),\n",
       "                                                                         Index([&#x27;built_year&#x27;, &#x27;num_beds&#x27;, &#x27;num_baths&#x27;, &#x27;available_unit_types&#x27;,\n",
       "       &#x27;total_num_units&#x27;, &#x27;cc_distance&#x27;, &#x27;mrt_distance&#x27;,\n",
       "       &#x27;primary_school_distance&#x27;, &#x27;secondary_school_distance&#x27;, &#x27;shop_distance&#x27;,\n",
       "       &#x27;population&#x27;, &#x27;area_siz...\n",
       "                                                                         Index([&#x27;property_type&#x27;, &#x27;tenure&#x27;, &#x27;furnishing&#x27;, &#x27;region&#x27;], dtype=&#x27;object&#x27;))])),\n",
       "                                       (&#x27;classifier&#x27;, LGBMClassifier())]),\n",
       "             n_jobs=-1,\n",
       "             param_grid={&#x27;classifier__learning_rate&#x27;: [0.01, 0.05, 0.1],\n",
       "                         &#x27;classifier__max_depth&#x27;: [1, 2, 3],\n",
       "                         &#x27;classifier__n_estimators&#x27;: [15, 20, 25],\n",
       "                         &#x27;preprocessor__num__scaler&#x27;: [StandardScaler(),\n",
       "                                                       MinMaxScaler(),\n",
       "                                                       RobustScaler(),\n",
       "                                                       MaxAbsScaler()]},\n",
       "             scoring=&#x27;neg_mean_squared_error&#x27;, verbose=2)</pre></div></div></div><div class=\"sk-parallel\"><div class=\"sk-parallel-item\"><div class=\"sk-item\"><div class=\"sk-label-container\"><div class=\"sk-label sk-toggleable\"><input class=\"sk-toggleable__control sk-hidden--visually\" id=\"sk-estimator-id-30\" type=\"checkbox\" ><label for=\"sk-estimator-id-30\" class=\"sk-toggleable__label sk-toggleable__label-arrow\">estimator: Pipeline</label><div class=\"sk-toggleable__content\"><pre>Pipeline(steps=[(&#x27;preprocessor&#x27;,\n",
       "                 ColumnTransformer(transformers=[(&#x27;num&#x27;,\n",
       "                                                  Pipeline(steps=[(&#x27;scaler&#x27;,\n",
       "                                                                   StandardScaler())]),\n",
       "                                                  Index([&#x27;built_year&#x27;, &#x27;num_beds&#x27;, &#x27;num_baths&#x27;, &#x27;available_unit_types&#x27;,\n",
       "       &#x27;total_num_units&#x27;, &#x27;cc_distance&#x27;, &#x27;mrt_distance&#x27;,\n",
       "       &#x27;primary_school_distance&#x27;, &#x27;secondary_school_distance&#x27;, &#x27;shop_distance&#x27;,\n",
       "       &#x27;population&#x27;, &#x27;area_size&#x27;, &#x27;log_size_sqft&#x27;],\n",
       "      dtype=&#x27;object&#x27;)),\n",
       "                                                 (&#x27;cat&#x27;,\n",
       "                                                  OneHotEncoder(handle_unknown=&#x27;ignore&#x27;),\n",
       "                                                  Index([&#x27;property_type&#x27;, &#x27;tenure&#x27;, &#x27;furnishing&#x27;, &#x27;region&#x27;], dtype=&#x27;object&#x27;))])),\n",
       "                (&#x27;classifier&#x27;, LGBMClassifier())])</pre></div></div></div><div class=\"sk-serial\"><div class=\"sk-item\"><div class=\"sk-serial\"><div class=\"sk-item sk-dashed-wrapped\"><div class=\"sk-label-container\"><div class=\"sk-label sk-toggleable\"><input class=\"sk-toggleable__control sk-hidden--visually\" id=\"sk-estimator-id-31\" type=\"checkbox\" ><label for=\"sk-estimator-id-31\" class=\"sk-toggleable__label sk-toggleable__label-arrow\">preprocessor: ColumnTransformer</label><div class=\"sk-toggleable__content\"><pre>ColumnTransformer(transformers=[(&#x27;num&#x27;,\n",
       "                                 Pipeline(steps=[(&#x27;scaler&#x27;, StandardScaler())]),\n",
       "                                 Index([&#x27;built_year&#x27;, &#x27;num_beds&#x27;, &#x27;num_baths&#x27;, &#x27;available_unit_types&#x27;,\n",
       "       &#x27;total_num_units&#x27;, &#x27;cc_distance&#x27;, &#x27;mrt_distance&#x27;,\n",
       "       &#x27;primary_school_distance&#x27;, &#x27;secondary_school_distance&#x27;, &#x27;shop_distance&#x27;,\n",
       "       &#x27;population&#x27;, &#x27;area_size&#x27;, &#x27;log_size_sqft&#x27;],\n",
       "      dtype=&#x27;object&#x27;)),\n",
       "                                (&#x27;cat&#x27;, OneHotEncoder(handle_unknown=&#x27;ignore&#x27;),\n",
       "                                 Index([&#x27;property_type&#x27;, &#x27;tenure&#x27;, &#x27;furnishing&#x27;, &#x27;region&#x27;], dtype=&#x27;object&#x27;))])</pre></div></div></div><div class=\"sk-parallel\"><div class=\"sk-parallel-item\"><div class=\"sk-item\"><div class=\"sk-label-container\"><div class=\"sk-label sk-toggleable\"><input class=\"sk-toggleable__control sk-hidden--visually\" id=\"sk-estimator-id-32\" type=\"checkbox\" ><label for=\"sk-estimator-id-32\" class=\"sk-toggleable__label sk-toggleable__label-arrow\">num</label><div class=\"sk-toggleable__content\"><pre>Index([&#x27;built_year&#x27;, &#x27;num_beds&#x27;, &#x27;num_baths&#x27;, &#x27;available_unit_types&#x27;,\n",
       "       &#x27;total_num_units&#x27;, &#x27;cc_distance&#x27;, &#x27;mrt_distance&#x27;,\n",
       "       &#x27;primary_school_distance&#x27;, &#x27;secondary_school_distance&#x27;, &#x27;shop_distance&#x27;,\n",
       "       &#x27;population&#x27;, &#x27;area_size&#x27;, &#x27;log_size_sqft&#x27;],\n",
       "      dtype=&#x27;object&#x27;)</pre></div></div></div><div class=\"sk-serial\"><div class=\"sk-item\"><div class=\"sk-serial\"><div class=\"sk-item\"><div class=\"sk-estimator sk-toggleable\"><input class=\"sk-toggleable__control sk-hidden--visually\" id=\"sk-estimator-id-33\" type=\"checkbox\" ><label for=\"sk-estimator-id-33\" class=\"sk-toggleable__label sk-toggleable__label-arrow\">StandardScaler</label><div class=\"sk-toggleable__content\"><pre>StandardScaler()</pre></div></div></div></div></div></div></div></div><div class=\"sk-parallel-item\"><div class=\"sk-item\"><div class=\"sk-label-container\"><div class=\"sk-label sk-toggleable\"><input class=\"sk-toggleable__control sk-hidden--visually\" id=\"sk-estimator-id-34\" type=\"checkbox\" ><label for=\"sk-estimator-id-34\" class=\"sk-toggleable__label sk-toggleable__label-arrow\">cat</label><div class=\"sk-toggleable__content\"><pre>Index([&#x27;property_type&#x27;, &#x27;tenure&#x27;, &#x27;furnishing&#x27;, &#x27;region&#x27;], dtype=&#x27;object&#x27;)</pre></div></div></div><div class=\"sk-serial\"><div class=\"sk-item\"><div class=\"sk-estimator sk-toggleable\"><input class=\"sk-toggleable__control sk-hidden--visually\" id=\"sk-estimator-id-35\" type=\"checkbox\" ><label for=\"sk-estimator-id-35\" class=\"sk-toggleable__label sk-toggleable__label-arrow\">OneHotEncoder</label><div class=\"sk-toggleable__content\"><pre>OneHotEncoder(handle_unknown=&#x27;ignore&#x27;)</pre></div></div></div></div></div></div></div></div><div class=\"sk-item\"><div class=\"sk-estimator sk-toggleable\"><input class=\"sk-toggleable__control sk-hidden--visually\" id=\"sk-estimator-id-36\" type=\"checkbox\" ><label for=\"sk-estimator-id-36\" class=\"sk-toggleable__label sk-toggleable__label-arrow\">LGBMClassifier</label><div class=\"sk-toggleable__content\"><pre>LGBMClassifier()</pre></div></div></div></div></div></div></div></div></div></div></div></div>"
      ],
      "text/plain": [
       "GridSearchCV(cv=5,\n",
       "             estimator=Pipeline(steps=[('preprocessor',\n",
       "                                        ColumnTransformer(transformers=[('num',\n",
       "                                                                         Pipeline(steps=[('scaler',\n",
       "                                                                                          StandardScaler())]),\n",
       "                                                                         Index(['built_year', 'num_beds', 'num_baths', 'available_unit_types',\n",
       "       'total_num_units', 'cc_distance', 'mrt_distance',\n",
       "       'primary_school_distance', 'secondary_school_distance', 'shop_distance',\n",
       "       'population', 'area_siz...\n",
       "                                                                         Index(['property_type', 'tenure', 'furnishing', 'region'], dtype='object'))])),\n",
       "                                       ('classifier', LGBMClassifier())]),\n",
       "             n_jobs=-1,\n",
       "             param_grid={'classifier__learning_rate': [0.01, 0.05, 0.1],\n",
       "                         'classifier__max_depth': [1, 2, 3],\n",
       "                         'classifier__n_estimators': [15, 20, 25],\n",
       "                         'preprocessor__num__scaler': [StandardScaler(),\n",
       "                                                       MinMaxScaler(),\n",
       "                                                       RobustScaler(),\n",
       "                                                       MaxAbsScaler()]},\n",
       "             scoring='neg_mean_squared_error', verbose=2)"
      ]
     },
     "execution_count": 1168,
     "metadata": {},
     "output_type": "execute_result"
    }
   ],
   "source": [
    "grid_LGB = GridSearchCV(clf, param_grid, cv = 5, scoring = 'neg_mean_squared_error', verbose = 2, n_jobs=-1) \n",
    "\n",
    "\n",
    "grid_LGB.fit(x_train, y_train)"
   ]
  },
  {
   "cell_type": "code",
   "execution_count": 1169,
   "metadata": {},
   "outputs": [
    {
     "data": {
      "text/plain": [
       "{'classifier__learning_rate': 0.01,\n",
       " 'classifier__max_depth': 2,\n",
       " 'classifier__n_estimators': 25,\n",
       " 'preprocessor__num__scaler': StandardScaler()}"
      ]
     },
     "execution_count": 1169,
     "metadata": {},
     "output_type": "execute_result"
    }
   ],
   "source": [
    "grid_LGB.best_params_"
   ]
  },
  {
   "cell_type": "markdown",
   "metadata": {},
   "source": [
    "### Random Forest"
   ]
  },
  {
   "cell_type": "code",
   "execution_count": 1178,
   "metadata": {},
   "outputs": [],
   "source": [
    "from sklearn.ensemble import RandomForestRegressor\n",
    "rf = Pipeline(\n",
    "    steps=[(\"preprocessor\", preprocessor), (\"classifier\", RandomForestRegressor(random_state=2022))]\n",
    ")\n",
    "\n",
    "param_grid = {'preprocessor__num__scaler': [StandardScaler(), MinMaxScaler(), RobustScaler(), MaxAbsScaler()], \n",
    "              'classifier__n_estimators': list(range(50,150,50)),\n",
    "              'classifier__min_samples_split': list(range(2,6,2)),\n",
    "              'classifier__min_samples_leaf': list(range(1,4,1)),\n",
    "              'classifier__max_depth': list(range(1,4,1)),\n",
    "              'classifier__criterion': ['squared_error','absolute_error','poisson']\n",
    "}"
   ]
  },
  {
   "cell_type": "code",
   "execution_count": 1179,
   "metadata": {},
   "outputs": [
    {
     "name": "stdout",
     "output_type": "stream",
     "text": [
      "Fitting 5 folds for each of 10 candidates, totalling 50 fits\n",
      "[CV] END classifier__criterion=squared_error, classifier__max_depth=3, classifier__min_samples_leaf=2, classifier__min_samples_split=4, classifier__n_estimators=100, preprocessor__num__scaler=StandardScaler(); total time=   4.6s\n",
      "[CV] END classifier__criterion=squared_error, classifier__max_depth=3, classifier__min_samples_leaf=2, classifier__min_samples_split=4, classifier__n_estimators=100, preprocessor__num__scaler=StandardScaler(); total time=   4.8s\n",
      "[CV] END classifier__criterion=squared_error, classifier__max_depth=3, classifier__min_samples_leaf=2, classifier__min_samples_split=4, classifier__n_estimators=100, preprocessor__num__scaler=StandardScaler(); total time=   4.9s\n",
      "[CV] END classifier__criterion=poisson, classifier__max_depth=1, classifier__min_samples_leaf=3, classifier__min_samples_split=4, classifier__n_estimators=100, preprocessor__num__scaler=MinMaxScaler(); total time=   2.3s\n",
      "[CV] END classifier__criterion=poisson, classifier__max_depth=1, classifier__min_samples_leaf=3, classifier__min_samples_split=4, classifier__n_estimators=100, preprocessor__num__scaler=MinMaxScaler(); total time=   2.2s\n",
      "[CV] END classifier__criterion=squared_error, classifier__max_depth=3, classifier__min_samples_leaf=2, classifier__min_samples_split=4, classifier__n_estimators=100, preprocessor__num__scaler=StandardScaler(); total time=   4.8s\n",
      "[CV] END classifier__criterion=squared_error, classifier__max_depth=3, classifier__min_samples_leaf=2, classifier__min_samples_split=4, classifier__n_estimators=100, preprocessor__num__scaler=StandardScaler(); total time=   4.9s\n",
      "[CV] END classifier__criterion=poisson, classifier__max_depth=1, classifier__min_samples_leaf=3, classifier__min_samples_split=4, classifier__n_estimators=100, preprocessor__num__scaler=MinMaxScaler(); total time=   2.3s\n",
      "[CV] END classifier__criterion=poisson, classifier__max_depth=1, classifier__min_samples_leaf=3, classifier__min_samples_split=4, classifier__n_estimators=100, preprocessor__num__scaler=MinMaxScaler(); total time=   2.2s\n",
      "[CV] END classifier__criterion=poisson, classifier__max_depth=1, classifier__min_samples_leaf=3, classifier__min_samples_split=4, classifier__n_estimators=100, preprocessor__num__scaler=MinMaxScaler(); total time=   2.3s\n",
      "[CV] END classifier__criterion=squared_error, classifier__max_depth=1, classifier__min_samples_leaf=2, classifier__min_samples_split=4, classifier__n_estimators=50, preprocessor__num__scaler=StandardScaler(); total time=   1.2s\n",
      "[CV] END classifier__criterion=squared_error, classifier__max_depth=1, classifier__min_samples_leaf=2, classifier__min_samples_split=4, classifier__n_estimators=50, preprocessor__num__scaler=StandardScaler(); total time=   1.2s\n",
      "[CV] END classifier__criterion=squared_error, classifier__max_depth=1, classifier__min_samples_leaf=2, classifier__min_samples_split=4, classifier__n_estimators=50, preprocessor__num__scaler=StandardScaler(); total time=   1.2s\n",
      "[CV] END classifier__criterion=squared_error, classifier__max_depth=1, classifier__min_samples_leaf=2, classifier__min_samples_split=4, classifier__n_estimators=50, preprocessor__num__scaler=StandardScaler(); total time=   1.2s\n",
      "[CV] END classifier__criterion=squared_error, classifier__max_depth=1, classifier__min_samples_leaf=2, classifier__min_samples_split=4, classifier__n_estimators=50, preprocessor__num__scaler=StandardScaler(); total time=   1.1s\n",
      "[CV] END classifier__criterion=squared_error, classifier__max_depth=1, classifier__min_samples_leaf=1, classifier__min_samples_split=2, classifier__n_estimators=50, preprocessor__num__scaler=MinMaxScaler(); total time=   1.1s\n",
      "[CV] END classifier__criterion=squared_error, classifier__max_depth=1, classifier__min_samples_leaf=1, classifier__min_samples_split=2, classifier__n_estimators=50, preprocessor__num__scaler=MinMaxScaler(); total time=   1.1s\n",
      "[CV] END classifier__criterion=squared_error, classifier__max_depth=1, classifier__min_samples_leaf=1, classifier__min_samples_split=2, classifier__n_estimators=50, preprocessor__num__scaler=MinMaxScaler(); total time=   1.1s\n",
      "[CV] END classifier__criterion=squared_error, classifier__max_depth=1, classifier__min_samples_leaf=1, classifier__min_samples_split=2, classifier__n_estimators=50, preprocessor__num__scaler=MinMaxScaler(); total time=   1.1s\n",
      "[CV] END classifier__criterion=squared_error, classifier__max_depth=1, classifier__min_samples_leaf=1, classifier__min_samples_split=2, classifier__n_estimators=50, preprocessor__num__scaler=MinMaxScaler(); total time=   1.1s\n",
      "[CV] END classifier__criterion=squared_error, classifier__max_depth=3, classifier__min_samples_leaf=3, classifier__min_samples_split=2, classifier__n_estimators=50, preprocessor__num__scaler=MaxAbsScaler(); total time=   2.5s\n",
      "[CV] END classifier__criterion=squared_error, classifier__max_depth=3, classifier__min_samples_leaf=3, classifier__min_samples_split=2, classifier__n_estimators=50, preprocessor__num__scaler=MaxAbsScaler(); total time=   2.5s\n",
      "[CV] END classifier__criterion=squared_error, classifier__max_depth=3, classifier__min_samples_leaf=3, classifier__min_samples_split=2, classifier__n_estimators=50, preprocessor__num__scaler=MaxAbsScaler(); total time=   2.5s\n",
      "[CV] END classifier__criterion=squared_error, classifier__max_depth=3, classifier__min_samples_leaf=3, classifier__min_samples_split=2, classifier__n_estimators=50, preprocessor__num__scaler=MaxAbsScaler(); total time=   2.5s\n",
      "[CV] END classifier__criterion=squared_error, classifier__max_depth=3, classifier__min_samples_leaf=3, classifier__min_samples_split=2, classifier__n_estimators=50, preprocessor__num__scaler=MaxAbsScaler(); total time=   2.6s\n",
      "[CV] END classifier__criterion=poisson, classifier__max_depth=3, classifier__min_samples_leaf=3, classifier__min_samples_split=2, classifier__n_estimators=50, preprocessor__num__scaler=StandardScaler(); total time=   3.0s\n",
      "[CV] END classifier__criterion=poisson, classifier__max_depth=3, classifier__min_samples_leaf=3, classifier__min_samples_split=2, classifier__n_estimators=50, preprocessor__num__scaler=StandardScaler(); total time=   3.2s\n",
      "[CV] END classifier__criterion=poisson, classifier__max_depth=3, classifier__min_samples_leaf=3, classifier__min_samples_split=2, classifier__n_estimators=50, preprocessor__num__scaler=StandardScaler(); total time=   3.2s\n",
      "[CV] END classifier__criterion=poisson, classifier__max_depth=3, classifier__min_samples_leaf=3, classifier__min_samples_split=2, classifier__n_estimators=50, preprocessor__num__scaler=StandardScaler(); total time=   3.3s\n",
      "[CV] END classifier__criterion=poisson, classifier__max_depth=1, classifier__min_samples_leaf=2, classifier__min_samples_split=2, classifier__n_estimators=100, preprocessor__num__scaler=RobustScaler(); total time=   2.8s\n",
      "[CV] END classifier__criterion=poisson, classifier__max_depth=3, classifier__min_samples_leaf=3, classifier__min_samples_split=2, classifier__n_estimators=50, preprocessor__num__scaler=StandardScaler(); total time=   3.4s\n",
      "[CV] END classifier__criterion=poisson, classifier__max_depth=1, classifier__min_samples_leaf=2, classifier__min_samples_split=2, classifier__n_estimators=100, preprocessor__num__scaler=RobustScaler(); total time=   2.6s\n",
      "[CV] END classifier__criterion=poisson, classifier__max_depth=1, classifier__min_samples_leaf=2, classifier__min_samples_split=2, classifier__n_estimators=100, preprocessor__num__scaler=RobustScaler(); total time=   2.3s\n",
      "[CV] END classifier__criterion=poisson, classifier__max_depth=1, classifier__min_samples_leaf=2, classifier__min_samples_split=2, classifier__n_estimators=100, preprocessor__num__scaler=RobustScaler(); total time=   2.4s\n",
      "[CV] END classifier__criterion=poisson, classifier__max_depth=1, classifier__min_samples_leaf=2, classifier__min_samples_split=2, classifier__n_estimators=100, preprocessor__num__scaler=RobustScaler(); total time=   2.4s\n",
      "[CV] END classifier__criterion=absolute_error, classifier__max_depth=3, classifier__min_samples_leaf=3, classifier__min_samples_split=2, classifier__n_estimators=100, preprocessor__num__scaler=MaxAbsScaler(); total time=25.4min\n",
      "[CV] END classifier__criterion=absolute_error, classifier__max_depth=3, classifier__min_samples_leaf=3, classifier__min_samples_split=2, classifier__n_estimators=100, preprocessor__num__scaler=MaxAbsScaler(); total time=25.7min\n",
      "[CV] END classifier__criterion=absolute_error, classifier__max_depth=3, classifier__min_samples_leaf=3, classifier__min_samples_split=2, classifier__n_estimators=100, preprocessor__num__scaler=MaxAbsScaler(); total time=25.7min\n",
      "[CV] END classifier__criterion=absolute_error, classifier__max_depth=3, classifier__min_samples_leaf=3, classifier__min_samples_split=2, classifier__n_estimators=100, preprocessor__num__scaler=MaxAbsScaler(); total time=25.7min\n",
      "[CV] END classifier__criterion=absolute_error, classifier__max_depth=3, classifier__min_samples_leaf=3, classifier__min_samples_split=2, classifier__n_estimators=100, preprocessor__num__scaler=MaxAbsScaler(); total time=25.9min\n",
      "[CV] END classifier__criterion=absolute_error, classifier__max_depth=3, classifier__min_samples_leaf=1, classifier__min_samples_split=2, classifier__n_estimators=100, preprocessor__num__scaler=MinMaxScaler(); total time=25.6min\n",
      "[CV] END classifier__criterion=absolute_error, classifier__max_depth=3, classifier__min_samples_leaf=1, classifier__min_samples_split=2, classifier__n_estimators=100, preprocessor__num__scaler=MinMaxScaler(); total time=25.7min\n",
      "[CV] END classifier__criterion=absolute_error, classifier__max_depth=3, classifier__min_samples_leaf=1, classifier__min_samples_split=2, classifier__n_estimators=100, preprocessor__num__scaler=MinMaxScaler(); total time=25.7min\n",
      "[CV] END classifier__criterion=absolute_error, classifier__max_depth=1, classifier__min_samples_leaf=2, classifier__min_samples_split=2, classifier__n_estimators=50, preprocessor__num__scaler=MaxAbsScaler(); total time= 5.9min\n",
      "[CV] END classifier__criterion=absolute_error, classifier__max_depth=1, classifier__min_samples_leaf=2, classifier__min_samples_split=2, classifier__n_estimators=50, preprocessor__num__scaler=MaxAbsScaler(); total time= 5.9min\n",
      "[CV] END classifier__criterion=absolute_error, classifier__max_depth=1, classifier__min_samples_leaf=2, classifier__min_samples_split=2, classifier__n_estimators=50, preprocessor__num__scaler=MaxAbsScaler(); total time= 5.8min\n",
      "[CV] END classifier__criterion=absolute_error, classifier__max_depth=1, classifier__min_samples_leaf=2, classifier__min_samples_split=2, classifier__n_estimators=50, preprocessor__num__scaler=MaxAbsScaler(); total time= 5.7min\n",
      "[CV] END classifier__criterion=absolute_error, classifier__max_depth=1, classifier__min_samples_leaf=2, classifier__min_samples_split=2, classifier__n_estimators=50, preprocessor__num__scaler=MaxAbsScaler(); total time= 5.7min\n",
      "[CV] END classifier__criterion=absolute_error, classifier__max_depth=3, classifier__min_samples_leaf=1, classifier__min_samples_split=2, classifier__n_estimators=100, preprocessor__num__scaler=MinMaxScaler(); total time=16.8min\n",
      "[CV] END classifier__criterion=absolute_error, classifier__max_depth=3, classifier__min_samples_leaf=1, classifier__min_samples_split=2, classifier__n_estimators=100, preprocessor__num__scaler=MinMaxScaler(); total time=16.9min\n"
     ]
    },
    {
     "data": {
      "text/html": [
       "<style>#sk-container-id-9 {color: black;background-color: white;}#sk-container-id-9 pre{padding: 0;}#sk-container-id-9 div.sk-toggleable {background-color: white;}#sk-container-id-9 label.sk-toggleable__label {cursor: pointer;display: block;width: 100%;margin-bottom: 0;padding: 0.3em;box-sizing: border-box;text-align: center;}#sk-container-id-9 label.sk-toggleable__label-arrow:before {content: \"▸\";float: left;margin-right: 0.25em;color: #696969;}#sk-container-id-9 label.sk-toggleable__label-arrow:hover:before {color: black;}#sk-container-id-9 div.sk-estimator:hover label.sk-toggleable__label-arrow:before {color: black;}#sk-container-id-9 div.sk-toggleable__content {max-height: 0;max-width: 0;overflow: hidden;text-align: left;background-color: #f0f8ff;}#sk-container-id-9 div.sk-toggleable__content pre {margin: 0.2em;color: black;border-radius: 0.25em;background-color: #f0f8ff;}#sk-container-id-9 input.sk-toggleable__control:checked~div.sk-toggleable__content {max-height: 200px;max-width: 100%;overflow: auto;}#sk-container-id-9 input.sk-toggleable__control:checked~label.sk-toggleable__label-arrow:before {content: \"▾\";}#sk-container-id-9 div.sk-estimator input.sk-toggleable__control:checked~label.sk-toggleable__label {background-color: #d4ebff;}#sk-container-id-9 div.sk-label input.sk-toggleable__control:checked~label.sk-toggleable__label {background-color: #d4ebff;}#sk-container-id-9 input.sk-hidden--visually {border: 0;clip: rect(1px 1px 1px 1px);clip: rect(1px, 1px, 1px, 1px);height: 1px;margin: -1px;overflow: hidden;padding: 0;position: absolute;width: 1px;}#sk-container-id-9 div.sk-estimator {font-family: monospace;background-color: #f0f8ff;border: 1px dotted black;border-radius: 0.25em;box-sizing: border-box;margin-bottom: 0.5em;}#sk-container-id-9 div.sk-estimator:hover {background-color: #d4ebff;}#sk-container-id-9 div.sk-parallel-item::after {content: \"\";width: 100%;border-bottom: 1px solid gray;flex-grow: 1;}#sk-container-id-9 div.sk-label:hover label.sk-toggleable__label {background-color: #d4ebff;}#sk-container-id-9 div.sk-serial::before {content: \"\";position: absolute;border-left: 1px solid gray;box-sizing: border-box;top: 0;bottom: 0;left: 50%;z-index: 0;}#sk-container-id-9 div.sk-serial {display: flex;flex-direction: column;align-items: center;background-color: white;padding-right: 0.2em;padding-left: 0.2em;position: relative;}#sk-container-id-9 div.sk-item {position: relative;z-index: 1;}#sk-container-id-9 div.sk-parallel {display: flex;align-items: stretch;justify-content: center;background-color: white;position: relative;}#sk-container-id-9 div.sk-item::before, #sk-container-id-9 div.sk-parallel-item::before {content: \"\";position: absolute;border-left: 1px solid gray;box-sizing: border-box;top: 0;bottom: 0;left: 50%;z-index: -1;}#sk-container-id-9 div.sk-parallel-item {display: flex;flex-direction: column;z-index: 1;position: relative;background-color: white;}#sk-container-id-9 div.sk-parallel-item:first-child::after {align-self: flex-end;width: 50%;}#sk-container-id-9 div.sk-parallel-item:last-child::after {align-self: flex-start;width: 50%;}#sk-container-id-9 div.sk-parallel-item:only-child::after {width: 0;}#sk-container-id-9 div.sk-dashed-wrapped {border: 1px dashed gray;margin: 0 0.4em 0.5em 0.4em;box-sizing: border-box;padding-bottom: 0.4em;background-color: white;}#sk-container-id-9 div.sk-label label {font-family: monospace;font-weight: bold;display: inline-block;line-height: 1.2em;}#sk-container-id-9 div.sk-label-container {text-align: center;}#sk-container-id-9 div.sk-container {/* jupyter's `normalize.less` sets `[hidden] { display: none; }` but bootstrap.min.css set `[hidden] { display: none !important; }` so we also need the `!important` here to be able to override the default hidden behavior on the sphinx rendered scikit-learn.org. See: https://github.com/scikit-learn/scikit-learn/issues/21755 */display: inline-block !important;position: relative;}#sk-container-id-9 div.sk-text-repr-fallback {display: none;}</style><div id=\"sk-container-id-9\" class=\"sk-top-container\"><div class=\"sk-text-repr-fallback\"><pre>RandomizedSearchCV(cv=5,\n",
       "                   estimator=Pipeline(steps=[(&#x27;preprocessor&#x27;,\n",
       "                                              ColumnTransformer(transformers=[(&#x27;num&#x27;,\n",
       "                                                                               Pipeline(steps=[(&#x27;scaler&#x27;,\n",
       "                                                                                                StandardScaler())]),\n",
       "                                                                               Index([&#x27;built_year&#x27;, &#x27;num_beds&#x27;, &#x27;num_baths&#x27;, &#x27;available_unit_types&#x27;,\n",
       "       &#x27;total_num_units&#x27;, &#x27;cc_distance&#x27;, &#x27;mrt_distance&#x27;,\n",
       "       &#x27;primary_school_distance&#x27;, &#x27;secondary_school_distance&#x27;, &#x27;shop_distance&#x27;,\n",
       "       &#x27;population&#x27;, &#x27;ar...\n",
       "                   param_distributions={&#x27;classifier__criterion&#x27;: [&#x27;squared_error&#x27;,\n",
       "                                                                  &#x27;absolute_error&#x27;,\n",
       "                                                                  &#x27;poisson&#x27;],\n",
       "                                        &#x27;classifier__max_depth&#x27;: [1, 2, 3],\n",
       "                                        &#x27;classifier__min_samples_leaf&#x27;: [1, 2,\n",
       "                                                                         3],\n",
       "                                        &#x27;classifier__min_samples_split&#x27;: [2, 4],\n",
       "                                        &#x27;classifier__n_estimators&#x27;: [50, 100],\n",
       "                                        &#x27;preprocessor__num__scaler&#x27;: [StandardScaler(),\n",
       "                                                                      MinMaxScaler(),\n",
       "                                                                      RobustScaler(),\n",
       "                                                                      MaxAbsScaler()]},\n",
       "                   scoring=&#x27;neg_mean_squared_error&#x27;, verbose=2)</pre><b>In a Jupyter environment, please rerun this cell to show the HTML representation or trust the notebook. <br />On GitHub, the HTML representation is unable to render, please try loading this page with nbviewer.org.</b></div><div class=\"sk-container\" hidden><div class=\"sk-item sk-dashed-wrapped\"><div class=\"sk-label-container\"><div class=\"sk-label sk-toggleable\"><input class=\"sk-toggleable__control sk-hidden--visually\" id=\"sk-estimator-id-44\" type=\"checkbox\" ><label for=\"sk-estimator-id-44\" class=\"sk-toggleable__label sk-toggleable__label-arrow\">RandomizedSearchCV</label><div class=\"sk-toggleable__content\"><pre>RandomizedSearchCV(cv=5,\n",
       "                   estimator=Pipeline(steps=[(&#x27;preprocessor&#x27;,\n",
       "                                              ColumnTransformer(transformers=[(&#x27;num&#x27;,\n",
       "                                                                               Pipeline(steps=[(&#x27;scaler&#x27;,\n",
       "                                                                                                StandardScaler())]),\n",
       "                                                                               Index([&#x27;built_year&#x27;, &#x27;num_beds&#x27;, &#x27;num_baths&#x27;, &#x27;available_unit_types&#x27;,\n",
       "       &#x27;total_num_units&#x27;, &#x27;cc_distance&#x27;, &#x27;mrt_distance&#x27;,\n",
       "       &#x27;primary_school_distance&#x27;, &#x27;secondary_school_distance&#x27;, &#x27;shop_distance&#x27;,\n",
       "       &#x27;population&#x27;, &#x27;ar...\n",
       "                   param_distributions={&#x27;classifier__criterion&#x27;: [&#x27;squared_error&#x27;,\n",
       "                                                                  &#x27;absolute_error&#x27;,\n",
       "                                                                  &#x27;poisson&#x27;],\n",
       "                                        &#x27;classifier__max_depth&#x27;: [1, 2, 3],\n",
       "                                        &#x27;classifier__min_samples_leaf&#x27;: [1, 2,\n",
       "                                                                         3],\n",
       "                                        &#x27;classifier__min_samples_split&#x27;: [2, 4],\n",
       "                                        &#x27;classifier__n_estimators&#x27;: [50, 100],\n",
       "                                        &#x27;preprocessor__num__scaler&#x27;: [StandardScaler(),\n",
       "                                                                      MinMaxScaler(),\n",
       "                                                                      RobustScaler(),\n",
       "                                                                      MaxAbsScaler()]},\n",
       "                   scoring=&#x27;neg_mean_squared_error&#x27;, verbose=2)</pre></div></div></div><div class=\"sk-parallel\"><div class=\"sk-parallel-item\"><div class=\"sk-item\"><div class=\"sk-label-container\"><div class=\"sk-label sk-toggleable\"><input class=\"sk-toggleable__control sk-hidden--visually\" id=\"sk-estimator-id-45\" type=\"checkbox\" ><label for=\"sk-estimator-id-45\" class=\"sk-toggleable__label sk-toggleable__label-arrow\">estimator: Pipeline</label><div class=\"sk-toggleable__content\"><pre>Pipeline(steps=[(&#x27;preprocessor&#x27;,\n",
       "                 ColumnTransformer(transformers=[(&#x27;num&#x27;,\n",
       "                                                  Pipeline(steps=[(&#x27;scaler&#x27;,\n",
       "                                                                   StandardScaler())]),\n",
       "                                                  Index([&#x27;built_year&#x27;, &#x27;num_beds&#x27;, &#x27;num_baths&#x27;, &#x27;available_unit_types&#x27;,\n",
       "       &#x27;total_num_units&#x27;, &#x27;cc_distance&#x27;, &#x27;mrt_distance&#x27;,\n",
       "       &#x27;primary_school_distance&#x27;, &#x27;secondary_school_distance&#x27;, &#x27;shop_distance&#x27;,\n",
       "       &#x27;population&#x27;, &#x27;area_size&#x27;, &#x27;log_size_sqft&#x27;],\n",
       "      dtype=&#x27;object&#x27;)),\n",
       "                                                 (&#x27;cat&#x27;,\n",
       "                                                  OneHotEncoder(handle_unknown=&#x27;ignore&#x27;),\n",
       "                                                  Index([&#x27;property_type&#x27;, &#x27;tenure&#x27;, &#x27;furnishing&#x27;, &#x27;region&#x27;], dtype=&#x27;object&#x27;))])),\n",
       "                (&#x27;classifier&#x27;, RandomForestRegressor(random_state=2022))])</pre></div></div></div><div class=\"sk-serial\"><div class=\"sk-item\"><div class=\"sk-serial\"><div class=\"sk-item sk-dashed-wrapped\"><div class=\"sk-label-container\"><div class=\"sk-label sk-toggleable\"><input class=\"sk-toggleable__control sk-hidden--visually\" id=\"sk-estimator-id-46\" type=\"checkbox\" ><label for=\"sk-estimator-id-46\" class=\"sk-toggleable__label sk-toggleable__label-arrow\">preprocessor: ColumnTransformer</label><div class=\"sk-toggleable__content\"><pre>ColumnTransformer(transformers=[(&#x27;num&#x27;,\n",
       "                                 Pipeline(steps=[(&#x27;scaler&#x27;, StandardScaler())]),\n",
       "                                 Index([&#x27;built_year&#x27;, &#x27;num_beds&#x27;, &#x27;num_baths&#x27;, &#x27;available_unit_types&#x27;,\n",
       "       &#x27;total_num_units&#x27;, &#x27;cc_distance&#x27;, &#x27;mrt_distance&#x27;,\n",
       "       &#x27;primary_school_distance&#x27;, &#x27;secondary_school_distance&#x27;, &#x27;shop_distance&#x27;,\n",
       "       &#x27;population&#x27;, &#x27;area_size&#x27;, &#x27;log_size_sqft&#x27;],\n",
       "      dtype=&#x27;object&#x27;)),\n",
       "                                (&#x27;cat&#x27;, OneHotEncoder(handle_unknown=&#x27;ignore&#x27;),\n",
       "                                 Index([&#x27;property_type&#x27;, &#x27;tenure&#x27;, &#x27;furnishing&#x27;, &#x27;region&#x27;], dtype=&#x27;object&#x27;))])</pre></div></div></div><div class=\"sk-parallel\"><div class=\"sk-parallel-item\"><div class=\"sk-item\"><div class=\"sk-label-container\"><div class=\"sk-label sk-toggleable\"><input class=\"sk-toggleable__control sk-hidden--visually\" id=\"sk-estimator-id-47\" type=\"checkbox\" ><label for=\"sk-estimator-id-47\" class=\"sk-toggleable__label sk-toggleable__label-arrow\">num</label><div class=\"sk-toggleable__content\"><pre>Index([&#x27;built_year&#x27;, &#x27;num_beds&#x27;, &#x27;num_baths&#x27;, &#x27;available_unit_types&#x27;,\n",
       "       &#x27;total_num_units&#x27;, &#x27;cc_distance&#x27;, &#x27;mrt_distance&#x27;,\n",
       "       &#x27;primary_school_distance&#x27;, &#x27;secondary_school_distance&#x27;, &#x27;shop_distance&#x27;,\n",
       "       &#x27;population&#x27;, &#x27;area_size&#x27;, &#x27;log_size_sqft&#x27;],\n",
       "      dtype=&#x27;object&#x27;)</pre></div></div></div><div class=\"sk-serial\"><div class=\"sk-item\"><div class=\"sk-serial\"><div class=\"sk-item\"><div class=\"sk-estimator sk-toggleable\"><input class=\"sk-toggleable__control sk-hidden--visually\" id=\"sk-estimator-id-48\" type=\"checkbox\" ><label for=\"sk-estimator-id-48\" class=\"sk-toggleable__label sk-toggleable__label-arrow\">StandardScaler</label><div class=\"sk-toggleable__content\"><pre>StandardScaler()</pre></div></div></div></div></div></div></div></div><div class=\"sk-parallel-item\"><div class=\"sk-item\"><div class=\"sk-label-container\"><div class=\"sk-label sk-toggleable\"><input class=\"sk-toggleable__control sk-hidden--visually\" id=\"sk-estimator-id-49\" type=\"checkbox\" ><label for=\"sk-estimator-id-49\" class=\"sk-toggleable__label sk-toggleable__label-arrow\">cat</label><div class=\"sk-toggleable__content\"><pre>Index([&#x27;property_type&#x27;, &#x27;tenure&#x27;, &#x27;furnishing&#x27;, &#x27;region&#x27;], dtype=&#x27;object&#x27;)</pre></div></div></div><div class=\"sk-serial\"><div class=\"sk-item\"><div class=\"sk-estimator sk-toggleable\"><input class=\"sk-toggleable__control sk-hidden--visually\" id=\"sk-estimator-id-50\" type=\"checkbox\" ><label for=\"sk-estimator-id-50\" class=\"sk-toggleable__label sk-toggleable__label-arrow\">OneHotEncoder</label><div class=\"sk-toggleable__content\"><pre>OneHotEncoder(handle_unknown=&#x27;ignore&#x27;)</pre></div></div></div></div></div></div></div></div><div class=\"sk-item\"><div class=\"sk-estimator sk-toggleable\"><input class=\"sk-toggleable__control sk-hidden--visually\" id=\"sk-estimator-id-51\" type=\"checkbox\" ><label for=\"sk-estimator-id-51\" class=\"sk-toggleable__label sk-toggleable__label-arrow\">RandomForestRegressor</label><div class=\"sk-toggleable__content\"><pre>RandomForestRegressor(random_state=2022)</pre></div></div></div></div></div></div></div></div></div></div></div></div>"
      ],
      "text/plain": [
       "RandomizedSearchCV(cv=5,\n",
       "                   estimator=Pipeline(steps=[('preprocessor',\n",
       "                                              ColumnTransformer(transformers=[('num',\n",
       "                                                                               Pipeline(steps=[('scaler',\n",
       "                                                                                                StandardScaler())]),\n",
       "                                                                               Index(['built_year', 'num_beds', 'num_baths', 'available_unit_types',\n",
       "       'total_num_units', 'cc_distance', 'mrt_distance',\n",
       "       'primary_school_distance', 'secondary_school_distance', 'shop_distance',\n",
       "       'population', 'ar...\n",
       "                   param_distributions={'classifier__criterion': ['squared_error',\n",
       "                                                                  'absolute_error',\n",
       "                                                                  'poisson'],\n",
       "                                        'classifier__max_depth': [1, 2, 3],\n",
       "                                        'classifier__min_samples_leaf': [1, 2,\n",
       "                                                                         3],\n",
       "                                        'classifier__min_samples_split': [2, 4],\n",
       "                                        'classifier__n_estimators': [50, 100],\n",
       "                                        'preprocessor__num__scaler': [StandardScaler(),\n",
       "                                                                      MinMaxScaler(),\n",
       "                                                                      RobustScaler(),\n",
       "                                                                      MaxAbsScaler()]},\n",
       "                   scoring='neg_mean_squared_error', verbose=2)"
      ]
     },
     "execution_count": 1179,
     "metadata": {},
     "output_type": "execute_result"
    }
   ],
   "source": [
    "random_rf = RandomizedSearchCV(rf, param_grid, cv = 5, scoring = 'neg_mean_squared_error', verbose = 2, n_jobs=-1) \n",
    "\n",
    "random_rf.fit(x_train, y_train)"
   ]
  },
  {
   "cell_type": "code",
   "execution_count": 1180,
   "metadata": {},
   "outputs": [
    {
     "data": {
      "text/plain": [
       "{'preprocessor__num__scaler': StandardScaler(),\n",
       " 'classifier__n_estimators': 100,\n",
       " 'classifier__min_samples_split': 4,\n",
       " 'classifier__min_samples_leaf': 2,\n",
       " 'classifier__max_depth': 3,\n",
       " 'classifier__criterion': 'squared_error'}"
      ]
     },
     "execution_count": 1180,
     "metadata": {},
     "output_type": "execute_result"
    }
   ],
   "source": [
    "random_rf.best_params_"
   ]
  },
  {
   "cell_type": "code",
   "execution_count": 1181,
   "metadata": {},
   "outputs": [
    {
     "data": {
      "text/plain": [
       "-2315989530415.111"
      ]
     },
     "execution_count": 1181,
     "metadata": {},
     "output_type": "execute_result"
    }
   ],
   "source": [
    "random_rf.best_score_"
   ]
  },
  {
   "cell_type": "markdown",
   "metadata": {},
   "source": [
    "# Final Model"
   ]
  },
  {
   "cell_type": "code",
   "execution_count": 1183,
   "metadata": {},
   "outputs": [],
   "source": [
    "final_model = random_rf.best_estimator_"
   ]
  },
  {
   "cell_type": "code",
   "execution_count": 1184,
   "metadata": {},
   "outputs": [
    {
     "data": {
      "text/html": [
       "<style>#sk-container-id-10 {color: black;background-color: white;}#sk-container-id-10 pre{padding: 0;}#sk-container-id-10 div.sk-toggleable {background-color: white;}#sk-container-id-10 label.sk-toggleable__label {cursor: pointer;display: block;width: 100%;margin-bottom: 0;padding: 0.3em;box-sizing: border-box;text-align: center;}#sk-container-id-10 label.sk-toggleable__label-arrow:before {content: \"▸\";float: left;margin-right: 0.25em;color: #696969;}#sk-container-id-10 label.sk-toggleable__label-arrow:hover:before {color: black;}#sk-container-id-10 div.sk-estimator:hover label.sk-toggleable__label-arrow:before {color: black;}#sk-container-id-10 div.sk-toggleable__content {max-height: 0;max-width: 0;overflow: hidden;text-align: left;background-color: #f0f8ff;}#sk-container-id-10 div.sk-toggleable__content pre {margin: 0.2em;color: black;border-radius: 0.25em;background-color: #f0f8ff;}#sk-container-id-10 input.sk-toggleable__control:checked~div.sk-toggleable__content {max-height: 200px;max-width: 100%;overflow: auto;}#sk-container-id-10 input.sk-toggleable__control:checked~label.sk-toggleable__label-arrow:before {content: \"▾\";}#sk-container-id-10 div.sk-estimator input.sk-toggleable__control:checked~label.sk-toggleable__label {background-color: #d4ebff;}#sk-container-id-10 div.sk-label input.sk-toggleable__control:checked~label.sk-toggleable__label {background-color: #d4ebff;}#sk-container-id-10 input.sk-hidden--visually {border: 0;clip: rect(1px 1px 1px 1px);clip: rect(1px, 1px, 1px, 1px);height: 1px;margin: -1px;overflow: hidden;padding: 0;position: absolute;width: 1px;}#sk-container-id-10 div.sk-estimator {font-family: monospace;background-color: #f0f8ff;border: 1px dotted black;border-radius: 0.25em;box-sizing: border-box;margin-bottom: 0.5em;}#sk-container-id-10 div.sk-estimator:hover {background-color: #d4ebff;}#sk-container-id-10 div.sk-parallel-item::after {content: \"\";width: 100%;border-bottom: 1px solid gray;flex-grow: 1;}#sk-container-id-10 div.sk-label:hover label.sk-toggleable__label {background-color: #d4ebff;}#sk-container-id-10 div.sk-serial::before {content: \"\";position: absolute;border-left: 1px solid gray;box-sizing: border-box;top: 0;bottom: 0;left: 50%;z-index: 0;}#sk-container-id-10 div.sk-serial {display: flex;flex-direction: column;align-items: center;background-color: white;padding-right: 0.2em;padding-left: 0.2em;position: relative;}#sk-container-id-10 div.sk-item {position: relative;z-index: 1;}#sk-container-id-10 div.sk-parallel {display: flex;align-items: stretch;justify-content: center;background-color: white;position: relative;}#sk-container-id-10 div.sk-item::before, #sk-container-id-10 div.sk-parallel-item::before {content: \"\";position: absolute;border-left: 1px solid gray;box-sizing: border-box;top: 0;bottom: 0;left: 50%;z-index: -1;}#sk-container-id-10 div.sk-parallel-item {display: flex;flex-direction: column;z-index: 1;position: relative;background-color: white;}#sk-container-id-10 div.sk-parallel-item:first-child::after {align-self: flex-end;width: 50%;}#sk-container-id-10 div.sk-parallel-item:last-child::after {align-self: flex-start;width: 50%;}#sk-container-id-10 div.sk-parallel-item:only-child::after {width: 0;}#sk-container-id-10 div.sk-dashed-wrapped {border: 1px dashed gray;margin: 0 0.4em 0.5em 0.4em;box-sizing: border-box;padding-bottom: 0.4em;background-color: white;}#sk-container-id-10 div.sk-label label {font-family: monospace;font-weight: bold;display: inline-block;line-height: 1.2em;}#sk-container-id-10 div.sk-label-container {text-align: center;}#sk-container-id-10 div.sk-container {/* jupyter's `normalize.less` sets `[hidden] { display: none; }` but bootstrap.min.css set `[hidden] { display: none !important; }` so we also need the `!important` here to be able to override the default hidden behavior on the sphinx rendered scikit-learn.org. See: https://github.com/scikit-learn/scikit-learn/issues/21755 */display: inline-block !important;position: relative;}#sk-container-id-10 div.sk-text-repr-fallback {display: none;}</style><div id=\"sk-container-id-10\" class=\"sk-top-container\"><div class=\"sk-text-repr-fallback\"><pre>Pipeline(steps=[(&#x27;preprocessor&#x27;,\n",
       "                 ColumnTransformer(transformers=[(&#x27;num&#x27;,\n",
       "                                                  Pipeline(steps=[(&#x27;scaler&#x27;,\n",
       "                                                                   StandardScaler())]),\n",
       "                                                  Index([&#x27;built_year&#x27;, &#x27;num_beds&#x27;, &#x27;num_baths&#x27;, &#x27;available_unit_types&#x27;,\n",
       "       &#x27;total_num_units&#x27;, &#x27;cc_distance&#x27;, &#x27;mrt_distance&#x27;,\n",
       "       &#x27;primary_school_distance&#x27;, &#x27;secondary_school_distance&#x27;, &#x27;shop_distance&#x27;,\n",
       "       &#x27;population&#x27;, &#x27;area_size&#x27;, &#x27;log_size_sqft&#x27;],\n",
       "      dtype=&#x27;object&#x27;)),\n",
       "                                                 (&#x27;cat&#x27;,\n",
       "                                                  OneHotEncoder(handle_unknown=&#x27;ignore&#x27;),\n",
       "                                                  Index([&#x27;property_type&#x27;, &#x27;tenure&#x27;, &#x27;furnishing&#x27;, &#x27;region&#x27;], dtype=&#x27;object&#x27;))])),\n",
       "                (&#x27;classifier&#x27;,\n",
       "                 RandomForestRegressor(max_depth=3, min_samples_leaf=2,\n",
       "                                       min_samples_split=4,\n",
       "                                       random_state=2022))])</pre><b>In a Jupyter environment, please rerun this cell to show the HTML representation or trust the notebook. <br />On GitHub, the HTML representation is unable to render, please try loading this page with nbviewer.org.</b></div><div class=\"sk-container\" hidden><div class=\"sk-item sk-dashed-wrapped\"><div class=\"sk-label-container\"><div class=\"sk-label sk-toggleable\"><input class=\"sk-toggleable__control sk-hidden--visually\" id=\"sk-estimator-id-52\" type=\"checkbox\" ><label for=\"sk-estimator-id-52\" class=\"sk-toggleable__label sk-toggleable__label-arrow\">Pipeline</label><div class=\"sk-toggleable__content\"><pre>Pipeline(steps=[(&#x27;preprocessor&#x27;,\n",
       "                 ColumnTransformer(transformers=[(&#x27;num&#x27;,\n",
       "                                                  Pipeline(steps=[(&#x27;scaler&#x27;,\n",
       "                                                                   StandardScaler())]),\n",
       "                                                  Index([&#x27;built_year&#x27;, &#x27;num_beds&#x27;, &#x27;num_baths&#x27;, &#x27;available_unit_types&#x27;,\n",
       "       &#x27;total_num_units&#x27;, &#x27;cc_distance&#x27;, &#x27;mrt_distance&#x27;,\n",
       "       &#x27;primary_school_distance&#x27;, &#x27;secondary_school_distance&#x27;, &#x27;shop_distance&#x27;,\n",
       "       &#x27;population&#x27;, &#x27;area_size&#x27;, &#x27;log_size_sqft&#x27;],\n",
       "      dtype=&#x27;object&#x27;)),\n",
       "                                                 (&#x27;cat&#x27;,\n",
       "                                                  OneHotEncoder(handle_unknown=&#x27;ignore&#x27;),\n",
       "                                                  Index([&#x27;property_type&#x27;, &#x27;tenure&#x27;, &#x27;furnishing&#x27;, &#x27;region&#x27;], dtype=&#x27;object&#x27;))])),\n",
       "                (&#x27;classifier&#x27;,\n",
       "                 RandomForestRegressor(max_depth=3, min_samples_leaf=2,\n",
       "                                       min_samples_split=4,\n",
       "                                       random_state=2022))])</pre></div></div></div><div class=\"sk-serial\"><div class=\"sk-item sk-dashed-wrapped\"><div class=\"sk-label-container\"><div class=\"sk-label sk-toggleable\"><input class=\"sk-toggleable__control sk-hidden--visually\" id=\"sk-estimator-id-53\" type=\"checkbox\" ><label for=\"sk-estimator-id-53\" class=\"sk-toggleable__label sk-toggleable__label-arrow\">preprocessor: ColumnTransformer</label><div class=\"sk-toggleable__content\"><pre>ColumnTransformer(transformers=[(&#x27;num&#x27;,\n",
       "                                 Pipeline(steps=[(&#x27;scaler&#x27;, StandardScaler())]),\n",
       "                                 Index([&#x27;built_year&#x27;, &#x27;num_beds&#x27;, &#x27;num_baths&#x27;, &#x27;available_unit_types&#x27;,\n",
       "       &#x27;total_num_units&#x27;, &#x27;cc_distance&#x27;, &#x27;mrt_distance&#x27;,\n",
       "       &#x27;primary_school_distance&#x27;, &#x27;secondary_school_distance&#x27;, &#x27;shop_distance&#x27;,\n",
       "       &#x27;population&#x27;, &#x27;area_size&#x27;, &#x27;log_size_sqft&#x27;],\n",
       "      dtype=&#x27;object&#x27;)),\n",
       "                                (&#x27;cat&#x27;, OneHotEncoder(handle_unknown=&#x27;ignore&#x27;),\n",
       "                                 Index([&#x27;property_type&#x27;, &#x27;tenure&#x27;, &#x27;furnishing&#x27;, &#x27;region&#x27;], dtype=&#x27;object&#x27;))])</pre></div></div></div><div class=\"sk-parallel\"><div class=\"sk-parallel-item\"><div class=\"sk-item\"><div class=\"sk-label-container\"><div class=\"sk-label sk-toggleable\"><input class=\"sk-toggleable__control sk-hidden--visually\" id=\"sk-estimator-id-54\" type=\"checkbox\" ><label for=\"sk-estimator-id-54\" class=\"sk-toggleable__label sk-toggleable__label-arrow\">num</label><div class=\"sk-toggleable__content\"><pre>Index([&#x27;built_year&#x27;, &#x27;num_beds&#x27;, &#x27;num_baths&#x27;, &#x27;available_unit_types&#x27;,\n",
       "       &#x27;total_num_units&#x27;, &#x27;cc_distance&#x27;, &#x27;mrt_distance&#x27;,\n",
       "       &#x27;primary_school_distance&#x27;, &#x27;secondary_school_distance&#x27;, &#x27;shop_distance&#x27;,\n",
       "       &#x27;population&#x27;, &#x27;area_size&#x27;, &#x27;log_size_sqft&#x27;],\n",
       "      dtype=&#x27;object&#x27;)</pre></div></div></div><div class=\"sk-serial\"><div class=\"sk-item\"><div class=\"sk-serial\"><div class=\"sk-item\"><div class=\"sk-estimator sk-toggleable\"><input class=\"sk-toggleable__control sk-hidden--visually\" id=\"sk-estimator-id-55\" type=\"checkbox\" ><label for=\"sk-estimator-id-55\" class=\"sk-toggleable__label sk-toggleable__label-arrow\">StandardScaler</label><div class=\"sk-toggleable__content\"><pre>StandardScaler()</pre></div></div></div></div></div></div></div></div><div class=\"sk-parallel-item\"><div class=\"sk-item\"><div class=\"sk-label-container\"><div class=\"sk-label sk-toggleable\"><input class=\"sk-toggleable__control sk-hidden--visually\" id=\"sk-estimator-id-56\" type=\"checkbox\" ><label for=\"sk-estimator-id-56\" class=\"sk-toggleable__label sk-toggleable__label-arrow\">cat</label><div class=\"sk-toggleable__content\"><pre>Index([&#x27;property_type&#x27;, &#x27;tenure&#x27;, &#x27;furnishing&#x27;, &#x27;region&#x27;], dtype=&#x27;object&#x27;)</pre></div></div></div><div class=\"sk-serial\"><div class=\"sk-item\"><div class=\"sk-estimator sk-toggleable\"><input class=\"sk-toggleable__control sk-hidden--visually\" id=\"sk-estimator-id-57\" type=\"checkbox\" ><label for=\"sk-estimator-id-57\" class=\"sk-toggleable__label sk-toggleable__label-arrow\">OneHotEncoder</label><div class=\"sk-toggleable__content\"><pre>OneHotEncoder(handle_unknown=&#x27;ignore&#x27;)</pre></div></div></div></div></div></div></div></div><div class=\"sk-item\"><div class=\"sk-estimator sk-toggleable\"><input class=\"sk-toggleable__control sk-hidden--visually\" id=\"sk-estimator-id-58\" type=\"checkbox\" ><label for=\"sk-estimator-id-58\" class=\"sk-toggleable__label sk-toggleable__label-arrow\">RandomForestRegressor</label><div class=\"sk-toggleable__content\"><pre>RandomForestRegressor(max_depth=3, min_samples_leaf=2, min_samples_split=4,\n",
       "                      random_state=2022)</pre></div></div></div></div></div></div></div>"
      ],
      "text/plain": [
       "Pipeline(steps=[('preprocessor',\n",
       "                 ColumnTransformer(transformers=[('num',\n",
       "                                                  Pipeline(steps=[('scaler',\n",
       "                                                                   StandardScaler())]),\n",
       "                                                  Index(['built_year', 'num_beds', 'num_baths', 'available_unit_types',\n",
       "       'total_num_units', 'cc_distance', 'mrt_distance',\n",
       "       'primary_school_distance', 'secondary_school_distance', 'shop_distance',\n",
       "       'population', 'area_size', 'log_size_sqft'],\n",
       "      dtype='object')),\n",
       "                                                 ('cat',\n",
       "                                                  OneHotEncoder(handle_unknown='ignore'),\n",
       "                                                  Index(['property_type', 'tenure', 'furnishing', 'region'], dtype='object'))])),\n",
       "                ('classifier',\n",
       "                 RandomForestRegressor(max_depth=3, min_samples_leaf=2,\n",
       "                                       min_samples_split=4,\n",
       "                                       random_state=2022))])"
      ]
     },
     "execution_count": 1184,
     "metadata": {},
     "output_type": "execute_result"
    }
   ],
   "source": [
    "final_model.fit(x_train,y_train)"
   ]
  },
  {
   "cell_type": "code",
   "execution_count": 1185,
   "metadata": {},
   "outputs": [],
   "source": [
    "predicted = final_model.predict(test)"
   ]
  },
  {
   "cell_type": "code",
   "execution_count": 1186,
   "metadata": {},
   "outputs": [],
   "source": [
    "predictions_df=pd.DataFrame(data={\"Predicted\":predicted})"
   ]
  },
  {
   "cell_type": "code",
   "execution_count": 1187,
   "metadata": {},
   "outputs": [],
   "source": [
    "#export as csv\n",
    "predictions_df.to_csv('pred.csv', index_label = 'Id')"
   ]
  }
 ],
 "metadata": {
  "kernelspec": {
   "display_name": "Python 3 (ipykernel)",
   "language": "python",
   "name": "python3"
  },
  "language_info": {
   "codemirror_mode": {
    "name": "ipython",
    "version": 3
   },
   "file_extension": ".py",
   "mimetype": "text/x-python",
   "name": "python",
   "nbconvert_exporter": "python",
   "pygments_lexer": "ipython3",
   "version": "3.9.12"
  },
  "vscode": {
   "interpreter": {
    "hash": "aee8b7b246df8f9039afb4144a1f6fd8d2ca17a180786b69acc140d282b71a49"
   }
  }
 },
 "nbformat": 4,
 "nbformat_minor": 2
}
