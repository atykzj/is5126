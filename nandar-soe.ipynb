{
 "cells": [
  {
   "cell_type": "code",
   "execution_count": 1,
   "metadata": {},
   "outputs": [],
   "source": [
    "import pandas as pd\n",
    "import numpy as np\n",
    "import matplotlib.pyplot as plt\n",
    "import seaborn as sn\n",
    "import statistics as st \n",
    "from sklearn.model_selection import train_test_split\n",
    "from sklearn.metrics import accuracy_score, plot_confusion_matrix\n",
    "from sklearn.model_selection import GridSearchCV\n",
    "from sklearn.metrics import mean_squared_error\n",
    "from math import sqrt\n",
    "import seaborn as sns"
   ]
  },
  {
   "cell_type": "markdown",
   "metadata": {},
   "source": [
    "# EDA"
   ]
  },
  {
   "cell_type": "code",
   "execution_count": 2,
   "metadata": {},
   "outputs": [],
   "source": [
    "train = pd.read_csv('train.csv')\n",
    "test = pd.read_csv('test.csv')"
   ]
  },
  {
   "cell_type": "markdown",
   "metadata": {},
   "source": [
    "## Pre-processing"
   ]
  },
  {
   "cell_type": "markdown",
   "metadata": {},
   "source": [
    "### Remove listing_id  \n",
    "#### listing_id is all unique without duplicates"
   ]
  },
  {
   "cell_type": "code",
   "execution_count": 3,
   "metadata": {},
   "outputs": [],
   "source": [
    "train = train.drop(columns=['listing_id', 'property_details_url', 'elevation','property_name','address','title'])\n",
    "test = test.drop(columns=['listing_id', 'property_details_url', 'elevation','property_name','address','title'])\n",
    "\n",
    "# train = train.drop(columns=['property_details_url', 'elevation','property_name','address','title'])"
   ]
  },
  {
   "cell_type": "code",
   "execution_count": 4,
   "metadata": {},
   "outputs": [
    {
     "data": {
      "text/html": [
       "<div>\n",
       "<style scoped>\n",
       "    .dataframe tbody tr th:only-of-type {\n",
       "        vertical-align: middle;\n",
       "    }\n",
       "\n",
       "    .dataframe tbody tr th {\n",
       "        vertical-align: top;\n",
       "    }\n",
       "\n",
       "    .dataframe thead th {\n",
       "        text-align: right;\n",
       "    }\n",
       "</style>\n",
       "<table border=\"1\" class=\"dataframe\">\n",
       "  <thead>\n",
       "    <tr style=\"text-align: right;\">\n",
       "      <th></th>\n",
       "      <th>built_year</th>\n",
       "      <th>num_beds</th>\n",
       "      <th>num_baths</th>\n",
       "      <th>size_sqft</th>\n",
       "      <th>total_num_units</th>\n",
       "      <th>lat</th>\n",
       "      <th>lng</th>\n",
       "      <th>price</th>\n",
       "    </tr>\n",
       "  </thead>\n",
       "  <tbody>\n",
       "    <tr>\n",
       "      <th>count</th>\n",
       "      <td>19332.000000</td>\n",
       "      <td>20174.000000</td>\n",
       "      <td>19820.000000</td>\n",
       "      <td>2.025400e+04</td>\n",
       "      <td>14602.000000</td>\n",
       "      <td>20254.000000</td>\n",
       "      <td>20254.000000</td>\n",
       "      <td>2.025400e+04</td>\n",
       "    </tr>\n",
       "    <tr>\n",
       "      <th>mean</th>\n",
       "      <td>2010.833695</td>\n",
       "      <td>3.122931</td>\n",
       "      <td>2.643542</td>\n",
       "      <td>1.854364e+03</td>\n",
       "      <td>376.253938</td>\n",
       "      <td>1.434282</td>\n",
       "      <td>103.855356</td>\n",
       "      <td>5.228263e+06</td>\n",
       "    </tr>\n",
       "    <tr>\n",
       "      <th>std</th>\n",
       "      <td>15.822803</td>\n",
       "      <td>1.281658</td>\n",
       "      <td>1.473835</td>\n",
       "      <td>1.354343e+04</td>\n",
       "      <td>346.882474</td>\n",
       "      <td>1.558472</td>\n",
       "      <td>3.593441</td>\n",
       "      <td>2.779748e+08</td>\n",
       "    </tr>\n",
       "    <tr>\n",
       "      <th>min</th>\n",
       "      <td>1963.000000</td>\n",
       "      <td>1.000000</td>\n",
       "      <td>1.000000</td>\n",
       "      <td>0.000000e+00</td>\n",
       "      <td>4.000000</td>\n",
       "      <td>1.239621</td>\n",
       "      <td>-77.065364</td>\n",
       "      <td>0.000000e+00</td>\n",
       "    </tr>\n",
       "    <tr>\n",
       "      <th>25%</th>\n",
       "      <td>2000.000000</td>\n",
       "      <td>2.000000</td>\n",
       "      <td>2.000000</td>\n",
       "      <td>8.070000e+02</td>\n",
       "      <td>106.000000</td>\n",
       "      <td>1.307329</td>\n",
       "      <td>103.806576</td>\n",
       "      <td>8.190000e+05</td>\n",
       "    </tr>\n",
       "    <tr>\n",
       "      <th>50%</th>\n",
       "      <td>2017.000000</td>\n",
       "      <td>3.000000</td>\n",
       "      <td>2.000000</td>\n",
       "      <td>1.119000e+03</td>\n",
       "      <td>296.000000</td>\n",
       "      <td>1.329266</td>\n",
       "      <td>103.841552</td>\n",
       "      <td>1.680000e+06</td>\n",
       "    </tr>\n",
       "    <tr>\n",
       "      <th>75%</th>\n",
       "      <td>2023.000000</td>\n",
       "      <td>4.000000</td>\n",
       "      <td>3.000000</td>\n",
       "      <td>1.528000e+03</td>\n",
       "      <td>561.000000</td>\n",
       "      <td>1.372461</td>\n",
       "      <td>103.881514</td>\n",
       "      <td>3.242400e+06</td>\n",
       "    </tr>\n",
       "    <tr>\n",
       "      <th>max</th>\n",
       "      <td>2028.000000</td>\n",
       "      <td>10.000000</td>\n",
       "      <td>10.000000</td>\n",
       "      <td>1.496000e+06</td>\n",
       "      <td>2612.000000</td>\n",
       "      <td>69.486768</td>\n",
       "      <td>121.023232</td>\n",
       "      <td>3.924243e+10</td>\n",
       "    </tr>\n",
       "  </tbody>\n",
       "</table>\n",
       "</div>"
      ],
      "text/plain": [
       "         built_year      num_beds     num_baths     size_sqft  \\\n",
       "count  19332.000000  20174.000000  19820.000000  2.025400e+04   \n",
       "mean    2010.833695      3.122931      2.643542  1.854364e+03   \n",
       "std       15.822803      1.281658      1.473835  1.354343e+04   \n",
       "min     1963.000000      1.000000      1.000000  0.000000e+00   \n",
       "25%     2000.000000      2.000000      2.000000  8.070000e+02   \n",
       "50%     2017.000000      3.000000      2.000000  1.119000e+03   \n",
       "75%     2023.000000      4.000000      3.000000  1.528000e+03   \n",
       "max     2028.000000     10.000000     10.000000  1.496000e+06   \n",
       "\n",
       "       total_num_units           lat           lng         price  \n",
       "count     14602.000000  20254.000000  20254.000000  2.025400e+04  \n",
       "mean        376.253938      1.434282    103.855356  5.228263e+06  \n",
       "std         346.882474      1.558472      3.593441  2.779748e+08  \n",
       "min           4.000000      1.239621    -77.065364  0.000000e+00  \n",
       "25%         106.000000      1.307329    103.806576  8.190000e+05  \n",
       "50%         296.000000      1.329266    103.841552  1.680000e+06  \n",
       "75%         561.000000      1.372461    103.881514  3.242400e+06  \n",
       "max        2612.000000     69.486768    121.023232  3.924243e+10  "
      ]
     },
     "execution_count": 4,
     "metadata": {},
     "output_type": "execute_result"
    }
   ],
   "source": [
    "train.describe()"
   ]
  },
  {
   "cell_type": "markdown",
   "metadata": {},
   "source": [
    "### Adding Distances"
   ]
  },
  {
   "cell_type": "markdown",
   "metadata": {},
   "source": [
    "#### Add distance to commericial centres"
   ]
  },
  {
   "cell_type": "code",
   "execution_count": 5,
   "metadata": {},
   "outputs": [],
   "source": [
    "ccdistance = pd.read_csv('auxiliary-data/sg-commerical-centres.csv')"
   ]
  },
  {
   "cell_type": "code",
   "execution_count": 6,
   "metadata": {},
   "outputs": [],
   "source": [
    "# vectorized haversine function\n",
    "def haversine_np(lon1, lat1, lon2, lat2):\n",
    "    \"\"\"\n",
    "    Calculate the great circle distance between two points\n",
    "    on the earth (specified in decimal degrees)\n",
    "\n",
    "    All args must be of equal length.    \n",
    "\n",
    "    \"\"\"\n",
    "    lon1, lat1, lon2, lat2 = map(np.radians, [lon1, lat1, lon2, lat2])\n",
    "\n",
    "    dlon = lon2 - lon1\n",
    "    dlat = lat2 - lat1\n",
    "\n",
    "    a = np.sin(dlat/2.0)**2 + np.cos(lat1) * np.cos(lat2) * np.sin(dlon/2.0)**2\n",
    "\n",
    "    c = 2 * np.arcsin(np.sqrt(a))\n",
    "    km = 6367 * c\n",
    "    return km\n"
   ]
  },
  {
   "cell_type": "code",
   "execution_count": 7,
   "metadata": {},
   "outputs": [],
   "source": [
    "# train['cc_distance'] = haversine_np(train['lng'], train['lat'], ccdistance['lng'], ccdistance['lat'])\n",
    "expected_result = pd.merge(train, ccdistance, on = 'planning_area')\n",
    "expected_result.head()\n",
    "train['cc_distance'] = haversine_np(train['lng'], train['lat'], expected_result['lng_y'], expected_result['lat_y'])\n",
    "\n",
    "# train['cc_distance'] = haversine_np(train['lng'], train['lat'], ccdistance['lng'], ccdistance['lat'])\n",
    "expected_result = pd.merge(test, ccdistance, on = 'planning_area')\n",
    "expected_result.head()\n",
    "test['cc_distance'] = haversine_np(test['lng'], test['lat'], expected_result['lng_y'], expected_result['lat_y'])"
   ]
  },
  {
   "cell_type": "code",
   "execution_count": 8,
   "metadata": {},
   "outputs": [],
   "source": [
    "ccdistancemean = train['cc_distance'].median()\n",
    "train['cc_distance']=train['cc_distance'].fillna(ccdistancemean)\n",
    "\n",
    "ccdistancemean = test['cc_distance'].median()\n",
    "test['cc_distance']=test['cc_distance'].fillna(ccdistancemean)"
   ]
  },
  {
   "cell_type": "markdown",
   "metadata": {},
   "source": [
    "#### Add distance to mrt stations"
   ]
  },
  {
   "cell_type": "code",
   "execution_count": 9,
   "metadata": {},
   "outputs": [],
   "source": [
    "# using long and lat\n",
    "mrtdistance = pd.read_csv('auxiliary-data/sg-mrt-stations.csv')\n",
    "expected_result = pd.merge(train, mrtdistance, on = 'planning_area')\n",
    "train['mrt_distance'] = haversine_np(train['lng'], train['lat'], expected_result['lng_y'], expected_result['lat_y'])\n",
    "\n",
    "\n",
    "# using long and lat\n",
    "mrtdistance = pd.read_csv('auxiliary-data/sg-mrt-stations.csv')\n",
    "expected_result = pd.merge(test, mrtdistance, on = 'planning_area')\n",
    "test['mrt_distance'] = haversine_np(test['lng'], test['lat'], expected_result['lng_y'], expected_result['lat_y'])"
   ]
  },
  {
   "cell_type": "code",
   "execution_count": 10,
   "metadata": {},
   "outputs": [],
   "source": [
    "mrtdistancemedian = train['mrt_distance'].median()\n",
    "train['mrt_distance']=train['mrt_distance'].fillna(mrtdistancemedian)\n",
    "\n",
    "mrtdistancemedian = test['mrt_distance'].median()\n",
    "test['mrt_distance']=test['mrt_distance'].fillna(mrtdistancemedian)"
   ]
  },
  {
   "cell_type": "markdown",
   "metadata": {},
   "source": [
    "#### Add distance to primary school "
   ]
  },
  {
   "cell_type": "code",
   "execution_count": 11,
   "metadata": {},
   "outputs": [],
   "source": [
    "# using long and lat\n",
    "primaryschooldistance = pd.read_csv('auxiliary-data/sg-primary-schools.csv')\n",
    "expected_result = pd.merge(train, primaryschooldistance, on = 'planning_area')\n",
    "train['primary_school_distance'] = haversine_np(train['lng'], train['lat'], expected_result['lng_y'], expected_result['lat_y'])\n",
    "\n",
    "# using long and lat\n",
    "primaryschooldistance = pd.read_csv('auxiliary-data/sg-primary-schools.csv')\n",
    "expected_result = pd.merge(test, primaryschooldistance, on = 'planning_area')\n",
    "test['primary_school_distance'] = haversine_np(test['lng'], test['lat'], expected_result['lng_y'], expected_result['lat_y'])"
   ]
  },
  {
   "cell_type": "code",
   "execution_count": 12,
   "metadata": {},
   "outputs": [],
   "source": [
    "pschoolmedian = train['primary_school_distance'].median()\n",
    "train['primary_school_distance'] = train['primary_school_distance'].fillna(pschoolmedian)\n",
    "\n",
    "pschoolmedian = test['primary_school_distance'].median()\n",
    "test['primary_school_distance'] = test['primary_school_distance'].fillna(pschoolmedian)"
   ]
  },
  {
   "cell_type": "markdown",
   "metadata": {},
   "source": [
    "#### Add distance to secondary school"
   ]
  },
  {
   "cell_type": "code",
   "execution_count": 13,
   "metadata": {},
   "outputs": [],
   "source": [
    "# using long and lat\n",
    "secschooldistance = pd.read_csv('auxiliary-data/sg-secondary-schools.csv')\n",
    "expected_result = pd.merge(train, secschooldistance, on = 'planning_area')\n",
    "train['secondary_school_distance'] = haversine_np(train['lng'], train['lat'], expected_result['lng_y'], expected_result['lat_y'])\n",
    "\n",
    "# using long and lat\n",
    "secschooldistance = pd.read_csv('auxiliary-data/sg-secondary-schools.csv')\n",
    "expected_result = pd.merge(test, secschooldistance, on = 'planning_area')\n",
    "test['secondary_school_distance'] = haversine_np(test['lng'], test['lat'], expected_result['lng_y'], expected_result['lat_y'])"
   ]
  },
  {
   "cell_type": "code",
   "execution_count": 14,
   "metadata": {},
   "outputs": [],
   "source": [
    "sschooldistance = train['secondary_school_distance'].median()\n",
    "train['secondary_school_distance'] = train['secondary_school_distance'].fillna(sschooldistance)\n",
    "\n",
    "sschooldistance = test['secondary_school_distance'].median()\n",
    "test['secondary_school_distance'] = test['secondary_school_distance'].fillna(sschooldistance)"
   ]
  },
  {
   "cell_type": "markdown",
   "metadata": {},
   "source": [
    "#### Add distance to shopping malls"
   ]
  },
  {
   "cell_type": "code",
   "execution_count": 15,
   "metadata": {},
   "outputs": [],
   "source": [
    "# using long and lat\n",
    "shop_distance = pd.read_csv('auxiliary-data/sg-shopping-malls.csv')\n",
    "expected_result = pd.merge(train, secschooldistance, on = 'planning_area')\n",
    "train['shop_distance'] = haversine_np(train['lng'], train['lat'], expected_result['lng_y'], expected_result['lat_y'])\n",
    "\n",
    "# using long and lat\n",
    "shop_distance = pd.read_csv('auxiliary-data/sg-shopping-malls.csv')\n",
    "expected_result = pd.merge(test, secschooldistance, on = 'planning_area')\n",
    "test['shop_distance'] = haversine_np(test['lng'], test['lat'], expected_result['lng_y'], expected_result['lat_y'])"
   ]
  },
  {
   "cell_type": "code",
   "execution_count": 16,
   "metadata": {},
   "outputs": [],
   "source": [
    "sdistancemedian = train['shop_distance'].median()\n",
    "train['shop_distance'] = train['shop_distance'].fillna(sdistancemedian)\n",
    "\n",
    "sdistancemedian = test['shop_distance'].median()\n",
    "test['shop_distance'] = test['shop_distance'].fillna(sdistancemedian)"
   ]
  },
  {
   "cell_type": "code",
   "execution_count": 17,
   "metadata": {},
   "outputs": [
    {
     "data": {
      "text/html": [
       "<div>\n",
       "<style scoped>\n",
       "    .dataframe tbody tr th:only-of-type {\n",
       "        vertical-align: middle;\n",
       "    }\n",
       "\n",
       "    .dataframe tbody tr th {\n",
       "        vertical-align: top;\n",
       "    }\n",
       "\n",
       "    .dataframe thead th {\n",
       "        text-align: right;\n",
       "    }\n",
       "</style>\n",
       "<table border=\"1\" class=\"dataframe\">\n",
       "  <thead>\n",
       "    <tr style=\"text-align: right;\">\n",
       "      <th></th>\n",
       "      <th>property_type</th>\n",
       "      <th>tenure</th>\n",
       "      <th>built_year</th>\n",
       "      <th>num_beds</th>\n",
       "      <th>num_baths</th>\n",
       "      <th>size_sqft</th>\n",
       "      <th>floor_level</th>\n",
       "      <th>furnishing</th>\n",
       "      <th>available_unit_types</th>\n",
       "      <th>total_num_units</th>\n",
       "      <th>lat</th>\n",
       "      <th>lng</th>\n",
       "      <th>subzone</th>\n",
       "      <th>planning_area</th>\n",
       "      <th>price</th>\n",
       "      <th>cc_distance</th>\n",
       "      <th>mrt_distance</th>\n",
       "      <th>primary_school_distance</th>\n",
       "      <th>secondary_school_distance</th>\n",
       "      <th>shop_distance</th>\n",
       "    </tr>\n",
       "  </thead>\n",
       "  <tbody>\n",
       "    <tr>\n",
       "      <th>0</th>\n",
       "      <td>hdb 4 rooms</td>\n",
       "      <td>NaN</td>\n",
       "      <td>1988.0</td>\n",
       "      <td>3.0</td>\n",
       "      <td>2.0</td>\n",
       "      <td>1115</td>\n",
       "      <td>NaN</td>\n",
       "      <td>unspecified</td>\n",
       "      <td>NaN</td>\n",
       "      <td>116.0</td>\n",
       "      <td>1.414399</td>\n",
       "      <td>103.837196</td>\n",
       "      <td>yishun south</td>\n",
       "      <td>yishun</td>\n",
       "      <td>514500.0</td>\n",
       "      <td>8.027727</td>\n",
       "      <td>1.689357</td>\n",
       "      <td>5.178683</td>\n",
       "      <td>2.538065</td>\n",
       "      <td>2.538065</td>\n",
       "    </tr>\n",
       "    <tr>\n",
       "      <th>1</th>\n",
       "      <td>hdb</td>\n",
       "      <td>99-year leasehold</td>\n",
       "      <td>1992.0</td>\n",
       "      <td>4.0</td>\n",
       "      <td>2.0</td>\n",
       "      <td>1575</td>\n",
       "      <td>NaN</td>\n",
       "      <td>unspecified</td>\n",
       "      <td>1, 2, 3, 4, 5, 6 br</td>\n",
       "      <td>NaN</td>\n",
       "      <td>1.372597</td>\n",
       "      <td>103.875625</td>\n",
       "      <td>serangoon north</td>\n",
       "      <td>serangoon</td>\n",
       "      <td>995400.0</td>\n",
       "      <td>2.400374</td>\n",
       "      <td>6.871207</td>\n",
       "      <td>8.310177</td>\n",
       "      <td>6.710202</td>\n",
       "      <td>6.710202</td>\n",
       "    </tr>\n",
       "    <tr>\n",
       "      <th>2</th>\n",
       "      <td>condo</td>\n",
       "      <td>freehold</td>\n",
       "      <td>2022.0</td>\n",
       "      <td>4.0</td>\n",
       "      <td>6.0</td>\n",
       "      <td>3070</td>\n",
       "      <td>low</td>\n",
       "      <td>partial</td>\n",
       "      <td>studio, 3, 4, 5, 6 br</td>\n",
       "      <td>56.0</td>\n",
       "      <td>1.298773</td>\n",
       "      <td>103.895798</td>\n",
       "      <td>mountbatten</td>\n",
       "      <td>marine parade</td>\n",
       "      <td>8485000.0</td>\n",
       "      <td>6.389766</td>\n",
       "      <td>13.983476</td>\n",
       "      <td>9.485153</td>\n",
       "      <td>15.197137</td>\n",
       "      <td>15.197137</td>\n",
       "    </tr>\n",
       "    <tr>\n",
       "      <th>3</th>\n",
       "      <td>Condo</td>\n",
       "      <td>freehold</td>\n",
       "      <td>2023.0</td>\n",
       "      <td>3.0</td>\n",
       "      <td>2.0</td>\n",
       "      <td>958</td>\n",
       "      <td>NaN</td>\n",
       "      <td>partial</td>\n",
       "      <td>studio, 1, 2, 3, 4 br</td>\n",
       "      <td>638.0</td>\n",
       "      <td>1.312364</td>\n",
       "      <td>103.803271</td>\n",
       "      <td>farrer court</td>\n",
       "      <td>bukit timah</td>\n",
       "      <td>2626000.0</td>\n",
       "      <td>8.802339</td>\n",
       "      <td>13.479646</td>\n",
       "      <td>3.290085</td>\n",
       "      <td>12.950660</td>\n",
       "      <td>12.950660</td>\n",
       "    </tr>\n",
       "    <tr>\n",
       "      <th>4</th>\n",
       "      <td>condo</td>\n",
       "      <td>99-year leasehold</td>\n",
       "      <td>2026.0</td>\n",
       "      <td>2.0</td>\n",
       "      <td>1.0</td>\n",
       "      <td>732</td>\n",
       "      <td>NaN</td>\n",
       "      <td>unspecified</td>\n",
       "      <td>studio, 1, 2, 3, 4, 5 br</td>\n",
       "      <td>351.0</td>\n",
       "      <td>1.273959</td>\n",
       "      <td>103.843635</td>\n",
       "      <td>anson</td>\n",
       "      <td>downtown core</td>\n",
       "      <td>1764000.0</td>\n",
       "      <td>9.160635</td>\n",
       "      <td>15.981982</td>\n",
       "      <td>13.818954</td>\n",
       "      <td>17.977600</td>\n",
       "      <td>17.977600</td>\n",
       "    </tr>\n",
       "  </tbody>\n",
       "</table>\n",
       "</div>"
      ],
      "text/plain": [
       "  property_type             tenure  built_year  num_beds  num_baths  \\\n",
       "0   hdb 4 rooms                NaN      1988.0       3.0        2.0   \n",
       "1           hdb  99-year leasehold      1992.0       4.0        2.0   \n",
       "2         condo           freehold      2022.0       4.0        6.0   \n",
       "3         Condo           freehold      2023.0       3.0        2.0   \n",
       "4         condo  99-year leasehold      2026.0       2.0        1.0   \n",
       "\n",
       "   size_sqft floor_level   furnishing      available_unit_types  \\\n",
       "0       1115         NaN  unspecified                       NaN   \n",
       "1       1575         NaN  unspecified       1, 2, 3, 4, 5, 6 br   \n",
       "2       3070         low      partial     studio, 3, 4, 5, 6 br   \n",
       "3        958         NaN      partial     studio, 1, 2, 3, 4 br   \n",
       "4        732         NaN  unspecified  studio, 1, 2, 3, 4, 5 br   \n",
       "\n",
       "   total_num_units       lat         lng          subzone  planning_area  \\\n",
       "0            116.0  1.414399  103.837196     yishun south         yishun   \n",
       "1              NaN  1.372597  103.875625  serangoon north      serangoon   \n",
       "2             56.0  1.298773  103.895798      mountbatten  marine parade   \n",
       "3            638.0  1.312364  103.803271     farrer court    bukit timah   \n",
       "4            351.0  1.273959  103.843635            anson  downtown core   \n",
       "\n",
       "       price  cc_distance  mrt_distance  primary_school_distance  \\\n",
       "0   514500.0     8.027727      1.689357                 5.178683   \n",
       "1   995400.0     2.400374      6.871207                 8.310177   \n",
       "2  8485000.0     6.389766     13.983476                 9.485153   \n",
       "3  2626000.0     8.802339     13.479646                 3.290085   \n",
       "4  1764000.0     9.160635     15.981982                13.818954   \n",
       "\n",
       "   secondary_school_distance  shop_distance  \n",
       "0                   2.538065       2.538065  \n",
       "1                   6.710202       6.710202  \n",
       "2                  15.197137      15.197137  \n",
       "3                  12.950660      12.950660  \n",
       "4                  17.977600      17.977600  "
      ]
     },
     "execution_count": 17,
     "metadata": {},
     "output_type": "execute_result"
    }
   ],
   "source": [
    "train.head()"
   ]
  },
  {
   "cell_type": "markdown",
   "metadata": {},
   "source": [
    "### Population"
   ]
  },
  {
   "cell_type": "code",
   "execution_count": 18,
   "metadata": {},
   "outputs": [],
   "source": [
    "population = pd.read_csv('auxiliary-data/sg-subzones.csv')"
   ]
  },
  {
   "cell_type": "code",
   "execution_count": 19,
   "metadata": {},
   "outputs": [],
   "source": [
    "expected_result = pd.merge(train, population, on = 'planning_area')\n",
    "train['population'] = expected_result['population']\n",
    "train['area_size'] = expected_result['area_size']"
   ]
  },
  {
   "cell_type": "code",
   "execution_count": 20,
   "metadata": {},
   "outputs": [],
   "source": [
    "expected_result = pd.merge(test, population, on = 'planning_area')\n",
    "test['population'] = expected_result['population']\n",
    "test['area_size'] = expected_result['area_size']"
   ]
  },
  {
   "cell_type": "code",
   "execution_count": 21,
   "metadata": {},
   "outputs": [
    {
     "data": {
      "text/html": [
       "<div>\n",
       "<style scoped>\n",
       "    .dataframe tbody tr th:only-of-type {\n",
       "        vertical-align: middle;\n",
       "    }\n",
       "\n",
       "    .dataframe tbody tr th {\n",
       "        vertical-align: top;\n",
       "    }\n",
       "\n",
       "    .dataframe thead th {\n",
       "        text-align: right;\n",
       "    }\n",
       "</style>\n",
       "<table border=\"1\" class=\"dataframe\">\n",
       "  <thead>\n",
       "    <tr style=\"text-align: right;\">\n",
       "      <th></th>\n",
       "      <th>property_type</th>\n",
       "      <th>tenure</th>\n",
       "      <th>built_year</th>\n",
       "      <th>num_beds</th>\n",
       "      <th>num_baths</th>\n",
       "      <th>size_sqft</th>\n",
       "      <th>floor_level</th>\n",
       "      <th>furnishing</th>\n",
       "      <th>available_unit_types</th>\n",
       "      <th>total_num_units</th>\n",
       "      <th>...</th>\n",
       "      <th>subzone</th>\n",
       "      <th>planning_area</th>\n",
       "      <th>price</th>\n",
       "      <th>cc_distance</th>\n",
       "      <th>mrt_distance</th>\n",
       "      <th>primary_school_distance</th>\n",
       "      <th>secondary_school_distance</th>\n",
       "      <th>shop_distance</th>\n",
       "      <th>population</th>\n",
       "      <th>area_size</th>\n",
       "    </tr>\n",
       "  </thead>\n",
       "  <tbody>\n",
       "    <tr>\n",
       "      <th>0</th>\n",
       "      <td>hdb 4 rooms</td>\n",
       "      <td>NaN</td>\n",
       "      <td>1988.0</td>\n",
       "      <td>3.0</td>\n",
       "      <td>2.0</td>\n",
       "      <td>1115</td>\n",
       "      <td>NaN</td>\n",
       "      <td>unspecified</td>\n",
       "      <td>NaN</td>\n",
       "      <td>116.0</td>\n",
       "      <td>...</td>\n",
       "      <td>yishun south</td>\n",
       "      <td>yishun</td>\n",
       "      <td>514500.0</td>\n",
       "      <td>8.027727</td>\n",
       "      <td>1.689357</td>\n",
       "      <td>5.178683</td>\n",
       "      <td>2.538065</td>\n",
       "      <td>2.538065</td>\n",
       "      <td>10250</td>\n",
       "      <td>1.4329</td>\n",
       "    </tr>\n",
       "    <tr>\n",
       "      <th>1</th>\n",
       "      <td>hdb</td>\n",
       "      <td>99-year leasehold</td>\n",
       "      <td>1992.0</td>\n",
       "      <td>4.0</td>\n",
       "      <td>2.0</td>\n",
       "      <td>1575</td>\n",
       "      <td>NaN</td>\n",
       "      <td>unspecified</td>\n",
       "      <td>1, 2, 3, 4, 5, 6 br</td>\n",
       "      <td>NaN</td>\n",
       "      <td>...</td>\n",
       "      <td>serangoon north</td>\n",
       "      <td>serangoon</td>\n",
       "      <td>995400.0</td>\n",
       "      <td>2.400374</td>\n",
       "      <td>6.871207</td>\n",
       "      <td>8.310177</td>\n",
       "      <td>6.710202</td>\n",
       "      <td>6.710202</td>\n",
       "      <td>18660</td>\n",
       "      <td>8.4055</td>\n",
       "    </tr>\n",
       "    <tr>\n",
       "      <th>2</th>\n",
       "      <td>condo</td>\n",
       "      <td>freehold</td>\n",
       "      <td>2022.0</td>\n",
       "      <td>4.0</td>\n",
       "      <td>6.0</td>\n",
       "      <td>3070</td>\n",
       "      <td>low</td>\n",
       "      <td>partial</td>\n",
       "      <td>studio, 3, 4, 5, 6 br</td>\n",
       "      <td>56.0</td>\n",
       "      <td>...</td>\n",
       "      <td>mountbatten</td>\n",
       "      <td>marine parade</td>\n",
       "      <td>8485000.0</td>\n",
       "      <td>6.389766</td>\n",
       "      <td>13.983476</td>\n",
       "      <td>9.485153</td>\n",
       "      <td>15.197137</td>\n",
       "      <td>15.197137</td>\n",
       "      <td>890</td>\n",
       "      <td>2.2068</td>\n",
       "    </tr>\n",
       "    <tr>\n",
       "      <th>3</th>\n",
       "      <td>Condo</td>\n",
       "      <td>freehold</td>\n",
       "      <td>2023.0</td>\n",
       "      <td>3.0</td>\n",
       "      <td>2.0</td>\n",
       "      <td>958</td>\n",
       "      <td>NaN</td>\n",
       "      <td>partial</td>\n",
       "      <td>studio, 1, 2, 3, 4 br</td>\n",
       "      <td>638.0</td>\n",
       "      <td>...</td>\n",
       "      <td>farrer court</td>\n",
       "      <td>bukit timah</td>\n",
       "      <td>2626000.0</td>\n",
       "      <td>8.802339</td>\n",
       "      <td>13.479646</td>\n",
       "      <td>3.290085</td>\n",
       "      <td>12.950660</td>\n",
       "      <td>12.950660</td>\n",
       "      <td>28000</td>\n",
       "      <td>1.5110</td>\n",
       "    </tr>\n",
       "    <tr>\n",
       "      <th>4</th>\n",
       "      <td>condo</td>\n",
       "      <td>99-year leasehold</td>\n",
       "      <td>2026.0</td>\n",
       "      <td>2.0</td>\n",
       "      <td>1.0</td>\n",
       "      <td>732</td>\n",
       "      <td>NaN</td>\n",
       "      <td>unspecified</td>\n",
       "      <td>studio, 1, 2, 3, 4, 5 br</td>\n",
       "      <td>351.0</td>\n",
       "      <td>...</td>\n",
       "      <td>anson</td>\n",
       "      <td>downtown core</td>\n",
       "      <td>1764000.0</td>\n",
       "      <td>9.160635</td>\n",
       "      <td>15.981982</td>\n",
       "      <td>13.818954</td>\n",
       "      <td>17.977600</td>\n",
       "      <td>17.977600</td>\n",
       "      <td>4370</td>\n",
       "      <td>2.2092</td>\n",
       "    </tr>\n",
       "  </tbody>\n",
       "</table>\n",
       "<p>5 rows × 22 columns</p>\n",
       "</div>"
      ],
      "text/plain": [
       "  property_type             tenure  built_year  num_beds  num_baths  \\\n",
       "0   hdb 4 rooms                NaN      1988.0       3.0        2.0   \n",
       "1           hdb  99-year leasehold      1992.0       4.0        2.0   \n",
       "2         condo           freehold      2022.0       4.0        6.0   \n",
       "3         Condo           freehold      2023.0       3.0        2.0   \n",
       "4         condo  99-year leasehold      2026.0       2.0        1.0   \n",
       "\n",
       "   size_sqft floor_level   furnishing      available_unit_types  \\\n",
       "0       1115         NaN  unspecified                       NaN   \n",
       "1       1575         NaN  unspecified       1, 2, 3, 4, 5, 6 br   \n",
       "2       3070         low      partial     studio, 3, 4, 5, 6 br   \n",
       "3        958         NaN      partial     studio, 1, 2, 3, 4 br   \n",
       "4        732         NaN  unspecified  studio, 1, 2, 3, 4, 5 br   \n",
       "\n",
       "   total_num_units  ...          subzone  planning_area      price  \\\n",
       "0            116.0  ...     yishun south         yishun   514500.0   \n",
       "1              NaN  ...  serangoon north      serangoon   995400.0   \n",
       "2             56.0  ...      mountbatten  marine parade  8485000.0   \n",
       "3            638.0  ...     farrer court    bukit timah  2626000.0   \n",
       "4            351.0  ...            anson  downtown core  1764000.0   \n",
       "\n",
       "  cc_distance  mrt_distance  primary_school_distance  \\\n",
       "0    8.027727      1.689357                 5.178683   \n",
       "1    2.400374      6.871207                 8.310177   \n",
       "2    6.389766     13.983476                 9.485153   \n",
       "3    8.802339     13.479646                 3.290085   \n",
       "4    9.160635     15.981982                13.818954   \n",
       "\n",
       "   secondary_school_distance  shop_distance  population  area_size  \n",
       "0                   2.538065       2.538065       10250     1.4329  \n",
       "1                   6.710202       6.710202       18660     8.4055  \n",
       "2                  15.197137      15.197137         890     2.2068  \n",
       "3                  12.950660      12.950660       28000     1.5110  \n",
       "4                  17.977600      17.977600        4370     2.2092  \n",
       "\n",
       "[5 rows x 22 columns]"
      ]
     },
     "execution_count": 21,
     "metadata": {},
     "output_type": "execute_result"
    }
   ],
   "source": [
    "train.head()"
   ]
  },
  {
   "cell_type": "markdown",
   "metadata": {},
   "source": [
    "### Property Type cleaning"
   ]
  },
  {
   "cell_type": "code",
   "execution_count": 22,
   "metadata": {},
   "outputs": [],
   "source": [
    "#Change all to uppercase\n",
    "train['property_type']=train['property_type'].str.upper()\n",
    "\n",
    "#Change all to uppercase\n",
    "test['property_type']=test['property_type'].str.upper()"
   ]
  },
  {
   "cell_type": "code",
   "execution_count": 23,
   "metadata": {},
   "outputs": [],
   "source": [
    "#for regression only\n",
    "# from sklearn import preprocessing\n",
    "# le = preprocessing.LabelEncoder()\n",
    "# le.fit(train['property_type'])\n",
    "# train['property_type']=le.transform(train['property_type'])\n",
    "\n",
    "# test['property_type']=le.transform(test['property_type'])\n",
    "\n",
    "# one hot endcoding\n",
    "# pd.get_dummies(train.property_type, prefix='property')"
   ]
  },
  {
   "cell_type": "markdown",
   "metadata": {},
   "source": [
    "### Tenure "
   ]
  },
  {
   "cell_type": "code",
   "execution_count": 24,
   "metadata": {},
   "outputs": [],
   "source": [
    "train['tenure'] = train['tenure'].replace(\n",
    "    [\n",
    "    '99-year leasehold',\n",
    "    '110-year leasehold',\n",
    "    '103-year leasehold',\n",
    "    '102-year leasehold',\n",
    "    '100-year leasehold',\n",
    "    ],\n",
    "    '99-year leasehold'\n",
    ")\n",
    "\n",
    "train['tenure'] = train['tenure'].replace(\n",
    "    [\n",
    "    '946-year leasehold',\n",
    "    '999-year leasehold',\n",
    "    '956-year leasehold',\n",
    "    '929-year leasehold',\n",
    "    '947-year leasehold',\n",
    "    ],\n",
    "    '999-year leasehold'\n",
    ")\n",
    "\n",
    "\n",
    "\n",
    "test['tenure'] = test['tenure'].replace(\n",
    "    [\n",
    "    '99-year leasehold',\n",
    "    '110-year leasehold',\n",
    "    '103-year leasehold',\n",
    "    '102-year leasehold',\n",
    "    '100-year leasehold',\n",
    "    ],\n",
    "    '99-year leasehold'\n",
    ")\n",
    "\n",
    "test['tenure'] = test['tenure'].replace(\n",
    "    [\n",
    "    '946-year leasehold',\n",
    "    '999-year leasehold',\n",
    "    '956-year leasehold',\n",
    "    '929-year leasehold',\n",
    "    '947-year leasehold',\n",
    "    ],\n",
    "    '999-year leasehold'\n",
    ")"
   ]
  },
  {
   "cell_type": "code",
   "execution_count": 25,
   "metadata": {},
   "outputs": [],
   "source": [
    "test['tenure'] = test['tenure'].fillna('99-year leasehold')"
   ]
  },
  {
   "cell_type": "code",
   "execution_count": 26,
   "metadata": {},
   "outputs": [],
   "source": [
    "train['tenure'] = train['tenure'].fillna('99-year leasehold')"
   ]
  },
  {
   "cell_type": "code",
   "execution_count": 27,
   "metadata": {},
   "outputs": [],
   "source": [
    "## Remove NA \n",
    "train = train.dropna(subset=['tenure'])\n",
    "\n",
    "## Remove NA \n",
    "test['tenure'] = test['tenure'].fillna('99-year leasehold')"
   ]
  },
  {
   "cell_type": "code",
   "execution_count": 28,
   "metadata": {},
   "outputs": [],
   "source": [
    "#for regression only\n",
    "\n",
    "# from sklearn import preprocessing\n",
    "# tenurepp = preprocessing.LabelEncoder()\n",
    "# tenurepp.fit(train['tenure'])\n",
    "# train['tenure']=tenurepp.transform(train['tenure'])\n",
    "\n",
    "# test['tenure']=tenurepp.transform(test['tenure'])"
   ]
  },
  {
   "cell_type": "markdown",
   "metadata": {},
   "source": [
    "### Funishing"
   ]
  },
  {
   "cell_type": "code",
   "execution_count": 29,
   "metadata": {},
   "outputs": [],
   "source": [
    "#Assume not specified and na as unfurnished \n",
    "train['furnishing'] = train['furnishing'].replace(\n",
    "    [\n",
    "    'na',\n",
    "    'unspecified',\n",
    "    ],\n",
    "    'unfurnished'\n",
    ")\n",
    "\n",
    "#Assume not specified and na as unfurnished \n",
    "test['furnishing'] = test['furnishing'].replace(\n",
    "    [\n",
    "    'na',\n",
    "    'unspecified',\n",
    "    ],\n",
    "    'unfurnished'\n",
    ")"
   ]
  },
  {
   "cell_type": "code",
   "execution_count": 30,
   "metadata": {},
   "outputs": [],
   "source": [
    "#for regression only\n",
    "\n",
    "# from sklearn import preprocessing\n",
    "# furnishing = preprocessing.LabelEncoder()\n",
    "# furnishing.fit(train['furnishing'])\n",
    "# train['furnishing']=furnishing.transform(train['furnishing'])\n",
    "\n",
    "# test['furnishing']=furnishing.transform(test['furnishing'])"
   ]
  },
  {
   "cell_type": "markdown",
   "metadata": {},
   "source": [
    "### floor_level "
   ]
  },
  {
   "cell_type": "code",
   "execution_count": 31,
   "metadata": {},
   "outputs": [],
   "source": [
    "# Too few data for floor level, we should just take out the column\n",
    "train = train.drop(columns='floor_level')\n",
    "\n",
    "# Too few data for floor level, we should just take out the column\n",
    "test = test.drop(columns='floor_level')"
   ]
  },
  {
   "cell_type": "markdown",
   "metadata": {},
   "source": [
    "### total_num_units"
   ]
  },
  {
   "cell_type": "code",
   "execution_count": 32,
   "metadata": {},
   "outputs": [],
   "source": [
    "mediantotalunit = train['total_num_units'].median()\n",
    "train['total_num_units'].fillna(mediantotalunit, inplace=True)\n",
    "\n",
    "mediantotalunit = test['total_num_units'].median()\n",
    "test['total_num_units'].fillna(mediantotalunit, inplace=True)"
   ]
  },
  {
   "cell_type": "markdown",
   "metadata": {},
   "source": [
    "### build year"
   ]
  },
  {
   "cell_type": "code",
   "execution_count": 33,
   "metadata": {},
   "outputs": [],
   "source": [
    "avgbuildyear = round(train['built_year'].median(),0)\n",
    "train['built_year'] = train['built_year'].fillna(avgbuildyear)\n",
    "\n",
    "avgbuildyear = round(test['built_year'].median(),0)\n",
    "test['built_year'] = test['built_year'].fillna(avgbuildyear)"
   ]
  },
  {
   "cell_type": "markdown",
   "metadata": {},
   "source": [
    "### num_baths"
   ]
  },
  {
   "cell_type": "code",
   "execution_count": 34,
   "metadata": {},
   "outputs": [
    {
     "data": {
      "text/html": [
       "<div>\n",
       "<style scoped>\n",
       "    .dataframe tbody tr th:only-of-type {\n",
       "        vertical-align: middle;\n",
       "    }\n",
       "\n",
       "    .dataframe tbody tr th {\n",
       "        vertical-align: top;\n",
       "    }\n",
       "\n",
       "    .dataframe thead th {\n",
       "        text-align: right;\n",
       "    }\n",
       "</style>\n",
       "<table border=\"1\" class=\"dataframe\">\n",
       "  <thead>\n",
       "    <tr style=\"text-align: right;\">\n",
       "      <th></th>\n",
       "      <th>property_type</th>\n",
       "      <th>tenure</th>\n",
       "      <th>built_year</th>\n",
       "      <th>num_beds</th>\n",
       "      <th>num_baths</th>\n",
       "      <th>size_sqft</th>\n",
       "      <th>furnishing</th>\n",
       "      <th>available_unit_types</th>\n",
       "      <th>total_num_units</th>\n",
       "      <th>lat</th>\n",
       "      <th>...</th>\n",
       "      <th>subzone</th>\n",
       "      <th>planning_area</th>\n",
       "      <th>price</th>\n",
       "      <th>cc_distance</th>\n",
       "      <th>mrt_distance</th>\n",
       "      <th>primary_school_distance</th>\n",
       "      <th>secondary_school_distance</th>\n",
       "      <th>shop_distance</th>\n",
       "      <th>population</th>\n",
       "      <th>area_size</th>\n",
       "    </tr>\n",
       "  </thead>\n",
       "  <tbody>\n",
       "    <tr>\n",
       "      <th>0</th>\n",
       "      <td>HDB 4 ROOMS</td>\n",
       "      <td>99-year leasehold</td>\n",
       "      <td>1988.0</td>\n",
       "      <td>3.0</td>\n",
       "      <td>2.0</td>\n",
       "      <td>1115</td>\n",
       "      <td>unfurnished</td>\n",
       "      <td>NaN</td>\n",
       "      <td>116.0</td>\n",
       "      <td>1.414399</td>\n",
       "      <td>...</td>\n",
       "      <td>yishun south</td>\n",
       "      <td>yishun</td>\n",
       "      <td>514500.0</td>\n",
       "      <td>8.027727</td>\n",
       "      <td>1.689357</td>\n",
       "      <td>5.178683</td>\n",
       "      <td>2.538065</td>\n",
       "      <td>2.538065</td>\n",
       "      <td>10250</td>\n",
       "      <td>1.4329</td>\n",
       "    </tr>\n",
       "    <tr>\n",
       "      <th>1</th>\n",
       "      <td>HDB</td>\n",
       "      <td>99-year leasehold</td>\n",
       "      <td>1992.0</td>\n",
       "      <td>4.0</td>\n",
       "      <td>2.0</td>\n",
       "      <td>1575</td>\n",
       "      <td>unfurnished</td>\n",
       "      <td>1, 2, 3, 4, 5, 6 br</td>\n",
       "      <td>296.0</td>\n",
       "      <td>1.372597</td>\n",
       "      <td>...</td>\n",
       "      <td>serangoon north</td>\n",
       "      <td>serangoon</td>\n",
       "      <td>995400.0</td>\n",
       "      <td>2.400374</td>\n",
       "      <td>6.871207</td>\n",
       "      <td>8.310177</td>\n",
       "      <td>6.710202</td>\n",
       "      <td>6.710202</td>\n",
       "      <td>18660</td>\n",
       "      <td>8.4055</td>\n",
       "    </tr>\n",
       "    <tr>\n",
       "      <th>2</th>\n",
       "      <td>CONDO</td>\n",
       "      <td>freehold</td>\n",
       "      <td>2022.0</td>\n",
       "      <td>4.0</td>\n",
       "      <td>6.0</td>\n",
       "      <td>3070</td>\n",
       "      <td>partial</td>\n",
       "      <td>studio, 3, 4, 5, 6 br</td>\n",
       "      <td>56.0</td>\n",
       "      <td>1.298773</td>\n",
       "      <td>...</td>\n",
       "      <td>mountbatten</td>\n",
       "      <td>marine parade</td>\n",
       "      <td>8485000.0</td>\n",
       "      <td>6.389766</td>\n",
       "      <td>13.983476</td>\n",
       "      <td>9.485153</td>\n",
       "      <td>15.197137</td>\n",
       "      <td>15.197137</td>\n",
       "      <td>890</td>\n",
       "      <td>2.2068</td>\n",
       "    </tr>\n",
       "    <tr>\n",
       "      <th>3</th>\n",
       "      <td>CONDO</td>\n",
       "      <td>freehold</td>\n",
       "      <td>2023.0</td>\n",
       "      <td>3.0</td>\n",
       "      <td>2.0</td>\n",
       "      <td>958</td>\n",
       "      <td>partial</td>\n",
       "      <td>studio, 1, 2, 3, 4 br</td>\n",
       "      <td>638.0</td>\n",
       "      <td>1.312364</td>\n",
       "      <td>...</td>\n",
       "      <td>farrer court</td>\n",
       "      <td>bukit timah</td>\n",
       "      <td>2626000.0</td>\n",
       "      <td>8.802339</td>\n",
       "      <td>13.479646</td>\n",
       "      <td>3.290085</td>\n",
       "      <td>12.950660</td>\n",
       "      <td>12.950660</td>\n",
       "      <td>28000</td>\n",
       "      <td>1.5110</td>\n",
       "    </tr>\n",
       "    <tr>\n",
       "      <th>4</th>\n",
       "      <td>CONDO</td>\n",
       "      <td>99-year leasehold</td>\n",
       "      <td>2026.0</td>\n",
       "      <td>2.0</td>\n",
       "      <td>1.0</td>\n",
       "      <td>732</td>\n",
       "      <td>unfurnished</td>\n",
       "      <td>studio, 1, 2, 3, 4, 5 br</td>\n",
       "      <td>351.0</td>\n",
       "      <td>1.273959</td>\n",
       "      <td>...</td>\n",
       "      <td>anson</td>\n",
       "      <td>downtown core</td>\n",
       "      <td>1764000.0</td>\n",
       "      <td>9.160635</td>\n",
       "      <td>15.981982</td>\n",
       "      <td>13.818954</td>\n",
       "      <td>17.977600</td>\n",
       "      <td>17.977600</td>\n",
       "      <td>4370</td>\n",
       "      <td>2.2092</td>\n",
       "    </tr>\n",
       "  </tbody>\n",
       "</table>\n",
       "<p>5 rows × 21 columns</p>\n",
       "</div>"
      ],
      "text/plain": [
       "  property_type             tenure  built_year  num_beds  num_baths  \\\n",
       "0   HDB 4 ROOMS  99-year leasehold      1988.0       3.0        2.0   \n",
       "1           HDB  99-year leasehold      1992.0       4.0        2.0   \n",
       "2         CONDO           freehold      2022.0       4.0        6.0   \n",
       "3         CONDO           freehold      2023.0       3.0        2.0   \n",
       "4         CONDO  99-year leasehold      2026.0       2.0        1.0   \n",
       "\n",
       "   size_sqft   furnishing      available_unit_types  total_num_units  \\\n",
       "0       1115  unfurnished                       NaN            116.0   \n",
       "1       1575  unfurnished       1, 2, 3, 4, 5, 6 br            296.0   \n",
       "2       3070      partial     studio, 3, 4, 5, 6 br             56.0   \n",
       "3        958      partial     studio, 1, 2, 3, 4 br            638.0   \n",
       "4        732  unfurnished  studio, 1, 2, 3, 4, 5 br            351.0   \n",
       "\n",
       "        lat  ...          subzone  planning_area      price  cc_distance  \\\n",
       "0  1.414399  ...     yishun south         yishun   514500.0     8.027727   \n",
       "1  1.372597  ...  serangoon north      serangoon   995400.0     2.400374   \n",
       "2  1.298773  ...      mountbatten  marine parade  8485000.0     6.389766   \n",
       "3  1.312364  ...     farrer court    bukit timah  2626000.0     8.802339   \n",
       "4  1.273959  ...            anson  downtown core  1764000.0     9.160635   \n",
       "\n",
       "   mrt_distance  primary_school_distance  secondary_school_distance  \\\n",
       "0      1.689357                 5.178683                   2.538065   \n",
       "1      6.871207                 8.310177                   6.710202   \n",
       "2     13.983476                 9.485153                  15.197137   \n",
       "3     13.479646                 3.290085                  12.950660   \n",
       "4     15.981982                13.818954                  17.977600   \n",
       "\n",
       "   shop_distance  population  area_size  \n",
       "0       2.538065       10250     1.4329  \n",
       "1       6.710202       18660     8.4055  \n",
       "2      15.197137         890     2.2068  \n",
       "3      12.950660       28000     1.5110  \n",
       "4      17.977600        4370     2.2092  \n",
       "\n",
       "[5 rows x 21 columns]"
      ]
     },
     "execution_count": 34,
     "metadata": {},
     "output_type": "execute_result"
    }
   ],
   "source": [
    "train.head()"
   ]
  },
  {
   "cell_type": "code",
   "execution_count": 35,
   "metadata": {},
   "outputs": [
    {
     "data": {
      "text/plain": [
       "property_type                 object\n",
       "tenure                        object\n",
       "built_year                   float64\n",
       "num_beds                     float64\n",
       "num_baths                    float64\n",
       "size_sqft                      int64\n",
       "furnishing                    object\n",
       "available_unit_types          object\n",
       "total_num_units              float64\n",
       "lat                          float64\n",
       "lng                          float64\n",
       "subzone                       object\n",
       "planning_area                 object\n",
       "price                        float64\n",
       "cc_distance                  float64\n",
       "mrt_distance                 float64\n",
       "primary_school_distance      float64\n",
       "secondary_school_distance    float64\n",
       "shop_distance                float64\n",
       "population                     int64\n",
       "area_size                    float64\n",
       "dtype: object"
      ]
     },
     "execution_count": 35,
     "metadata": {},
     "output_type": "execute_result"
    }
   ],
   "source": [
    "train.dtypes"
   ]
  },
  {
   "cell_type": "code",
   "execution_count": 36,
   "metadata": {},
   "outputs": [
    {
     "data": {
      "text/html": [
       "<div>\n",
       "<style scoped>\n",
       "    .dataframe tbody tr th:only-of-type {\n",
       "        vertical-align: middle;\n",
       "    }\n",
       "\n",
       "    .dataframe tbody tr th {\n",
       "        vertical-align: top;\n",
       "    }\n",
       "\n",
       "    .dataframe thead th {\n",
       "        text-align: right;\n",
       "    }\n",
       "</style>\n",
       "<table border=\"1\" class=\"dataframe\">\n",
       "  <thead>\n",
       "    <tr style=\"text-align: right;\">\n",
       "      <th></th>\n",
       "      <th>property_type</th>\n",
       "      <th>tenure</th>\n",
       "      <th>built_year</th>\n",
       "      <th>num_beds</th>\n",
       "      <th>num_baths</th>\n",
       "      <th>size_sqft</th>\n",
       "      <th>furnishing</th>\n",
       "      <th>available_unit_types</th>\n",
       "      <th>total_num_units</th>\n",
       "      <th>lat</th>\n",
       "      <th>...</th>\n",
       "      <th>subzone</th>\n",
       "      <th>planning_area</th>\n",
       "      <th>price</th>\n",
       "      <th>cc_distance</th>\n",
       "      <th>mrt_distance</th>\n",
       "      <th>primary_school_distance</th>\n",
       "      <th>secondary_school_distance</th>\n",
       "      <th>shop_distance</th>\n",
       "      <th>population</th>\n",
       "      <th>area_size</th>\n",
       "    </tr>\n",
       "  </thead>\n",
       "  <tbody>\n",
       "    <tr>\n",
       "      <th>3713</th>\n",
       "      <td>BUNGALOW</td>\n",
       "      <td>freehold</td>\n",
       "      <td>1990.0</td>\n",
       "      <td>NaN</td>\n",
       "      <td>NaN</td>\n",
       "      <td>9594</td>\n",
       "      <td>unfurnished</td>\n",
       "      <td>studio, 1, 4, 5, 6, 7 br</td>\n",
       "      <td>296.0</td>\n",
       "      <td>1.319714</td>\n",
       "      <td>...</td>\n",
       "      <td>malcolm</td>\n",
       "      <td>novena</td>\n",
       "      <td>16275000.0</td>\n",
       "      <td>5.668353</td>\n",
       "      <td>5.872226</td>\n",
       "      <td>6.905858</td>\n",
       "      <td>11.134265</td>\n",
       "      <td>11.134265</td>\n",
       "      <td>2620</td>\n",
       "      <td>0.4364</td>\n",
       "    </tr>\n",
       "    <tr>\n",
       "      <th>4691</th>\n",
       "      <td>CONDO</td>\n",
       "      <td>99-year leasehold</td>\n",
       "      <td>2023.0</td>\n",
       "      <td>NaN</td>\n",
       "      <td>NaN</td>\n",
       "      <td>431</td>\n",
       "      <td>unfurnished</td>\n",
       "      <td>studio, 1, 2, 3, 4, 5, 8 br</td>\n",
       "      <td>774.0</td>\n",
       "      <td>1.283016</td>\n",
       "      <td>...</td>\n",
       "      <td>pearl's hill</td>\n",
       "      <td>outram</td>\n",
       "      <td>1222200.0</td>\n",
       "      <td>5.825357</td>\n",
       "      <td>8.355056</td>\n",
       "      <td>11.798265</td>\n",
       "      <td>15.372730</td>\n",
       "      <td>15.372730</td>\n",
       "      <td>890</td>\n",
       "      <td>2.2068</td>\n",
       "    </tr>\n",
       "    <tr>\n",
       "      <th>4939</th>\n",
       "      <td>HDB</td>\n",
       "      <td>99-year leasehold</td>\n",
       "      <td>1980.0</td>\n",
       "      <td>NaN</td>\n",
       "      <td>NaN</td>\n",
       "      <td>731</td>\n",
       "      <td>unfurnished</td>\n",
       "      <td>NaN</td>\n",
       "      <td>112.0</td>\n",
       "      <td>1.331612</td>\n",
       "      <td>...</td>\n",
       "      <td>bedok north</td>\n",
       "      <td>bedok</td>\n",
       "      <td>367500.0</td>\n",
       "      <td>15.229001</td>\n",
       "      <td>7.025831</td>\n",
       "      <td>8.583307</td>\n",
       "      <td>13.354867</td>\n",
       "      <td>13.354867</td>\n",
       "      <td>42240</td>\n",
       "      <td>1.3402</td>\n",
       "    </tr>\n",
       "    <tr>\n",
       "      <th>5002</th>\n",
       "      <td>HDB</td>\n",
       "      <td>99-year leasehold</td>\n",
       "      <td>2004.0</td>\n",
       "      <td>NaN</td>\n",
       "      <td>NaN</td>\n",
       "      <td>1184</td>\n",
       "      <td>unfurnished</td>\n",
       "      <td>NaN</td>\n",
       "      <td>90.0</td>\n",
       "      <td>1.403418</td>\n",
       "      <td>...</td>\n",
       "      <td>matilda</td>\n",
       "      <td>punggol</td>\n",
       "      <td>669900.0</td>\n",
       "      <td>16.664632</td>\n",
       "      <td>6.751215</td>\n",
       "      <td>7.404180</td>\n",
       "      <td>7.477411</td>\n",
       "      <td>7.477411</td>\n",
       "      <td>42240</td>\n",
       "      <td>1.3402</td>\n",
       "    </tr>\n",
       "    <tr>\n",
       "      <th>11500</th>\n",
       "      <td>HDB</td>\n",
       "      <td>99-year leasehold</td>\n",
       "      <td>1985.0</td>\n",
       "      <td>NaN</td>\n",
       "      <td>NaN</td>\n",
       "      <td>786</td>\n",
       "      <td>unfurnished</td>\n",
       "      <td>studio, 2, 3, 4 br</td>\n",
       "      <td>296.0</td>\n",
       "      <td>1.349904</td>\n",
       "      <td>...</td>\n",
       "      <td>bukit batok east</td>\n",
       "      <td>bukit batok</td>\n",
       "      <td>409500.0</td>\n",
       "      <td>8.707527</td>\n",
       "      <td>4.914059</td>\n",
       "      <td>6.279880</td>\n",
       "      <td>18.454836</td>\n",
       "      <td>18.454836</td>\n",
       "      <td>24760</td>\n",
       "      <td>1.0619</td>\n",
       "    </tr>\n",
       "  </tbody>\n",
       "</table>\n",
       "<p>5 rows × 21 columns</p>\n",
       "</div>"
      ],
      "text/plain": [
       "      property_type             tenure  built_year  num_beds  num_baths  \\\n",
       "3713       BUNGALOW           freehold      1990.0       NaN        NaN   \n",
       "4691          CONDO  99-year leasehold      2023.0       NaN        NaN   \n",
       "4939            HDB  99-year leasehold      1980.0       NaN        NaN   \n",
       "5002            HDB  99-year leasehold      2004.0       NaN        NaN   \n",
       "11500           HDB  99-year leasehold      1985.0       NaN        NaN   \n",
       "\n",
       "       size_sqft   furnishing         available_unit_types  total_num_units  \\\n",
       "3713        9594  unfurnished     studio, 1, 4, 5, 6, 7 br            296.0   \n",
       "4691         431  unfurnished  studio, 1, 2, 3, 4, 5, 8 br            774.0   \n",
       "4939         731  unfurnished                          NaN            112.0   \n",
       "5002        1184  unfurnished                          NaN             90.0   \n",
       "11500        786  unfurnished           studio, 2, 3, 4 br            296.0   \n",
       "\n",
       "            lat  ...           subzone planning_area       price  cc_distance  \\\n",
       "3713   1.319714  ...           malcolm        novena  16275000.0     5.668353   \n",
       "4691   1.283016  ...      pearl's hill        outram   1222200.0     5.825357   \n",
       "4939   1.331612  ...       bedok north         bedok    367500.0    15.229001   \n",
       "5002   1.403418  ...           matilda       punggol    669900.0    16.664632   \n",
       "11500  1.349904  ...  bukit batok east   bukit batok    409500.0     8.707527   \n",
       "\n",
       "       mrt_distance  primary_school_distance  secondary_school_distance  \\\n",
       "3713       5.872226                 6.905858                  11.134265   \n",
       "4691       8.355056                11.798265                  15.372730   \n",
       "4939       7.025831                 8.583307                  13.354867   \n",
       "5002       6.751215                 7.404180                   7.477411   \n",
       "11500      4.914059                 6.279880                  18.454836   \n",
       "\n",
       "       shop_distance  population  area_size  \n",
       "3713       11.134265        2620     0.4364  \n",
       "4691       15.372730         890     2.2068  \n",
       "4939       13.354867       42240     1.3402  \n",
       "5002        7.477411       42240     1.3402  \n",
       "11500      18.454836       24760     1.0619  \n",
       "\n",
       "[5 rows x 21 columns]"
      ]
     },
     "execution_count": 36,
     "metadata": {},
     "output_type": "execute_result"
    }
   ],
   "source": [
    "a = train[train['num_baths'].isna()]\n",
    "a[a['num_beds'].isna()]"
   ]
  },
  {
   "cell_type": "code",
   "execution_count": 37,
   "metadata": {},
   "outputs": [],
   "source": [
    "avgbath = train['num_baths'].median()\n",
    "train['num_baths'] = train['num_baths'].fillna(avgbath)\n",
    "\n",
    "avgbath = test['num_baths'].median()\n",
    "test['num_baths'] = test['num_baths'].fillna(avgbath)"
   ]
  },
  {
   "cell_type": "markdown",
   "metadata": {},
   "source": [
    "### num_bedds"
   ]
  },
  {
   "cell_type": "code",
   "execution_count": 38,
   "metadata": {},
   "outputs": [],
   "source": [
    "avgbed = train['num_beds'].median()\n",
    "train['num_beds'] = train['num_beds'].fillna(avgbath)\n",
    "\n",
    "avgbed = test['num_beds'].median()\n",
    "test['num_beds'] = test['num_beds'].fillna(avgbath)"
   ]
  },
  {
   "cell_type": "markdown",
   "metadata": {},
   "source": [
    "### num_avaliable_units"
   ]
  },
  {
   "cell_type": "code",
   "execution_count": 39,
   "metadata": {},
   "outputs": [],
   "source": [
    "numavaunittypes = train.available_unit_types.str.count(',') + 1\n",
    "train['available_unit_types'] = numavaunittypes"
   ]
  },
  {
   "cell_type": "code",
   "execution_count": 40,
   "metadata": {},
   "outputs": [],
   "source": [
    "avg_ava_units = train['available_unit_types'].median()\n",
    "train['available_unit_types'] = train['available_unit_types'].fillna(avg_ava_units)"
   ]
  },
  {
   "cell_type": "code",
   "execution_count": 41,
   "metadata": {},
   "outputs": [],
   "source": [
    "numavaunittypes = test.available_unit_types.str.count(',') +1\n",
    "test['available_unit_types'] = numavaunittypes\n",
    "\n",
    "avg_ava_units = test['available_unit_types'].median()\n",
    "test['available_unit_types'] = test['available_unit_types'].fillna(avg_ava_units)"
   ]
  },
  {
   "cell_type": "code",
   "execution_count": 42,
   "metadata": {},
   "outputs": [
    {
     "data": {
      "text/plain": [
       "property_type                 object\n",
       "tenure                        object\n",
       "built_year                   float64\n",
       "num_beds                     float64\n",
       "num_baths                    float64\n",
       "size_sqft                      int64\n",
       "furnishing                    object\n",
       "available_unit_types         float64\n",
       "total_num_units              float64\n",
       "lat                          float64\n",
       "lng                          float64\n",
       "subzone                       object\n",
       "planning_area                 object\n",
       "price                        float64\n",
       "cc_distance                  float64\n",
       "mrt_distance                 float64\n",
       "primary_school_distance      float64\n",
       "secondary_school_distance    float64\n",
       "shop_distance                float64\n",
       "population                     int64\n",
       "area_size                    float64\n",
       "dtype: object"
      ]
     },
     "execution_count": 42,
     "metadata": {},
     "output_type": "execute_result"
    }
   ],
   "source": [
    "train.dtypes"
   ]
  },
  {
   "cell_type": "markdown",
   "metadata": {},
   "source": [
    "### Subzone & planning zone Encoding"
   ]
  },
  {
   "cell_type": "code",
   "execution_count": 43,
   "metadata": {},
   "outputs": [],
   "source": [
    "#regression \n",
    "\n",
    "# pa = train['planning_area'] + test['planning_area']\n",
    "# pa = pa.dropna().drop_duplicates().unique()\n",
    "# pa = pd.DataFrame(pa)\n",
    "# pa.count()"
   ]
  },
  {
   "cell_type": "code",
   "execution_count": 44,
   "metadata": {},
   "outputs": [],
   "source": [
    "# a = train['planning_area'].drop_duplicates()\n",
    "# b = test['planning_area'].drop_duplicates()\n",
    "# c = pd.concat([a, b]).dropna()\n",
    "# c = c.drop_duplicates()"
   ]
  },
  {
   "cell_type": "code",
   "execution_count": 45,
   "metadata": {},
   "outputs": [],
   "source": [
    "# #for regression only\n",
    "\n",
    "# from sklearn import preprocessing\n",
    "# planningzone = preprocessing.LabelEncoder()\n",
    "# planningzone.fit(c)\n",
    "\n",
    "# train = train.dropna()\n",
    "# train['planning_area']=planningzone.transform(train['planning_area'])"
   ]
  },
  {
   "cell_type": "code",
   "execution_count": 46,
   "metadata": {},
   "outputs": [],
   "source": [
    "# mostfreq = test['planning_area'].mode()\n",
    "# mostfreq\n",
    "# test['planning_area'] = test['planning_area'].fillna('bukit timah')\n",
    "# test['planning_area']=planningzone.transform(test['planning_area'])"
   ]
  },
  {
   "cell_type": "markdown",
   "metadata": {},
   "source": [
    "## Change Types"
   ]
  },
  {
   "cell_type": "code",
   "execution_count": 47,
   "metadata": {},
   "outputs": [],
   "source": [
    "train['built_year'] = train['built_year'].astype(int)\n",
    "train['num_beds'] = train['num_beds'].astype(int)\n",
    "train['num_baths'] = train['num_baths'].astype(int)\n",
    "train['available_unit_types'] = train['available_unit_types'].astype(int)\n",
    "train['total_num_units'] = train['total_num_units'].astype(int)"
   ]
  },
  {
   "cell_type": "code",
   "execution_count": 48,
   "metadata": {},
   "outputs": [
    {
     "data": {
      "text/html": [
       "<div>\n",
       "<style scoped>\n",
       "    .dataframe tbody tr th:only-of-type {\n",
       "        vertical-align: middle;\n",
       "    }\n",
       "\n",
       "    .dataframe tbody tr th {\n",
       "        vertical-align: top;\n",
       "    }\n",
       "\n",
       "    .dataframe thead th {\n",
       "        text-align: right;\n",
       "    }\n",
       "</style>\n",
       "<table border=\"1\" class=\"dataframe\">\n",
       "  <thead>\n",
       "    <tr style=\"text-align: right;\">\n",
       "      <th></th>\n",
       "      <th>property_type</th>\n",
       "      <th>tenure</th>\n",
       "      <th>built_year</th>\n",
       "      <th>num_beds</th>\n",
       "      <th>num_baths</th>\n",
       "      <th>size_sqft</th>\n",
       "      <th>furnishing</th>\n",
       "      <th>available_unit_types</th>\n",
       "      <th>total_num_units</th>\n",
       "      <th>lat</th>\n",
       "      <th>...</th>\n",
       "      <th>subzone</th>\n",
       "      <th>planning_area</th>\n",
       "      <th>price</th>\n",
       "      <th>cc_distance</th>\n",
       "      <th>mrt_distance</th>\n",
       "      <th>primary_school_distance</th>\n",
       "      <th>secondary_school_distance</th>\n",
       "      <th>shop_distance</th>\n",
       "      <th>population</th>\n",
       "      <th>area_size</th>\n",
       "    </tr>\n",
       "  </thead>\n",
       "  <tbody>\n",
       "    <tr>\n",
       "      <th>0</th>\n",
       "      <td>HDB 4 ROOMS</td>\n",
       "      <td>99-year leasehold</td>\n",
       "      <td>1988</td>\n",
       "      <td>3</td>\n",
       "      <td>2</td>\n",
       "      <td>1115</td>\n",
       "      <td>unfurnished</td>\n",
       "      <td>5</td>\n",
       "      <td>116</td>\n",
       "      <td>1.414399</td>\n",
       "      <td>...</td>\n",
       "      <td>yishun south</td>\n",
       "      <td>yishun</td>\n",
       "      <td>514500.0</td>\n",
       "      <td>8.027727</td>\n",
       "      <td>1.689357</td>\n",
       "      <td>5.178683</td>\n",
       "      <td>2.538065</td>\n",
       "      <td>2.538065</td>\n",
       "      <td>10250</td>\n",
       "      <td>1.4329</td>\n",
       "    </tr>\n",
       "    <tr>\n",
       "      <th>1</th>\n",
       "      <td>HDB</td>\n",
       "      <td>99-year leasehold</td>\n",
       "      <td>1992</td>\n",
       "      <td>4</td>\n",
       "      <td>2</td>\n",
       "      <td>1575</td>\n",
       "      <td>unfurnished</td>\n",
       "      <td>6</td>\n",
       "      <td>296</td>\n",
       "      <td>1.372597</td>\n",
       "      <td>...</td>\n",
       "      <td>serangoon north</td>\n",
       "      <td>serangoon</td>\n",
       "      <td>995400.0</td>\n",
       "      <td>2.400374</td>\n",
       "      <td>6.871207</td>\n",
       "      <td>8.310177</td>\n",
       "      <td>6.710202</td>\n",
       "      <td>6.710202</td>\n",
       "      <td>18660</td>\n",
       "      <td>8.4055</td>\n",
       "    </tr>\n",
       "    <tr>\n",
       "      <th>2</th>\n",
       "      <td>CONDO</td>\n",
       "      <td>freehold</td>\n",
       "      <td>2022</td>\n",
       "      <td>4</td>\n",
       "      <td>6</td>\n",
       "      <td>3070</td>\n",
       "      <td>partial</td>\n",
       "      <td>5</td>\n",
       "      <td>56</td>\n",
       "      <td>1.298773</td>\n",
       "      <td>...</td>\n",
       "      <td>mountbatten</td>\n",
       "      <td>marine parade</td>\n",
       "      <td>8485000.0</td>\n",
       "      <td>6.389766</td>\n",
       "      <td>13.983476</td>\n",
       "      <td>9.485153</td>\n",
       "      <td>15.197137</td>\n",
       "      <td>15.197137</td>\n",
       "      <td>890</td>\n",
       "      <td>2.2068</td>\n",
       "    </tr>\n",
       "    <tr>\n",
       "      <th>3</th>\n",
       "      <td>CONDO</td>\n",
       "      <td>freehold</td>\n",
       "      <td>2023</td>\n",
       "      <td>3</td>\n",
       "      <td>2</td>\n",
       "      <td>958</td>\n",
       "      <td>partial</td>\n",
       "      <td>5</td>\n",
       "      <td>638</td>\n",
       "      <td>1.312364</td>\n",
       "      <td>...</td>\n",
       "      <td>farrer court</td>\n",
       "      <td>bukit timah</td>\n",
       "      <td>2626000.0</td>\n",
       "      <td>8.802339</td>\n",
       "      <td>13.479646</td>\n",
       "      <td>3.290085</td>\n",
       "      <td>12.950660</td>\n",
       "      <td>12.950660</td>\n",
       "      <td>28000</td>\n",
       "      <td>1.5110</td>\n",
       "    </tr>\n",
       "    <tr>\n",
       "      <th>4</th>\n",
       "      <td>CONDO</td>\n",
       "      <td>99-year leasehold</td>\n",
       "      <td>2026</td>\n",
       "      <td>2</td>\n",
       "      <td>1</td>\n",
       "      <td>732</td>\n",
       "      <td>unfurnished</td>\n",
       "      <td>6</td>\n",
       "      <td>351</td>\n",
       "      <td>1.273959</td>\n",
       "      <td>...</td>\n",
       "      <td>anson</td>\n",
       "      <td>downtown core</td>\n",
       "      <td>1764000.0</td>\n",
       "      <td>9.160635</td>\n",
       "      <td>15.981982</td>\n",
       "      <td>13.818954</td>\n",
       "      <td>17.977600</td>\n",
       "      <td>17.977600</td>\n",
       "      <td>4370</td>\n",
       "      <td>2.2092</td>\n",
       "    </tr>\n",
       "  </tbody>\n",
       "</table>\n",
       "<p>5 rows × 21 columns</p>\n",
       "</div>"
      ],
      "text/plain": [
       "  property_type             tenure  built_year  num_beds  num_baths  \\\n",
       "0   HDB 4 ROOMS  99-year leasehold        1988         3          2   \n",
       "1           HDB  99-year leasehold        1992         4          2   \n",
       "2         CONDO           freehold        2022         4          6   \n",
       "3         CONDO           freehold        2023         3          2   \n",
       "4         CONDO  99-year leasehold        2026         2          1   \n",
       "\n",
       "   size_sqft   furnishing  available_unit_types  total_num_units       lat  \\\n",
       "0       1115  unfurnished                     5              116  1.414399   \n",
       "1       1575  unfurnished                     6              296  1.372597   \n",
       "2       3070      partial                     5               56  1.298773   \n",
       "3        958      partial                     5              638  1.312364   \n",
       "4        732  unfurnished                     6              351  1.273959   \n",
       "\n",
       "   ...          subzone  planning_area      price  cc_distance  mrt_distance  \\\n",
       "0  ...     yishun south         yishun   514500.0     8.027727      1.689357   \n",
       "1  ...  serangoon north      serangoon   995400.0     2.400374      6.871207   \n",
       "2  ...      mountbatten  marine parade  8485000.0     6.389766     13.983476   \n",
       "3  ...     farrer court    bukit timah  2626000.0     8.802339     13.479646   \n",
       "4  ...            anson  downtown core  1764000.0     9.160635     15.981982   \n",
       "\n",
       "   primary_school_distance  secondary_school_distance  shop_distance  \\\n",
       "0                 5.178683                   2.538065       2.538065   \n",
       "1                 8.310177                   6.710202       6.710202   \n",
       "2                 9.485153                  15.197137      15.197137   \n",
       "3                 3.290085                  12.950660      12.950660   \n",
       "4                13.818954                  17.977600      17.977600   \n",
       "\n",
       "   population  area_size  \n",
       "0       10250     1.4329  \n",
       "1       18660     8.4055  \n",
       "2         890     2.2068  \n",
       "3       28000     1.5110  \n",
       "4        4370     2.2092  \n",
       "\n",
       "[5 rows x 21 columns]"
      ]
     },
     "execution_count": 48,
     "metadata": {},
     "output_type": "execute_result"
    }
   ],
   "source": [
    "train.head()"
   ]
  },
  {
   "cell_type": "markdown",
   "metadata": {},
   "source": [
    "## Outlier Detection"
   ]
  },
  {
   "cell_type": "markdown",
   "metadata": {},
   "source": [
    "#### Price Per Sqft"
   ]
  },
  {
   "cell_type": "code",
   "execution_count": 49,
   "metadata": {},
   "outputs": [],
   "source": [
    "medain_sqft = train['size_sqft'].median()\n",
    "train['size_sqft'] = train['size_sqft'].fillna(medain_sqft)"
   ]
  },
  {
   "cell_type": "code",
   "execution_count": 50,
   "metadata": {},
   "outputs": [],
   "source": [
    "price_per_sqft = train['price']/train['size_sqft'] \n",
    "train['price_per_sqft'] = price_per_sqft"
   ]
  },
  {
   "cell_type": "code",
   "execution_count": 51,
   "metadata": {},
   "outputs": [],
   "source": [
    "medain_psqft = train['price_per_sqft'].median()\n",
    "train['price_per_sqft'] = train['price_per_sqft'].fillna(medain_psqft)"
   ]
  },
  {
   "cell_type": "code",
   "execution_count": 52,
   "metadata": {},
   "outputs": [
    {
     "name": "stderr",
     "output_type": "stream",
     "text": [
      "/usr/local/lib/python3.9/site-packages/seaborn/distributions.py:2619: FutureWarning: `distplot` is a deprecated function and will be removed in a future version. Please adapt your code to use either `displot` (a figure-level function with similar flexibility) or `histplot` (an axes-level function for histograms).\n",
      "  warnings.warn(msg, FutureWarning)\n"
     ]
    },
    {
     "data": {
      "text/plain": [
       "<AxesSubplot:xlabel='price', ylabel='Density'>"
      ]
     },
     "execution_count": 52,
     "metadata": {},
     "output_type": "execute_result"
    },
    {
     "data": {
      "image/png": "[encoded data removed]",
      "text/plain": [
       "<Figure size 432x288 with 1 Axes>"
      ]
     },
     "metadata": {
      "needs_background": "light"
     },
     "output_type": "display_data"
    }
   ],
   "source": [
    "sns.distplot(train['price'])"
   ]
  },
  {
   "cell_type": "markdown",
   "metadata": {},
   "source": [
    "#### Coorleation Matrix Before Outlier removal"
   ]
  },
  {
   "cell_type": "code",
   "execution_count": 53,
   "metadata": {},
   "outputs": [
    {
     "data": {
      "image/png": "[encoded data removed]",
      "text/plain": [
       "<Figure size 1008x576 with 2 Axes>"
      ]
     },
     "metadata": {
      "needs_background": "light"
     },
     "output_type": "display_data"
    }
   ],
   "source": [
    "plt.figure(figsize=(14,8))\n",
    "sns.heatmap(train.corr())\n",
    "plt.show()"
   ]
  },
  {
   "cell_type": "code",
   "execution_count": 54,
   "metadata": {},
   "outputs": [
    {
     "data": {
      "image/png": "[encoded data removed]",
      "text/plain": [
       "<Figure size 1008x576 with 1 Axes>"
      ]
     },
     "metadata": {
      "needs_background": "light"
     },
     "output_type": "display_data"
    }
   ],
   "source": [
    "plt.figure(figsize=(14,8))\n",
    "train.corr()['price'].sort_values()[:-1].plot(kind='bar')\n",
    "plt.show()"
   ]
  },
  {
   "cell_type": "markdown",
   "metadata": {},
   "source": [
    "#### Isolation Forest on Price, Price per Sqft, cc_distance, mrt distance, primary school distance, secondary school distance, shop distance"
   ]
  },
  {
   "cell_type": "code",
   "execution_count": 55,
   "metadata": {},
   "outputs": [
    {
     "data": {
      "text/html": [
       "<div>\n",
       "<style scoped>\n",
       "    .dataframe tbody tr th:only-of-type {\n",
       "        vertical-align: middle;\n",
       "    }\n",
       "\n",
       "    .dataframe tbody tr th {\n",
       "        vertical-align: top;\n",
       "    }\n",
       "\n",
       "    .dataframe thead th {\n",
       "        text-align: right;\n",
       "    }\n",
       "</style>\n",
       "<table border=\"1\" class=\"dataframe\">\n",
       "  <thead>\n",
       "    <tr style=\"text-align: right;\">\n",
       "      <th></th>\n",
       "      <th>property_type</th>\n",
       "      <th>tenure</th>\n",
       "      <th>built_year</th>\n",
       "      <th>num_beds</th>\n",
       "      <th>num_baths</th>\n",
       "      <th>size_sqft</th>\n",
       "      <th>furnishing</th>\n",
       "      <th>available_unit_types</th>\n",
       "      <th>total_num_units</th>\n",
       "      <th>lat</th>\n",
       "      <th>...</th>\n",
       "      <th>planning_area</th>\n",
       "      <th>price</th>\n",
       "      <th>cc_distance</th>\n",
       "      <th>mrt_distance</th>\n",
       "      <th>primary_school_distance</th>\n",
       "      <th>secondary_school_distance</th>\n",
       "      <th>shop_distance</th>\n",
       "      <th>population</th>\n",
       "      <th>area_size</th>\n",
       "      <th>price_per_sqft</th>\n",
       "    </tr>\n",
       "  </thead>\n",
       "  <tbody>\n",
       "    <tr>\n",
       "      <th>0</th>\n",
       "      <td>HDB 4 ROOMS</td>\n",
       "      <td>99-year leasehold</td>\n",
       "      <td>1988</td>\n",
       "      <td>3</td>\n",
       "      <td>2</td>\n",
       "      <td>1115</td>\n",
       "      <td>unfurnished</td>\n",
       "      <td>5</td>\n",
       "      <td>116</td>\n",
       "      <td>1.414399</td>\n",
       "      <td>...</td>\n",
       "      <td>yishun</td>\n",
       "      <td>514500.0</td>\n",
       "      <td>8.027727</td>\n",
       "      <td>1.689357</td>\n",
       "      <td>5.178683</td>\n",
       "      <td>2.538065</td>\n",
       "      <td>2.538065</td>\n",
       "      <td>10250</td>\n",
       "      <td>1.4329</td>\n",
       "      <td>461.434978</td>\n",
       "    </tr>\n",
       "    <tr>\n",
       "      <th>1</th>\n",
       "      <td>HDB</td>\n",
       "      <td>99-year leasehold</td>\n",
       "      <td>1992</td>\n",
       "      <td>4</td>\n",
       "      <td>2</td>\n",
       "      <td>1575</td>\n",
       "      <td>unfurnished</td>\n",
       "      <td>6</td>\n",
       "      <td>296</td>\n",
       "      <td>1.372597</td>\n",
       "      <td>...</td>\n",
       "      <td>serangoon</td>\n",
       "      <td>995400.0</td>\n",
       "      <td>2.400374</td>\n",
       "      <td>6.871207</td>\n",
       "      <td>8.310177</td>\n",
       "      <td>6.710202</td>\n",
       "      <td>6.710202</td>\n",
       "      <td>18660</td>\n",
       "      <td>8.4055</td>\n",
       "      <td>632.000000</td>\n",
       "    </tr>\n",
       "    <tr>\n",
       "      <th>2</th>\n",
       "      <td>CONDO</td>\n",
       "      <td>freehold</td>\n",
       "      <td>2022</td>\n",
       "      <td>4</td>\n",
       "      <td>6</td>\n",
       "      <td>3070</td>\n",
       "      <td>partial</td>\n",
       "      <td>5</td>\n",
       "      <td>56</td>\n",
       "      <td>1.298773</td>\n",
       "      <td>...</td>\n",
       "      <td>marine parade</td>\n",
       "      <td>8485000.0</td>\n",
       "      <td>6.389766</td>\n",
       "      <td>13.983476</td>\n",
       "      <td>9.485153</td>\n",
       "      <td>15.197137</td>\n",
       "      <td>15.197137</td>\n",
       "      <td>890</td>\n",
       "      <td>2.2068</td>\n",
       "      <td>2763.843648</td>\n",
       "    </tr>\n",
       "    <tr>\n",
       "      <th>3</th>\n",
       "      <td>CONDO</td>\n",
       "      <td>freehold</td>\n",
       "      <td>2023</td>\n",
       "      <td>3</td>\n",
       "      <td>2</td>\n",
       "      <td>958</td>\n",
       "      <td>partial</td>\n",
       "      <td>5</td>\n",
       "      <td>638</td>\n",
       "      <td>1.312364</td>\n",
       "      <td>...</td>\n",
       "      <td>bukit timah</td>\n",
       "      <td>2626000.0</td>\n",
       "      <td>8.802339</td>\n",
       "      <td>13.479646</td>\n",
       "      <td>3.290085</td>\n",
       "      <td>12.950660</td>\n",
       "      <td>12.950660</td>\n",
       "      <td>28000</td>\n",
       "      <td>1.5110</td>\n",
       "      <td>2741.127349</td>\n",
       "    </tr>\n",
       "    <tr>\n",
       "      <th>4</th>\n",
       "      <td>CONDO</td>\n",
       "      <td>99-year leasehold</td>\n",
       "      <td>2026</td>\n",
       "      <td>2</td>\n",
       "      <td>1</td>\n",
       "      <td>732</td>\n",
       "      <td>unfurnished</td>\n",
       "      <td>6</td>\n",
       "      <td>351</td>\n",
       "      <td>1.273959</td>\n",
       "      <td>...</td>\n",
       "      <td>downtown core</td>\n",
       "      <td>1764000.0</td>\n",
       "      <td>9.160635</td>\n",
       "      <td>15.981982</td>\n",
       "      <td>13.818954</td>\n",
       "      <td>17.977600</td>\n",
       "      <td>17.977600</td>\n",
       "      <td>4370</td>\n",
       "      <td>2.2092</td>\n",
       "      <td>2409.836066</td>\n",
       "    </tr>\n",
       "  </tbody>\n",
       "</table>\n",
       "<p>5 rows × 22 columns</p>\n",
       "</div>"
      ],
      "text/plain": [
       "  property_type             tenure  built_year  num_beds  num_baths  \\\n",
       "0   HDB 4 ROOMS  99-year leasehold        1988         3          2   \n",
       "1           HDB  99-year leasehold        1992         4          2   \n",
       "2         CONDO           freehold        2022         4          6   \n",
       "3         CONDO           freehold        2023         3          2   \n",
       "4         CONDO  99-year leasehold        2026         2          1   \n",
       "\n",
       "   size_sqft   furnishing  available_unit_types  total_num_units       lat  \\\n",
       "0       1115  unfurnished                     5              116  1.414399   \n",
       "1       1575  unfurnished                     6              296  1.372597   \n",
       "2       3070      partial                     5               56  1.298773   \n",
       "3        958      partial                     5              638  1.312364   \n",
       "4        732  unfurnished                     6              351  1.273959   \n",
       "\n",
       "   ...  planning_area      price cc_distance  mrt_distance  \\\n",
       "0  ...         yishun   514500.0    8.027727      1.689357   \n",
       "1  ...      serangoon   995400.0    2.400374      6.871207   \n",
       "2  ...  marine parade  8485000.0    6.389766     13.983476   \n",
       "3  ...    bukit timah  2626000.0    8.802339     13.479646   \n",
       "4  ...  downtown core  1764000.0    9.160635     15.981982   \n",
       "\n",
       "   primary_school_distance  secondary_school_distance  shop_distance  \\\n",
       "0                 5.178683                   2.538065       2.538065   \n",
       "1                 8.310177                   6.710202       6.710202   \n",
       "2                 9.485153                  15.197137      15.197137   \n",
       "3                 3.290085                  12.950660      12.950660   \n",
       "4                13.818954                  17.977600      17.977600   \n",
       "\n",
       "   population  area_size  price_per_sqft  \n",
       "0       10250     1.4329      461.434978  \n",
       "1       18660     8.4055      632.000000  \n",
       "2         890     2.2068     2763.843648  \n",
       "3       28000     1.5110     2741.127349  \n",
       "4        4370     2.2092     2409.836066  \n",
       "\n",
       "[5 rows x 22 columns]"
      ]
     },
     "execution_count": 55,
     "metadata": {},
     "output_type": "execute_result"
    }
   ],
   "source": [
    "train.head()"
   ]
  },
  {
   "cell_type": "code",
   "execution_count": 56,
   "metadata": {},
   "outputs": [],
   "source": [
    "outlierdata = train[['price','price_per_sqft','cc_distance','mrt_distance','primary_school_distance','secondary_school_distance','shop_distance']]"
   ]
  },
  {
   "cell_type": "code",
   "execution_count": 57,
   "metadata": {},
   "outputs": [
    {
     "name": "stderr",
     "output_type": "stream",
     "text": [
      "/usr/local/lib/python3.9/site-packages/sklearn/base.py:450: UserWarning: X does not have valid feature names, but IsolationForest was fitted with feature names\n",
      "  warnings.warn(\n"
     ]
    },
    {
     "data": {
      "text/html": [
       "<style>#sk-container-id-1 {color: black;background-color: white;}#sk-container-id-1 pre{padding: 0;}#sk-container-id-1 div.sk-toggleable {background-color: white;}#sk-container-id-1 label.sk-toggleable__label {cursor: pointer;display: block;width: 100%;margin-bottom: 0;padding: 0.3em;box-sizing: border-box;text-align: center;}#sk-container-id-1 label.sk-toggleable__label-arrow:before {content: \"▸\";float: left;margin-right: 0.25em;color: #696969;}#sk-container-id-1 label.sk-toggleable__label-arrow:hover:before {color: black;}#sk-container-id-1 div.sk-estimator:hover label.sk-toggleable__label-arrow:before {color: black;}#sk-container-id-1 div.sk-toggleable__content {max-height: 0;max-width: 0;overflow: hidden;text-align: left;background-color: #f0f8ff;}#sk-container-id-1 div.sk-toggleable__content pre {margin: 0.2em;color: black;border-radius: 0.25em;background-color: #f0f8ff;}#sk-container-id-1 input.sk-toggleable__control:checked~div.sk-toggleable__content {max-height: 200px;max-width: 100%;overflow: auto;}#sk-container-id-1 input.sk-toggleable__control:checked~label.sk-toggleable__label-arrow:before {content: \"▾\";}#sk-container-id-1 div.sk-estimator input.sk-toggleable__control:checked~label.sk-toggleable__label {background-color: #d4ebff;}#sk-container-id-1 div.sk-label input.sk-toggleable__control:checked~label.sk-toggleable__label {background-color: #d4ebff;}#sk-container-id-1 input.sk-hidden--visually {border: 0;clip: rect(1px 1px 1px 1px);clip: rect(1px, 1px, 1px, 1px);height: 1px;margin: -1px;overflow: hidden;padding: 0;position: absolute;width: 1px;}#sk-container-id-1 div.sk-estimator {font-family: monospace;background-color: #f0f8ff;border: 1px dotted black;border-radius: 0.25em;box-sizing: border-box;margin-bottom: 0.5em;}#sk-container-id-1 div.sk-estimator:hover {background-color: #d4ebff;}#sk-container-id-1 div.sk-parallel-item::after {content: \"\";width: 100%;border-bottom: 1px solid gray;flex-grow: 1;}#sk-container-id-1 div.sk-label:hover label.sk-toggleable__label {background-color: #d4ebff;}#sk-container-id-1 div.sk-serial::before {content: \"\";position: absolute;border-left: 1px solid gray;box-sizing: border-box;top: 0;bottom: 0;left: 50%;z-index: 0;}#sk-container-id-1 div.sk-serial {display: flex;flex-direction: column;align-items: center;background-color: white;padding-right: 0.2em;padding-left: 0.2em;position: relative;}#sk-container-id-1 div.sk-item {position: relative;z-index: 1;}#sk-container-id-1 div.sk-parallel {display: flex;align-items: stretch;justify-content: center;background-color: white;position: relative;}#sk-container-id-1 div.sk-item::before, #sk-container-id-1 div.sk-parallel-item::before {content: \"\";position: absolute;border-left: 1px solid gray;box-sizing: border-box;top: 0;bottom: 0;left: 50%;z-index: -1;}#sk-container-id-1 div.sk-parallel-item {display: flex;flex-direction: column;z-index: 1;position: relative;background-color: white;}#sk-container-id-1 div.sk-parallel-item:first-child::after {align-self: flex-end;width: 50%;}#sk-container-id-1 div.sk-parallel-item:last-child::after {align-self: flex-start;width: 50%;}#sk-container-id-1 div.sk-parallel-item:only-child::after {width: 0;}#sk-container-id-1 div.sk-dashed-wrapped {border: 1px dashed gray;margin: 0 0.4em 0.5em 0.4em;box-sizing: border-box;padding-bottom: 0.4em;background-color: white;}#sk-container-id-1 div.sk-label label {font-family: monospace;font-weight: bold;display: inline-block;line-height: 1.2em;}#sk-container-id-1 div.sk-label-container {text-align: center;}#sk-container-id-1 div.sk-container {/* jupyter's `normalize.less` sets `[hidden] { display: none; }` but bootstrap.min.css set `[hidden] { display: none !important; }` so we also need the `!important` here to be able to override the default hidden behavior on the sphinx rendered scikit-learn.org. See: https://github.com/scikit-learn/scikit-learn/issues/21755 */display: inline-block !important;position: relative;}#sk-container-id-1 div.sk-text-repr-fallback {display: none;}</style><div id=\"sk-container-id-1\" class=\"sk-top-container\"><div class=\"sk-text-repr-fallback\"><pre>IsolationForest(contamination=0.08)</pre><b>In a Jupyter environment, please rerun this cell to show the HTML representation or trust the notebook. <br />On GitHub, the HTML representation is unable to render, please try loading this page with nbviewer.org.</b></div><div class=\"sk-container\" hidden><div class=\"sk-item\"><div class=\"sk-estimator sk-toggleable\"><input class=\"sk-toggleable__control sk-hidden--visually\" id=\"sk-estimator-id-1\" type=\"checkbox\" checked><label for=\"sk-estimator-id-1\" class=\"sk-toggleable__label sk-toggleable__label-arrow\">IsolationForest</label><div class=\"sk-toggleable__content\"><pre>IsolationForest(contamination=0.08)</pre></div></div></div></div></div>"
      ],
      "text/plain": [
       "IsolationForest(contamination=0.08)"
      ]
     },
     "execution_count": 57,
     "metadata": {},
     "output_type": "execute_result"
    }
   ],
   "source": [
    "from sklearn.ensemble import IsolationForest\n",
    "model=IsolationForest(max_samples='auto', contamination=float(0.08))\n",
    "model.fit(outlierdata)"
   ]
  },
  {
   "cell_type": "code",
   "execution_count": 58,
   "metadata": {},
   "outputs": [],
   "source": [
    "train['scores_price']=model.decision_function(outlierdata)\n",
    "train['anomaly_price']=model.predict(outlierdata)"
   ]
  },
  {
   "cell_type": "code",
   "execution_count": 59,
   "metadata": {},
   "outputs": [
    {
     "data": {
      "text/html": [
       "<div>\n",
       "<style scoped>\n",
       "    .dataframe tbody tr th:only-of-type {\n",
       "        vertical-align: middle;\n",
       "    }\n",
       "\n",
       "    .dataframe tbody tr th {\n",
       "        vertical-align: top;\n",
       "    }\n",
       "\n",
       "    .dataframe thead th {\n",
       "        text-align: right;\n",
       "    }\n",
       "</style>\n",
       "<table border=\"1\" class=\"dataframe\">\n",
       "  <thead>\n",
       "    <tr style=\"text-align: right;\">\n",
       "      <th></th>\n",
       "      <th>property_type</th>\n",
       "      <th>tenure</th>\n",
       "      <th>built_year</th>\n",
       "      <th>num_beds</th>\n",
       "      <th>num_baths</th>\n",
       "      <th>size_sqft</th>\n",
       "      <th>furnishing</th>\n",
       "      <th>available_unit_types</th>\n",
       "      <th>total_num_units</th>\n",
       "      <th>lat</th>\n",
       "      <th>...</th>\n",
       "      <th>cc_distance</th>\n",
       "      <th>mrt_distance</th>\n",
       "      <th>primary_school_distance</th>\n",
       "      <th>secondary_school_distance</th>\n",
       "      <th>shop_distance</th>\n",
       "      <th>population</th>\n",
       "      <th>area_size</th>\n",
       "      <th>price_per_sqft</th>\n",
       "      <th>scores_price</th>\n",
       "      <th>anomaly_price</th>\n",
       "    </tr>\n",
       "  </thead>\n",
       "  <tbody>\n",
       "    <tr>\n",
       "      <th>0</th>\n",
       "      <td>HDB 4 ROOMS</td>\n",
       "      <td>99-year leasehold</td>\n",
       "      <td>1988</td>\n",
       "      <td>3</td>\n",
       "      <td>2</td>\n",
       "      <td>1115</td>\n",
       "      <td>unfurnished</td>\n",
       "      <td>5</td>\n",
       "      <td>116</td>\n",
       "      <td>1.414399</td>\n",
       "      <td>...</td>\n",
       "      <td>8.027727</td>\n",
       "      <td>1.689357</td>\n",
       "      <td>5.178683</td>\n",
       "      <td>2.538065</td>\n",
       "      <td>2.538065</td>\n",
       "      <td>10250</td>\n",
       "      <td>1.4329</td>\n",
       "      <td>461.434978</td>\n",
       "      <td>0.010572</td>\n",
       "      <td>1</td>\n",
       "    </tr>\n",
       "    <tr>\n",
       "      <th>1</th>\n",
       "      <td>HDB</td>\n",
       "      <td>99-year leasehold</td>\n",
       "      <td>1992</td>\n",
       "      <td>4</td>\n",
       "      <td>2</td>\n",
       "      <td>1575</td>\n",
       "      <td>unfurnished</td>\n",
       "      <td>6</td>\n",
       "      <td>296</td>\n",
       "      <td>1.372597</td>\n",
       "      <td>...</td>\n",
       "      <td>2.400374</td>\n",
       "      <td>6.871207</td>\n",
       "      <td>8.310177</td>\n",
       "      <td>6.710202</td>\n",
       "      <td>6.710202</td>\n",
       "      <td>18660</td>\n",
       "      <td>8.4055</td>\n",
       "      <td>632.000000</td>\n",
       "      <td>0.075661</td>\n",
       "      <td>1</td>\n",
       "    </tr>\n",
       "    <tr>\n",
       "      <th>2</th>\n",
       "      <td>CONDO</td>\n",
       "      <td>freehold</td>\n",
       "      <td>2022</td>\n",
       "      <td>4</td>\n",
       "      <td>6</td>\n",
       "      <td>3070</td>\n",
       "      <td>partial</td>\n",
       "      <td>5</td>\n",
       "      <td>56</td>\n",
       "      <td>1.298773</td>\n",
       "      <td>...</td>\n",
       "      <td>6.389766</td>\n",
       "      <td>13.983476</td>\n",
       "      <td>9.485153</td>\n",
       "      <td>15.197137</td>\n",
       "      <td>15.197137</td>\n",
       "      <td>890</td>\n",
       "      <td>2.2068</td>\n",
       "      <td>2763.843648</td>\n",
       "      <td>0.041164</td>\n",
       "      <td>1</td>\n",
       "    </tr>\n",
       "    <tr>\n",
       "      <th>3</th>\n",
       "      <td>CONDO</td>\n",
       "      <td>freehold</td>\n",
       "      <td>2023</td>\n",
       "      <td>3</td>\n",
       "      <td>2</td>\n",
       "      <td>958</td>\n",
       "      <td>partial</td>\n",
       "      <td>5</td>\n",
       "      <td>638</td>\n",
       "      <td>1.312364</td>\n",
       "      <td>...</td>\n",
       "      <td>8.802339</td>\n",
       "      <td>13.479646</td>\n",
       "      <td>3.290085</td>\n",
       "      <td>12.950660</td>\n",
       "      <td>12.950660</td>\n",
       "      <td>28000</td>\n",
       "      <td>1.5110</td>\n",
       "      <td>2741.127349</td>\n",
       "      <td>0.064557</td>\n",
       "      <td>1</td>\n",
       "    </tr>\n",
       "    <tr>\n",
       "      <th>4</th>\n",
       "      <td>CONDO</td>\n",
       "      <td>99-year leasehold</td>\n",
       "      <td>2026</td>\n",
       "      <td>2</td>\n",
       "      <td>1</td>\n",
       "      <td>732</td>\n",
       "      <td>unfurnished</td>\n",
       "      <td>6</td>\n",
       "      <td>351</td>\n",
       "      <td>1.273959</td>\n",
       "      <td>...</td>\n",
       "      <td>9.160635</td>\n",
       "      <td>15.981982</td>\n",
       "      <td>13.818954</td>\n",
       "      <td>17.977600</td>\n",
       "      <td>17.977600</td>\n",
       "      <td>4370</td>\n",
       "      <td>2.2092</td>\n",
       "      <td>2409.836066</td>\n",
       "      <td>0.022385</td>\n",
       "      <td>1</td>\n",
       "    </tr>\n",
       "  </tbody>\n",
       "</table>\n",
       "<p>5 rows × 24 columns</p>\n",
       "</div>"
      ],
      "text/plain": [
       "  property_type             tenure  built_year  num_beds  num_baths  \\\n",
       "0   HDB 4 ROOMS  99-year leasehold        1988         3          2   \n",
       "1           HDB  99-year leasehold        1992         4          2   \n",
       "2         CONDO           freehold        2022         4          6   \n",
       "3         CONDO           freehold        2023         3          2   \n",
       "4         CONDO  99-year leasehold        2026         2          1   \n",
       "\n",
       "   size_sqft   furnishing  available_unit_types  total_num_units       lat  \\\n",
       "0       1115  unfurnished                     5              116  1.414399   \n",
       "1       1575  unfurnished                     6              296  1.372597   \n",
       "2       3070      partial                     5               56  1.298773   \n",
       "3        958      partial                     5              638  1.312364   \n",
       "4        732  unfurnished                     6              351  1.273959   \n",
       "\n",
       "   ...  cc_distance mrt_distance primary_school_distance  \\\n",
       "0  ...     8.027727     1.689357                5.178683   \n",
       "1  ...     2.400374     6.871207                8.310177   \n",
       "2  ...     6.389766    13.983476                9.485153   \n",
       "3  ...     8.802339    13.479646                3.290085   \n",
       "4  ...     9.160635    15.981982               13.818954   \n",
       "\n",
       "   secondary_school_distance  shop_distance  population  area_size  \\\n",
       "0                   2.538065       2.538065       10250     1.4329   \n",
       "1                   6.710202       6.710202       18660     8.4055   \n",
       "2                  15.197137      15.197137         890     2.2068   \n",
       "3                  12.950660      12.950660       28000     1.5110   \n",
       "4                  17.977600      17.977600        4370     2.2092   \n",
       "\n",
       "   price_per_sqft  scores_price  anomaly_price  \n",
       "0      461.434978      0.010572              1  \n",
       "1      632.000000      0.075661              1  \n",
       "2     2763.843648      0.041164              1  \n",
       "3     2741.127349      0.064557              1  \n",
       "4     2409.836066      0.022385              1  \n",
       "\n",
       "[5 rows x 24 columns]"
      ]
     },
     "execution_count": 59,
     "metadata": {},
     "output_type": "execute_result"
    }
   ],
   "source": [
    "train.head()"
   ]
  },
  {
   "cell_type": "code",
   "execution_count": 60,
   "metadata": {},
   "outputs": [
    {
     "name": "stdout",
     "output_type": "stream",
     "text": [
      "             property_type             tenure  built_year  num_beds  \\\n",
      "18                   CONDO  99-year leasehold        2017         4   \n",
      "30               APARTMENT           freehold        2023         3   \n",
      "55                   CONDO           freehold        2023         5   \n",
      "59               APARTMENT           freehold        2023         4   \n",
      "70               APARTMENT           freehold        2025         4   \n",
      "...                    ...                ...         ...       ...   \n",
      "20205                CONDO  99-year leasehold        2023         1   \n",
      "20221             BUNGALOW  99-year leasehold        1977         5   \n",
      "20235                CONDO  99-year leasehold        2027         2   \n",
      "20236          HDB 5 ROOMS  99-year leasehold        1996         4   \n",
      "20241  SEMI-DETACHED HOUSE           freehold        2025         6   \n",
      "\n",
      "       num_baths  size_sqft   furnishing  available_unit_types  \\\n",
      "18             7       6200  unfurnished                     6   \n",
      "30             3       1130  unfurnished                     7   \n",
      "55             4       1819  unfurnished                     6   \n",
      "59             4       1399  unfurnished                     7   \n",
      "70             4       2368  unfurnished                     6   \n",
      "...          ...        ...          ...                   ...   \n",
      "20205          1        485  unfurnished                     6   \n",
      "20221          4       5990  unfurnished                     6   \n",
      "20235          1        657  unfurnished                     4   \n",
      "20236          2       1302      partial                     5   \n",
      "20241          6       4717  unfurnished                     5   \n",
      "\n",
      "       total_num_units        lat  ...  cc_distance mrt_distance  \\\n",
      "18                 510   1.277361  ...     8.598379    16.974983   \n",
      "30                  58  14.484814  ...  2382.541866  2380.370041   \n",
      "55                 262   1.275689  ...     9.210901    15.756620   \n",
      "59                  58  14.484814  ...  2382.541866  2384.063442   \n",
      "70                 138   1.310184  ...     6.096449    11.917022   \n",
      "...                ...        ...  ...          ...          ...   \n",
      "20205             2203   1.344855  ...    10.324064    11.222257   \n",
      "20221              296   1.386285  ...    10.324064    15.153852   \n",
      "20235              158   1.325277  ...    10.324064    10.223250   \n",
      "20236               77   1.351787  ...    10.324064    13.914053   \n",
      "20241                6   1.300620  ...    10.324064     5.028636   \n",
      "\n",
      "      primary_school_distance  secondary_school_distance  shop_distance  \\\n",
      "18                  19.640107                  15.894268      15.894268   \n",
      "30                2386.393729                2379.896904    2379.896904   \n",
      "55                  18.472363                  17.444006      17.444006   \n",
      "59                2375.441807                2380.084422    2380.084422   \n",
      "70                  12.999030                  13.612449      13.612449   \n",
      "...                       ...                        ...            ...   \n",
      "20205                7.607177                  22.015472      22.015472   \n",
      "20221               18.841761                  22.274680      22.274680   \n",
      "20235               25.999032                  20.706548      20.706548   \n",
      "20236               29.371848                  24.710617      24.710617   \n",
      "20241               19.216688                  17.709094      17.709094   \n",
      "\n",
      "       population  area_size  price_per_sqft  scores_price  anomaly_price  \n",
      "18          10250     1.4329     3183.870968     -0.090052             -1  \n",
      "30          28000     1.5110     2363.893805     -0.338327             -1  \n",
      "55          18660     8.4055     3387.245739     -0.022547             -1  \n",
      "59           2620     0.4364     2339.385275     -0.334418             -1  \n",
      "70          42240     1.3402     4629.814189     -0.004482             -1  \n",
      "...           ...        ...             ...           ...            ...  \n",
      "20205       21870     2.7733     2143.298969     -0.030571             -1  \n",
      "20221       21870     2.7733     1083.305509     -0.062070             -1  \n",
      "20235        5340     3.4685     2100.000000     -0.023666             -1  \n",
      "20236       11020     1.2271      514.516129     -0.070523             -1  \n",
      "20241       10840     3.3872     1708.670765     -0.001706             -1  \n",
      "\n",
      "[1621 rows x 24 columns]\n"
     ]
    }
   ],
   "source": [
    "anomaly=train.loc[train['anomaly_price']==-1]\n",
    "anomaly_index=list(anomaly.index)\n",
    "print(anomaly)"
   ]
  },
  {
   "cell_type": "code",
   "execution_count": 61,
   "metadata": {},
   "outputs": [],
   "source": [
    "train = train[train.anomaly_price != -1]"
   ]
  },
  {
   "cell_type": "code",
   "execution_count": 62,
   "metadata": {},
   "outputs": [
    {
     "data": {
      "text/plain": [
       "<seaborn.axisgrid.FacetGrid at 0x113451e50>"
      ]
     },
     "execution_count": 62,
     "metadata": {},
     "output_type": "execute_result"
    },
    {
     "data": {
      "image/png": "[encoded data removed]",
      "text/plain": [
       "<Figure size 360x360 with 1 Axes>"
      ]
     },
     "metadata": {
      "needs_background": "light"
     },
     "output_type": "display_data"
    }
   ],
   "source": [
    "sns.displot(train['price'])"
   ]
  },
  {
   "cell_type": "code",
   "execution_count": 63,
   "metadata": {},
   "outputs": [
    {
     "data": {
      "text/plain": [
       "<seaborn.axisgrid.FacetGrid at 0x1381b5670>"
      ]
     },
     "execution_count": 63,
     "metadata": {},
     "output_type": "execute_result"
    },
    {
     "data": {
      "image/png": "[encoded data removed]",
      "text/plain": [
       "<Figure size 360x360 with 1 Axes>"
      ]
     },
     "metadata": {
      "needs_background": "light"
     },
     "output_type": "display_data"
    }
   ],
   "source": [
    "sns.displot(train['price_per_sqft'])"
   ]
  },
  {
   "cell_type": "code",
   "execution_count": 64,
   "metadata": {},
   "outputs": [
    {
     "name": "stdout",
     "output_type": "stream",
     "text": [
      "Skewness : 2.281980\n",
      "Kurtosis : 6.460924\n"
     ]
    }
   ],
   "source": [
    "print(\"Skewness : %f\" % train['price'].skew())\n",
    "print(\"Kurtosis : %f\" % train['price'].kurt())"
   ]
  },
  {
   "cell_type": "code",
   "execution_count": 65,
   "metadata": {},
   "outputs": [
    {
     "data": {
      "text/html": [
       "<div>\n",
       "<style scoped>\n",
       "    .dataframe tbody tr th:only-of-type {\n",
       "        vertical-align: middle;\n",
       "    }\n",
       "\n",
       "    .dataframe tbody tr th {\n",
       "        vertical-align: top;\n",
       "    }\n",
       "\n",
       "    .dataframe thead th {\n",
       "        text-align: right;\n",
       "    }\n",
       "</style>\n",
       "<table border=\"1\" class=\"dataframe\">\n",
       "  <thead>\n",
       "    <tr style=\"text-align: right;\">\n",
       "      <th></th>\n",
       "      <th>built_year</th>\n",
       "      <th>num_beds</th>\n",
       "      <th>num_baths</th>\n",
       "      <th>size_sqft</th>\n",
       "      <th>available_unit_types</th>\n",
       "      <th>total_num_units</th>\n",
       "      <th>lat</th>\n",
       "      <th>lng</th>\n",
       "      <th>price</th>\n",
       "      <th>cc_distance</th>\n",
       "      <th>mrt_distance</th>\n",
       "      <th>primary_school_distance</th>\n",
       "      <th>secondary_school_distance</th>\n",
       "      <th>shop_distance</th>\n",
       "      <th>population</th>\n",
       "      <th>area_size</th>\n",
       "      <th>price_per_sqft</th>\n",
       "      <th>scores_price</th>\n",
       "      <th>anomaly_price</th>\n",
       "    </tr>\n",
       "  </thead>\n",
       "  <tbody>\n",
       "    <tr>\n",
       "      <th>count</th>\n",
       "      <td>18633.000000</td>\n",
       "      <td>18633.000000</td>\n",
       "      <td>18633.000000</td>\n",
       "      <td>1.863300e+04</td>\n",
       "      <td>18633.000000</td>\n",
       "      <td>18633.000000</td>\n",
       "      <td>18633.000000</td>\n",
       "      <td>18633.000000</td>\n",
       "      <td>1.863300e+04</td>\n",
       "      <td>18633.000000</td>\n",
       "      <td>18633.000000</td>\n",
       "      <td>18633.000000</td>\n",
       "      <td>18633.000000</td>\n",
       "      <td>18633.000000</td>\n",
       "      <td>18633.000000</td>\n",
       "      <td>18633.000000</td>\n",
       "      <td>18633.000000</td>\n",
       "      <td>18633.000000</td>\n",
       "      <td>18633.0</td>\n",
       "    </tr>\n",
       "    <tr>\n",
       "      <th>mean</th>\n",
       "      <td>2011.370740</td>\n",
       "      <td>3.026512</td>\n",
       "      <td>2.510277</td>\n",
       "      <td>1.650408e+03</td>\n",
       "      <td>4.693179</td>\n",
       "      <td>362.097193</td>\n",
       "      <td>1.341523</td>\n",
       "      <td>103.843234</td>\n",
       "      <td>2.379334e+06</td>\n",
       "      <td>10.348897</td>\n",
       "      <td>8.760120</td>\n",
       "      <td>11.082400</td>\n",
       "      <td>9.627908</td>\n",
       "      <td>9.627908</td>\n",
       "      <td>17129.079053</td>\n",
       "      <td>1.796017</td>\n",
       "      <td>1668.876650</td>\n",
       "      <td>0.065387</td>\n",
       "      <td>1.0</td>\n",
       "    </tr>\n",
       "    <tr>\n",
       "      <th>std</th>\n",
       "      <td>15.547167</td>\n",
       "      <td>1.206086</td>\n",
       "      <td>1.332140</td>\n",
       "      <td>1.403802e+04</td>\n",
       "      <td>1.673758</td>\n",
       "      <td>299.473086</td>\n",
       "      <td>0.046064</td>\n",
       "      <td>0.052302</td>\n",
       "      <td>2.352712e+06</td>\n",
       "      <td>4.650446</td>\n",
       "      <td>4.547679</td>\n",
       "      <td>5.293028</td>\n",
       "      <td>4.391046</td>\n",
       "      <td>4.391046</td>\n",
       "      <td>16258.861181</td>\n",
       "      <td>1.530299</td>\n",
       "      <td>940.752331</td>\n",
       "      <td>0.025220</td>\n",
       "      <td>0.0</td>\n",
       "    </tr>\n",
       "    <tr>\n",
       "      <th>min</th>\n",
       "      <td>1963.000000</td>\n",
       "      <td>1.000000</td>\n",
       "      <td>1.000000</td>\n",
       "      <td>0.000000e+00</td>\n",
       "      <td>1.000000</td>\n",
       "      <td>4.000000</td>\n",
       "      <td>1.239621</td>\n",
       "      <td>103.686694</td>\n",
       "      <td>0.000000e+00</td>\n",
       "      <td>0.166654</td>\n",
       "      <td>0.027288</td>\n",
       "      <td>0.163496</td>\n",
       "      <td>0.097494</td>\n",
       "      <td>0.097494</td>\n",
       "      <td>0.000000</td>\n",
       "      <td>0.436400</td>\n",
       "      <td>0.000000</td>\n",
       "      <td>0.000004</td>\n",
       "      <td>1.0</td>\n",
       "    </tr>\n",
       "    <tr>\n",
       "      <th>25%</th>\n",
       "      <td>2001.000000</td>\n",
       "      <td>2.000000</td>\n",
       "      <td>2.000000</td>\n",
       "      <td>7.860000e+02</td>\n",
       "      <td>4.000000</td>\n",
       "      <td>158.000000</td>\n",
       "      <td>1.308696</td>\n",
       "      <td>103.806576</td>\n",
       "      <td>8.064000e+05</td>\n",
       "      <td>7.037977</td>\n",
       "      <td>5.094119</td>\n",
       "      <td>7.119339</td>\n",
       "      <td>6.150872</td>\n",
       "      <td>6.150872</td>\n",
       "      <td>4370.000000</td>\n",
       "      <td>1.061900</td>\n",
       "      <td>689.957265</td>\n",
       "      <td>0.048713</td>\n",
       "      <td>1.0</td>\n",
       "    </tr>\n",
       "    <tr>\n",
       "      <th>50%</th>\n",
       "      <td>2017.000000</td>\n",
       "      <td>3.000000</td>\n",
       "      <td>2.000000</td>\n",
       "      <td>1.088000e+03</td>\n",
       "      <td>5.000000</td>\n",
       "      <td>296.000000</td>\n",
       "      <td>1.329594</td>\n",
       "      <td>103.842295</td>\n",
       "      <td>1.596000e+06</td>\n",
       "      <td>10.324064</td>\n",
       "      <td>8.332159</td>\n",
       "      <td>10.952671</td>\n",
       "      <td>9.546461</td>\n",
       "      <td>9.546461</td>\n",
       "      <td>10840.000000</td>\n",
       "      <td>1.432900</td>\n",
       "      <td>1580.320946</td>\n",
       "      <td>0.069244</td>\n",
       "      <td>1.0</td>\n",
       "    </tr>\n",
       "    <tr>\n",
       "      <th>75%</th>\n",
       "      <td>2023.000000</td>\n",
       "      <td>4.000000</td>\n",
       "      <td>3.000000</td>\n",
       "      <td>1.432000e+03</td>\n",
       "      <td>6.000000</td>\n",
       "      <td>455.000000</td>\n",
       "      <td>1.373731</td>\n",
       "      <td>103.879948</td>\n",
       "      <td>2.950500e+06</td>\n",
       "      <td>12.989978</td>\n",
       "      <td>12.242826</td>\n",
       "      <td>14.901556</td>\n",
       "      <td>13.169394</td>\n",
       "      <td>13.169394</td>\n",
       "      <td>24760.000000</td>\n",
       "      <td>2.206800</td>\n",
       "      <td>2472.118959</td>\n",
       "      <td>0.084797</td>\n",
       "      <td>1.0</td>\n",
       "    </tr>\n",
       "    <tr>\n",
       "      <th>max</th>\n",
       "      <td>2028.000000</td>\n",
       "      <td>10.000000</td>\n",
       "      <td>10.000000</td>\n",
       "      <td>1.496000e+06</td>\n",
       "      <td>10.000000</td>\n",
       "      <td>2612.000000</td>\n",
       "      <td>1.461582</td>\n",
       "      <td>103.987450</td>\n",
       "      <td>1.772400e+07</td>\n",
       "      <td>28.944694</td>\n",
       "      <td>22.877877</td>\n",
       "      <td>30.570354</td>\n",
       "      <td>20.963389</td>\n",
       "      <td>20.963389</td>\n",
       "      <td>60670.000000</td>\n",
       "      <td>8.405500</td>\n",
       "      <td>6585.123967</td>\n",
       "      <td>0.114347</td>\n",
       "      <td>1.0</td>\n",
       "    </tr>\n",
       "  </tbody>\n",
       "</table>\n",
       "</div>"
      ],
      "text/plain": [
       "         built_year      num_beds     num_baths     size_sqft  \\\n",
       "count  18633.000000  18633.000000  18633.000000  1.863300e+04   \n",
       "mean    2011.370740      3.026512      2.510277  1.650408e+03   \n",
       "std       15.547167      1.206086      1.332140  1.403802e+04   \n",
       "min     1963.000000      1.000000      1.000000  0.000000e+00   \n",
       "25%     2001.000000      2.000000      2.000000  7.860000e+02   \n",
       "50%     2017.000000      3.000000      2.000000  1.088000e+03   \n",
       "75%     2023.000000      4.000000      3.000000  1.432000e+03   \n",
       "max     2028.000000     10.000000     10.000000  1.496000e+06   \n",
       "\n",
       "       available_unit_types  total_num_units           lat           lng  \\\n",
       "count          18633.000000     18633.000000  18633.000000  18633.000000   \n",
       "mean               4.693179       362.097193      1.341523    103.843234   \n",
       "std                1.673758       299.473086      0.046064      0.052302   \n",
       "min                1.000000         4.000000      1.239621    103.686694   \n",
       "25%                4.000000       158.000000      1.308696    103.806576   \n",
       "50%                5.000000       296.000000      1.329594    103.842295   \n",
       "75%                6.000000       455.000000      1.373731    103.879948   \n",
       "max               10.000000      2612.000000      1.461582    103.987450   \n",
       "\n",
       "              price   cc_distance  mrt_distance  primary_school_distance  \\\n",
       "count  1.863300e+04  18633.000000  18633.000000             18633.000000   \n",
       "mean   2.379334e+06     10.348897      8.760120                11.082400   \n",
       "std    2.352712e+06      4.650446      4.547679                 5.293028   \n",
       "min    0.000000e+00      0.166654      0.027288                 0.163496   \n",
       "25%    8.064000e+05      7.037977      5.094119                 7.119339   \n",
       "50%    1.596000e+06     10.324064      8.332159                10.952671   \n",
       "75%    2.950500e+06     12.989978     12.242826                14.901556   \n",
       "max    1.772400e+07     28.944694     22.877877                30.570354   \n",
       "\n",
       "       secondary_school_distance  shop_distance    population     area_size  \\\n",
       "count               18633.000000   18633.000000  18633.000000  18633.000000   \n",
       "mean                    9.627908       9.627908  17129.079053      1.796017   \n",
       "std                     4.391046       4.391046  16258.861181      1.530299   \n",
       "min                     0.097494       0.097494      0.000000      0.436400   \n",
       "25%                     6.150872       6.150872   4370.000000      1.061900   \n",
       "50%                     9.546461       9.546461  10840.000000      1.432900   \n",
       "75%                    13.169394      13.169394  24760.000000      2.206800   \n",
       "max                    20.963389      20.963389  60670.000000      8.405500   \n",
       "\n",
       "       price_per_sqft  scores_price  anomaly_price  \n",
       "count    18633.000000  18633.000000        18633.0  \n",
       "mean      1668.876650      0.065387            1.0  \n",
       "std        940.752331      0.025220            0.0  \n",
       "min          0.000000      0.000004            1.0  \n",
       "25%        689.957265      0.048713            1.0  \n",
       "50%       1580.320946      0.069244            1.0  \n",
       "75%       2472.118959      0.084797            1.0  \n",
       "max       6585.123967      0.114347            1.0  "
      ]
     },
     "execution_count": 65,
     "metadata": {},
     "output_type": "execute_result"
    }
   ],
   "source": [
    "train.describe()"
   ]
  },
  {
   "cell_type": "code",
   "execution_count": 66,
   "metadata": {},
   "outputs": [
    {
     "name": "stderr",
     "output_type": "stream",
     "text": [
      "/usr/local/lib/python3.9/site-packages/seaborn/distributions.py:2619: FutureWarning: `distplot` is a deprecated function and will be removed in a future version. Please adapt your code to use either `displot` (a figure-level function with similar flexibility) or `histplot` (an axes-level function for histograms).\n",
      "  warnings.warn(msg, FutureWarning)\n"
     ]
    },
    {
     "data": {
      "image/png": "[encoded data removed]",
      "text/plain": [
       "<Figure size 432x288 with 1 Axes>"
      ]
     },
     "metadata": {
      "needs_background": "light"
     },
     "output_type": "display_data"
    },
    {
     "data": {
      "image/png": "[encoded data removed]",
      "text/plain": [
       "<Figure size 432x288 with 1 Axes>"
      ]
     },
     "metadata": {
      "needs_background": "light"
     },
     "output_type": "display_data"
    }
   ],
   "source": [
    "from scipy import stats\n",
    "from scipy.stats import norm\n",
    "from sklearn.preprocessing import StandardScaler\n",
    "\n",
    "\n",
    "sns.distplot(train['price'], fit = norm)\n",
    "fig = plt.figure()\n",
    "res = stats.probplot(train['price'],plot = plt)"
   ]
  },
  {
   "cell_type": "code",
   "execution_count": 67,
   "metadata": {},
   "outputs": [],
   "source": [
    "# train.describe()"
   ]
  },
  {
   "cell_type": "code",
   "execution_count": 68,
   "metadata": {},
   "outputs": [],
   "source": [
    "train = train.drop(columns='scores_price')\n",
    "train = train.drop(columns='anomaly_price')"
   ]
  },
  {
   "cell_type": "markdown",
   "metadata": {},
   "source": [
    "## Data Visualization after cleaning"
   ]
  },
  {
   "cell_type": "markdown",
   "metadata": {},
   "source": [
    "#### built_year"
   ]
  },
  {
   "cell_type": "code",
   "execution_count": 69,
   "metadata": {},
   "outputs": [
    {
     "data": {
      "image/png": "[encoded data removed]",
      "text/plain": [
       "<Figure size 432x288 with 1 Axes>"
      ]
     },
     "metadata": {
      "needs_background": "light"
     },
     "output_type": "display_data"
    }
   ],
   "source": [
    "bins = train['built_year'].max() - train['built_year'].min()\n",
    "plt.hist(train['built_year'], bins=bins, edgecolor='black')\n",
    "plt.title('Distribution of Built Year')\n",
    "plt.show()"
   ]
  },
  {
   "cell_type": "markdown",
   "metadata": {},
   "source": [
    "#### "
   ]
  },
  {
   "cell_type": "markdown",
   "metadata": {},
   "source": [
    "#### Planning_area Housing price"
   ]
  },
  {
   "cell_type": "code",
   "execution_count": 70,
   "metadata": {},
   "outputs": [
    {
     "data": {
      "image/png": "[encoded data removed]",
      "text/plain": [
       "<Figure size 960x640 with 1 Axes>"
      ]
     },
     "metadata": {
      "needs_background": "light"
     },
     "output_type": "display_data"
    }
   ],
   "source": [
    "# Visualization\n",
    "fig, ax = plt.subplots(1,1, figsize=(12, 8), dpi=80)\n",
    "\n",
    "# Find the order\n",
    "my_order = train.groupby(by=[\"planning_area\"])[\"price\"].mean().sort_values(ascending=False).index\n",
    "\n",
    "box_plot = sns.boxplot(x = 'subzone',y = 'price',data = train, order=my_order)\n",
    "plt.ylabel('Price')\n",
    "plt.xlabel('planning area')\n",
    "plt.title('Planning Area housing price range comparison', fontsize=15, fontweight='bold', fontfamily='serif')\n",
    "\n",
    "ax = box_plot.axes\n",
    "\n",
    "lines = ax.get_lines()\n",
    "#categories = ax.get_xticks()\n",
    "ax.tick_params(axis='x', rotation=90)\n",
    "\n",
    "for s in ['top', 'left', 'right']:\n",
    "    ax.spines[s].set_visible(False)\n",
    "ax.grid(axis='y', linestyle='-', alpha=0.4) \n",
    "\n",
    "box_plot.figure.tight_layout()\n",
    "\n",
    "#fig = box_plot.get_figure()"
   ]
  },
  {
   "cell_type": "markdown",
   "metadata": {},
   "source": [
    "#### Coorelation Matrix"
   ]
  },
  {
   "cell_type": "code",
   "execution_count": 71,
   "metadata": {},
   "outputs": [
    {
     "data": {
      "image/png": "[encoded data removed]",
      "text/plain": [
       "<Figure size 1008x576 with 2 Axes>"
      ]
     },
     "metadata": {
      "needs_background": "light"
     },
     "output_type": "display_data"
    }
   ],
   "source": [
    "plt.figure(figsize=(14,8))\n",
    "sns.heatmap(train.corr())\n",
    "plt.show()"
   ]
  },
  {
   "cell_type": "code",
   "execution_count": 72,
   "metadata": {},
   "outputs": [
    {
     "data": {
      "image/png": "[encoded data removed]",
      "text/plain": [
       "<Figure size 1008x576 with 1 Axes>"
      ]
     },
     "metadata": {
      "needs_background": "light"
     },
     "output_type": "display_data"
    }
   ],
   "source": [
    "plt.figure(figsize=(14,8))\n",
    "train.corr()['price'].sort_values()[:-1].plot(kind='bar')\n",
    "plt.show()"
   ]
  },
  {
   "cell_type": "markdown",
   "metadata": {},
   "source": [
    "Built Year & Sale Priceopll"
   ]
  }
 ],
 "metadata": {
  "kernelspec": {
   "display_name": "Python 3.10.6 64-bit",
   "language": "python",
   "name": "python3"
  },
  "language_info": {
   "codemirror_mode": {
    "name": "ipython",
    "version": 3
   },
   "file_extension": ".py",
   "mimetype": "text/x-python",
   "name": "python",
   "nbconvert_exporter": "python",
   "pygments_lexer": "ipython3",
   "version": "3.9.12"
  },
  "orig_nbformat": 4,
  "vscode": {
   "interpreter": {
    "hash": "aee8b7b246df8f9039afb4144a1f6fd8d2ca17a180786b69acc140d282b71a49"
   }
  }
 },
 "nbformat": 4,
 "nbformat_minor": 2
}
