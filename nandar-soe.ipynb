{
 "cells": [
  {
   "cell_type": "code",
   "execution_count": 1,
   "metadata": {},
   "outputs": [],
   "source": [
    "import pandas as pd\n",
    "import numpy as np\n",
    "import matplotlib.pyplot as plt\n",
    "import seaborn as sn\n",
    "import statistics as st \n",
    "from sklearn.model_selection import train_test_split\n",
    "from sklearn.metrics import accuracy_score, plot_confusion_matrix\n",
    "from sklearn.model_selection import GridSearchCV\n",
    "from sklearn.metrics import mean_squared_error\n",
    "from math import sqrt\n",
    "import seaborn as sns"
   ]
  },
  {
   "cell_type": "markdown",
   "metadata": {},
   "source": [
    "# EDA"
   ]
  },
  {
   "cell_type": "code",
   "execution_count": 2,
   "metadata": {},
   "outputs": [],
   "source": [
    "train = pd.read_csv('train.csv')\n",
    "test = pd.read_csv('test.csv')"
   ]
  },
  {
   "cell_type": "markdown",
   "metadata": {},
   "source": [
    "### Remove listing_id  \n",
    "#### listing_id is all unique without duplicates"
   ]
  },
  {
   "cell_type": "code",
   "execution_count": 3,
   "metadata": {},
   "outputs": [],
   "source": [
    "# train = train.drop(columns=['listing_id', 'property_details_url', 'elevation','property_name','address','title'])\n",
    "test = test.drop(columns=['listing_id', 'property_details_url', 'elevation','property_name','address','title'])\n",
    "\n",
    "train = train.drop(columns=['property_details_url', 'elevation','property_name','address','title'])"
   ]
  },
  {
   "cell_type": "code",
   "execution_count": 4,
   "metadata": {},
   "outputs": [
    {
     "data": {
      "text/html": [
       "<div>\n",
       "<style scoped>\n",
       "    .dataframe tbody tr th:only-of-type {\n",
       "        vertical-align: middle;\n",
       "    }\n",
       "\n",
       "    .dataframe tbody tr th {\n",
       "        vertical-align: top;\n",
       "    }\n",
       "\n",
       "    .dataframe thead th {\n",
       "        text-align: right;\n",
       "    }\n",
       "</style>\n",
       "<table border=\"1\" class=\"dataframe\">\n",
       "  <thead>\n",
       "    <tr style=\"text-align: right;\">\n",
       "      <th></th>\n",
       "      <th>built_year</th>\n",
       "      <th>num_beds</th>\n",
       "      <th>num_baths</th>\n",
       "      <th>size_sqft</th>\n",
       "      <th>total_num_units</th>\n",
       "      <th>lat</th>\n",
       "      <th>lng</th>\n",
       "      <th>price</th>\n",
       "    </tr>\n",
       "  </thead>\n",
       "  <tbody>\n",
       "    <tr>\n",
       "      <th>count</th>\n",
       "      <td>19332.000000</td>\n",
       "      <td>20174.000000</td>\n",
       "      <td>19820.000000</td>\n",
       "      <td>2.025400e+04</td>\n",
       "      <td>14602.000000</td>\n",
       "      <td>20254.000000</td>\n",
       "      <td>20254.000000</td>\n",
       "      <td>2.025400e+04</td>\n",
       "    </tr>\n",
       "    <tr>\n",
       "      <th>mean</th>\n",
       "      <td>2010.833695</td>\n",
       "      <td>3.122931</td>\n",
       "      <td>2.643542</td>\n",
       "      <td>1.854364e+03</td>\n",
       "      <td>376.253938</td>\n",
       "      <td>1.434282</td>\n",
       "      <td>103.855356</td>\n",
       "      <td>5.228263e+06</td>\n",
       "    </tr>\n",
       "    <tr>\n",
       "      <th>std</th>\n",
       "      <td>15.822803</td>\n",
       "      <td>1.281658</td>\n",
       "      <td>1.473835</td>\n",
       "      <td>1.354343e+04</td>\n",
       "      <td>346.882474</td>\n",
       "      <td>1.558472</td>\n",
       "      <td>3.593441</td>\n",
       "      <td>2.779748e+08</td>\n",
       "    </tr>\n",
       "    <tr>\n",
       "      <th>min</th>\n",
       "      <td>1963.000000</td>\n",
       "      <td>1.000000</td>\n",
       "      <td>1.000000</td>\n",
       "      <td>0.000000e+00</td>\n",
       "      <td>4.000000</td>\n",
       "      <td>1.239621</td>\n",
       "      <td>-77.065364</td>\n",
       "      <td>0.000000e+00</td>\n",
       "    </tr>\n",
       "    <tr>\n",
       "      <th>25%</th>\n",
       "      <td>2000.000000</td>\n",
       "      <td>2.000000</td>\n",
       "      <td>2.000000</td>\n",
       "      <td>8.070000e+02</td>\n",
       "      <td>106.000000</td>\n",
       "      <td>1.307329</td>\n",
       "      <td>103.806576</td>\n",
       "      <td>8.190000e+05</td>\n",
       "    </tr>\n",
       "    <tr>\n",
       "      <th>50%</th>\n",
       "      <td>2017.000000</td>\n",
       "      <td>3.000000</td>\n",
       "      <td>2.000000</td>\n",
       "      <td>1.119000e+03</td>\n",
       "      <td>296.000000</td>\n",
       "      <td>1.329266</td>\n",
       "      <td>103.841552</td>\n",
       "      <td>1.680000e+06</td>\n",
       "    </tr>\n",
       "    <tr>\n",
       "      <th>75%</th>\n",
       "      <td>2023.000000</td>\n",
       "      <td>4.000000</td>\n",
       "      <td>3.000000</td>\n",
       "      <td>1.528000e+03</td>\n",
       "      <td>561.000000</td>\n",
       "      <td>1.372461</td>\n",
       "      <td>103.881514</td>\n",
       "      <td>3.242400e+06</td>\n",
       "    </tr>\n",
       "    <tr>\n",
       "      <th>max</th>\n",
       "      <td>2028.000000</td>\n",
       "      <td>10.000000</td>\n",
       "      <td>10.000000</td>\n",
       "      <td>1.496000e+06</td>\n",
       "      <td>2612.000000</td>\n",
       "      <td>69.486768</td>\n",
       "      <td>121.023232</td>\n",
       "      <td>3.924243e+10</td>\n",
       "    </tr>\n",
       "  </tbody>\n",
       "</table>\n",
       "</div>"
      ],
      "text/plain": [
       "         built_year      num_beds     num_baths     size_sqft  \\\n",
       "count  19332.000000  20174.000000  19820.000000  2.025400e+04   \n",
       "mean    2010.833695      3.122931      2.643542  1.854364e+03   \n",
       "std       15.822803      1.281658      1.473835  1.354343e+04   \n",
       "min     1963.000000      1.000000      1.000000  0.000000e+00   \n",
       "25%     2000.000000      2.000000      2.000000  8.070000e+02   \n",
       "50%     2017.000000      3.000000      2.000000  1.119000e+03   \n",
       "75%     2023.000000      4.000000      3.000000  1.528000e+03   \n",
       "max     2028.000000     10.000000     10.000000  1.496000e+06   \n",
       "\n",
       "       total_num_units           lat           lng         price  \n",
       "count     14602.000000  20254.000000  20254.000000  2.025400e+04  \n",
       "mean        376.253938      1.434282    103.855356  5.228263e+06  \n",
       "std         346.882474      1.558472      3.593441  2.779748e+08  \n",
       "min           4.000000      1.239621    -77.065364  0.000000e+00  \n",
       "25%         106.000000      1.307329    103.806576  8.190000e+05  \n",
       "50%         296.000000      1.329266    103.841552  1.680000e+06  \n",
       "75%         561.000000      1.372461    103.881514  3.242400e+06  \n",
       "max        2612.000000     69.486768    121.023232  3.924243e+10  "
      ]
     },
     "execution_count": 4,
     "metadata": {},
     "output_type": "execute_result"
    }
   ],
   "source": [
    "train.describe()"
   ]
  },
  {
   "cell_type": "markdown",
   "metadata": {},
   "source": [
    "## Adding Distances"
   ]
  },
  {
   "cell_type": "markdown",
   "metadata": {},
   "source": [
    "### Add distance to commericial centres"
   ]
  },
  {
   "cell_type": "code",
   "execution_count": 5,
   "metadata": {},
   "outputs": [],
   "source": [
    "ccdistance = pd.read_csv('auxiliary-data/sg-commerical-centres.csv')"
   ]
  },
  {
   "cell_type": "code",
   "execution_count": 6,
   "metadata": {},
   "outputs": [],
   "source": [
    "# vectorized haversine function\n",
    "def haversine_np(lon1, lat1, lon2, lat2):\n",
    "    \"\"\"\n",
    "    Calculate the great circle distance between two points\n",
    "    on the earth (specified in decimal degrees)\n",
    "\n",
    "    All args must be of equal length.    \n",
    "\n",
    "    \"\"\"\n",
    "    lon1, lat1, lon2, lat2 = map(np.radians, [lon1, lat1, lon2, lat2])\n",
    "\n",
    "    dlon = lon2 - lon1\n",
    "    dlat = lat2 - lat1\n",
    "\n",
    "    a = np.sin(dlat/2.0)**2 + np.cos(lat1) * np.cos(lat2) * np.sin(dlon/2.0)**2\n",
    "\n",
    "    c = 2 * np.arcsin(np.sqrt(a))\n",
    "    km = 6367 * c\n",
    "    return km\n"
   ]
  },
  {
   "cell_type": "code",
   "execution_count": 7,
   "metadata": {},
   "outputs": [],
   "source": [
    "# train['cc_distance'] = haversine_np(train['lng'], train['lat'], ccdistance['lng'], ccdistance['lat'])\n",
    "expected_result = pd.merge(train, ccdistance, on = 'planning_area')\n",
    "expected_result.head()\n",
    "train['cc_distance'] = haversine_np(train['lng'], train['lat'], expected_result['lng_y'], expected_result['lat_y'])\n",
    "\n",
    "# train['cc_distance'] = haversine_np(train['lng'], train['lat'], ccdistance['lng'], ccdistance['lat'])\n",
    "expected_result = pd.merge(test, ccdistance, on = 'planning_area')\n",
    "expected_result.head()\n",
    "test['cc_distance'] = haversine_np(test['lng'], test['lat'], expected_result['lng_y'], expected_result['lat_y'])"
   ]
  },
  {
   "cell_type": "code",
   "execution_count": 8,
   "metadata": {},
   "outputs": [],
   "source": [
    "ccdistancemean = train['cc_distance'].median()\n",
    "train['cc_distance']=train['cc_distance'].fillna(ccdistancemean)\n",
    "\n",
    "ccdistancemean = test['cc_distance'].median()\n",
    "test['cc_distance']=test['cc_distance'].fillna(ccdistancemean)"
   ]
  },
  {
   "cell_type": "markdown",
   "metadata": {},
   "source": [
    "### Add distance to mrt stations"
   ]
  },
  {
   "cell_type": "code",
   "execution_count": 9,
   "metadata": {},
   "outputs": [],
   "source": [
    "# using long and lat\n",
    "mrtdistance = pd.read_csv('auxiliary-data/sg-mrt-stations.csv')\n",
    "expected_result = pd.merge(train, mrtdistance, on = 'planning_area')\n",
    "train['mrt_distance'] = haversine_np(train['lng'], train['lat'], expected_result['lng_y'], expected_result['lat_y'])\n",
    "\n",
    "\n",
    "# using long and lat\n",
    "mrtdistance = pd.read_csv('auxiliary-data/sg-mrt-stations.csv')\n",
    "expected_result = pd.merge(test, mrtdistance, on = 'planning_area')\n",
    "test['mrt_distance'] = haversine_np(test['lng'], test['lat'], expected_result['lng_y'], expected_result['lat_y'])"
   ]
  },
  {
   "cell_type": "markdown",
   "metadata": {},
   "source": [
    "### Add distance to primary school "
   ]
  },
  {
   "cell_type": "code",
   "execution_count": 10,
   "metadata": {},
   "outputs": [],
   "source": [
    "# using long and lat\n",
    "primaryschooldistance = pd.read_csv('auxiliary-data/sg-primary-schools.csv')\n",
    "expected_result = pd.merge(train, primaryschooldistance, on = 'planning_area')\n",
    "train['primary_school_distance'] = haversine_np(train['lng'], train['lat'], expected_result['lng_y'], expected_result['lat_y'])\n",
    "\n",
    "# using long and lat\n",
    "primaryschooldistance = pd.read_csv('auxiliary-data/sg-primary-schools.csv')\n",
    "expected_result = pd.merge(test, primaryschooldistance, on = 'planning_area')\n",
    "test['primary_school_distance'] = haversine_np(test['lng'], test['lat'], expected_result['lng_y'], expected_result['lat_y'])"
   ]
  },
  {
   "cell_type": "markdown",
   "metadata": {},
   "source": [
    "### Add distance to secondary school"
   ]
  },
  {
   "cell_type": "code",
   "execution_count": 11,
   "metadata": {},
   "outputs": [],
   "source": [
    "# using long and lat\n",
    "secschooldistance = pd.read_csv('auxiliary-data/sg-secondary-schools.csv')\n",
    "expected_result = pd.merge(train, secschooldistance, on = 'planning_area')\n",
    "train['secondary_school_distance'] = haversine_np(train['lng'], train['lat'], expected_result['lng_y'], expected_result['lat_y'])\n",
    "\n",
    "# using long and lat\n",
    "secschooldistance = pd.read_csv('auxiliary-data/sg-secondary-schools.csv')\n",
    "expected_result = pd.merge(test, secschooldistance, on = 'planning_area')\n",
    "test['secondary_school_distance'] = haversine_np(test['lng'], test['lat'], expected_result['lng_y'], expected_result['lat_y'])"
   ]
  },
  {
   "cell_type": "markdown",
   "metadata": {},
   "source": [
    "### Add distance to shopping malls"
   ]
  },
  {
   "cell_type": "code",
   "execution_count": 12,
   "metadata": {},
   "outputs": [],
   "source": [
    "# using long and lat\n",
    "shop_distance = pd.read_csv('auxiliary-data/sg-shopping-malls.csv')\n",
    "expected_result = pd.merge(train, secschooldistance, on = 'planning_area')\n",
    "train['shop_distance'] = haversine_np(train['lng'], train['lat'], expected_result['lng_y'], expected_result['lat_y'])\n",
    "\n",
    "# using long and lat\n",
    "shop_distance = pd.read_csv('auxiliary-data/sg-shopping-malls.csv')\n",
    "expected_result = pd.merge(test, secschooldistance, on = 'planning_area')\n",
    "test['shop_distance'] = haversine_np(test['lng'], test['lat'], expected_result['lng_y'], expected_result['lat_y'])"
   ]
  },
  {
   "cell_type": "code",
   "execution_count": 13,
   "metadata": {},
   "outputs": [
    {
     "data": {
      "text/html": [
       "<div>\n",
       "<style scoped>\n",
       "    .dataframe tbody tr th:only-of-type {\n",
       "        vertical-align: middle;\n",
       "    }\n",
       "\n",
       "    .dataframe tbody tr th {\n",
       "        vertical-align: top;\n",
       "    }\n",
       "\n",
       "    .dataframe thead th {\n",
       "        text-align: right;\n",
       "    }\n",
       "</style>\n",
       "<table border=\"1\" class=\"dataframe\">\n",
       "  <thead>\n",
       "    <tr style=\"text-align: right;\">\n",
       "      <th></th>\n",
       "      <th>property_type</th>\n",
       "      <th>tenure</th>\n",
       "      <th>built_year</th>\n",
       "      <th>num_beds</th>\n",
       "      <th>num_baths</th>\n",
       "      <th>size_sqft</th>\n",
       "      <th>floor_level</th>\n",
       "      <th>furnishing</th>\n",
       "      <th>available_unit_types</th>\n",
       "      <th>total_num_units</th>\n",
       "      <th>lat</th>\n",
       "      <th>lng</th>\n",
       "      <th>subzone</th>\n",
       "      <th>planning_area</th>\n",
       "      <th>price</th>\n",
       "      <th>cc_distance</th>\n",
       "      <th>mrt_distance</th>\n",
       "      <th>primary_school_distance</th>\n",
       "      <th>secondary_school_distance</th>\n",
       "      <th>shop_distance</th>\n",
       "    </tr>\n",
       "  </thead>\n",
       "  <tbody>\n",
       "    <tr>\n",
       "      <th>0</th>\n",
       "      <td>hdb 4 rooms</td>\n",
       "      <td>NaN</td>\n",
       "      <td>1988.0</td>\n",
       "      <td>3.0</td>\n",
       "      <td>2.0</td>\n",
       "      <td>1115</td>\n",
       "      <td>NaN</td>\n",
       "      <td>unspecified</td>\n",
       "      <td>NaN</td>\n",
       "      <td>116.0</td>\n",
       "      <td>1.414399</td>\n",
       "      <td>103.837196</td>\n",
       "      <td>yishun south</td>\n",
       "      <td>yishun</td>\n",
       "      <td>514500.0</td>\n",
       "      <td>8.027727</td>\n",
       "      <td>1.689357</td>\n",
       "      <td>5.178683</td>\n",
       "      <td>2.538065</td>\n",
       "      <td>2.538065</td>\n",
       "    </tr>\n",
       "    <tr>\n",
       "      <th>1</th>\n",
       "      <td>hdb</td>\n",
       "      <td>99-year leasehold</td>\n",
       "      <td>1992.0</td>\n",
       "      <td>4.0</td>\n",
       "      <td>2.0</td>\n",
       "      <td>1575</td>\n",
       "      <td>NaN</td>\n",
       "      <td>unspecified</td>\n",
       "      <td>1, 2, 3, 4, 5, 6 br</td>\n",
       "      <td>NaN</td>\n",
       "      <td>1.372597</td>\n",
       "      <td>103.875625</td>\n",
       "      <td>serangoon north</td>\n",
       "      <td>serangoon</td>\n",
       "      <td>995400.0</td>\n",
       "      <td>2.400374</td>\n",
       "      <td>6.871207</td>\n",
       "      <td>8.310177</td>\n",
       "      <td>6.710202</td>\n",
       "      <td>6.710202</td>\n",
       "    </tr>\n",
       "    <tr>\n",
       "      <th>2</th>\n",
       "      <td>condo</td>\n",
       "      <td>freehold</td>\n",
       "      <td>2022.0</td>\n",
       "      <td>4.0</td>\n",
       "      <td>6.0</td>\n",
       "      <td>3070</td>\n",
       "      <td>low</td>\n",
       "      <td>partial</td>\n",
       "      <td>studio, 3, 4, 5, 6 br</td>\n",
       "      <td>56.0</td>\n",
       "      <td>1.298773</td>\n",
       "      <td>103.895798</td>\n",
       "      <td>mountbatten</td>\n",
       "      <td>marine parade</td>\n",
       "      <td>8485000.0</td>\n",
       "      <td>6.389766</td>\n",
       "      <td>13.983476</td>\n",
       "      <td>9.485153</td>\n",
       "      <td>15.197137</td>\n",
       "      <td>15.197137</td>\n",
       "    </tr>\n",
       "    <tr>\n",
       "      <th>3</th>\n",
       "      <td>Condo</td>\n",
       "      <td>freehold</td>\n",
       "      <td>2023.0</td>\n",
       "      <td>3.0</td>\n",
       "      <td>2.0</td>\n",
       "      <td>958</td>\n",
       "      <td>NaN</td>\n",
       "      <td>partial</td>\n",
       "      <td>studio, 1, 2, 3, 4 br</td>\n",
       "      <td>638.0</td>\n",
       "      <td>1.312364</td>\n",
       "      <td>103.803271</td>\n",
       "      <td>farrer court</td>\n",
       "      <td>bukit timah</td>\n",
       "      <td>2626000.0</td>\n",
       "      <td>8.802339</td>\n",
       "      <td>13.479646</td>\n",
       "      <td>3.290085</td>\n",
       "      <td>12.950660</td>\n",
       "      <td>12.950660</td>\n",
       "    </tr>\n",
       "    <tr>\n",
       "      <th>4</th>\n",
       "      <td>condo</td>\n",
       "      <td>99-year leasehold</td>\n",
       "      <td>2026.0</td>\n",
       "      <td>2.0</td>\n",
       "      <td>1.0</td>\n",
       "      <td>732</td>\n",
       "      <td>NaN</td>\n",
       "      <td>unspecified</td>\n",
       "      <td>studio, 1, 2, 3, 4, 5 br</td>\n",
       "      <td>351.0</td>\n",
       "      <td>1.273959</td>\n",
       "      <td>103.843635</td>\n",
       "      <td>anson</td>\n",
       "      <td>downtown core</td>\n",
       "      <td>1764000.0</td>\n",
       "      <td>9.160635</td>\n",
       "      <td>15.981982</td>\n",
       "      <td>13.818954</td>\n",
       "      <td>17.977600</td>\n",
       "      <td>17.977600</td>\n",
       "    </tr>\n",
       "  </tbody>\n",
       "</table>\n",
       "</div>"
      ],
      "text/plain": [
       "  property_type             tenure  built_year  num_beds  num_baths  \\\n",
       "0   hdb 4 rooms                NaN      1988.0       3.0        2.0   \n",
       "1           hdb  99-year leasehold      1992.0       4.0        2.0   \n",
       "2         condo           freehold      2022.0       4.0        6.0   \n",
       "3         Condo           freehold      2023.0       3.0        2.0   \n",
       "4         condo  99-year leasehold      2026.0       2.0        1.0   \n",
       "\n",
       "   size_sqft floor_level   furnishing      available_unit_types  \\\n",
       "0       1115         NaN  unspecified                       NaN   \n",
       "1       1575         NaN  unspecified       1, 2, 3, 4, 5, 6 br   \n",
       "2       3070         low      partial     studio, 3, 4, 5, 6 br   \n",
       "3        958         NaN      partial     studio, 1, 2, 3, 4 br   \n",
       "4        732         NaN  unspecified  studio, 1, 2, 3, 4, 5 br   \n",
       "\n",
       "   total_num_units       lat         lng          subzone  planning_area  \\\n",
       "0            116.0  1.414399  103.837196     yishun south         yishun   \n",
       "1              NaN  1.372597  103.875625  serangoon north      serangoon   \n",
       "2             56.0  1.298773  103.895798      mountbatten  marine parade   \n",
       "3            638.0  1.312364  103.803271     farrer court    bukit timah   \n",
       "4            351.0  1.273959  103.843635            anson  downtown core   \n",
       "\n",
       "       price  cc_distance  mrt_distance  primary_school_distance  \\\n",
       "0   514500.0     8.027727      1.689357                 5.178683   \n",
       "1   995400.0     2.400374      6.871207                 8.310177   \n",
       "2  8485000.0     6.389766     13.983476                 9.485153   \n",
       "3  2626000.0     8.802339     13.479646                 3.290085   \n",
       "4  1764000.0     9.160635     15.981982                13.818954   \n",
       "\n",
       "   secondary_school_distance  shop_distance  \n",
       "0                   2.538065       2.538065  \n",
       "1                   6.710202       6.710202  \n",
       "2                  15.197137      15.197137  \n",
       "3                  12.950660      12.950660  \n",
       "4                  17.977600      17.977600  "
      ]
     },
     "execution_count": 13,
     "metadata": {},
     "output_type": "execute_result"
    }
   ],
   "source": [
    "train.head()"
   ]
  },
  {
   "cell_type": "code",
   "execution_count": 14,
   "metadata": {},
   "outputs": [
    {
     "data": {
      "text/plain": [
       "count    20254.000000\n",
       "mean        26.050066\n",
       "std        332.803030\n",
       "min          0.089512\n",
       "25%          7.140757\n",
       "50%         10.324064\n",
       "75%         13.319652\n",
       "max      15529.817405\n",
       "Name: cc_distance, dtype: float64"
      ]
     },
     "execution_count": 14,
     "metadata": {},
     "output_type": "execute_result"
    }
   ],
   "source": [
    "train['cc_distance'].describe()"
   ]
  },
  {
   "cell_type": "markdown",
   "metadata": {},
   "source": [
    "## Property Type cleaning"
   ]
  },
  {
   "cell_type": "code",
   "execution_count": 15,
   "metadata": {},
   "outputs": [],
   "source": [
    "#Change all to uppercase\n",
    "train['property_type']=train['property_type'].str.upper()\n",
    "\n",
    "#Change all to uppercase\n",
    "test['property_type']=test['property_type'].str.upper()"
   ]
  },
  {
   "cell_type": "code",
   "execution_count": 31,
   "metadata": {},
   "outputs": [
    {
     "data": {
      "text/html": [
       "<div>\n",
       "<style scoped>\n",
       "    .dataframe tbody tr th:only-of-type {\n",
       "        vertical-align: middle;\n",
       "    }\n",
       "\n",
       "    .dataframe tbody tr th {\n",
       "        vertical-align: top;\n",
       "    }\n",
       "\n",
       "    .dataframe thead th {\n",
       "        text-align: right;\n",
       "    }\n",
       "</style>\n",
       "<table border=\"1\" class=\"dataframe\">\n",
       "  <thead>\n",
       "    <tr style=\"text-align: right;\">\n",
       "      <th></th>\n",
       "      <th>property_APARTMENT</th>\n",
       "      <th>property_BUNGALOW</th>\n",
       "      <th>property_CLUSTER HOUSE</th>\n",
       "      <th>property_CONDO</th>\n",
       "      <th>property_CONSERVATION HOUSE</th>\n",
       "      <th>property_CORNER TERRACE</th>\n",
       "      <th>property_EXECUTIVE CONDO</th>\n",
       "      <th>property_GOOD CLASS BUNGALOW</th>\n",
       "      <th>property_HDB</th>\n",
       "      <th>property_HDB 2 ROOMS</th>\n",
       "      <th>...</th>\n",
       "      <th>property_HDB 4 ROOMS</th>\n",
       "      <th>property_HDB 5 ROOMS</th>\n",
       "      <th>property_HDB EXECUTIVE</th>\n",
       "      <th>property_LAND ONLY</th>\n",
       "      <th>property_LANDED</th>\n",
       "      <th>property_SEMI-DETACHED HOUSE</th>\n",
       "      <th>property_SHOPHOUSE</th>\n",
       "      <th>property_TERRACED HOUSE</th>\n",
       "      <th>property_TOWNHOUSE</th>\n",
       "      <th>property_WALK-UP</th>\n",
       "    </tr>\n",
       "  </thead>\n",
       "  <tbody>\n",
       "    <tr>\n",
       "      <th>0</th>\n",
       "      <td>0</td>\n",
       "      <td>0</td>\n",
       "      <td>0</td>\n",
       "      <td>0</td>\n",
       "      <td>0</td>\n",
       "      <td>0</td>\n",
       "      <td>0</td>\n",
       "      <td>0</td>\n",
       "      <td>0</td>\n",
       "      <td>0</td>\n",
       "      <td>...</td>\n",
       "      <td>1</td>\n",
       "      <td>0</td>\n",
       "      <td>0</td>\n",
       "      <td>0</td>\n",
       "      <td>0</td>\n",
       "      <td>0</td>\n",
       "      <td>0</td>\n",
       "      <td>0</td>\n",
       "      <td>0</td>\n",
       "      <td>0</td>\n",
       "    </tr>\n",
       "    <tr>\n",
       "      <th>1</th>\n",
       "      <td>0</td>\n",
       "      <td>0</td>\n",
       "      <td>0</td>\n",
       "      <td>0</td>\n",
       "      <td>0</td>\n",
       "      <td>0</td>\n",
       "      <td>0</td>\n",
       "      <td>0</td>\n",
       "      <td>1</td>\n",
       "      <td>0</td>\n",
       "      <td>...</td>\n",
       "      <td>0</td>\n",
       "      <td>0</td>\n",
       "      <td>0</td>\n",
       "      <td>0</td>\n",
       "      <td>0</td>\n",
       "      <td>0</td>\n",
       "      <td>0</td>\n",
       "      <td>0</td>\n",
       "      <td>0</td>\n",
       "      <td>0</td>\n",
       "    </tr>\n",
       "    <tr>\n",
       "      <th>2</th>\n",
       "      <td>0</td>\n",
       "      <td>0</td>\n",
       "      <td>0</td>\n",
       "      <td>1</td>\n",
       "      <td>0</td>\n",
       "      <td>0</td>\n",
       "      <td>0</td>\n",
       "      <td>0</td>\n",
       "      <td>0</td>\n",
       "      <td>0</td>\n",
       "      <td>...</td>\n",
       "      <td>0</td>\n",
       "      <td>0</td>\n",
       "      <td>0</td>\n",
       "      <td>0</td>\n",
       "      <td>0</td>\n",
       "      <td>0</td>\n",
       "      <td>0</td>\n",
       "      <td>0</td>\n",
       "      <td>0</td>\n",
       "      <td>0</td>\n",
       "    </tr>\n",
       "    <tr>\n",
       "      <th>3</th>\n",
       "      <td>0</td>\n",
       "      <td>0</td>\n",
       "      <td>0</td>\n",
       "      <td>1</td>\n",
       "      <td>0</td>\n",
       "      <td>0</td>\n",
       "      <td>0</td>\n",
       "      <td>0</td>\n",
       "      <td>0</td>\n",
       "      <td>0</td>\n",
       "      <td>...</td>\n",
       "      <td>0</td>\n",
       "      <td>0</td>\n",
       "      <td>0</td>\n",
       "      <td>0</td>\n",
       "      <td>0</td>\n",
       "      <td>0</td>\n",
       "      <td>0</td>\n",
       "      <td>0</td>\n",
       "      <td>0</td>\n",
       "      <td>0</td>\n",
       "    </tr>\n",
       "    <tr>\n",
       "      <th>4</th>\n",
       "      <td>0</td>\n",
       "      <td>0</td>\n",
       "      <td>0</td>\n",
       "      <td>1</td>\n",
       "      <td>0</td>\n",
       "      <td>0</td>\n",
       "      <td>0</td>\n",
       "      <td>0</td>\n",
       "      <td>0</td>\n",
       "      <td>0</td>\n",
       "      <td>...</td>\n",
       "      <td>0</td>\n",
       "      <td>0</td>\n",
       "      <td>0</td>\n",
       "      <td>0</td>\n",
       "      <td>0</td>\n",
       "      <td>0</td>\n",
       "      <td>0</td>\n",
       "      <td>0</td>\n",
       "      <td>0</td>\n",
       "      <td>0</td>\n",
       "    </tr>\n",
       "    <tr>\n",
       "      <th>...</th>\n",
       "      <td>...</td>\n",
       "      <td>...</td>\n",
       "      <td>...</td>\n",
       "      <td>...</td>\n",
       "      <td>...</td>\n",
       "      <td>...</td>\n",
       "      <td>...</td>\n",
       "      <td>...</td>\n",
       "      <td>...</td>\n",
       "      <td>...</td>\n",
       "      <td>...</td>\n",
       "      <td>...</td>\n",
       "      <td>...</td>\n",
       "      <td>...</td>\n",
       "      <td>...</td>\n",
       "      <td>...</td>\n",
       "      <td>...</td>\n",
       "      <td>...</td>\n",
       "      <td>...</td>\n",
       "      <td>...</td>\n",
       "      <td>...</td>\n",
       "    </tr>\n",
       "    <tr>\n",
       "      <th>20249</th>\n",
       "      <td>0</td>\n",
       "      <td>0</td>\n",
       "      <td>0</td>\n",
       "      <td>1</td>\n",
       "      <td>0</td>\n",
       "      <td>0</td>\n",
       "      <td>0</td>\n",
       "      <td>0</td>\n",
       "      <td>0</td>\n",
       "      <td>0</td>\n",
       "      <td>...</td>\n",
       "      <td>0</td>\n",
       "      <td>0</td>\n",
       "      <td>0</td>\n",
       "      <td>0</td>\n",
       "      <td>0</td>\n",
       "      <td>0</td>\n",
       "      <td>0</td>\n",
       "      <td>0</td>\n",
       "      <td>0</td>\n",
       "      <td>0</td>\n",
       "    </tr>\n",
       "    <tr>\n",
       "      <th>20250</th>\n",
       "      <td>0</td>\n",
       "      <td>0</td>\n",
       "      <td>0</td>\n",
       "      <td>1</td>\n",
       "      <td>0</td>\n",
       "      <td>0</td>\n",
       "      <td>0</td>\n",
       "      <td>0</td>\n",
       "      <td>0</td>\n",
       "      <td>0</td>\n",
       "      <td>...</td>\n",
       "      <td>0</td>\n",
       "      <td>0</td>\n",
       "      <td>0</td>\n",
       "      <td>0</td>\n",
       "      <td>0</td>\n",
       "      <td>0</td>\n",
       "      <td>0</td>\n",
       "      <td>0</td>\n",
       "      <td>0</td>\n",
       "      <td>0</td>\n",
       "    </tr>\n",
       "    <tr>\n",
       "      <th>20251</th>\n",
       "      <td>0</td>\n",
       "      <td>0</td>\n",
       "      <td>0</td>\n",
       "      <td>1</td>\n",
       "      <td>0</td>\n",
       "      <td>0</td>\n",
       "      <td>0</td>\n",
       "      <td>0</td>\n",
       "      <td>0</td>\n",
       "      <td>0</td>\n",
       "      <td>...</td>\n",
       "      <td>0</td>\n",
       "      <td>0</td>\n",
       "      <td>0</td>\n",
       "      <td>0</td>\n",
       "      <td>0</td>\n",
       "      <td>0</td>\n",
       "      <td>0</td>\n",
       "      <td>0</td>\n",
       "      <td>0</td>\n",
       "      <td>0</td>\n",
       "    </tr>\n",
       "    <tr>\n",
       "      <th>20252</th>\n",
       "      <td>0</td>\n",
       "      <td>0</td>\n",
       "      <td>0</td>\n",
       "      <td>0</td>\n",
       "      <td>0</td>\n",
       "      <td>0</td>\n",
       "      <td>0</td>\n",
       "      <td>0</td>\n",
       "      <td>0</td>\n",
       "      <td>0</td>\n",
       "      <td>...</td>\n",
       "      <td>0</td>\n",
       "      <td>1</td>\n",
       "      <td>0</td>\n",
       "      <td>0</td>\n",
       "      <td>0</td>\n",
       "      <td>0</td>\n",
       "      <td>0</td>\n",
       "      <td>0</td>\n",
       "      <td>0</td>\n",
       "      <td>0</td>\n",
       "    </tr>\n",
       "    <tr>\n",
       "      <th>20253</th>\n",
       "      <td>0</td>\n",
       "      <td>0</td>\n",
       "      <td>0</td>\n",
       "      <td>1</td>\n",
       "      <td>0</td>\n",
       "      <td>0</td>\n",
       "      <td>0</td>\n",
       "      <td>0</td>\n",
       "      <td>0</td>\n",
       "      <td>0</td>\n",
       "      <td>...</td>\n",
       "      <td>0</td>\n",
       "      <td>0</td>\n",
       "      <td>0</td>\n",
       "      <td>0</td>\n",
       "      <td>0</td>\n",
       "      <td>0</td>\n",
       "      <td>0</td>\n",
       "      <td>0</td>\n",
       "      <td>0</td>\n",
       "      <td>0</td>\n",
       "    </tr>\n",
       "  </tbody>\n",
       "</table>\n",
       "<p>20254 rows × 21 columns</p>\n",
       "</div>"
      ],
      "text/plain": [
       "       property_APARTMENT  property_BUNGALOW  property_CLUSTER HOUSE  \\\n",
       "0                       0                  0                       0   \n",
       "1                       0                  0                       0   \n",
       "2                       0                  0                       0   \n",
       "3                       0                  0                       0   \n",
       "4                       0                  0                       0   \n",
       "...                   ...                ...                     ...   \n",
       "20249                   0                  0                       0   \n",
       "20250                   0                  0                       0   \n",
       "20251                   0                  0                       0   \n",
       "20252                   0                  0                       0   \n",
       "20253                   0                  0                       0   \n",
       "\n",
       "       property_CONDO  property_CONSERVATION HOUSE  property_CORNER TERRACE  \\\n",
       "0                   0                            0                        0   \n",
       "1                   0                            0                        0   \n",
       "2                   1                            0                        0   \n",
       "3                   1                            0                        0   \n",
       "4                   1                            0                        0   \n",
       "...               ...                          ...                      ...   \n",
       "20249               1                            0                        0   \n",
       "20250               1                            0                        0   \n",
       "20251               1                            0                        0   \n",
       "20252               0                            0                        0   \n",
       "20253               1                            0                        0   \n",
       "\n",
       "       property_EXECUTIVE CONDO  property_GOOD CLASS BUNGALOW  property_HDB  \\\n",
       "0                             0                             0             0   \n",
       "1                             0                             0             1   \n",
       "2                             0                             0             0   \n",
       "3                             0                             0             0   \n",
       "4                             0                             0             0   \n",
       "...                         ...                           ...           ...   \n",
       "20249                         0                             0             0   \n",
       "20250                         0                             0             0   \n",
       "20251                         0                             0             0   \n",
       "20252                         0                             0             0   \n",
       "20253                         0                             0             0   \n",
       "\n",
       "       property_HDB 2 ROOMS  ...  property_HDB 4 ROOMS  property_HDB 5 ROOMS  \\\n",
       "0                         0  ...                     1                     0   \n",
       "1                         0  ...                     0                     0   \n",
       "2                         0  ...                     0                     0   \n",
       "3                         0  ...                     0                     0   \n",
       "4                         0  ...                     0                     0   \n",
       "...                     ...  ...                   ...                   ...   \n",
       "20249                     0  ...                     0                     0   \n",
       "20250                     0  ...                     0                     0   \n",
       "20251                     0  ...                     0                     0   \n",
       "20252                     0  ...                     0                     1   \n",
       "20253                     0  ...                     0                     0   \n",
       "\n",
       "       property_HDB EXECUTIVE  property_LAND ONLY  property_LANDED  \\\n",
       "0                           0                   0                0   \n",
       "1                           0                   0                0   \n",
       "2                           0                   0                0   \n",
       "3                           0                   0                0   \n",
       "4                           0                   0                0   \n",
       "...                       ...                 ...              ...   \n",
       "20249                       0                   0                0   \n",
       "20250                       0                   0                0   \n",
       "20251                       0                   0                0   \n",
       "20252                       0                   0                0   \n",
       "20253                       0                   0                0   \n",
       "\n",
       "       property_SEMI-DETACHED HOUSE  property_SHOPHOUSE  \\\n",
       "0                                 0                   0   \n",
       "1                                 0                   0   \n",
       "2                                 0                   0   \n",
       "3                                 0                   0   \n",
       "4                                 0                   0   \n",
       "...                             ...                 ...   \n",
       "20249                             0                   0   \n",
       "20250                             0                   0   \n",
       "20251                             0                   0   \n",
       "20252                             0                   0   \n",
       "20253                             0                   0   \n",
       "\n",
       "       property_TERRACED HOUSE  property_TOWNHOUSE  property_WALK-UP  \n",
       "0                            0                   0                 0  \n",
       "1                            0                   0                 0  \n",
       "2                            0                   0                 0  \n",
       "3                            0                   0                 0  \n",
       "4                            0                   0                 0  \n",
       "...                        ...                 ...               ...  \n",
       "20249                        0                   0                 0  \n",
       "20250                        0                   0                 0  \n",
       "20251                        0                   0                 0  \n",
       "20252                        0                   0                 0  \n",
       "20253                        0                   0                 0  \n",
       "\n",
       "[20254 rows x 21 columns]"
      ]
     },
     "execution_count": 31,
     "metadata": {},
     "output_type": "execute_result"
    }
   ],
   "source": [
    "#for regression only\n",
    "# from sklearn import preprocessing\n",
    "# le = preprocessing.LabelEncoder()\n",
    "# le.fit(train['property_type'])\n",
    "# train['property_type']=le.transform(train['property_type'])\n",
    "\n",
    "# test['property_type']=le.transform(test['property_type'])\n",
    "\n",
    "# one hot endcoding\n",
    "# pd.get_dummies(train.property_type, prefix='property')"
   ]
  },
  {
   "cell_type": "markdown",
   "metadata": {},
   "source": [
    "## Tenure "
   ]
  },
  {
   "cell_type": "code",
   "execution_count": 17,
   "metadata": {},
   "outputs": [],
   "source": [
    "train['tenure'] = train['tenure'].replace(\n",
    "    [\n",
    "    '99-year leasehold',\n",
    "    '110-year leasehold',\n",
    "    '103-year leasehold',\n",
    "    '102-year leasehold',\n",
    "    '100-year leasehold',\n",
    "    ],\n",
    "    '99-year leasehold'\n",
    ")\n",
    "\n",
    "train['tenure'] = train['tenure'].replace(\n",
    "    [\n",
    "    '946-year leasehold',\n",
    "    '999-year leasehold',\n",
    "    '956-year leasehold',\n",
    "    '929-year leasehold',\n",
    "    '947-year leasehold',\n",
    "    ],\n",
    "    '999-year leasehold'\n",
    ")\n",
    "\n",
    "\n",
    "\n",
    "test['tenure'] = test['tenure'].replace(\n",
    "    [\n",
    "    '99-year leasehold',\n",
    "    '110-year leasehold',\n",
    "    '103-year leasehold',\n",
    "    '102-year leasehold',\n",
    "    '100-year leasehold',\n",
    "    ],\n",
    "    '99-year leasehold'\n",
    ")\n",
    "\n",
    "test['tenure'] = test['tenure'].replace(\n",
    "    [\n",
    "    '946-year leasehold',\n",
    "    '999-year leasehold',\n",
    "    '956-year leasehold',\n",
    "    '929-year leasehold',\n",
    "    '947-year leasehold',\n",
    "    ],\n",
    "    '999-year leasehold'\n",
    ")"
   ]
  },
  {
   "cell_type": "code",
   "execution_count": 18,
   "metadata": {},
   "outputs": [],
   "source": [
    "test['tenure'] = test['tenure'].fillna('99-year leasehold')"
   ]
  },
  {
   "cell_type": "code",
   "execution_count": 19,
   "metadata": {},
   "outputs": [],
   "source": [
    "train['tenure'] = train['tenure'].fillna('99-year leasehold')"
   ]
  },
  {
   "cell_type": "code",
   "execution_count": 20,
   "metadata": {},
   "outputs": [],
   "source": [
    "## Remove NA \n",
    "train = train.dropna(subset=['tenure'])\n",
    "\n",
    "## Remove NA \n",
    "test['tenure'] = test['tenure'].fillna('99-year leasehold')"
   ]
  },
  {
   "cell_type": "code",
   "execution_count": 21,
   "metadata": {},
   "outputs": [],
   "source": [
    "#for regression only\n",
    "\n",
    "# from sklearn import preprocessing\n",
    "# tenurepp = preprocessing.LabelEncoder()\n",
    "# tenurepp.fit(train['tenure'])\n",
    "# train['tenure']=tenurepp.transform(train['tenure'])\n",
    "\n",
    "# test['tenure']=tenurepp.transform(test['tenure'])"
   ]
  },
  {
   "cell_type": "markdown",
   "metadata": {},
   "source": [
    "### Funishing"
   ]
  },
  {
   "cell_type": "code",
   "execution_count": 22,
   "metadata": {},
   "outputs": [],
   "source": [
    "#Assume not specified and na as unfurnished \n",
    "train['furnishing'] = train['furnishing'].replace(\n",
    "    [\n",
    "    'na',\n",
    "    'unspecified',\n",
    "    ],\n",
    "    'unfurnished'\n",
    ")\n",
    "\n",
    "#Assume not specified and na as unfurnished \n",
    "test['furnishing'] = test['furnishing'].replace(\n",
    "    [\n",
    "    'na',\n",
    "    'unspecified',\n",
    "    ],\n",
    "    'unfurnished'\n",
    ")"
   ]
  },
  {
   "cell_type": "code",
   "execution_count": 23,
   "metadata": {},
   "outputs": [],
   "source": [
    "#for regression only\n",
    "\n",
    "# from sklearn import preprocessing\n",
    "# furnishing = preprocessing.LabelEncoder()\n",
    "# furnishing.fit(train['furnishing'])\n",
    "# train['furnishing']=furnishing.transform(train['furnishing'])\n",
    "\n",
    "# test['furnishing']=furnishing.transform(test['furnishing'])"
   ]
  },
  {
   "cell_type": "markdown",
   "metadata": {},
   "source": [
    "## floor_level "
   ]
  },
  {
   "cell_type": "code",
   "execution_count": 24,
   "metadata": {},
   "outputs": [],
   "source": [
    "# Too few data for floor level, we should just take out the column\n",
    "train = train.drop(columns='floor_level')\n",
    "\n",
    "# Too few data for floor level, we should just take out the column\n",
    "test = test.drop(columns='floor_level')"
   ]
  },
  {
   "cell_type": "markdown",
   "metadata": {},
   "source": [
    "## total_num_units"
   ]
  },
  {
   "cell_type": "code",
   "execution_count": 25,
   "metadata": {},
   "outputs": [],
   "source": [
    "mediantotalunit = train['total_num_units'].median()\n",
    "train['total_num_units'].fillna(mediantotalunit, inplace=True)\n",
    "\n",
    "mediantotalunit = test['total_num_units'].median()\n",
    "test['total_num_units'].fillna(mediantotalunit, inplace=True)"
   ]
  },
  {
   "cell_type": "markdown",
   "metadata": {},
   "source": [
    "## build year"
   ]
  },
  {
   "cell_type": "code",
   "execution_count": 26,
   "metadata": {},
   "outputs": [],
   "source": [
    "avgbuildyear = round(train['built_year'].median(),0)\n",
    "train['built_year'] = train['built_year'].fillna(avgbuildyear)\n",
    "\n",
    "avgbuildyear = round(test['built_year'].median(),0)\n",
    "test['built_year'] = test['built_year'].fillna(avgbuildyear)"
   ]
  },
  {
   "cell_type": "markdown",
   "metadata": {},
   "source": [
    "## num_baths"
   ]
  },
  {
   "cell_type": "code",
   "execution_count": null,
   "metadata": {},
   "outputs": [],
   "source": [
    "train.head()"
   ]
  },
  {
   "cell_type": "code",
   "execution_count": 27,
   "metadata": {},
   "outputs": [
    {
     "data": {
      "text/plain": [
       "property_type                 object\n",
       "tenure                        object\n",
       "built_year                   float64\n",
       "num_beds                     float64\n",
       "num_baths                    float64\n",
       "size_sqft                      int64\n",
       "furnishing                    object\n",
       "available_unit_types          object\n",
       "total_num_units              float64\n",
       "lat                          float64\n",
       "lng                          float64\n",
       "subzone                       object\n",
       "planning_area                 object\n",
       "price                        float64\n",
       "cc_distance                  float64\n",
       "mrt_distance                 float64\n",
       "primary_school_distance      float64\n",
       "secondary_school_distance    float64\n",
       "shop_distance                float64\n",
       "dtype: object"
      ]
     },
     "execution_count": 27,
     "metadata": {},
     "output_type": "execute_result"
    }
   ],
   "source": [
    "train.dtypes"
   ]
  },
  {
   "cell_type": "code",
   "execution_count": null,
   "metadata": {},
   "outputs": [],
   "source": [
    "a = train[train['num_baths'].isna()]\n",
    "a[a['num_beds'].isna()]"
   ]
  },
  {
   "cell_type": "code",
   "execution_count": null,
   "metadata": {},
   "outputs": [],
   "source": [
    "avgbath = train['num_baths'].median\n",
    "train['num_baths'] = train['num_baths'].fillna(avgbath)\n",
    "\n",
    "avgbath = test['num_baths'].median()\n",
    "test['num_baths'] = test['num_baths'].fillna(avgbath)"
   ]
  },
  {
   "cell_type": "markdown",
   "metadata": {},
   "source": [
    "## num_bedds"
   ]
  },
  {
   "cell_type": "code",
   "execution_count": null,
   "metadata": {},
   "outputs": [],
   "source": [
    "avgbed = train['num_beds'].median()\n",
    "train['num_beds'] = train['num_beds'].fillna(avgbath)\n",
    "\n",
    "avgbed = test['num_beds'].median()\n",
    "test['num_beds'] = test['num_beds'].fillna(avgbath)"
   ]
  },
  {
   "cell_type": "markdown",
   "metadata": {},
   "source": [
    "## num_avaliable_units"
   ]
  },
  {
   "cell_type": "code",
   "execution_count": null,
   "metadata": {},
   "outputs": [],
   "source": [
    "numavaunittypes = train.available_unit_types.str.count(',') + 1\n",
    "train['available_unit_types'] = numavaunittypes"
   ]
  },
  {
   "cell_type": "code",
   "execution_count": null,
   "metadata": {},
   "outputs": [],
   "source": [
    "avg_ava_units = train['available_unit_types'].median()\n",
    "train['available_unit_types'] = train['available_unit_types'].fillna(avg_ava_units)"
   ]
  },
  {
   "cell_type": "code",
   "execution_count": null,
   "metadata": {},
   "outputs": [],
   "source": [
    "numavaunittypes = test.available_unit_types.str.count(',') +1\n",
    "test['available_unit_types'] = numavaunittypes\n",
    "\n",
    "avg_ava_units = test['available_unit_types'].median()\n",
    "test['available_unit_types'] = test['available_unit_types'].fillna(avg_ava_units)"
   ]
  },
  {
   "cell_type": "markdown",
   "metadata": {},
   "source": [
    "## Subzone & planning zone"
   ]
  },
  {
   "cell_type": "code",
   "execution_count": null,
   "metadata": {},
   "outputs": [],
   "source": [
    "pa = train['planning_area'] + test['planning_area']\n",
    "pa = pa.dropna().drop_duplicates().unique()\n",
    "pa = pd.DataFrame(pa)\n",
    "pa.count()"
   ]
  },
  {
   "cell_type": "code",
   "execution_count": null,
   "metadata": {},
   "outputs": [],
   "source": [
    "a = train['planning_area'].drop_duplicates()\n",
    "b = test['planning_area'].drop_duplicates()\n",
    "c = pd.concat([a, b]).dropna()\n",
    "c = c.drop_duplicates()\n"
   ]
  },
  {
   "cell_type": "code",
   "execution_count": null,
   "metadata": {},
   "outputs": [],
   "source": [
    "# #for regression only\n",
    "\n",
    "# from sklearn import preprocessing\n",
    "# planningzone = preprocessing.LabelEncoder()\n",
    "# planningzone.fit(c)\n",
    "\n",
    "# train = train.dropna()\n",
    "# train['planning_area']=planningzone.transform(train['planning_area'])"
   ]
  },
  {
   "cell_type": "code",
   "execution_count": null,
   "metadata": {},
   "outputs": [],
   "source": [
    "# mostfreq = test['planning_area'].mode()\n",
    "# mostfreq\n",
    "# test['planning_area'] = test['planning_area'].fillna('bukit timah')\n",
    "# test['planning_area']=planningzone.transform(test['planning_area'])"
   ]
  },
  {
   "cell_type": "code",
   "execution_count": null,
   "metadata": {},
   "outputs": [],
   "source": [
    "train.head()"
   ]
  },
  {
   "cell_type": "markdown",
   "metadata": {},
   "source": [
    "#### psf"
   ]
  },
  {
   "cell_type": "code",
   "execution_count": null,
   "metadata": {},
   "outputs": [],
   "source": [
    "price_per_sqft = train['price']/train['size_sqft']"
   ]
  },
  {
   "cell_type": "code",
   "execution_count": null,
   "metadata": {},
   "outputs": [],
   "source": [
    "train['price_per_sqft'] = price_per_sqft"
   ]
  },
  {
   "cell_type": "markdown",
   "metadata": {},
   "source": [
    "## Data Visualization"
   ]
  },
  {
   "cell_type": "markdown",
   "metadata": {},
   "source": [
    "#### built_year"
   ]
  },
  {
   "cell_type": "code",
   "execution_count": null,
   "metadata": {},
   "outputs": [],
   "source": [
    "train['built_year'] = train['built_year'].astype(int)"
   ]
  },
  {
   "cell_type": "code",
   "execution_count": null,
   "metadata": {},
   "outputs": [],
   "source": [
    "bins = train['built_year'].max() - train['built_year'].min()\n",
    "plt.hist(train['built_year'], bins=bins, edgecolor='black')\n",
    "plt.title('Distribution of Built Year')\n",
    "plt.show()"
   ]
  },
  {
   "cell_type": "markdown",
   "metadata": {},
   "source": [
    "#### "
   ]
  },
  {
   "cell_type": "code",
   "execution_count": null,
   "metadata": {},
   "outputs": [],
   "source": [
    "sns.pairplot(data=train, hue=\"tenure\")"
   ]
  },
  {
   "cell_type": "code",
   "execution_count": null,
   "metadata": {},
   "outputs": [],
   "source": [
    "# Visualization\n",
    "fig, ax = plt.subplots(1,1, figsize=(12, 8), dpi=80)\n",
    "\n",
    "# Find the order\n",
    "my_order = train.groupby(by=[\"planning_area\"])[\"price\"].mean().sort_values(ascending=False).index\n",
    "\n",
    "box_plot = sns.boxplot(x = 'subzone',y = 'price',data = train, order=my_order)\n",
    "plt.ylabel('Price')\n",
    "plt.xlabel('planning area')\n",
    "plt.title('Planning Area housing price range comparison', fontsize=15, fontweight='bold', fontfamily='serif')\n",
    "\n",
    "ax = box_plot.axes\n",
    "\n",
    "lines = ax.get_lines()\n",
    "#categories = ax.get_xticks()\n",
    "ax.tick_params(axis='x', rotation=90)\n",
    "\n",
    "for s in ['top', 'left', 'right']:\n",
    "    ax.spines[s].set_visible(False)\n",
    "ax.grid(axis='y', linestyle='-', alpha=0.4) \n",
    "\n",
    "box_plot.figure.tight_layout()\n",
    "\n",
    "#fig = box_plot.get_figure()"
   ]
  },
  {
   "cell_type": "code",
   "execution_count": null,
   "metadata": {},
   "outputs": [],
   "source": [
    "plt.figure(dpi=1000)\n",
    "sns.heatmap(train.corr(), linewidths=1,cmap=\"Blues\",annot=True, annot_kws={'size':7})"
   ]
  },
  {
   "cell_type": "code",
   "execution_count": null,
   "metadata": {},
   "outputs": [],
   "source": [
    "sns.scatterplot(data=train, x='cc_distance',y='price_per_sqft')"
   ]
  }
 ],
 "metadata": {
  "kernelspec": {
   "display_name": "Python 3.10.6 64-bit",
   "language": "python",
   "name": "python3"
  },
  "language_info": {
   "codemirror_mode": {
    "name": "ipython",
    "version": 3
   },
   "file_extension": ".py",
   "mimetype": "text/x-python",
   "name": "python",
   "nbconvert_exporter": "python",
   "pygments_lexer": "ipython3",
   "version": "3.9.12"
  },
  "orig_nbformat": 4,
  "vscode": {
   "interpreter": {
    "hash": "aee8b7b246df8f9039afb4144a1f6fd8d2ca17a180786b69acc140d282b71a49"
   }
  }
 },
 "nbformat": 4,
 "nbformat_minor": 2
}
