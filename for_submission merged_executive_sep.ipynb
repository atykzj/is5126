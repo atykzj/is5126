{
 "cells": [
  {
   "cell_type": "markdown",
   "metadata": {},
   "source": [
    "#### import package"
   ]
  },
  {
   "cell_type": "code",
   "execution_count": 1654,
   "metadata": {},
   "outputs": [],
   "source": [
    "import pandas as pd\n",
    "import numpy as np\n",
    "import matplotlib.pyplot as plt\n",
    "import seaborn as sn\n",
    "import statistics as st \n",
    "from sklearn.model_selection import train_test_split\n",
    "from sklearn.metrics import accuracy_score, plot_confusion_matrix\n",
    "from sklearn.preprocessing import StandardScaler\n",
    "from sklearn.preprocessing import MinMaxScaler, MaxAbsScaler, RobustScaler\n",
    "from sklearn.compose import make_column_selector\n",
    "from sklearn.preprocessing import PolynomialFeatures\n",
    "from sklearn.model_selection import GridSearchCV\n",
    "from sklearn.model_selection import RandomizedSearchCV\n",
    "from sklearn.pipeline import Pipeline\n",
    "from sklearn.model_selection import RepeatedStratifiedKFold\n",
    "from xgboost.sklearn import XGBRegressor\n",
    "import lightgbm as lgb\n",
    "from sklearn.ensemble import StackingRegressor\n",
    "from sklearn.compose import ColumnTransformer\n",
    "from sklearn.metrics import mean_squared_error\n",
    "from math import sqrt\n",
    "import seaborn as sns\n",
    "import category_encoders as ce"
   ]
  },
  {
   "cell_type": "markdown",
   "metadata": {},
   "source": [
    "# EDA"
   ]
  },
  {
   "cell_type": "code",
   "execution_count": 1655,
   "metadata": {},
   "outputs": [],
   "source": [
    "train = pd.read_csv('train.csv')\n",
    "test = pd.read_csv('test.csv')"
   ]
  },
  {
   "cell_type": "code",
   "execution_count": 1656,
   "metadata": {},
   "outputs": [],
   "source": [
    "df = pd.concat([test.assign(ind=\"test\"), train.assign(ind=\"train\")])\n",
    "# test, train = df[df[\"ind\"].eq(\"test\")], df[df[\"ind\"].eq(\"train\")]"
   ]
  },
  {
   "cell_type": "markdown",
   "metadata": {},
   "source": [
    "## Pre-processing"
   ]
  },
  {
   "cell_type": "markdown",
   "metadata": {},
   "source": [
    "#### planning_area & subzone NA value in test dataset"
   ]
  },
  {
   "cell_type": "code",
   "execution_count": 1657,
   "metadata": {},
   "outputs": [
    {
     "data": {
      "text/plain": [
       "array(['1 tessensohn road', '38 lorong 32 geylang', '17 farrer drive',\n",
       "       '5 jalan mutiara'], dtype=object)"
      ]
     },
     "execution_count": 1657,
     "metadata": {},
     "output_type": "execute_result"
    }
   ],
   "source": [
    "emptyPA = test[test['planning_area'].isna()]\n",
    "emptyPA['address'].unique()"
   ]
  },
  {
   "cell_type": "code",
   "execution_count": 1658,
   "metadata": {},
   "outputs": [
    {
     "data": {
      "text/html": [
       "<div>\n",
       "<style scoped>\n",
       "    .dataframe tbody tr th:only-of-type {\n",
       "        vertical-align: middle;\n",
       "    }\n",
       "\n",
       "    .dataframe tbody tr th {\n",
       "        vertical-align: top;\n",
       "    }\n",
       "\n",
       "    .dataframe thead th {\n",
       "        text-align: right;\n",
       "    }\n",
       "</style>\n",
       "<table border=\"1\" class=\"dataframe\">\n",
       "  <thead>\n",
       "    <tr style=\"text-align: right;\">\n",
       "      <th></th>\n",
       "      <th>address</th>\n",
       "      <th>planning_area</th>\n",
       "      <th>subzone</th>\n",
       "    </tr>\n",
       "  </thead>\n",
       "  <tbody>\n",
       "    <tr>\n",
       "      <th>0</th>\n",
       "      <td>1 tessensohn road</td>\n",
       "      <td>kallang</td>\n",
       "      <td>boon keng</td>\n",
       "    </tr>\n",
       "    <tr>\n",
       "      <th>1</th>\n",
       "      <td>38 lorong 32 geylang</td>\n",
       "      <td>geylang</td>\n",
       "      <td>aljunied</td>\n",
       "    </tr>\n",
       "    <tr>\n",
       "      <th>2</th>\n",
       "      <td>15 farrer drive</td>\n",
       "      <td>tanglin</td>\n",
       "      <td>chatsworth</td>\n",
       "    </tr>\n",
       "    <tr>\n",
       "      <th>3</th>\n",
       "      <td>17 farrer drive</td>\n",
       "      <td>tanglin</td>\n",
       "      <td>chatsworth</td>\n",
       "    </tr>\n",
       "    <tr>\n",
       "      <th>4</th>\n",
       "      <td>5 jalan mutiara</td>\n",
       "      <td>tanglin</td>\n",
       "      <td>nassim</td>\n",
       "    </tr>\n",
       "  </tbody>\n",
       "</table>\n",
       "</div>"
      ],
      "text/plain": [
       "                address planning_area     subzone\n",
       "0     1 tessensohn road       kallang   boon keng\n",
       "1  38 lorong 32 geylang       geylang    aljunied\n",
       "2       15 farrer drive       tanglin  chatsworth\n",
       "3       17 farrer drive       tanglin  chatsworth\n",
       "4       5 jalan mutiara       tanglin      nassim"
      ]
     },
     "execution_count": 1658,
     "metadata": {},
     "output_type": "execute_result"
    }
   ],
   "source": [
    "missingPA = pd.read_csv('auxiliary-data/missingPAdata.csv')\n",
    "missingPA.head()"
   ]
  },
  {
   "cell_type": "code",
   "execution_count": 1659,
   "metadata": {},
   "outputs": [],
   "source": [
    "s = missingPA.set_index('address')['planning_area']\n",
    "df['planning_area']=df['planning_area'].fillna(df['address'].map(s))"
   ]
  },
  {
   "cell_type": "code",
   "execution_count": 1660,
   "metadata": {},
   "outputs": [],
   "source": [
    "s = missingPA.set_index('address')['subzone']\n",
    "df['subzone']=df['planning_area'].fillna(df['subzone'].map(s))"
   ]
  },
  {
   "cell_type": "code",
   "execution_count": 1661,
   "metadata": {},
   "outputs": [
    {
     "data": {
      "text/plain": [
       "listing_id              27220\n",
       "title                   27220\n",
       "address                 27218\n",
       "property_name           27220\n",
       "property_type           27220\n",
       "tenure                  24860\n",
       "built_year              25940\n",
       "num_beds                27105\n",
       "num_baths               26637\n",
       "size_sqft               27220\n",
       "floor_level              4664\n",
       "furnishing              27220\n",
       "available_unit_types    25259\n",
       "total_num_units         19668\n",
       "property_details_url    27220\n",
       "lat                     27220\n",
       "lng                     27220\n",
       "elevation               27220\n",
       "subzone                 27220\n",
       "planning_area           27220\n",
       "ind                     27220\n",
       "price                   20254\n",
       "dtype: int64"
      ]
     },
     "execution_count": 1661,
     "metadata": {},
     "output_type": "execute_result"
    }
   ],
   "source": [
    "df.count()"
   ]
  },
  {
   "cell_type": "markdown",
   "metadata": {},
   "source": [
    "### Remove listing_id  \n",
    "#### listing_id is all unique without duplicates"
   ]
  },
  {
   "cell_type": "code",
   "execution_count": 1662,
   "metadata": {},
   "outputs": [],
   "source": [
    "# train = train.drop(columns=['listing_id', 'property_details_url', 'elevation','property_name','address','title'])\n",
    "# test = test.drop(columns=['listing_id', 'property_details_url', 'elevation','property_name','address','title'])\n",
    "\n",
    "df = df.drop(columns=['floor_level','listing_id', 'property_details_url', 'elevation','property_name','address','title'])\n",
    "\n",
    "# train = train.drop(columns=['property_details_url', 'elevation','property_name','address','title'])"
   ]
  },
  {
   "cell_type": "markdown",
   "metadata": {},
   "source": [
    "### Adding Distances"
   ]
  },
  {
   "cell_type": "markdown",
   "metadata": {},
   "source": [
    "#### CC_center"
   ]
  },
  {
   "cell_type": "code",
   "execution_count": 1663,
   "metadata": {},
   "outputs": [],
   "source": [
    "ccdistance = pd.read_csv('auxiliary-data/sg-commerical-centres.csv')"
   ]
  },
  {
   "cell_type": "code",
   "execution_count": 1664,
   "metadata": {},
   "outputs": [],
   "source": [
    "# vectorized haversine function\n",
    "#https://stackoverflow.com/questions/29545704/fast-haversine-approximation-python-pandas\n",
    "def haversine_np(lon1, lat1, lon2, lat2):\n",
    "    \"\"\"\n",
    "    Calculate the great circle distance between two points\n",
    "    on the earth (specified in decimal degrees)\n",
    "\n",
    "    All args must be of equal length.    \n",
    "\n",
    "    \"\"\"\n",
    "    lon1, lat1, lon2, lat2 = map(np.radians, [lon1, lat1, lon2, lat2])\n",
    "\n",
    "    dlon = lon2 - lon1\n",
    "    dlat = lat2 - lat1\n",
    "\n",
    "    a = np.sin(dlat/2.0)**2 + np.cos(lat1) * np.cos(lat2) * np.sin(dlon/2.0)**2\n",
    "\n",
    "    c = 2 * np.arcsin(np.sqrt(a))\n",
    "    km = 6367 * c\n",
    "    return km\n"
   ]
  },
  {
   "cell_type": "code",
   "execution_count": 1665,
   "metadata": {},
   "outputs": [
    {
     "data": {
      "text/html": [
       "<div>\n",
       "<style scoped>\n",
       "    .dataframe tbody tr th:only-of-type {\n",
       "        vertical-align: middle;\n",
       "    }\n",
       "\n",
       "    .dataframe tbody tr th {\n",
       "        vertical-align: top;\n",
       "    }\n",
       "\n",
       "    .dataframe thead th {\n",
       "        text-align: right;\n",
       "    }\n",
       "</style>\n",
       "<table border=\"1\" class=\"dataframe\">\n",
       "  <thead>\n",
       "    <tr style=\"text-align: right;\">\n",
       "      <th></th>\n",
       "      <th>property_type</th>\n",
       "      <th>tenure</th>\n",
       "      <th>built_year</th>\n",
       "      <th>num_beds</th>\n",
       "      <th>num_baths</th>\n",
       "      <th>size_sqft</th>\n",
       "      <th>furnishing</th>\n",
       "      <th>available_unit_types</th>\n",
       "      <th>total_num_units</th>\n",
       "      <th>lat</th>\n",
       "      <th>lng</th>\n",
       "      <th>subzone</th>\n",
       "      <th>planning_area</th>\n",
       "      <th>ind</th>\n",
       "      <th>price</th>\n",
       "      <th>cc_distance</th>\n",
       "    </tr>\n",
       "  </thead>\n",
       "  <tbody>\n",
       "    <tr>\n",
       "      <th>0</th>\n",
       "      <td>condo</td>\n",
       "      <td>freehold</td>\n",
       "      <td>2022.0</td>\n",
       "      <td>1.0</td>\n",
       "      <td>1.0</td>\n",
       "      <td>463</td>\n",
       "      <td>unfurnished</td>\n",
       "      <td>studio, 1, 2, 3, 4, 5 br</td>\n",
       "      <td>250.0</td>\n",
       "      <td>1.344334</td>\n",
       "      <td>103.878690</td>\n",
       "      <td>serangoon</td>\n",
       "      <td>serangoon</td>\n",
       "      <td>test</td>\n",
       "      <td>NaN</td>\n",
       "      <td>1.046868</td>\n",
       "    </tr>\n",
       "    <tr>\n",
       "      <th>1</th>\n",
       "      <td>Condo</td>\n",
       "      <td>99-year leasehold</td>\n",
       "      <td>2017.0</td>\n",
       "      <td>3.0</td>\n",
       "      <td>3.0</td>\n",
       "      <td>1033</td>\n",
       "      <td>unspecified</td>\n",
       "      <td>studio, 1, 2, 3, 4, 5 br</td>\n",
       "      <td>463.0</td>\n",
       "      <td>1.380281</td>\n",
       "      <td>103.943878</td>\n",
       "      <td>pasir ris</td>\n",
       "      <td>pasir ris</td>\n",
       "      <td>test</td>\n",
       "      <td>NaN</td>\n",
       "      <td>1.284121</td>\n",
       "    </tr>\n",
       "    <tr>\n",
       "      <th>2</th>\n",
       "      <td>condo</td>\n",
       "      <td>99-year leasehold</td>\n",
       "      <td>2007.0</td>\n",
       "      <td>1.0</td>\n",
       "      <td>1.0</td>\n",
       "      <td>570</td>\n",
       "      <td>fully</td>\n",
       "      <td>studio, 1, 2, 3 br</td>\n",
       "      <td>646.0</td>\n",
       "      <td>1.294668</td>\n",
       "      <td>103.850074</td>\n",
       "      <td>museum</td>\n",
       "      <td>museum</td>\n",
       "      <td>test</td>\n",
       "      <td>NaN</td>\n",
       "      <td>0.500575</td>\n",
       "    </tr>\n",
       "    <tr>\n",
       "      <th>3</th>\n",
       "      <td>Hdb</td>\n",
       "      <td>99-year leasehold</td>\n",
       "      <td>2017.0</td>\n",
       "      <td>3.0</td>\n",
       "      <td>2.0</td>\n",
       "      <td>1216</td>\n",
       "      <td>unspecified</td>\n",
       "      <td>1, 2, 3, 4, 5 br</td>\n",
       "      <td>968.0</td>\n",
       "      <td>1.373120</td>\n",
       "      <td>103.746094</td>\n",
       "      <td>choa chu kang</td>\n",
       "      <td>choa chu kang</td>\n",
       "      <td>test</td>\n",
       "      <td>NaN</td>\n",
       "      <td>1.046868</td>\n",
       "    </tr>\n",
       "    <tr>\n",
       "      <th>4</th>\n",
       "      <td>hdb 4 rooms</td>\n",
       "      <td>99-year leasehold</td>\n",
       "      <td>1973.0</td>\n",
       "      <td>3.0</td>\n",
       "      <td>2.0</td>\n",
       "      <td>936</td>\n",
       "      <td>unspecified</td>\n",
       "      <td>1, 2, 3, 4 br</td>\n",
       "      <td>NaN</td>\n",
       "      <td>1.341468</td>\n",
       "      <td>103.849047</td>\n",
       "      <td>toa payoh</td>\n",
       "      <td>toa payoh</td>\n",
       "      <td>test</td>\n",
       "      <td>NaN</td>\n",
       "      <td>1.046868</td>\n",
       "    </tr>\n",
       "  </tbody>\n",
       "</table>\n",
       "</div>"
      ],
      "text/plain": [
       "  property_type             tenure  built_year  num_beds  num_baths  \\\n",
       "0         condo           freehold      2022.0       1.0        1.0   \n",
       "1         Condo  99-year leasehold      2017.0       3.0        3.0   \n",
       "2         condo  99-year leasehold      2007.0       1.0        1.0   \n",
       "3           Hdb  99-year leasehold      2017.0       3.0        2.0   \n",
       "4   hdb 4 rooms  99-year leasehold      1973.0       3.0        2.0   \n",
       "\n",
       "   size_sqft   furnishing      available_unit_types  total_num_units  \\\n",
       "0        463  unfurnished  studio, 1, 2, 3, 4, 5 br            250.0   \n",
       "1       1033  unspecified  studio, 1, 2, 3, 4, 5 br            463.0   \n",
       "2        570        fully        studio, 1, 2, 3 br            646.0   \n",
       "3       1216  unspecified          1, 2, 3, 4, 5 br            968.0   \n",
       "4        936  unspecified             1, 2, 3, 4 br              NaN   \n",
       "\n",
       "        lat         lng        subzone  planning_area   ind  price  \\\n",
       "0  1.344334  103.878690      serangoon      serangoon  test    NaN   \n",
       "1  1.380281  103.943878      pasir ris      pasir ris  test    NaN   \n",
       "2  1.294668  103.850074         museum         museum  test    NaN   \n",
       "3  1.373120  103.746094  choa chu kang  choa chu kang  test    NaN   \n",
       "4  1.341468  103.849047      toa payoh      toa payoh  test    NaN   \n",
       "\n",
       "   cc_distance  \n",
       "0     1.046868  \n",
       "1     1.284121  \n",
       "2     0.500575  \n",
       "3     1.046868  \n",
       "4     1.046868  "
      ]
     },
     "execution_count": 1665,
     "metadata": {},
     "output_type": "execute_result"
    }
   ],
   "source": [
    "expected_result = pd.merge(test, ccdistance, on = 'planning_area')\n",
    "df['cc_distance'] = haversine_np(expected_result['lng_x'], expected_result['lat_x'], expected_result['lng_y'], expected_result['lat_y'])\n",
    "df.head()"
   ]
  },
  {
   "cell_type": "code",
   "execution_count": 1666,
   "metadata": {},
   "outputs": [],
   "source": [
    "df['cc_distance'].fillna(0,inplace=True)"
   ]
  },
  {
   "cell_type": "code",
   "execution_count": 1667,
   "metadata": {},
   "outputs": [],
   "source": [
    "df.loc[df['cc_distance'] !=0, 'cc_distance'] = 1"
   ]
  },
  {
   "cell_type": "markdown",
   "metadata": {},
   "source": [
    "#### Add distance to mrt stations"
   ]
  },
  {
   "cell_type": "code",
   "execution_count": 1668,
   "metadata": {},
   "outputs": [
    {
     "data": {
      "text/html": [
       "<div>\n",
       "<style scoped>\n",
       "    .dataframe tbody tr th:only-of-type {\n",
       "        vertical-align: middle;\n",
       "    }\n",
       "\n",
       "    .dataframe tbody tr th {\n",
       "        vertical-align: top;\n",
       "    }\n",
       "\n",
       "    .dataframe thead th {\n",
       "        text-align: right;\n",
       "    }\n",
       "</style>\n",
       "<table border=\"1\" class=\"dataframe\">\n",
       "  <thead>\n",
       "    <tr style=\"text-align: right;\">\n",
       "      <th></th>\n",
       "      <th>property_type</th>\n",
       "      <th>tenure</th>\n",
       "      <th>built_year</th>\n",
       "      <th>num_beds</th>\n",
       "      <th>num_baths</th>\n",
       "      <th>size_sqft</th>\n",
       "      <th>furnishing</th>\n",
       "      <th>available_unit_types</th>\n",
       "      <th>total_num_units</th>\n",
       "      <th>lat</th>\n",
       "      <th>lng</th>\n",
       "      <th>subzone</th>\n",
       "      <th>planning_area</th>\n",
       "      <th>ind</th>\n",
       "      <th>price</th>\n",
       "      <th>cc_distance</th>\n",
       "      <th>mrt_distance</th>\n",
       "    </tr>\n",
       "  </thead>\n",
       "  <tbody>\n",
       "    <tr>\n",
       "      <th>0</th>\n",
       "      <td>condo</td>\n",
       "      <td>freehold</td>\n",
       "      <td>2022.0</td>\n",
       "      <td>1.0</td>\n",
       "      <td>1.0</td>\n",
       "      <td>463</td>\n",
       "      <td>unfurnished</td>\n",
       "      <td>studio, 1, 2, 3, 4, 5 br</td>\n",
       "      <td>250.0</td>\n",
       "      <td>1.344334</td>\n",
       "      <td>103.878690</td>\n",
       "      <td>serangoon</td>\n",
       "      <td>serangoon</td>\n",
       "      <td>test</td>\n",
       "      <td>NaN</td>\n",
       "      <td>1.0</td>\n",
       "      <td>0.960436</td>\n",
       "    </tr>\n",
       "    <tr>\n",
       "      <th>1</th>\n",
       "      <td>Condo</td>\n",
       "      <td>99-year leasehold</td>\n",
       "      <td>2017.0</td>\n",
       "      <td>3.0</td>\n",
       "      <td>3.0</td>\n",
       "      <td>1033</td>\n",
       "      <td>unspecified</td>\n",
       "      <td>studio, 1, 2, 3, 4, 5 br</td>\n",
       "      <td>463.0</td>\n",
       "      <td>1.380281</td>\n",
       "      <td>103.943878</td>\n",
       "      <td>pasir ris</td>\n",
       "      <td>pasir ris</td>\n",
       "      <td>test</td>\n",
       "      <td>NaN</td>\n",
       "      <td>1.0</td>\n",
       "      <td>1.736900</td>\n",
       "    </tr>\n",
       "    <tr>\n",
       "      <th>2</th>\n",
       "      <td>condo</td>\n",
       "      <td>99-year leasehold</td>\n",
       "      <td>2007.0</td>\n",
       "      <td>1.0</td>\n",
       "      <td>1.0</td>\n",
       "      <td>570</td>\n",
       "      <td>fully</td>\n",
       "      <td>studio, 1, 2, 3 br</td>\n",
       "      <td>646.0</td>\n",
       "      <td>1.294668</td>\n",
       "      <td>103.850074</td>\n",
       "      <td>museum</td>\n",
       "      <td>museum</td>\n",
       "      <td>test</td>\n",
       "      <td>NaN</td>\n",
       "      <td>1.0</td>\n",
       "      <td>0.960436</td>\n",
       "    </tr>\n",
       "    <tr>\n",
       "      <th>3</th>\n",
       "      <td>Hdb</td>\n",
       "      <td>99-year leasehold</td>\n",
       "      <td>2017.0</td>\n",
       "      <td>3.0</td>\n",
       "      <td>2.0</td>\n",
       "      <td>1216</td>\n",
       "      <td>unspecified</td>\n",
       "      <td>1, 2, 3, 4, 5 br</td>\n",
       "      <td>968.0</td>\n",
       "      <td>1.373120</td>\n",
       "      <td>103.746094</td>\n",
       "      <td>choa chu kang</td>\n",
       "      <td>choa chu kang</td>\n",
       "      <td>test</td>\n",
       "      <td>NaN</td>\n",
       "      <td>1.0</td>\n",
       "      <td>1.369843</td>\n",
       "    </tr>\n",
       "    <tr>\n",
       "      <th>4</th>\n",
       "      <td>hdb 4 rooms</td>\n",
       "      <td>99-year leasehold</td>\n",
       "      <td>1973.0</td>\n",
       "      <td>3.0</td>\n",
       "      <td>2.0</td>\n",
       "      <td>936</td>\n",
       "      <td>unspecified</td>\n",
       "      <td>1, 2, 3, 4 br</td>\n",
       "      <td>NaN</td>\n",
       "      <td>1.341468</td>\n",
       "      <td>103.849047</td>\n",
       "      <td>toa payoh</td>\n",
       "      <td>toa payoh</td>\n",
       "      <td>test</td>\n",
       "      <td>NaN</td>\n",
       "      <td>1.0</td>\n",
       "      <td>1.126905</td>\n",
       "    </tr>\n",
       "  </tbody>\n",
       "</table>\n",
       "</div>"
      ],
      "text/plain": [
       "  property_type             tenure  built_year  num_beds  num_baths  \\\n",
       "0         condo           freehold      2022.0       1.0        1.0   \n",
       "1         Condo  99-year leasehold      2017.0       3.0        3.0   \n",
       "2         condo  99-year leasehold      2007.0       1.0        1.0   \n",
       "3           Hdb  99-year leasehold      2017.0       3.0        2.0   \n",
       "4   hdb 4 rooms  99-year leasehold      1973.0       3.0        2.0   \n",
       "\n",
       "   size_sqft   furnishing      available_unit_types  total_num_units  \\\n",
       "0        463  unfurnished  studio, 1, 2, 3, 4, 5 br            250.0   \n",
       "1       1033  unspecified  studio, 1, 2, 3, 4, 5 br            463.0   \n",
       "2        570        fully        studio, 1, 2, 3 br            646.0   \n",
       "3       1216  unspecified          1, 2, 3, 4, 5 br            968.0   \n",
       "4        936  unspecified             1, 2, 3, 4 br              NaN   \n",
       "\n",
       "        lat         lng        subzone  planning_area   ind  price  \\\n",
       "0  1.344334  103.878690      serangoon      serangoon  test    NaN   \n",
       "1  1.380281  103.943878      pasir ris      pasir ris  test    NaN   \n",
       "2  1.294668  103.850074         museum         museum  test    NaN   \n",
       "3  1.373120  103.746094  choa chu kang  choa chu kang  test    NaN   \n",
       "4  1.341468  103.849047      toa payoh      toa payoh  test    NaN   \n",
       "\n",
       "   cc_distance  mrt_distance  \n",
       "0          1.0      0.960436  \n",
       "1          1.0      1.736900  \n",
       "2          1.0      0.960436  \n",
       "3          1.0      1.369843  \n",
       "4          1.0      1.126905  "
      ]
     },
     "execution_count": 1668,
     "metadata": {},
     "output_type": "execute_result"
    }
   ],
   "source": [
    "# using long and lat\n",
    "mrtdistance = pd.read_csv('auxiliary-data/sg-mrt-stations.csv')\n",
    "expected_result = pd.merge(test, mrtdistance, on = 'planning_area')\n",
    "df['mrt_distance'] = haversine_np(expected_result['lng_x'], expected_result['lat_x'], expected_result['lng_y'], expected_result['lat_y'])\n",
    "df.head()"
   ]
  },
  {
   "cell_type": "code",
   "execution_count": 1669,
   "metadata": {},
   "outputs": [
    {
     "name": "stderr",
     "output_type": "stream",
     "text": [
      "/usr/local/lib/python3.9/site-packages/seaborn/_decorators.py:36: FutureWarning: Pass the following variable as a keyword arg: x. From version 0.12, the only valid positional argument will be `data`, and passing other arguments without an explicit keyword will result in an error or misinterpretation.\n",
      "  warnings.warn(\n"
     ]
    },
    {
     "data": {
      "text/plain": [
       "<AxesSubplot:xlabel='mrt_distance'>"
      ]
     },
     "execution_count": 1669,
     "metadata": {},
     "output_type": "execute_result"
    },
    {
     "data": {
      "image/png": "[encoded data removed]",
      "text/plain": [
       "<Figure size 432x288 with 1 Axes>"
      ]
     },
     "metadata": {
      "needs_background": "light"
     },
     "output_type": "display_data"
    }
   ],
   "source": [
    "sns.boxplot(df['mrt_distance'])"
   ]
  },
  {
   "cell_type": "markdown",
   "metadata": {},
   "source": [
    "#### Add distance to primary school "
   ]
  },
  {
   "cell_type": "code",
   "execution_count": 1670,
   "metadata": {},
   "outputs": [
    {
     "data": {
      "text/html": [
       "<div>\n",
       "<style scoped>\n",
       "    .dataframe tbody tr th:only-of-type {\n",
       "        vertical-align: middle;\n",
       "    }\n",
       "\n",
       "    .dataframe tbody tr th {\n",
       "        vertical-align: top;\n",
       "    }\n",
       "\n",
       "    .dataframe thead th {\n",
       "        text-align: right;\n",
       "    }\n",
       "</style>\n",
       "<table border=\"1\" class=\"dataframe\">\n",
       "  <thead>\n",
       "    <tr style=\"text-align: right;\">\n",
       "      <th></th>\n",
       "      <th>property_type</th>\n",
       "      <th>tenure</th>\n",
       "      <th>built_year</th>\n",
       "      <th>num_beds</th>\n",
       "      <th>num_baths</th>\n",
       "      <th>size_sqft</th>\n",
       "      <th>furnishing</th>\n",
       "      <th>available_unit_types</th>\n",
       "      <th>total_num_units</th>\n",
       "      <th>lat</th>\n",
       "      <th>lng</th>\n",
       "      <th>subzone</th>\n",
       "      <th>planning_area</th>\n",
       "      <th>ind</th>\n",
       "      <th>price</th>\n",
       "      <th>cc_distance</th>\n",
       "      <th>mrt_distance</th>\n",
       "      <th>primary_school_distance</th>\n",
       "    </tr>\n",
       "  </thead>\n",
       "  <tbody>\n",
       "    <tr>\n",
       "      <th>0</th>\n",
       "      <td>condo</td>\n",
       "      <td>freehold</td>\n",
       "      <td>2022.0</td>\n",
       "      <td>1.0</td>\n",
       "      <td>1.0</td>\n",
       "      <td>463</td>\n",
       "      <td>unfurnished</td>\n",
       "      <td>studio, 1, 2, 3, 4, 5 br</td>\n",
       "      <td>250.0</td>\n",
       "      <td>1.344334</td>\n",
       "      <td>103.878690</td>\n",
       "      <td>serangoon</td>\n",
       "      <td>serangoon</td>\n",
       "      <td>test</td>\n",
       "      <td>NaN</td>\n",
       "      <td>1.0</td>\n",
       "      <td>0.960436</td>\n",
       "      <td>13.993735</td>\n",
       "    </tr>\n",
       "    <tr>\n",
       "      <th>1</th>\n",
       "      <td>Condo</td>\n",
       "      <td>99-year leasehold</td>\n",
       "      <td>2017.0</td>\n",
       "      <td>3.0</td>\n",
       "      <td>3.0</td>\n",
       "      <td>1033</td>\n",
       "      <td>unspecified</td>\n",
       "      <td>studio, 1, 2, 3, 4, 5 br</td>\n",
       "      <td>463.0</td>\n",
       "      <td>1.380281</td>\n",
       "      <td>103.943878</td>\n",
       "      <td>pasir ris</td>\n",
       "      <td>pasir ris</td>\n",
       "      <td>test</td>\n",
       "      <td>NaN</td>\n",
       "      <td>1.0</td>\n",
       "      <td>1.736900</td>\n",
       "      <td>11.182232</td>\n",
       "    </tr>\n",
       "    <tr>\n",
       "      <th>2</th>\n",
       "      <td>condo</td>\n",
       "      <td>99-year leasehold</td>\n",
       "      <td>2007.0</td>\n",
       "      <td>1.0</td>\n",
       "      <td>1.0</td>\n",
       "      <td>570</td>\n",
       "      <td>fully</td>\n",
       "      <td>studio, 1, 2, 3 br</td>\n",
       "      <td>646.0</td>\n",
       "      <td>1.294668</td>\n",
       "      <td>103.850074</td>\n",
       "      <td>museum</td>\n",
       "      <td>museum</td>\n",
       "      <td>test</td>\n",
       "      <td>NaN</td>\n",
       "      <td>1.0</td>\n",
       "      <td>0.960436</td>\n",
       "      <td>4.148719</td>\n",
       "    </tr>\n",
       "    <tr>\n",
       "      <th>3</th>\n",
       "      <td>Hdb</td>\n",
       "      <td>99-year leasehold</td>\n",
       "      <td>2017.0</td>\n",
       "      <td>3.0</td>\n",
       "      <td>2.0</td>\n",
       "      <td>1216</td>\n",
       "      <td>unspecified</td>\n",
       "      <td>1, 2, 3, 4, 5 br</td>\n",
       "      <td>968.0</td>\n",
       "      <td>1.373120</td>\n",
       "      <td>103.746094</td>\n",
       "      <td>choa chu kang</td>\n",
       "      <td>choa chu kang</td>\n",
       "      <td>test</td>\n",
       "      <td>NaN</td>\n",
       "      <td>1.0</td>\n",
       "      <td>1.369843</td>\n",
       "      <td>8.460539</td>\n",
       "    </tr>\n",
       "    <tr>\n",
       "      <th>4</th>\n",
       "      <td>hdb 4 rooms</td>\n",
       "      <td>99-year leasehold</td>\n",
       "      <td>1973.0</td>\n",
       "      <td>3.0</td>\n",
       "      <td>2.0</td>\n",
       "      <td>936</td>\n",
       "      <td>unspecified</td>\n",
       "      <td>1, 2, 3, 4 br</td>\n",
       "      <td>NaN</td>\n",
       "      <td>1.341468</td>\n",
       "      <td>103.849047</td>\n",
       "      <td>toa payoh</td>\n",
       "      <td>toa payoh</td>\n",
       "      <td>test</td>\n",
       "      <td>NaN</td>\n",
       "      <td>1.0</td>\n",
       "      <td>1.126905</td>\n",
       "      <td>5.206584</td>\n",
       "    </tr>\n",
       "  </tbody>\n",
       "</table>\n",
       "</div>"
      ],
      "text/plain": [
       "  property_type             tenure  built_year  num_beds  num_baths  \\\n",
       "0         condo           freehold      2022.0       1.0        1.0   \n",
       "1         Condo  99-year leasehold      2017.0       3.0        3.0   \n",
       "2         condo  99-year leasehold      2007.0       1.0        1.0   \n",
       "3           Hdb  99-year leasehold      2017.0       3.0        2.0   \n",
       "4   hdb 4 rooms  99-year leasehold      1973.0       3.0        2.0   \n",
       "\n",
       "   size_sqft   furnishing      available_unit_types  total_num_units  \\\n",
       "0        463  unfurnished  studio, 1, 2, 3, 4, 5 br            250.0   \n",
       "1       1033  unspecified  studio, 1, 2, 3, 4, 5 br            463.0   \n",
       "2        570        fully        studio, 1, 2, 3 br            646.0   \n",
       "3       1216  unspecified          1, 2, 3, 4, 5 br            968.0   \n",
       "4        936  unspecified             1, 2, 3, 4 br              NaN   \n",
       "\n",
       "        lat         lng        subzone  planning_area   ind  price  \\\n",
       "0  1.344334  103.878690      serangoon      serangoon  test    NaN   \n",
       "1  1.380281  103.943878      pasir ris      pasir ris  test    NaN   \n",
       "2  1.294668  103.850074         museum         museum  test    NaN   \n",
       "3  1.373120  103.746094  choa chu kang  choa chu kang  test    NaN   \n",
       "4  1.341468  103.849047      toa payoh      toa payoh  test    NaN   \n",
       "\n",
       "   cc_distance  mrt_distance  primary_school_distance  \n",
       "0          1.0      0.960436                13.993735  \n",
       "1          1.0      1.736900                11.182232  \n",
       "2          1.0      0.960436                 4.148719  \n",
       "3          1.0      1.369843                 8.460539  \n",
       "4          1.0      1.126905                 5.206584  "
      ]
     },
     "execution_count": 1670,
     "metadata": {},
     "output_type": "execute_result"
    }
   ],
   "source": [
    "# using long and lat\n",
    "primaryschooldistance = pd.read_csv('auxiliary-data/sg-primary-schools.csv')\n",
    "expected_result = pd.merge(test, primaryschooldistance, on = 'planning_area')\n",
    "df['primary_school_distance'] = haversine_np(expected_result['lng_x'], expected_result['lat_x'], expected_result['lng_y'], expected_result['lat_y'])\n",
    "df.head()"
   ]
  },
  {
   "cell_type": "markdown",
   "metadata": {},
   "source": [
    "#### Add distance to secondary school"
   ]
  },
  {
   "cell_type": "code",
   "execution_count": 1671,
   "metadata": {},
   "outputs": [
    {
     "data": {
      "text/html": [
       "<div>\n",
       "<style scoped>\n",
       "    .dataframe tbody tr th:only-of-type {\n",
       "        vertical-align: middle;\n",
       "    }\n",
       "\n",
       "    .dataframe tbody tr th {\n",
       "        vertical-align: top;\n",
       "    }\n",
       "\n",
       "    .dataframe thead th {\n",
       "        text-align: right;\n",
       "    }\n",
       "</style>\n",
       "<table border=\"1\" class=\"dataframe\">\n",
       "  <thead>\n",
       "    <tr style=\"text-align: right;\">\n",
       "      <th></th>\n",
       "      <th>property_type</th>\n",
       "      <th>tenure</th>\n",
       "      <th>built_year</th>\n",
       "      <th>num_beds</th>\n",
       "      <th>num_baths</th>\n",
       "      <th>size_sqft</th>\n",
       "      <th>furnishing</th>\n",
       "      <th>available_unit_types</th>\n",
       "      <th>total_num_units</th>\n",
       "      <th>lat</th>\n",
       "      <th>lng</th>\n",
       "      <th>subzone</th>\n",
       "      <th>planning_area</th>\n",
       "      <th>ind</th>\n",
       "      <th>price</th>\n",
       "      <th>cc_distance</th>\n",
       "      <th>mrt_distance</th>\n",
       "      <th>primary_school_distance</th>\n",
       "      <th>secondary_school_distance</th>\n",
       "    </tr>\n",
       "  </thead>\n",
       "  <tbody>\n",
       "    <tr>\n",
       "      <th>0</th>\n",
       "      <td>condo</td>\n",
       "      <td>freehold</td>\n",
       "      <td>2022.0</td>\n",
       "      <td>1.0</td>\n",
       "      <td>1.0</td>\n",
       "      <td>463</td>\n",
       "      <td>unfurnished</td>\n",
       "      <td>studio, 1, 2, 3, 4, 5 br</td>\n",
       "      <td>250.0</td>\n",
       "      <td>1.344334</td>\n",
       "      <td>103.878690</td>\n",
       "      <td>serangoon</td>\n",
       "      <td>serangoon</td>\n",
       "      <td>test</td>\n",
       "      <td>NaN</td>\n",
       "      <td>1.0</td>\n",
       "      <td>0.960436</td>\n",
       "      <td>13.993735</td>\n",
       "      <td>1.853769</td>\n",
       "    </tr>\n",
       "    <tr>\n",
       "      <th>1</th>\n",
       "      <td>Condo</td>\n",
       "      <td>99-year leasehold</td>\n",
       "      <td>2017.0</td>\n",
       "      <td>3.0</td>\n",
       "      <td>3.0</td>\n",
       "      <td>1033</td>\n",
       "      <td>unspecified</td>\n",
       "      <td>studio, 1, 2, 3, 4, 5 br</td>\n",
       "      <td>463.0</td>\n",
       "      <td>1.380281</td>\n",
       "      <td>103.943878</td>\n",
       "      <td>pasir ris</td>\n",
       "      <td>pasir ris</td>\n",
       "      <td>test</td>\n",
       "      <td>NaN</td>\n",
       "      <td>1.0</td>\n",
       "      <td>1.736900</td>\n",
       "      <td>11.182232</td>\n",
       "      <td>3.014111</td>\n",
       "    </tr>\n",
       "    <tr>\n",
       "      <th>2</th>\n",
       "      <td>condo</td>\n",
       "      <td>99-year leasehold</td>\n",
       "      <td>2007.0</td>\n",
       "      <td>1.0</td>\n",
       "      <td>1.0</td>\n",
       "      <td>570</td>\n",
       "      <td>fully</td>\n",
       "      <td>studio, 1, 2, 3 br</td>\n",
       "      <td>646.0</td>\n",
       "      <td>1.294668</td>\n",
       "      <td>103.850074</td>\n",
       "      <td>museum</td>\n",
       "      <td>museum</td>\n",
       "      <td>test</td>\n",
       "      <td>NaN</td>\n",
       "      <td>1.0</td>\n",
       "      <td>0.960436</td>\n",
       "      <td>4.148719</td>\n",
       "      <td>0.455365</td>\n",
       "    </tr>\n",
       "    <tr>\n",
       "      <th>3</th>\n",
       "      <td>Hdb</td>\n",
       "      <td>99-year leasehold</td>\n",
       "      <td>2017.0</td>\n",
       "      <td>3.0</td>\n",
       "      <td>2.0</td>\n",
       "      <td>1216</td>\n",
       "      <td>unspecified</td>\n",
       "      <td>1, 2, 3, 4, 5 br</td>\n",
       "      <td>968.0</td>\n",
       "      <td>1.373120</td>\n",
       "      <td>103.746094</td>\n",
       "      <td>choa chu kang</td>\n",
       "      <td>choa chu kang</td>\n",
       "      <td>test</td>\n",
       "      <td>NaN</td>\n",
       "      <td>1.0</td>\n",
       "      <td>1.369843</td>\n",
       "      <td>8.460539</td>\n",
       "      <td>1.138964</td>\n",
       "    </tr>\n",
       "    <tr>\n",
       "      <th>4</th>\n",
       "      <td>hdb 4 rooms</td>\n",
       "      <td>99-year leasehold</td>\n",
       "      <td>1973.0</td>\n",
       "      <td>3.0</td>\n",
       "      <td>2.0</td>\n",
       "      <td>936</td>\n",
       "      <td>unspecified</td>\n",
       "      <td>1, 2, 3, 4 br</td>\n",
       "      <td>NaN</td>\n",
       "      <td>1.341468</td>\n",
       "      <td>103.849047</td>\n",
       "      <td>toa payoh</td>\n",
       "      <td>toa payoh</td>\n",
       "      <td>test</td>\n",
       "      <td>NaN</td>\n",
       "      <td>1.0</td>\n",
       "      <td>1.126905</td>\n",
       "      <td>5.206584</td>\n",
       "      <td>0.499738</td>\n",
       "    </tr>\n",
       "  </tbody>\n",
       "</table>\n",
       "</div>"
      ],
      "text/plain": [
       "  property_type             tenure  built_year  num_beds  num_baths  \\\n",
       "0         condo           freehold      2022.0       1.0        1.0   \n",
       "1         Condo  99-year leasehold      2017.0       3.0        3.0   \n",
       "2         condo  99-year leasehold      2007.0       1.0        1.0   \n",
       "3           Hdb  99-year leasehold      2017.0       3.0        2.0   \n",
       "4   hdb 4 rooms  99-year leasehold      1973.0       3.0        2.0   \n",
       "\n",
       "   size_sqft   furnishing      available_unit_types  total_num_units  \\\n",
       "0        463  unfurnished  studio, 1, 2, 3, 4, 5 br            250.0   \n",
       "1       1033  unspecified  studio, 1, 2, 3, 4, 5 br            463.0   \n",
       "2        570        fully        studio, 1, 2, 3 br            646.0   \n",
       "3       1216  unspecified          1, 2, 3, 4, 5 br            968.0   \n",
       "4        936  unspecified             1, 2, 3, 4 br              NaN   \n",
       "\n",
       "        lat         lng        subzone  planning_area   ind  price  \\\n",
       "0  1.344334  103.878690      serangoon      serangoon  test    NaN   \n",
       "1  1.380281  103.943878      pasir ris      pasir ris  test    NaN   \n",
       "2  1.294668  103.850074         museum         museum  test    NaN   \n",
       "3  1.373120  103.746094  choa chu kang  choa chu kang  test    NaN   \n",
       "4  1.341468  103.849047      toa payoh      toa payoh  test    NaN   \n",
       "\n",
       "   cc_distance  mrt_distance  primary_school_distance  \\\n",
       "0          1.0      0.960436                13.993735   \n",
       "1          1.0      1.736900                11.182232   \n",
       "2          1.0      0.960436                 4.148719   \n",
       "3          1.0      1.369843                 8.460539   \n",
       "4          1.0      1.126905                 5.206584   \n",
       "\n",
       "   secondary_school_distance  \n",
       "0                   1.853769  \n",
       "1                   3.014111  \n",
       "2                   0.455365  \n",
       "3                   1.138964  \n",
       "4                   0.499738  "
      ]
     },
     "execution_count": 1671,
     "metadata": {},
     "output_type": "execute_result"
    }
   ],
   "source": [
    "# using long and lat\n",
    "secschooldistance = pd.read_csv('auxiliary-data/sg-secondary-schools.csv')\n",
    "expected_result = pd.merge(test, secschooldistance, on = 'planning_area')\n",
    "df['secondary_school_distance'] = haversine_np(expected_result['lng_x'], expected_result['lat_x'], expected_result['lng_y'], expected_result['lat_y'])\n",
    "df.head()"
   ]
  },
  {
   "cell_type": "markdown",
   "metadata": {},
   "source": [
    "#### Add distance to shopping malls"
   ]
  },
  {
   "cell_type": "code",
   "execution_count": 1672,
   "metadata": {},
   "outputs": [
    {
     "data": {
      "text/html": [
       "<div>\n",
       "<style scoped>\n",
       "    .dataframe tbody tr th:only-of-type {\n",
       "        vertical-align: middle;\n",
       "    }\n",
       "\n",
       "    .dataframe tbody tr th {\n",
       "        vertical-align: top;\n",
       "    }\n",
       "\n",
       "    .dataframe thead th {\n",
       "        text-align: right;\n",
       "    }\n",
       "</style>\n",
       "<table border=\"1\" class=\"dataframe\">\n",
       "  <thead>\n",
       "    <tr style=\"text-align: right;\">\n",
       "      <th></th>\n",
       "      <th>property_type</th>\n",
       "      <th>tenure</th>\n",
       "      <th>built_year</th>\n",
       "      <th>num_beds</th>\n",
       "      <th>num_baths</th>\n",
       "      <th>size_sqft</th>\n",
       "      <th>furnishing</th>\n",
       "      <th>available_unit_types</th>\n",
       "      <th>total_num_units</th>\n",
       "      <th>lat</th>\n",
       "      <th>lng</th>\n",
       "      <th>subzone</th>\n",
       "      <th>planning_area</th>\n",
       "      <th>ind</th>\n",
       "      <th>price</th>\n",
       "      <th>cc_distance</th>\n",
       "      <th>mrt_distance</th>\n",
       "      <th>primary_school_distance</th>\n",
       "      <th>secondary_school_distance</th>\n",
       "      <th>shop_distance</th>\n",
       "    </tr>\n",
       "  </thead>\n",
       "  <tbody>\n",
       "    <tr>\n",
       "      <th>0</th>\n",
       "      <td>condo</td>\n",
       "      <td>freehold</td>\n",
       "      <td>2022.0</td>\n",
       "      <td>1.0</td>\n",
       "      <td>1.0</td>\n",
       "      <td>463</td>\n",
       "      <td>unfurnished</td>\n",
       "      <td>studio, 1, 2, 3, 4, 5 br</td>\n",
       "      <td>250.0</td>\n",
       "      <td>1.344334</td>\n",
       "      <td>103.878690</td>\n",
       "      <td>serangoon</td>\n",
       "      <td>serangoon</td>\n",
       "      <td>test</td>\n",
       "      <td>NaN</td>\n",
       "      <td>1.0</td>\n",
       "      <td>0.960436</td>\n",
       "      <td>13.993735</td>\n",
       "      <td>1.853769</td>\n",
       "      <td>0.987277</td>\n",
       "    </tr>\n",
       "    <tr>\n",
       "      <th>1</th>\n",
       "      <td>Condo</td>\n",
       "      <td>99-year leasehold</td>\n",
       "      <td>2017.0</td>\n",
       "      <td>3.0</td>\n",
       "      <td>3.0</td>\n",
       "      <td>1033</td>\n",
       "      <td>unspecified</td>\n",
       "      <td>studio, 1, 2, 3, 4, 5 br</td>\n",
       "      <td>463.0</td>\n",
       "      <td>1.380281</td>\n",
       "      <td>103.943878</td>\n",
       "      <td>pasir ris</td>\n",
       "      <td>pasir ris</td>\n",
       "      <td>test</td>\n",
       "      <td>NaN</td>\n",
       "      <td>1.0</td>\n",
       "      <td>1.736900</td>\n",
       "      <td>11.182232</td>\n",
       "      <td>3.014111</td>\n",
       "      <td>4.906856</td>\n",
       "    </tr>\n",
       "    <tr>\n",
       "      <th>2</th>\n",
       "      <td>condo</td>\n",
       "      <td>99-year leasehold</td>\n",
       "      <td>2007.0</td>\n",
       "      <td>1.0</td>\n",
       "      <td>1.0</td>\n",
       "      <td>570</td>\n",
       "      <td>fully</td>\n",
       "      <td>studio, 1, 2, 3 br</td>\n",
       "      <td>646.0</td>\n",
       "      <td>1.294668</td>\n",
       "      <td>103.850074</td>\n",
       "      <td>museum</td>\n",
       "      <td>museum</td>\n",
       "      <td>test</td>\n",
       "      <td>NaN</td>\n",
       "      <td>1.0</td>\n",
       "      <td>0.960436</td>\n",
       "      <td>4.148719</td>\n",
       "      <td>0.455365</td>\n",
       "      <td>2.765780</td>\n",
       "    </tr>\n",
       "    <tr>\n",
       "      <th>3</th>\n",
       "      <td>Hdb</td>\n",
       "      <td>99-year leasehold</td>\n",
       "      <td>2017.0</td>\n",
       "      <td>3.0</td>\n",
       "      <td>2.0</td>\n",
       "      <td>1216</td>\n",
       "      <td>unspecified</td>\n",
       "      <td>1, 2, 3, 4, 5 br</td>\n",
       "      <td>968.0</td>\n",
       "      <td>1.373120</td>\n",
       "      <td>103.746094</td>\n",
       "      <td>choa chu kang</td>\n",
       "      <td>choa chu kang</td>\n",
       "      <td>test</td>\n",
       "      <td>NaN</td>\n",
       "      <td>1.0</td>\n",
       "      <td>1.369843</td>\n",
       "      <td>8.460539</td>\n",
       "      <td>1.138964</td>\n",
       "      <td>1.361122</td>\n",
       "    </tr>\n",
       "    <tr>\n",
       "      <th>4</th>\n",
       "      <td>hdb 4 rooms</td>\n",
       "      <td>99-year leasehold</td>\n",
       "      <td>1973.0</td>\n",
       "      <td>3.0</td>\n",
       "      <td>2.0</td>\n",
       "      <td>936</td>\n",
       "      <td>unspecified</td>\n",
       "      <td>1, 2, 3, 4 br</td>\n",
       "      <td>NaN</td>\n",
       "      <td>1.341468</td>\n",
       "      <td>103.849047</td>\n",
       "      <td>toa payoh</td>\n",
       "      <td>toa payoh</td>\n",
       "      <td>test</td>\n",
       "      <td>NaN</td>\n",
       "      <td>1.0</td>\n",
       "      <td>1.126905</td>\n",
       "      <td>5.206584</td>\n",
       "      <td>0.499738</td>\n",
       "      <td>2.907287</td>\n",
       "    </tr>\n",
       "  </tbody>\n",
       "</table>\n",
       "</div>"
      ],
      "text/plain": [
       "  property_type             tenure  built_year  num_beds  num_baths  \\\n",
       "0         condo           freehold      2022.0       1.0        1.0   \n",
       "1         Condo  99-year leasehold      2017.0       3.0        3.0   \n",
       "2         condo  99-year leasehold      2007.0       1.0        1.0   \n",
       "3           Hdb  99-year leasehold      2017.0       3.0        2.0   \n",
       "4   hdb 4 rooms  99-year leasehold      1973.0       3.0        2.0   \n",
       "\n",
       "   size_sqft   furnishing      available_unit_types  total_num_units  \\\n",
       "0        463  unfurnished  studio, 1, 2, 3, 4, 5 br            250.0   \n",
       "1       1033  unspecified  studio, 1, 2, 3, 4, 5 br            463.0   \n",
       "2        570        fully        studio, 1, 2, 3 br            646.0   \n",
       "3       1216  unspecified          1, 2, 3, 4, 5 br            968.0   \n",
       "4        936  unspecified             1, 2, 3, 4 br              NaN   \n",
       "\n",
       "        lat         lng        subzone  planning_area   ind  price  \\\n",
       "0  1.344334  103.878690      serangoon      serangoon  test    NaN   \n",
       "1  1.380281  103.943878      pasir ris      pasir ris  test    NaN   \n",
       "2  1.294668  103.850074         museum         museum  test    NaN   \n",
       "3  1.373120  103.746094  choa chu kang  choa chu kang  test    NaN   \n",
       "4  1.341468  103.849047      toa payoh      toa payoh  test    NaN   \n",
       "\n",
       "   cc_distance  mrt_distance  primary_school_distance  \\\n",
       "0          1.0      0.960436                13.993735   \n",
       "1          1.0      1.736900                11.182232   \n",
       "2          1.0      0.960436                 4.148719   \n",
       "3          1.0      1.369843                 8.460539   \n",
       "4          1.0      1.126905                 5.206584   \n",
       "\n",
       "   secondary_school_distance  shop_distance  \n",
       "0                   1.853769       0.987277  \n",
       "1                   3.014111       4.906856  \n",
       "2                   0.455365       2.765780  \n",
       "3                   1.138964       1.361122  \n",
       "4                   0.499738       2.907287  "
      ]
     },
     "execution_count": 1672,
     "metadata": {},
     "output_type": "execute_result"
    }
   ],
   "source": [
    "# using long and lat\n",
    "shop_distance = pd.read_csv('auxiliary-data/sg-shopping-malls.csv')\n",
    "expected_result = pd.merge(test, shop_distance, on = 'planning_area')\n",
    "df['shop_distance'] = haversine_np(expected_result['lng_x'], expected_result['lat_x'], expected_result['lng_y'], expected_result['lat_y'])\n",
    "df.head()"
   ]
  },
  {
   "cell_type": "markdown",
   "metadata": {},
   "source": [
    "### lng & lat"
   ]
  },
  {
   "cell_type": "code",
   "execution_count": 1673,
   "metadata": {},
   "outputs": [],
   "source": [
    "df = df.drop(columns=['lat','lng'])"
   ]
  },
  {
   "cell_type": "markdown",
   "metadata": {},
   "source": [
    "### Population"
   ]
  },
  {
   "cell_type": "code",
   "execution_count": 1674,
   "metadata": {},
   "outputs": [],
   "source": [
    "population = pd.read_csv('auxiliary-data/sg-subzones.csv')"
   ]
  },
  {
   "cell_type": "code",
   "execution_count": 1675,
   "metadata": {},
   "outputs": [],
   "source": [
    "expected_result = pd.merge(df, population, on = 'planning_area')\n",
    "df['population'] = expected_result['population']\n",
    "df['area_size'] = expected_result['area_size']"
   ]
  },
  {
   "cell_type": "markdown",
   "metadata": {},
   "source": [
    "### Property Type cleaning"
   ]
  },
  {
   "cell_type": "code",
   "execution_count": 1676,
   "metadata": {},
   "outputs": [],
   "source": [
    "#Change all to uppercase\n",
    "df['property_type']=df['property_type'].str.upper()\n"
   ]
  },
  {
   "cell_type": "code",
   "execution_count": 1677,
   "metadata": {},
   "outputs": [
    {
     "data": {
      "text/plain": [
       "array(['CONDO', 'HDB', 'HDB 4 ROOMS', 'TERRACED HOUSE', 'HDB 5 ROOMS',\n",
       "       'HDB 3 ROOMS', 'SEMI-DETACHED HOUSE', 'EXECUTIVE CONDO',\n",
       "       'BUNGALOW', 'HDB EXECUTIVE', 'HDB 2 ROOMS', 'APARTMENT',\n",
       "       'CLUSTER HOUSE', 'CORNER TERRACE', 'WALK-UP', 'CONSERVATION HOUSE',\n",
       "       'LANDED', 'TOWNHOUSE', 'GOOD CLASS BUNGALOW', 'LAND ONLY',\n",
       "       'SHOPHOUSE'], dtype=object)"
      ]
     },
     "execution_count": 1677,
     "metadata": {},
     "output_type": "execute_result"
    }
   ],
   "source": [
    "df['property_type'].unique()"
   ]
  },
  {
   "cell_type": "code",
   "execution_count": 1678,
   "metadata": {},
   "outputs": [],
   "source": [
    "df['property_type'] = df['property_type'].replace(\n",
    "    ['CLUSTER HOUSE', 'CONSERVATION HOUSE', 'LANDED', 'WALK-UP', 'TOWNHOUSE', 'GOOD CLASS BUNGALOW', 'CORNER TERRACE', 'SEMI-DETACHED HOUSE', 'BUNGALOW', 'TERRACED HOUSE','SHOPHOUSE','LAND ONLY'],\n",
    "    'LANDED'\n",
    ")"
   ]
  },
  {
   "cell_type": "code",
   "execution_count": 1679,
   "metadata": {},
   "outputs": [],
   "source": [
    "df['property_type'] = df['property_type'].replace(\n",
    "    ['HDB 3 ROOMS', 'HDB 4 ROOMS', 'HDB 5 ROOMS', 'HDB 2 ROOMS'],\n",
    "    'HDB'\n",
    ")"
   ]
  },
  {
   "cell_type": "code",
   "execution_count": 1680,
   "metadata": {},
   "outputs": [],
   "source": [
    "df['property_type'] = df['property_type'].replace(\n",
    "    ['APARTMENT'],\n",
    "    'CONDO'\n",
    ")"
   ]
  },
  {
   "cell_type": "code",
   "execution_count": 1681,
   "metadata": {},
   "outputs": [
    {
     "data": {
      "text/plain": [
       "array(['CONDO', 'HDB', 'LANDED', 'EXECUTIVE CONDO', 'HDB EXECUTIVE'],\n",
       "      dtype=object)"
      ]
     },
     "execution_count": 1681,
     "metadata": {},
     "output_type": "execute_result"
    }
   ],
   "source": [
    "df['property_type'].unique()"
   ]
  },
  {
   "cell_type": "code",
   "execution_count": 1682,
   "metadata": {},
   "outputs": [],
   "source": [
    "condo = df[df['property_type'] == 'CONDO']\n",
    "hdb = df[df['property_type'] == 'HDB']\n",
    "landed = df[df['property_type'] == 'LANDED']\n",
    "Econdo = df[df['property_type'] == 'EXECUTIVE CONDO']\n",
    "Ehdb = df[df['property_type'] == 'HDB EXECUTIVE']"
   ]
  },
  {
   "cell_type": "markdown",
   "metadata": {},
   "source": [
    "### Distance Cleaning"
   ]
  },
  {
   "cell_type": "code",
   "execution_count": 1683,
   "metadata": {},
   "outputs": [
    {
     "data": {
      "text/plain": [
       "<AxesSubplot:xlabel='mrt_distance', ylabel='property_type'>"
      ]
     },
     "execution_count": 1683,
     "metadata": {},
     "output_type": "execute_result"
    },
    {
     "data": {
      "image/png": "[encoded data removed]",
      "text/plain": [
       "<Figure size 432x288 with 1 Axes>"
      ]
     },
     "metadata": {
      "needs_background": "light"
     },
     "output_type": "display_data"
    }
   ],
   "source": [
    "sns.boxplot(x = df['mrt_distance'], y = df['property_type'])"
   ]
  },
  {
   "cell_type": "code",
   "execution_count": 1684,
   "metadata": {},
   "outputs": [],
   "source": [
    "condoQ1, condoQ3 = np.percentile(condo['mrt_distance'] , [1,94])\n",
    "hdbQ1, hdbQ3 = np.percentile(hdb['mrt_distance'] , [1,94])\n",
    "landQ1, landQ3 = np.percentile(landed['mrt_distance'] , [1,94])\n",
    "EhdbQ1, EhdbQ3 = np.percentile(hdb['mrt_distance'] , [1,95])\n",
    "EcondoQ1, EcondoQ3 = np.percentile(condo['mrt_distance'] , [1,94])"
   ]
  },
  {
   "cell_type": "code",
   "execution_count": 1685,
   "metadata": {},
   "outputs": [
    {
     "data": {
      "text/plain": [
       "1.6109448127938346"
      ]
     },
     "execution_count": 1685,
     "metadata": {},
     "output_type": "execute_result"
    }
   ],
   "source": [
    "condo['mrt_distance'].median()"
   ]
  },
  {
   "cell_type": "code",
   "execution_count": 1686,
   "metadata": {},
   "outputs": [],
   "source": [
    "\n",
    "df.loc[(df['property_type'] == 'CONDO') & (df['mrt_distance'] > condoQ3), 'mrt_distance'] = condo['mrt_distance'].median()\n",
    "df.loc[(df['property_type'] == 'HDB') & (df['mrt_distance'] > hdbQ3), 'mrt_distance'] = hdb['mrt_distance'].median()\n",
    "\n",
    "df.loc[(df['property_type'] == 'LANDED') & (df['mrt_distance'] > landQ3), 'mrt_distance'] = landed['mrt_distance'].median()\n",
    "\n",
    "\n",
    "df.loc[(df['property_type'] == 'EXECUTIVE CONDO') & (df['mrt_distance'] > EcondoQ3), 'mrt_distance'] = Econdo['mrt_distance'].median()\n",
    "\n",
    "df.loc[(df['property_type'] == 'HDB EXECUTIVE') & (df['mrt_distance'] > EhdbQ3), 'mrt_distance'] = Ehdb['mrt_distance'].median()"
   ]
  },
  {
   "cell_type": "code",
   "execution_count": 1687,
   "metadata": {},
   "outputs": [
    {
     "data": {
      "text/plain": [
       "<AxesSubplot:xlabel='mrt_distance', ylabel='property_type'>"
      ]
     },
     "execution_count": 1687,
     "metadata": {},
     "output_type": "execute_result"
    },
    {
     "data": {
      "image/png": "[encoded data removed]",
      "text/plain": [
       "<Figure size 432x288 with 1 Axes>"
      ]
     },
     "metadata": {
      "needs_background": "light"
     },
     "output_type": "display_data"
    }
   ],
   "source": [
    "sns.boxplot(x = df['mrt_distance'], y = df['property_type'])"
   ]
  },
  {
   "cell_type": "code",
   "execution_count": 1688,
   "metadata": {},
   "outputs": [
    {
     "data": {
      "text/plain": [
       "<AxesSubplot:xlabel='primary_school_distance', ylabel='property_type'>"
      ]
     },
     "execution_count": 1688,
     "metadata": {},
     "output_type": "execute_result"
    },
    {
     "data": {
      "image/png": "[encoded data removed]",
      "text/plain": [
       "<Figure size 432x288 with 1 Axes>"
      ]
     },
     "metadata": {
      "needs_background": "light"
     },
     "output_type": "display_data"
    }
   ],
   "source": [
    "sns.boxplot(x = df['primary_school_distance'], y = df['property_type'])"
   ]
  },
  {
   "cell_type": "code",
   "execution_count": 1689,
   "metadata": {},
   "outputs": [
    {
     "data": {
      "text/plain": [
       "<AxesSubplot:xlabel='secondary_school_distance', ylabel='property_type'>"
      ]
     },
     "execution_count": 1689,
     "metadata": {},
     "output_type": "execute_result"
    },
    {
     "data": {
      "image/png": "[encoded data removed]",
      "text/plain": [
       "<Figure size 432x288 with 1 Axes>"
      ]
     },
     "metadata": {
      "needs_background": "light"
     },
     "output_type": "display_data"
    }
   ],
   "source": [
    "sns.boxplot(x=df['secondary_school_distance'],y=df['property_type'])"
   ]
  },
  {
   "cell_type": "code",
   "execution_count": 1690,
   "metadata": {},
   "outputs": [],
   "source": [
    "condoQ1, condoQ3 = np.percentile(condo['secondary_school_distance'] , [1,98])\n",
    "hdbQ1, hdbQ3 = np.percentile(hdb['secondary_school_distance'] , [1,98])\n",
    "landQ1, landQ3 = np.percentile(landed['secondary_school_distance'] , [1,98])\n",
    "EhdbQ1, EhdbQ3 = np.percentile(hdb['secondary_school_distance'] , [1,98])\n",
    "EcondoQ1, EcondoQ3 = np.percentile(condo['secondary_school_distance'] , [1,97])"
   ]
  },
  {
   "cell_type": "code",
   "execution_count": 1691,
   "metadata": {},
   "outputs": [
    {
     "data": {
      "text/plain": [
       "<AxesSubplot:xlabel='secondary_school_distance', ylabel='property_type'>"
      ]
     },
     "execution_count": 1691,
     "metadata": {},
     "output_type": "execute_result"
    },
    {
     "data": {
      "image/png": "[encoded data removed]",
      "text/plain": [
       "<Figure size 432x288 with 1 Axes>"
      ]
     },
     "metadata": {
      "needs_background": "light"
     },
     "output_type": "display_data"
    }
   ],
   "source": [
    "\n",
    "df.loc[(df['property_type'] == 'CONDO') & (df['secondary_school_distance'] > condoQ3), 'secondary_school_distance'] = condo['secondary_school_distance'].median()\n",
    "df.loc[(df['property_type'] == 'HDB') & (df['secondary_school_distance'] > hdbQ3), 'secondary_school_distance'] = hdb['secondary_school_distance'].median()\n",
    "\n",
    "df.loc[(df['property_type'] == 'LANDED') & (df['secondary_school_distance'] > landQ3), 'secondary_school_distance'] = landed['secondary_school_distance'].median()\n",
    "\n",
    "\n",
    "df.loc[(df['property_type'] == 'EXECUTIVE CONDO') & (df['secondary_school_distance'] > EcondoQ3), 'secondary_school_distance'] = Econdo['secondary_school_distance'].median()\n",
    "\n",
    "df.loc[(df['property_type'] == 'HDB EXECUTIVE') & (df['secondary_school_distance'] > EhdbQ3), 'secondary_school_distance'] = Ehdb['secondary_school_distance'].median()\n",
    "sns.boxplot(x=df['secondary_school_distance'],y=df['property_type'])"
   ]
  },
  {
   "cell_type": "code",
   "execution_count": 1692,
   "metadata": {},
   "outputs": [
    {
     "data": {
      "text/plain": [
       "<AxesSubplot:xlabel='shop_distance', ylabel='property_type'>"
      ]
     },
     "execution_count": 1692,
     "metadata": {},
     "output_type": "execute_result"
    },
    {
     "data": {
      "image/png": "[encoded data removed]",
      "text/plain": [
       "<Figure size 432x288 with 1 Axes>"
      ]
     },
     "metadata": {
      "needs_background": "light"
     },
     "output_type": "display_data"
    }
   ],
   "source": [
    "sns.boxplot(x = df['shop_distance'], y = df['property_type'])"
   ]
  },
  {
   "cell_type": "code",
   "execution_count": 1693,
   "metadata": {},
   "outputs": [],
   "source": [
    "condoQ1, condoQ3 = np.percentile(condo['shop_distance'] , [1,96])\n",
    "hdbQ1, hdbQ3 = np.percentile(hdb['shop_distance'] , [1,96])\n",
    "landQ1, landQ3 = np.percentile(landed['shop_distance'] , [1,96])\n",
    "\n",
    "EhdbQ1, EhdbQ3 = np.percentile(hdb['shop_distance'] , [1,97])#\n",
    "EcondoQ1, EcondoQ3 = np.percentile(condo['shop_distance'] , [1,96])"
   ]
  },
  {
   "cell_type": "code",
   "execution_count": 1694,
   "metadata": {},
   "outputs": [
    {
     "data": {
      "text/plain": [
       "<AxesSubplot:xlabel='shop_distance', ylabel='property_type'>"
      ]
     },
     "execution_count": 1694,
     "metadata": {},
     "output_type": "execute_result"
    },
    {
     "data": {
      "image/png": "[encoded data removed]",
      "text/plain": [
       "<Figure size 432x288 with 1 Axes>"
      ]
     },
     "metadata": {
      "needs_background": "light"
     },
     "output_type": "display_data"
    }
   ],
   "source": [
    "\n",
    "df.loc[(df['property_type'] == 'CONDO') & (df['shop_distance'] > condoQ3), 'shop_distance'] = condo['shop_distance'].median()\n",
    "df.loc[(df['property_type'] == 'HDB') & (df['shop_distance'] > hdbQ3), 'shop_distance'] = hdb['shop_distance'].median()\n",
    "\n",
    "df.loc[(df['property_type'] == 'LANDED') & (df['shop_distance'] > landQ3), 'shop_distance'] = landed['shop_distance'].median()\n",
    "\n",
    "\n",
    "df.loc[(df['property_type'] == 'EXECUTIVE CONDO') & (df['shop_distance'] > EcondoQ3), 'shop_distance'] = Econdo['shop_distance'].median()\n",
    "\n",
    "df.loc[(df['property_type'] == 'HDB EXECUTIVE') & (df['shop_distance'] > EhdbQ3), 'shop_distance'] = Ehdb['shop_distance'].median()\n",
    "sns.boxplot(x=df['shop_distance'],y=df['property_type'])"
   ]
  },
  {
   "cell_type": "markdown",
   "metadata": {},
   "source": [
    "### Tenure "
   ]
  },
  {
   "cell_type": "code",
   "execution_count": 1695,
   "metadata": {},
   "outputs": [],
   "source": [
    "df['tenure'] = df['tenure'].replace(\n",
    "    [\n",
    "    '99-year leasehold',\n",
    "    '110-year leasehold',\n",
    "    '103-year leasehold',\n",
    "    '102-year leasehold',\n",
    "    '100-year leasehold',\n",
    "    ],\n",
    "    '99-year leasehold'\n",
    ")\n",
    "\n",
    "df['tenure'] = df['tenure'].replace(\n",
    "    [\n",
    "    '946-year leasehold',\n",
    "    '999-year leasehold',\n",
    "    '956-year leasehold',\n",
    "    '929-year leasehold',\n",
    "    '947-year leasehold',\n",
    "    '999-year leasehold'\n",
    "    ],\n",
    "    '999-year leasehold'\n",
    ")"
   ]
  },
  {
   "cell_type": "code",
   "execution_count": 1696,
   "metadata": {},
   "outputs": [],
   "source": [
    "df['tenure'] = df['tenure'].fillna('99-year leasehold')"
   ]
  },
  {
   "cell_type": "code",
   "execution_count": 1697,
   "metadata": {},
   "outputs": [
    {
     "data": {
      "text/plain": [
       "array(['freehold', '99-year leasehold', '999-year leasehold'],\n",
       "      dtype=object)"
      ]
     },
     "execution_count": 1697,
     "metadata": {},
     "output_type": "execute_result"
    }
   ],
   "source": [
    "df['tenure'].unique()"
   ]
  },
  {
   "cell_type": "code",
   "execution_count": 1698,
   "metadata": {},
   "outputs": [
    {
     "name": "stderr",
     "output_type": "stream",
     "text": [
      "/usr/local/lib/python3.9/site-packages/seaborn/_decorators.py:36: FutureWarning: Pass the following variable as a keyword arg: x. From version 0.12, the only valid positional argument will be `data`, and passing other arguments without an explicit keyword will result in an error or misinterpretation.\n",
      "  warnings.warn(\n"
     ]
    },
    {
     "data": {
      "text/plain": [
       "<AxesSubplot:xlabel='tenure', ylabel='count'>"
      ]
     },
     "execution_count": 1698,
     "metadata": {},
     "output_type": "execute_result"
    },
    {
     "data": {
      "image/png": "[encoded data removed]",
      "text/plain": [
       "<Figure size 432x288 with 1 Axes>"
      ]
     },
     "metadata": {
      "needs_background": "light"
     },
     "output_type": "display_data"
    }
   ],
   "source": [
    "sns.countplot(df['tenure'])"
   ]
  },
  {
   "cell_type": "markdown",
   "metadata": {},
   "source": [
    "### Funishing"
   ]
  },
  {
   "cell_type": "code",
   "execution_count": 1699,
   "metadata": {},
   "outputs": [],
   "source": [
    "#Assume not specified and na as unfurnished \n",
    "df['furnishing'] = df['furnishing'].replace(\n",
    "    [\n",
    "    'na',\n",
    "    'unspecified',\n",
    "    ],\n",
    "    'unfurnished'\n",
    ")"
   ]
  },
  {
   "cell_type": "code",
   "execution_count": 1700,
   "metadata": {},
   "outputs": [
    {
     "name": "stderr",
     "output_type": "stream",
     "text": [
      "/usr/local/lib/python3.9/site-packages/seaborn/_decorators.py:36: FutureWarning: Pass the following variable as a keyword arg: x. From version 0.12, the only valid positional argument will be `data`, and passing other arguments without an explicit keyword will result in an error or misinterpretation.\n",
      "  warnings.warn(\n"
     ]
    },
    {
     "data": {
      "text/plain": [
       "<AxesSubplot:xlabel='furnishing', ylabel='count'>"
      ]
     },
     "execution_count": 1700,
     "metadata": {},
     "output_type": "execute_result"
    },
    {
     "data": {
      "image/png": "[encoded data removed]",
      "text/plain": [
       "<Figure size 432x288 with 1 Axes>"
      ]
     },
     "metadata": {
      "needs_background": "light"
     },
     "output_type": "display_data"
    }
   ],
   "source": [
    "sns.countplot(df['furnishing'])"
   ]
  },
  {
   "cell_type": "code",
   "execution_count": 1701,
   "metadata": {},
   "outputs": [],
   "source": [
    "# #Assume not specified and na as unfurnished \n",
    "# train['furnishing'] = train['furnishing'].replace(\n",
    "#     [\n",
    "#     'fully',\n",
    "#     ],\n",
    "#     'partial'\n",
    "# )\n",
    "\n",
    "# #Assume not specified and na as unfurnished \n",
    "# test['furnishing'] = test['furnishing'].replace(\n",
    "#     [\n",
    "#     'fully',\n",
    "#     ],\n",
    "#     'partial'\n",
    "# )"
   ]
  },
  {
   "cell_type": "markdown",
   "metadata": {},
   "source": [
    "### total_num_units"
   ]
  },
  {
   "cell_type": "code",
   "execution_count": 1702,
   "metadata": {},
   "outputs": [],
   "source": [
    "condomedium = condo['total_num_units'].median()\n",
    "hdbmedium = hdb['total_num_units'].median()\n",
    "landmedium = landed['total_num_units'].median()\n",
    "Econdomedium = Econdo['total_num_units'].median()\n",
    "Ehdbmedium = Ehdb['total_num_units'].median()\n"
   ]
  },
  {
   "cell_type": "code",
   "execution_count": 1703,
   "metadata": {},
   "outputs": [],
   "source": [
    "df.loc[df.property_type == 'CONDO', 'total_num_units'] = condomedium\n",
    "df.loc[df.property_type == 'HDB', 'total_num_units'] = hdbmedium\n",
    "df.loc[df.property_type == 'LANDED', 'total_num_units'] = landmedium\n",
    "df.loc[df.property_type == 'EXECUTIVE CONDO', 'total_num_units'] = Econdomedium\n",
    "df.loc[df.property_type == 'HDB EXECUTIVE', 'total_num_units'] = Ehdbmedium"
   ]
  },
  {
   "cell_type": "code",
   "execution_count": 1704,
   "metadata": {},
   "outputs": [
    {
     "data": {
      "text/plain": [
       "<AxesSubplot:xlabel='total_num_units', ylabel='property_type'>"
      ]
     },
     "execution_count": 1704,
     "metadata": {},
     "output_type": "execute_result"
    },
    {
     "data": {
      "image/png": "[encoded data removed]",
      "text/plain": [
       "<Figure size 432x288 with 1 Axes>"
      ]
     },
     "metadata": {
      "needs_background": "light"
     },
     "output_type": "display_data"
    }
   ],
   "source": [
    "sns.boxplot(x=df['total_num_units'], y=df['property_type'])"
   ]
  },
  {
   "cell_type": "markdown",
   "metadata": {},
   "source": [
    "### build year"
   ]
  },
  {
   "cell_type": "code",
   "execution_count": 1705,
   "metadata": {},
   "outputs": [],
   "source": [
    "condomedium = condo['built_year'].median()\n",
    "hdbmedium = hdb['built_year'].median()\n",
    "landmedium = landed['built_year'].median()\n",
    "Econdomedium = Econdo['built_year'].median()\n",
    "Ehdbmedium = Ehdb['built_year'].median()\n"
   ]
  },
  {
   "cell_type": "code",
   "execution_count": 1706,
   "metadata": {},
   "outputs": [],
   "source": [
    "df.loc[df.property_type == 'CONDO', 'built_year'] = condomedium\n",
    "df.loc[df.property_type == 'HDB', 'built_year'] = hdbmedium\n",
    "df.loc[df.property_type == 'LANDED', 'built_year'] = landmedium\n",
    "df.loc[df.property_type == 'EXECUTIVE CONDO', 'built_year'] = Econdomedium\n",
    "df.loc[df.property_type == 'HDB EXECUTIVE', 'built_year'] = Ehdbmedium\n"
   ]
  },
  {
   "cell_type": "code",
   "execution_count": 1707,
   "metadata": {},
   "outputs": [
    {
     "name": "stderr",
     "output_type": "stream",
     "text": [
      "/usr/local/lib/python3.9/site-packages/seaborn/_decorators.py:36: FutureWarning: Pass the following variable as a keyword arg: x. From version 0.12, the only valid positional argument will be `data`, and passing other arguments without an explicit keyword will result in an error or misinterpretation.\n",
      "  warnings.warn(\n"
     ]
    },
    {
     "data": {
      "text/plain": [
       "<AxesSubplot:xlabel='built_year'>"
      ]
     },
     "execution_count": 1707,
     "metadata": {},
     "output_type": "execute_result"
    },
    {
     "data": {
      "image/png": "[encoded data removed]",
      "text/plain": [
       "<Figure size 432x288 with 1 Axes>"
      ]
     },
     "metadata": {
      "needs_background": "light"
     },
     "output_type": "display_data"
    }
   ],
   "source": [
    "sns.boxplot(df['built_year'])"
   ]
  },
  {
   "cell_type": "markdown",
   "metadata": {},
   "source": [
    "### num_baths"
   ]
  },
  {
   "cell_type": "code",
   "execution_count": 1708,
   "metadata": {},
   "outputs": [],
   "source": [
    "condomedium = condo['num_baths'].median()\n",
    "hdbmedium = hdb['num_baths'].median()\n",
    "landmedium = landed['num_baths'].median()\n",
    "Econdomedium = Econdo['num_baths'].median()\n",
    "Ehdbmedium = Ehdb['num_baths'].median()"
   ]
  },
  {
   "cell_type": "code",
   "execution_count": 1709,
   "metadata": {},
   "outputs": [],
   "source": [
    "df.loc[df.property_type == 'CONDO', 'num_baths'] = condomedium\n",
    "df.loc[df.property_type == 'HDB', 'num_baths'] = hdbmedium\n",
    "df.loc[df.property_type == 'LANDED', 'num_baths'] = landmedium\n",
    "df.loc[df.property_type == 'EXECUTIVE CONDO', 'num_baths'] = Econdomedium\n",
    "df.loc[df.property_type == 'HDB EXECUTIVE', 'num_baths'] = Ehdbmedium"
   ]
  },
  {
   "cell_type": "markdown",
   "metadata": {},
   "source": [
    "### num_beds"
   ]
  },
  {
   "cell_type": "code",
   "execution_count": 1710,
   "metadata": {},
   "outputs": [],
   "source": [
    "condomedium = condo['num_beds'].median()\n",
    "hdbmedium = hdb['num_beds'].median()\n",
    "landmedium = landed['num_beds'].median()\n",
    "Econdomedium = Econdo['num_beds'].median()\n",
    "Ehdbmedium = Ehdb['num_beds'].median()"
   ]
  },
  {
   "cell_type": "code",
   "execution_count": 1711,
   "metadata": {},
   "outputs": [],
   "source": [
    "df.loc[df.property_type == 'CONDO', 'num_beds'] = condomedium\n",
    "df.loc[df.property_type == 'HDB', 'num_beds'] = hdbmedium\n",
    "df.loc[df.property_type == 'LANDED', 'num_beds'] = landmedium\n",
    "df.loc[df.property_type == 'EXECUTIVE CONDO', 'num_beds'] = Econdomedium\n",
    "df.loc[df.property_type == 'HDB EXECUTIVE', 'num_beds'] = Ehdbmedium"
   ]
  },
  {
   "cell_type": "code",
   "execution_count": 1712,
   "metadata": {},
   "outputs": [
    {
     "name": "stderr",
     "output_type": "stream",
     "text": [
      "/usr/local/lib/python3.9/site-packages/seaborn/_decorators.py:36: FutureWarning: Pass the following variable as a keyword arg: x. From version 0.12, the only valid positional argument will be `data`, and passing other arguments without an explicit keyword will result in an error or misinterpretation.\n",
      "  warnings.warn(\n"
     ]
    },
    {
     "data": {
      "text/plain": [
       "<AxesSubplot:xlabel='num_beds', ylabel='count'>"
      ]
     },
     "execution_count": 1712,
     "metadata": {},
     "output_type": "execute_result"
    },
    {
     "data": {
      "image/png": "[encoded data removed]",
      "text/plain": [
       "<Figure size 432x288 with 1 Axes>"
      ]
     },
     "metadata": {
      "needs_background": "light"
     },
     "output_type": "display_data"
    }
   ],
   "source": [
    "sns.countplot(df['num_beds'])"
   ]
  },
  {
   "cell_type": "markdown",
   "metadata": {},
   "source": [
    "### num_avaliable_units"
   ]
  },
  {
   "cell_type": "code",
   "execution_count": 1713,
   "metadata": {},
   "outputs": [],
   "source": [
    "numavaunittypes = df.available_unit_types.str.count(',') + 1\n",
    "df['available_unit_types'] = numavaunittypes"
   ]
  },
  {
   "cell_type": "code",
   "execution_count": 1714,
   "metadata": {},
   "outputs": [],
   "source": [
    "condo = df[df['property_type'] == 'CONDO']\n",
    "hdb = df[df['property_type'] == 'HDB']\n",
    "landed = df[df['property_type'] == 'LANDED']\n",
    "Econdo = df[df['property_type'] == 'EXECUTIVE CONDO']\n",
    "Ehdb = df[df['property_type'] == 'HDB EXECUTIVE']\n",
    "\n",
    "df.loc[df.property_type == 'CONDO', 'available_unit_types'] = condomedium\n",
    "df.loc[df.property_type == 'HDB', 'available_unit_types'] = hdbmedium\n",
    "df.loc[df.property_type == 'LANDED', 'available_unit_types'] = landmedium\n",
    "df.loc[df.property_type == 'EXECUTIVE CONDO', 'available_unit_types'] = Econdomedium\n",
    "df.loc[df.property_type == 'HDB EXECUTIVE', 'available_unit_types'] = Ehdbmedium"
   ]
  },
  {
   "cell_type": "code",
   "execution_count": 1715,
   "metadata": {},
   "outputs": [
    {
     "data": {
      "text/plain": [
       "<AxesSubplot:xlabel='available_unit_types', ylabel='count'>"
      ]
     },
     "execution_count": 1715,
     "metadata": {},
     "output_type": "execute_result"
    },
    {
     "data": {
      "image/png": "[encoded data removed]",
      "text/plain": [
       "<Figure size 432x288 with 1 Axes>"
      ]
     },
     "metadata": {
      "needs_background": "light"
     },
     "output_type": "display_data"
    }
   ],
   "source": [
    "sns.countplot(x = df['available_unit_types'])"
   ]
  },
  {
   "cell_type": "markdown",
   "metadata": {},
   "source": [
    "### price "
   ]
  },
  {
   "cell_type": "markdown",
   "metadata": {},
   "source": [
    "Remove price which is 0"
   ]
  },
  {
   "cell_type": "code",
   "execution_count": 1716,
   "metadata": {},
   "outputs": [],
   "source": [
    "df = df[df['price'] != 0]"
   ]
  },
  {
   "cell_type": "code",
   "execution_count": 1717,
   "metadata": {},
   "outputs": [],
   "source": [
    "df['log_price'] = np.log(df['price'])"
   ]
  },
  {
   "cell_type": "code",
   "execution_count": 1718,
   "metadata": {},
   "outputs": [
    {
     "name": "stderr",
     "output_type": "stream",
     "text": [
      "/usr/local/lib/python3.9/site-packages/seaborn/_decorators.py:36: FutureWarning: Pass the following variable as a keyword arg: x. From version 0.12, the only valid positional argument will be `data`, and passing other arguments without an explicit keyword will result in an error or misinterpretation.\n",
      "  warnings.warn(\n"
     ]
    },
    {
     "data": {
      "text/plain": [
       "<AxesSubplot:xlabel='log_price', ylabel='property_type'>"
      ]
     },
     "execution_count": 1718,
     "metadata": {},
     "output_type": "execute_result"
    },
    {
     "data": {
      "image/png": "[encoded data removed]",
      "text/plain": [
       "<Figure size 432x288 with 1 Axes>"
      ]
     },
     "metadata": {
      "needs_background": "light"
     },
     "output_type": "display_data"
    }
   ],
   "source": [
    "sns.boxplot(df['log_price'], y = df['property_type'])"
   ]
  },
  {
   "cell_type": "markdown",
   "metadata": {},
   "source": [
    "### subzone and planning_area"
   ]
  },
  {
   "cell_type": "code",
   "execution_count": 1719,
   "metadata": {},
   "outputs": [],
   "source": [
    "# adding regions\n",
    "central = ['bishan', 'bukit merah', 'bukit timah', 'downtown core', 'geylang', 'kallang', 'marina east', 'marina south', 'marine parade', 'museum', 'newton',\n",
    "           'novena', 'orchard', 'outram', 'queenstown', 'river valley', 'rochor', 'singapore river', 'southern islands', 'straits view', 'tanglin', 'toa payoh']\n",
    "\n",
    "east = [ 'bedok', 'changi', 'changi bay', 'pasir ris', 'paya lebar', 'tampines']\n",
    "\n",
    "north = ['central water catchment', 'lim chu kang', 'mandai', 'sembawang', 'simpang', 'sungei kadut', 'woodlands', 'yishun']\n",
    "\n",
    "north_east = ['ang mo kio', 'hougang', 'north-eastern islands', 'punggol', 'seletar', 'sengkang', 'serangoon']\n",
    "\n",
    "west = ['boon lay', 'bukit batok', 'bukit panjang', 'choa chu kang', 'clementi', 'jurong east', 'jurong west', 'pioneer', 'tengah', 'tuas', 'western islands', 'western water catchment']"
   ]
  },
  {
   "cell_type": "code",
   "execution_count": 1720,
   "metadata": {},
   "outputs": [],
   "source": [
    "df['region'] = df['subzone'].copy()"
   ]
  },
  {
   "cell_type": "code",
   "execution_count": 1721,
   "metadata": {},
   "outputs": [],
   "source": [
    "df['region'] = df['region'].replace(\n",
    "    central,\n",
    "    'central'\n",
    ")\n",
    "\n",
    "df['region'] = df['region'].replace(\n",
    "    east,\n",
    "    'east'\n",
    ")\n",
    "\n",
    "df['region'] = df['region'].replace(\n",
    "    north,\n",
    "    'north'\n",
    ")\n",
    "\n",
    "df['region'] = df['region'].replace(\n",
    "    north_east,\n",
    "    'north_east'\n",
    ")\n",
    "\n",
    "df['region'] = df['region'].replace(\n",
    "    west,\n",
    "    'west'\n",
    ")"
   ]
  },
  {
   "cell_type": "code",
   "execution_count": 1722,
   "metadata": {},
   "outputs": [
    {
     "data": {
      "text/html": [
       "<div>\n",
       "<style scoped>\n",
       "    .dataframe tbody tr th:only-of-type {\n",
       "        vertical-align: middle;\n",
       "    }\n",
       "\n",
       "    .dataframe tbody tr th {\n",
       "        vertical-align: top;\n",
       "    }\n",
       "\n",
       "    .dataframe thead th {\n",
       "        text-align: right;\n",
       "    }\n",
       "</style>\n",
       "<table border=\"1\" class=\"dataframe\">\n",
       "  <thead>\n",
       "    <tr style=\"text-align: right;\">\n",
       "      <th></th>\n",
       "      <th>property_type</th>\n",
       "      <th>tenure</th>\n",
       "      <th>built_year</th>\n",
       "      <th>num_beds</th>\n",
       "      <th>num_baths</th>\n",
       "      <th>size_sqft</th>\n",
       "      <th>furnishing</th>\n",
       "      <th>available_unit_types</th>\n",
       "      <th>total_num_units</th>\n",
       "      <th>subzone</th>\n",
       "      <th>...</th>\n",
       "      <th>price</th>\n",
       "      <th>cc_distance</th>\n",
       "      <th>mrt_distance</th>\n",
       "      <th>primary_school_distance</th>\n",
       "      <th>secondary_school_distance</th>\n",
       "      <th>shop_distance</th>\n",
       "      <th>population</th>\n",
       "      <th>area_size</th>\n",
       "      <th>log_price</th>\n",
       "      <th>region</th>\n",
       "    </tr>\n",
       "  </thead>\n",
       "  <tbody>\n",
       "    <tr>\n",
       "      <th>0</th>\n",
       "      <td>CONDO</td>\n",
       "      <td>freehold</td>\n",
       "      <td>2023.0</td>\n",
       "      <td>3.0</td>\n",
       "      <td>2.0</td>\n",
       "      <td>463</td>\n",
       "      <td>unfurnished</td>\n",
       "      <td>3.0</td>\n",
       "      <td>319.0</td>\n",
       "      <td>serangoon</td>\n",
       "      <td>...</td>\n",
       "      <td>NaN</td>\n",
       "      <td>1.0</td>\n",
       "      <td>0.960436</td>\n",
       "      <td>13.993735</td>\n",
       "      <td>1.853769</td>\n",
       "      <td>0.987277</td>\n",
       "      <td>8490</td>\n",
       "      <td>1.1801</td>\n",
       "      <td>NaN</td>\n",
       "      <td>north_east</td>\n",
       "    </tr>\n",
       "    <tr>\n",
       "      <th>1</th>\n",
       "      <td>CONDO</td>\n",
       "      <td>99-year leasehold</td>\n",
       "      <td>2023.0</td>\n",
       "      <td>3.0</td>\n",
       "      <td>2.0</td>\n",
       "      <td>1033</td>\n",
       "      <td>unfurnished</td>\n",
       "      <td>3.0</td>\n",
       "      <td>319.0</td>\n",
       "      <td>pasir ris</td>\n",
       "      <td>...</td>\n",
       "      <td>NaN</td>\n",
       "      <td>1.0</td>\n",
       "      <td>1.736900</td>\n",
       "      <td>11.182232</td>\n",
       "      <td>3.014111</td>\n",
       "      <td>1.514959</td>\n",
       "      <td>14700</td>\n",
       "      <td>2.3307</td>\n",
       "      <td>NaN</td>\n",
       "      <td>east</td>\n",
       "    </tr>\n",
       "    <tr>\n",
       "      <th>2</th>\n",
       "      <td>CONDO</td>\n",
       "      <td>99-year leasehold</td>\n",
       "      <td>2023.0</td>\n",
       "      <td>3.0</td>\n",
       "      <td>2.0</td>\n",
       "      <td>570</td>\n",
       "      <td>fully</td>\n",
       "      <td>3.0</td>\n",
       "      <td>319.0</td>\n",
       "      <td>museum</td>\n",
       "      <td>...</td>\n",
       "      <td>NaN</td>\n",
       "      <td>1.0</td>\n",
       "      <td>0.960436</td>\n",
       "      <td>4.148719</td>\n",
       "      <td>0.455365</td>\n",
       "      <td>2.765780</td>\n",
       "      <td>24760</td>\n",
       "      <td>1.0619</td>\n",
       "      <td>NaN</td>\n",
       "      <td>central</td>\n",
       "    </tr>\n",
       "    <tr>\n",
       "      <th>3</th>\n",
       "      <td>HDB</td>\n",
       "      <td>99-year leasehold</td>\n",
       "      <td>1997.0</td>\n",
       "      <td>3.0</td>\n",
       "      <td>2.0</td>\n",
       "      <td>1216</td>\n",
       "      <td>unfurnished</td>\n",
       "      <td>3.0</td>\n",
       "      <td>140.0</td>\n",
       "      <td>choa chu kang</td>\n",
       "      <td>...</td>\n",
       "      <td>NaN</td>\n",
       "      <td>1.0</td>\n",
       "      <td>1.369843</td>\n",
       "      <td>8.460539</td>\n",
       "      <td>1.138964</td>\n",
       "      <td>1.361122</td>\n",
       "      <td>36080</td>\n",
       "      <td>3.0232</td>\n",
       "      <td>NaN</td>\n",
       "      <td>west</td>\n",
       "    </tr>\n",
       "    <tr>\n",
       "      <th>4</th>\n",
       "      <td>HDB</td>\n",
       "      <td>99-year leasehold</td>\n",
       "      <td>1997.0</td>\n",
       "      <td>3.0</td>\n",
       "      <td>2.0</td>\n",
       "      <td>936</td>\n",
       "      <td>unfurnished</td>\n",
       "      <td>3.0</td>\n",
       "      <td>140.0</td>\n",
       "      <td>toa payoh</td>\n",
       "      <td>...</td>\n",
       "      <td>NaN</td>\n",
       "      <td>1.0</td>\n",
       "      <td>1.126905</td>\n",
       "      <td>5.206584</td>\n",
       "      <td>0.499738</td>\n",
       "      <td>2.907287</td>\n",
       "      <td>15940</td>\n",
       "      <td>0.6847</td>\n",
       "      <td>NaN</td>\n",
       "      <td>central</td>\n",
       "    </tr>\n",
       "  </tbody>\n",
       "</table>\n",
       "<p>5 rows × 22 columns</p>\n",
       "</div>"
      ],
      "text/plain": [
       "  property_type             tenure  built_year  num_beds  num_baths  \\\n",
       "0         CONDO           freehold      2023.0       3.0        2.0   \n",
       "1         CONDO  99-year leasehold      2023.0       3.0        2.0   \n",
       "2         CONDO  99-year leasehold      2023.0       3.0        2.0   \n",
       "3           HDB  99-year leasehold      1997.0       3.0        2.0   \n",
       "4           HDB  99-year leasehold      1997.0       3.0        2.0   \n",
       "\n",
       "   size_sqft   furnishing  available_unit_types  total_num_units  \\\n",
       "0        463  unfurnished                   3.0            319.0   \n",
       "1       1033  unfurnished                   3.0            319.0   \n",
       "2        570        fully                   3.0            319.0   \n",
       "3       1216  unfurnished                   3.0            140.0   \n",
       "4        936  unfurnished                   3.0            140.0   \n",
       "\n",
       "         subzone  ... price cc_distance  mrt_distance  \\\n",
       "0      serangoon  ...   NaN         1.0      0.960436   \n",
       "1      pasir ris  ...   NaN         1.0      1.736900   \n",
       "2         museum  ...   NaN         1.0      0.960436   \n",
       "3  choa chu kang  ...   NaN         1.0      1.369843   \n",
       "4      toa payoh  ...   NaN         1.0      1.126905   \n",
       "\n",
       "   primary_school_distance  secondary_school_distance  shop_distance  \\\n",
       "0                13.993735                   1.853769       0.987277   \n",
       "1                11.182232                   3.014111       1.514959   \n",
       "2                 4.148719                   0.455365       2.765780   \n",
       "3                 8.460539                   1.138964       1.361122   \n",
       "4                 5.206584                   0.499738       2.907287   \n",
       "\n",
       "   population  area_size  log_price      region  \n",
       "0        8490     1.1801        NaN  north_east  \n",
       "1       14700     2.3307        NaN        east  \n",
       "2       24760     1.0619        NaN     central  \n",
       "3       36080     3.0232        NaN        west  \n",
       "4       15940     0.6847        NaN     central  \n",
       "\n",
       "[5 rows x 22 columns]"
      ]
     },
     "execution_count": 1722,
     "metadata": {},
     "output_type": "execute_result"
    }
   ],
   "source": [
    "df.head()"
   ]
  },
  {
   "cell_type": "code",
   "execution_count": 1723,
   "metadata": {},
   "outputs": [
    {
     "name": "stderr",
     "output_type": "stream",
     "text": [
      "/usr/local/lib/python3.9/site-packages/seaborn/_decorators.py:36: FutureWarning: Pass the following variable as a keyword arg: x. From version 0.12, the only valid positional argument will be `data`, and passing other arguments without an explicit keyword will result in an error or misinterpretation.\n",
      "  warnings.warn(\n"
     ]
    },
    {
     "data": {
      "text/plain": [
       "<AxesSubplot:xlabel='region', ylabel='count'>"
      ]
     },
     "execution_count": 1723,
     "metadata": {},
     "output_type": "execute_result"
    },
    {
     "data": {
      "image/png": "[encoded data removed]",
      "text/plain": [
       "<Figure size 432x288 with 1 Axes>"
      ]
     },
     "metadata": {
      "needs_background": "light"
     },
     "output_type": "display_data"
    }
   ],
   "source": [
    "sns.countplot(df['region'])"
   ]
  },
  {
   "cell_type": "markdown",
   "metadata": {},
   "source": [
    "### Remove Redundant features"
   ]
  },
  {
   "cell_type": "code",
   "execution_count": 1724,
   "metadata": {},
   "outputs": [
    {
     "data": {
      "text/plain": [
       "property_type                 object\n",
       "tenure                        object\n",
       "built_year                   float64\n",
       "num_beds                     float64\n",
       "num_baths                    float64\n",
       "size_sqft                      int64\n",
       "furnishing                    object\n",
       "available_unit_types         float64\n",
       "total_num_units              float64\n",
       "subzone                       object\n",
       "planning_area                 object\n",
       "ind                           object\n",
       "price                        float64\n",
       "cc_distance                  float64\n",
       "mrt_distance                 float64\n",
       "primary_school_distance      float64\n",
       "secondary_school_distance    float64\n",
       "shop_distance                float64\n",
       "population                     int64\n",
       "area_size                    float64\n",
       "log_price                    float64\n",
       "region                        object\n",
       "dtype: object"
      ]
     },
     "execution_count": 1724,
     "metadata": {},
     "output_type": "execute_result"
    }
   ],
   "source": [
    "df.dtypes"
   ]
  },
  {
   "cell_type": "code",
   "execution_count": 1725,
   "metadata": {},
   "outputs": [],
   "source": [
    "df = df.drop(columns=['subzone','planning_area'])"
   ]
  },
  {
   "cell_type": "markdown",
   "metadata": {},
   "source": [
    "#### Separate into Test and Train"
   ]
  },
  {
   "cell_type": "code",
   "execution_count": 1726,
   "metadata": {},
   "outputs": [],
   "source": [
    "test, train = df[df[\"ind\"].eq(\"test\")], df[df[\"ind\"].eq(\"train\")]\n",
    "train = train.drop(columns=['ind'])\n",
    "test = test.drop(columns=['ind','price','log_price'])"
   ]
  },
  {
   "cell_type": "code",
   "execution_count": 1727,
   "metadata": {},
   "outputs": [
    {
     "data": {
      "text/plain": [
       "property_type                20153\n",
       "tenure                       20153\n",
       "built_year                   20153\n",
       "num_beds                     20153\n",
       "num_baths                    20153\n",
       "size_sqft                    20153\n",
       "furnishing                   20153\n",
       "available_unit_types         20153\n",
       "total_num_units              20153\n",
       "price                        20153\n",
       "cc_distance                  20153\n",
       "mrt_distance                 20153\n",
       "primary_school_distance      20153\n",
       "secondary_school_distance    20153\n",
       "shop_distance                20153\n",
       "population                   20153\n",
       "area_size                    20153\n",
       "log_price                    20153\n",
       "region                       20153\n",
       "dtype: int64"
      ]
     },
     "execution_count": 1727,
     "metadata": {},
     "output_type": "execute_result"
    }
   ],
   "source": [
    "train.count()"
   ]
  },
  {
   "cell_type": "code",
   "execution_count": 1728,
   "metadata": {},
   "outputs": [
    {
     "data": {
      "text/plain": [
       "property_type                6966\n",
       "tenure                       6966\n",
       "built_year                   6966\n",
       "num_beds                     6966\n",
       "num_baths                    6966\n",
       "size_sqft                    6966\n",
       "furnishing                   6966\n",
       "available_unit_types         6966\n",
       "total_num_units              6966\n",
       "cc_distance                  6966\n",
       "mrt_distance                 6966\n",
       "primary_school_distance      6966\n",
       "secondary_school_distance    6966\n",
       "shop_distance                6966\n",
       "population                   6966\n",
       "area_size                    6966\n",
       "region                       6966\n",
       "dtype: int64"
      ]
     },
     "execution_count": 1728,
     "metadata": {},
     "output_type": "execute_result"
    }
   ],
   "source": [
    "test.count()"
   ]
  },
  {
   "cell_type": "markdown",
   "metadata": {},
   "source": [
    "# Outlier Detection"
   ]
  },
  {
   "cell_type": "code",
   "execution_count": 1729,
   "metadata": {},
   "outputs": [],
   "source": [
    "# from collections import Counter\n",
    "# from datetime import datetime\n",
    "# dates_dict = {\n",
    "#     'B_birthday': '%Y-%m-%d', \n",
    "#     'B_dtopentime': '%Y-%m-%d %H:%M:%S'\n",
    "# }\n",
    "# from pandas.api.types import is_string_dtype\n",
    "# from pandas.api.types import is_numeric_dtype\n",
    "# import os,re\n",
    "\n",
    "# dummy_list = []\n",
    "# bools = []\n",
    "# numerics = []\n",
    "# strings = []\n",
    "\n",
    "# def plot_lineplot(df, i, rotation=None, width=6, height=3.5, save=False, convert=False):\n",
    "#     if convert:\n",
    "#         df[i] = df[i].applymap(lambda x: re.sub('[^0-9]', '', x))\n",
    "#     x = df[i].dropna()\n",
    "#     nums = dict(Counter(x))\n",
    "#     nums_df = pd.DataFrame({\n",
    "#         i: list(nums.keys()),\n",
    "#         'count': list(nums.values())\n",
    "#     })\n",
    "#     sns.set(rc={'figure.figsize':(width, height)})\n",
    "#     ax = sns.lineplot(data=nums_df, x=i, y='count')\n",
    "#     ax.set_title(f'Lineplot of {i}')\n",
    "#     if rotation is not None:\n",
    "#         plt.xticks(rotation=rotation)\n",
    "#     plt.tight_layout()\n",
    "#     if save: plt.savefig(f'figs/eda_{i}_lineplot', bbox_inches = \"tight\")\n",
    "#     plt.show()\n",
    "    \n",
    "# def plot_numeric(df, i, save=False):\n",
    "#     x = df[i]\n",
    "#     sns.set(rc={'figure.figsize':(6,1)})\n",
    "#     ax = sns.boxplot(x, color='lightblue')\n",
    "#     ax.set_title(f'Boxplot of {i}')\n",
    "#     plt.tight_layout()\n",
    "#     if save: plt.savefig(f'figs/eda_{i}_boxplot', bbox_inches = \"tight\")\n",
    "#     plt.show()\n",
    "    \n",
    "# def plot_categorical(df, i, top_k=None, save=False):\n",
    "#     x = df[i]\n",
    "#     total = float(len(x))\n",
    "#     if top_k is None:\n",
    "#         n_cates = len(set(x))\n",
    "#     else:\n",
    "#         n_cates=top_k\n",
    "#     sns.set(rc={'figure.figsize':(6, n_cates/8+2)})\n",
    "#     sns.set(font=\"SimSun\")\n",
    "#     ax = sns.countplot(y=x, color=\"lightblue\", dodge=False, order = x.value_counts().iloc[:n_cates].index)\n",
    "#     for p in ax.patches:\n",
    "#         percentage = f'{100 * p.get_width() / total:.1f}%\\n'\n",
    "#         x = p.get_width()\n",
    "#         y = p.get_y() + p.get_height() / 2\n",
    "#         ax.annotate(percentage, (x, y), ha='right', va='center')\n",
    "#     ax.set_title(f'Countplot of {i}')\n",
    "#     plt.tight_layout()\n",
    "#     if save: plt.savefig(f'figs/eda_{i}_countplot', bbox_inches = \"tight\")\n",
    "#     plt.show()\n",
    "        \n",
    "# def plot_dates(df, i, save=False):\n",
    "#     x = df[i].dropna().apply(lambda d: datetime.strptime(d, dates_dict[i]))\n",
    "#     dates = dict(Counter(x))\n",
    "#     dates_df = pd.DataFrame({\n",
    "#         'date': list(dates.keys()),\n",
    "#         'count': list(dates.values())\n",
    "#     })\n",
    "#     sns.set(rc={'figure.figsize':(6,3.5)})\n",
    "#     ax = sns.lineplot(data=dates_df, x='date', y='count')\n",
    "#     ax.set_title(f'Lineplot of {i}')\n",
    "#     plt.tight_layout()\n",
    "#     if save: plt.savefig(f'figs/eda_{i}_lineplot', bbox_inches = \"tight\")\n",
    "#     plt.show()\n",
    "    \n",
    "# def plot_all(df, top_k=None, save=False, num_string_pattern = '\\d{4}\\-\\d{2}'):\n",
    "#     for i in df.columns:\n",
    "#         _df = df.dropna(subset=[i])\n",
    "#         if len(df)!=len(_df):\n",
    "#             print(f'Plot for \"{i}\" (Missing {len(df)-len(_df)} items...)')\n",
    "#         else:\n",
    "#             print(f'Plot for \"{i}\"')\n",
    "#         if is_numeric_dtype(df[i]):\n",
    "#             if len(set(_df))==2:\n",
    "#                 bools.append(i, save=save)\n",
    "#                 plot_categorical(_df, i, top_k=top_k, save=save)\n",
    "#             else:\n",
    "#                 numerics.append(i)\n",
    "#                 plot_numeric(_df, i, save=save)\n",
    "#                 if i in dummy_list:\n",
    "#                     plot_categorical(_df, i, top_k=top_k, save=save)\n",
    "#         else:\n",
    "#             if i in dates_dict.keys():\n",
    "#                 plot_dates(_df, i, save=save)\n",
    "#             elif all([bool(re.match(num_string_pattern, s)) for s in _df[i]]):\n",
    "#                 # this matches Year-Month format of YYYY-MM (can custom pattern, or by |)\n",
    "#                 plot_lineplot(_df, i, rotation=90, height=3.5, width=len(df[i].unique())/7.2, save=save)\n",
    "#             else:\n",
    "#                 strings.append(i)\n",
    "#                 plot_categorical(_df, i, save=save)\n",
    "    \n",
    "#     print(f'----- auto eda summary -----')\n",
    "#     print(f'identified bools: {bools}')\n",
    "#     print(f'identified numerics: {numerics}')\n",
    "#     print(f'identified strings: {strings}')\n",
    "#     print(f'cols to fix: {list(train.columns.difference(bools+numerics+strings))}')\n",
    "           \n",
    "# plot_all(train, save=False)"
   ]
  },
  {
   "cell_type": "code",
   "execution_count": 1730,
   "metadata": {},
   "outputs": [
    {
     "data": {
      "text/plain": [
       "property_type                20153\n",
       "tenure                       20153\n",
       "built_year                   20153\n",
       "num_beds                     20153\n",
       "num_baths                    20153\n",
       "size_sqft                    20153\n",
       "furnishing                   20153\n",
       "available_unit_types         20153\n",
       "total_num_units              20153\n",
       "price                        20153\n",
       "cc_distance                  20153\n",
       "mrt_distance                 20153\n",
       "primary_school_distance      20153\n",
       "secondary_school_distance    20153\n",
       "shop_distance                20153\n",
       "population                   20153\n",
       "area_size                    20153\n",
       "log_price                    20153\n",
       "region                       20153\n",
       "dtype: int64"
      ]
     },
     "execution_count": 1730,
     "metadata": {},
     "output_type": "execute_result"
    }
   ],
   "source": [
    "train.count()"
   ]
  },
  {
   "cell_type": "code",
   "execution_count": 1731,
   "metadata": {},
   "outputs": [],
   "source": [
    "train = train[train['size_sqft']!=0]"
   ]
  },
  {
   "cell_type": "code",
   "execution_count": 1732,
   "metadata": {},
   "outputs": [
    {
     "data": {
      "text/plain": [
       "property_type                20153\n",
       "tenure                       20153\n",
       "built_year                   20153\n",
       "num_beds                     20153\n",
       "num_baths                    20153\n",
       "size_sqft                    20153\n",
       "furnishing                   20153\n",
       "available_unit_types         20153\n",
       "total_num_units              20153\n",
       "price                        20153\n",
       "cc_distance                  20153\n",
       "mrt_distance                 20153\n",
       "primary_school_distance      20153\n",
       "secondary_school_distance    20153\n",
       "shop_distance                20153\n",
       "population                   20153\n",
       "area_size                    20153\n",
       "log_price                    20153\n",
       "region                       20153\n",
       "dtype: int64"
      ]
     },
     "execution_count": 1732,
     "metadata": {},
     "output_type": "execute_result"
    }
   ],
   "source": [
    "train.count()"
   ]
  },
  {
   "cell_type": "code",
   "execution_count": 1733,
   "metadata": {},
   "outputs": [],
   "source": [
    "train['psqft'] = train['price']/train['size_sqft']"
   ]
  },
  {
   "cell_type": "code",
   "execution_count": 1734,
   "metadata": {},
   "outputs": [],
   "source": [
    "train['log_psqft'] =np.log(train['psqft'])"
   ]
  },
  {
   "cell_type": "code",
   "execution_count": 1735,
   "metadata": {},
   "outputs": [
    {
     "data": {
      "text/plain": [
       "<AxesSubplot:xlabel='log_psqft', ylabel='property_type'>"
      ]
     },
     "execution_count": 1735,
     "metadata": {},
     "output_type": "execute_result"
    },
    {
     "data": {
      "image/png": "[encoded data removed]",
      "text/plain": [
       "<Figure size 432x288 with 1 Axes>"
      ]
     },
     "metadata": {
      "needs_background": "light"
     },
     "output_type": "display_data"
    }
   ],
   "source": [
    "sns.boxplot(x = train['log_psqft'],y=train['property_type'])"
   ]
  },
  {
   "cell_type": "code",
   "execution_count": 1736,
   "metadata": {},
   "outputs": [],
   "source": [
    "condo = train[train['property_type'] == 'CONDO']\n",
    "hdb = train[train['property_type'] == 'HDB']\n",
    "landed = train[train['property_type'] == 'LANDED']\n",
    "Econdo = train[train['property_type'] == 'EXECUTIVE CONDO']\n",
    "Ehdb = train[train['property_type'] == 'HDB EXECUTIVE']"
   ]
  },
  {
   "cell_type": "code",
   "execution_count": 1737,
   "metadata": {},
   "outputs": [],
   "source": [
    "condoQ1, condoQ3 = np.percentile(condo['log_psqft'] , [3,95])\n",
    "hdbQ1, hdbQ3 = np.percentile(hdb['log_psqft'] , [1,87])\n",
    "landQ1, landQ3 = np.percentile(landed['log_psqft'] , [1,96])\n",
    "\n",
    "EhdbQ1, EhdbQ3 = np.percentile(hdb['log_psqft'] , [1,83])\n",
    "EcondoQ1, EcondoQ3 = np.percentile(condo['log_psqft'] , [2,5])"
   ]
  },
  {
   "cell_type": "code",
   "execution_count": 1738,
   "metadata": {},
   "outputs": [
    {
     "data": {
      "text/plain": [
       "7.2578617068791536"
      ]
     },
     "execution_count": 1738,
     "metadata": {},
     "output_type": "execute_result"
    }
   ],
   "source": [
    "EcondoQ3"
   ]
  },
  {
   "cell_type": "code",
   "execution_count": 1739,
   "metadata": {},
   "outputs": [
    {
     "data": {
      "text/plain": [
       "<AxesSubplot:xlabel='log_psqft', ylabel='property_type'>"
      ]
     },
     "execution_count": 1739,
     "metadata": {},
     "output_type": "execute_result"
    },
    {
     "data": {
      "image/png": "[encoded data removed]",
      "text/plain": [
       "<Figure size 432x288 with 1 Axes>"
      ]
     },
     "metadata": {
      "needs_background": "light"
     },
     "output_type": "display_data"
    }
   ],
   "source": [
    "train.loc[(train['property_type'] == 'CONDO') & (train['log_psqft'] < condoQ1), 'log_psqft'] = condo['log_psqft'].median()\n",
    "train.loc[(train['property_type'] == 'CONDO') & (train['log_psqft'] > condoQ3), 'log_psqft'] = condo['log_psqft'].median()\n",
    "\n",
    "train.loc[(train['property_type'] == 'HDB') & (train['log_psqft'] < hdbQ1), 'log_psqft'] = hdb['log_psqft'].median()\n",
    "train.loc[(train['property_type'] == 'HDB') & (train['log_psqft'] > hdbQ3), 'log_psqft'] = hdb['log_psqft'].median()\n",
    "\n",
    "train.loc[(train['property_type'] == 'LANDED') & (train['log_psqft'] < landQ1), 'log_psqft'] = landed['log_psqft'].median()\n",
    "train.loc[(train['property_type'] == 'LANDED') & (train['log_psqft'] > landQ3), 'log_psqft'] = landed['log_psqft'].median()\n",
    "\n",
    "train.loc[(train['property_type'] == 'EXECUTIVE CONDO') & (train['log_psqft'] < EcondoQ1), 'log_psqft'] = Econdo['log_psqft'].median()\n",
    "train.loc[(train['property_type'] == 'EXECUTIVE CONDO') & (train['log_psqft'] > EcondoQ3), 'log_psqft'] = Econdo['log_psqft'].median()\n",
    "\n",
    "train.loc[(train['property_type'] == 'HDB EXECUTIVE') & (train['log_psqft'] < EhdbQ1), 'log_psqft'] = Ehdb['log_psqft'].median()\n",
    "train.loc[(train['property_type'] == 'HDB EXECUTIVE') & (train['log_psqft'] > EhdbQ3), 'log_psqft'] = Ehdb['log_psqft'].median()\n",
    "\n",
    "sns.boxplot(x = train['log_psqft'], y = train['property_type'])"
   ]
  },
  {
   "cell_type": "markdown",
   "metadata": {},
   "source": [
    "# Mining"
   ]
  },
  {
   "cell_type": "markdown",
   "metadata": {},
   "source": [
    "#### Drop Features"
   ]
  },
  {
   "cell_type": "code",
   "execution_count": 1740,
   "metadata": {},
   "outputs": [
    {
     "data": {
      "text/plain": [
       "property_type                20153\n",
       "tenure                       20153\n",
       "built_year                   20153\n",
       "num_beds                     20153\n",
       "num_baths                    20153\n",
       "size_sqft                    20153\n",
       "furnishing                   20153\n",
       "available_unit_types         20153\n",
       "total_num_units              20153\n",
       "price                        20153\n",
       "cc_distance                  20153\n",
       "mrt_distance                 20153\n",
       "primary_school_distance      20153\n",
       "secondary_school_distance    20153\n",
       "shop_distance                20153\n",
       "population                   20153\n",
       "area_size                    20153\n",
       "log_price                    20153\n",
       "region                       20153\n",
       "psqft                        20153\n",
       "log_psqft                    20153\n",
       "dtype: int64"
      ]
     },
     "execution_count": 1740,
     "metadata": {},
     "output_type": "execute_result"
    }
   ],
   "source": [
    "train.count()"
   ]
  },
  {
   "cell_type": "code",
   "execution_count": 1741,
   "metadata": {},
   "outputs": [],
   "source": [
    "# x_train = train.drop(columns=['log_price','anomaly'])\n",
    "x_train = train.drop(columns=['log_price','log_psqft','psqft'])\n",
    "y_train = x_train.pop('price')\n",
    "# y_train = np.log(y_train)"
   ]
  },
  {
   "cell_type": "markdown",
   "metadata": {},
   "source": [
    "#### Scale Numerical and Categorial columns"
   ]
  },
  {
   "cell_type": "code",
   "execution_count": 1742,
   "metadata": {},
   "outputs": [],
   "source": [
    "cat_selector = make_column_selector(dtype_include = [object])"
   ]
  },
  {
   "cell_type": "code",
   "execution_count": 1745,
   "metadata": {},
   "outputs": [],
   "source": [
    "categorial = ['object']\n",
    "categorical_features = x_train.select_dtypes(include=categorial).columns"
   ]
  },
  {
   "cell_type": "code",
   "execution_count": 1746,
   "metadata": {},
   "outputs": [],
   "source": [
    "categorical_transformer = ce.OneHotEncoder()"
   ]
  },
  {
   "cell_type": "code",
   "execution_count": 1747,
   "metadata": {},
   "outputs": [],
   "source": [
    "preprocessor = ColumnTransformer(\n",
    "    transformers=[\n",
    "        (\"cat\", categorical_transformer, categorical_features),\n",
    "    ]\n",
    ")"
   ]
  },
  {
   "cell_type": "markdown",
   "metadata": {},
   "source": [
    "### LightGBM"
   ]
  },
  {
   "cell_type": "code",
   "execution_count": 1749,
   "metadata": {},
   "outputs": [],
   "source": [
    "clf = Pipeline(\n",
    "    steps=[(\"preprocessor\", preprocessor), (\"classifier\", lgb.LGBMRegressor())]\n",
    ")\n",
    "\n",
    "param_grid = {\n",
    "              'classifier__n_estimators': list(range(10,20,5)),\n",
    "              'classifier__learning_rate': [0.01,0.05, 0.1],\n",
    "              'classifier__max_depth': list(range(1,4,1))\n",
    "}"
   ]
  },
  {
   "cell_type": "code",
   "execution_count": 1750,
   "metadata": {},
   "outputs": [
    {
     "name": "stdout",
     "output_type": "stream",
     "text": [
      "Fitting 10 folds for each of 10 candidates, totalling 100 fits\n"
     ]
    },
    {
     "name": "stderr",
     "output_type": "stream",
     "text": [
      "/usr/local/lib/python3.9/site-packages/sklearn/model_selection/_split.py:684: UserWarning: The least populated class in y has only 1 members, which is less than n_splits=5.\n",
      "  warnings.warn(\n",
      "/usr/local/lib/python3.9/site-packages/sklearn/model_selection/_split.py:684: UserWarning: The least populated class in y has only 1 members, which is less than n_splits=5.\n",
      "  warnings.warn(\n"
     ]
    },
    {
     "name": "stdout",
     "output_type": "stream",
     "text": [
      "[CV] END classifier__learning_rate=0.01, classifier__max_depth=2, classifier__n_estimators=10; total time=   0.3s\n",
      "[CV] END classifier__learning_rate=0.01, classifier__max_depth=2, classifier__n_estimators=10; total time=   0.3s\n",
      "[CV] END classifier__learning_rate=0.01, classifier__max_depth=2, classifier__n_estimators=10; total time=   0.3s\n",
      "[CV] END classifier__learning_rate=0.01, classifier__max_depth=2, classifier__n_estimators=10; total time=   0.3s\n",
      "[CV] END classifier__learning_rate=0.01, classifier__max_depth=2, classifier__n_estimators=10; total time=   0.3s\n",
      "[CV] END classifier__learning_rate=0.01, classifier__max_depth=2, classifier__n_estimators=10; total time=   0.3s\n",
      "[CV] END classifier__learning_rate=0.01, classifier__max_depth=2, classifier__n_estimators=10; total time=   0.3s\n",
      "[CV] END classifier__learning_rate=0.01, classifier__max_depth=2, classifier__n_estimators=10; total time=   0.3s\n",
      "[CV] END classifier__learning_rate=0.01, classifier__max_depth=2, classifier__n_estimators=10; total time=   0.2s\n",
      "[CV] END classifier__learning_rate=0.01, classifier__max_depth=2, classifier__n_estimators=10; total time=   0.3s\n",
      "[CV] END classifier__learning_rate=0.05, classifier__max_depth=3, classifier__n_estimators=10; total time=   0.3s\n",
      "[CV] END classifier__learning_rate=0.05, classifier__max_depth=3, classifier__n_estimators=10; total time=   0.3s\n",
      "[CV] END classifier__learning_rate=0.05, classifier__max_depth=3, classifier__n_estimators=10; total time=   0.3s\n",
      "[CV] END classifier__learning_rate=0.05, classifier__max_depth=3, classifier__n_estimators=10; total time=   0.3s\n",
      "[CV] END classifier__learning_rate=0.05, classifier__max_depth=3, classifier__n_estimators=10; total time=   0.3s\n",
      "[CV] END classifier__learning_rate=0.05, classifier__max_depth=3, classifier__n_estimators=10; total time=   0.3s\n",
      "[CV] END classifier__learning_rate=0.05, classifier__max_depth=3, classifier__n_estimators=10; total time=   0.3s\n",
      "[CV] END classifier__learning_rate=0.05, classifier__max_depth=3, classifier__n_estimators=10; total time=   0.3s\n",
      "[CV] END classifier__learning_rate=0.05, classifier__max_depth=3, classifier__n_estimators=10; total time=   0.3s\n",
      "[CV] END classifier__learning_rate=0.05, classifier__max_depth=3, classifier__n_estimators=10; total time=   0.3s\n",
      "[CV] END classifier__learning_rate=0.1, classifier__max_depth=2, classifier__n_estimators=15; total time=   0.3s\n",
      "[CV] END classifier__learning_rate=0.1, classifier__max_depth=2, classifier__n_estimators=15; total time=   0.3s\n",
      "[CV] END classifier__learning_rate=0.1, classifier__max_depth=2, classifier__n_estimators=15; total time=   0.3s\n",
      "[CV] END classifier__learning_rate=0.1, classifier__max_depth=2, classifier__n_estimators=15; total time=   0.3s\n",
      "[CV] END classifier__learning_rate=0.1, classifier__max_depth=2, classifier__n_estimators=15; total time=   0.3s\n",
      "[CV] END classifier__learning_rate=0.1, classifier__max_depth=2, classifier__n_estimators=15; total time=   0.3s\n",
      "[CV] END classifier__learning_rate=0.1, classifier__max_depth=2, classifier__n_estimators=15; total time=   0.3s\n",
      "[CV] END classifier__learning_rate=0.1, classifier__max_depth=2, classifier__n_estimators=15; total time=   0.3s\n",
      "[CV] END classifier__learning_rate=0.1, classifier__max_depth=2, classifier__n_estimators=15; total time=   0.3s\n",
      "[CV] END classifier__learning_rate=0.1, classifier__max_depth=2, classifier__n_estimators=15; total time=   0.3s\n",
      "[CV] END classifier__learning_rate=0.05, classifier__max_depth=1, classifier__n_estimators=15; total time=   0.4s\n",
      "[CV] END classifier__learning_rate=0.05, classifier__max_depth=1, classifier__n_estimators=15; total time=   0.4s\n",
      "[CV] END classifier__learning_rate=0.05, classifier__max_depth=1, classifier__n_estimators=15; total time=   0.3s\n",
      "[CV] END classifier__learning_rate=0.05, classifier__max_depth=1, classifier__n_estimators=15; total time=   0.3s\n",
      "[CV] END classifier__learning_rate=0.05, classifier__max_depth=1, classifier__n_estimators=15; total time=   0.3s\n",
      "[CV] END classifier__learning_rate=0.05, classifier__max_depth=1, classifier__n_estimators=15; total time=   0.3s\n",
      "[CV] END classifier__learning_rate=0.05, classifier__max_depth=1, classifier__n_estimators=15; total time=   0.3s\n",
      "[CV] END classifier__learning_rate=0.05, classifier__max_depth=1, classifier__n_estimators=15; total time=   0.3s\n",
      "[CV] END classifier__learning_rate=0.05, classifier__max_depth=1, classifier__n_estimators=15; total time=   0.3s\n",
      "[CV] END classifier__learning_rate=0.05, classifier__max_depth=1, classifier__n_estimators=15; total time=   0.3s\n",
      "[CV] END classifier__learning_rate=0.01, classifier__max_depth=3, classifier__n_estimators=15; total time=   0.3s\n",
      "[CV] END classifier__learning_rate=0.01, classifier__max_depth=3, classifier__n_estimators=15; total time=   0.3s\n",
      "[CV] END classifier__learning_rate=0.01, classifier__max_depth=3, classifier__n_estimators=15; total time=   0.3s\n",
      "[CV] END classifier__learning_rate=0.01, classifier__max_depth=3, classifier__n_estimators=15; total time=   0.3s\n",
      "[CV] END classifier__learning_rate=0.01, classifier__max_depth=3, classifier__n_estimators=15; total time=   0.3s\n",
      "[CV] END classifier__learning_rate=0.01, classifier__max_depth=3, classifier__n_estimators=15; total time=   0.3s\n",
      "[CV] END classifier__learning_rate=0.01, classifier__max_depth=3, classifier__n_estimators=15; total time=   0.3s\n",
      "[CV] END classifier__learning_rate=0.01, classifier__max_depth=3, classifier__n_estimators=15; total time=   0.3s\n",
      "[CV] END classifier__learning_rate=0.01, classifier__max_depth=3, classifier__n_estimators=15; total time=   0.3s\n",
      "[CV] END classifier__learning_rate=0.01, classifier__max_depth=3, classifier__n_estimators=15; total time=   0.3s\n",
      "[CV] END classifier__learning_rate=0.1, classifier__max_depth=1, classifier__n_estimators=10; total time=   0.3s\n",
      "[CV] END classifier__learning_rate=0.1, classifier__max_depth=1, classifier__n_estimators=10; total time=   0.3s\n",
      "[CV] END classifier__learning_rate=0.1, classifier__max_depth=1, classifier__n_estimators=10; total time=   0.3s\n",
      "[CV] END classifier__learning_rate=0.1, classifier__max_depth=1, classifier__n_estimators=10; total time=   0.3s\n",
      "[CV] END classifier__learning_rate=0.1, classifier__max_depth=1, classifier__n_estimators=10; total time=   0.3s\n",
      "[CV] END classifier__learning_rate=0.1, classifier__max_depth=1, classifier__n_estimators=10; total time=   0.3s\n",
      "[CV] END classifier__learning_rate=0.1, classifier__max_depth=1, classifier__n_estimators=10; total time=   0.3s\n",
      "[CV] END classifier__learning_rate=0.1, classifier__max_depth=1, classifier__n_estimators=10; total time=   0.3s\n",
      "[CV] END classifier__learning_rate=0.1, classifier__max_depth=1, classifier__n_estimators=10; total time=   0.3s\n",
      "[CV] END classifier__learning_rate=0.1, classifier__max_depth=1, classifier__n_estimators=10; total time=   0.3s\n",
      "[CV] END classifier__learning_rate=0.01, classifier__max_depth=1, classifier__n_estimators=10; total time=   0.3s\n",
      "[CV] END classifier__learning_rate=0.01, classifier__max_depth=1, classifier__n_estimators=10; total time=   0.3s\n",
      "[CV] END classifier__learning_rate=0.01, classifier__max_depth=1, classifier__n_estimators=10; total time=   0.3s\n",
      "[CV] END classifier__learning_rate=0.01, classifier__max_depth=1, classifier__n_estimators=10; total time=   0.3s\n",
      "[CV] END classifier__learning_rate=0.01, classifier__max_depth=1, classifier__n_estimators=10; total time=   0.3s\n",
      "[CV] END classifier__learning_rate=0.01, classifier__max_depth=1, classifier__n_estimators=10; total time=   0.3s\n",
      "[CV] END classifier__learning_rate=0.01, classifier__max_depth=1, classifier__n_estimators=10; total time=   0.3s\n",
      "[CV] END classifier__learning_rate=0.01, classifier__max_depth=1, classifier__n_estimators=10; total time=   0.3s\n",
      "[CV] END classifier__learning_rate=0.01, classifier__max_depth=1, classifier__n_estimators=10; total time=   0.4s\n",
      "[CV] END classifier__learning_rate=0.01, classifier__max_depth=1, classifier__n_estimators=10; total time=   0.4s\n",
      "[CV] END classifier__learning_rate=0.01, classifier__max_depth=1, classifier__n_estimators=15; total time=   0.4s\n",
      "[CV] END classifier__learning_rate=0.01, classifier__max_depth=1, classifier__n_estimators=15; total time=   0.4s\n",
      "[CV] END classifier__learning_rate=0.01, classifier__max_depth=1, classifier__n_estimators=15; total time=   0.4s\n",
      "[CV] END classifier__learning_rate=0.01, classifier__max_depth=1, classifier__n_estimators=15; total time=   0.4s\n",
      "[CV] END classifier__learning_rate=0.01, classifier__max_depth=1, classifier__n_estimators=15; total time=   0.4s\n",
      "[CV] END classifier__learning_rate=0.01, classifier__max_depth=1, classifier__n_estimators=15; total time=   0.4s\n",
      "[CV] END classifier__learning_rate=0.01, classifier__max_depth=1, classifier__n_estimators=15; total time=   0.4s\n",
      "[CV] END classifier__learning_rate=0.01, classifier__max_depth=1, classifier__n_estimators=15; total time=   0.4s\n",
      "[CV] END classifier__learning_rate=0.01, classifier__max_depth=1, classifier__n_estimators=15; total time=   0.4s\n",
      "[CV] END classifier__learning_rate=0.01, classifier__max_depth=1, classifier__n_estimators=15; total time=   0.4s\n",
      "[CV] END classifier__learning_rate=0.1, classifier__max_depth=3, classifier__n_estimators=15; total time=   0.4s\n",
      "[CV] END classifier__learning_rate=0.1, classifier__max_depth=3, classifier__n_estimators=15; total time=   0.4s\n",
      "[CV] END classifier__learning_rate=0.1, classifier__max_depth=3, classifier__n_estimators=15; total time=   0.4s\n",
      "[CV] END classifier__learning_rate=0.1, classifier__max_depth=3, classifier__n_estimators=15; total time=   0.4s\n",
      "[CV] END classifier__learning_rate=0.1, classifier__max_depth=3, classifier__n_estimators=15; total time=   0.4s\n",
      "[CV] END classifier__learning_rate=0.1, classifier__max_depth=3, classifier__n_estimators=15; total time=   0.4s\n",
      "[CV] END classifier__learning_rate=0.1, classifier__max_depth=3, classifier__n_estimators=15; total time=   0.4s\n",
      "[CV] END classifier__learning_rate=0.1, classifier__max_depth=3, classifier__n_estimators=15; total time=   0.4s\n",
      "[CV] END classifier__learning_rate=0.1, classifier__max_depth=3, classifier__n_estimators=15; total time=   0.4s\n",
      "[CV] END classifier__learning_rate=0.1, classifier__max_depth=3, classifier__n_estimators=15; total time=   0.4s\n",
      "[CV] END classifier__learning_rate=0.05, classifier__max_depth=3, classifier__n_estimators=15; total time=   0.4s\n",
      "[CV] END classifier__learning_rate=0.05, classifier__max_depth=3, classifier__n_estimators=15; total time=   0.4s\n",
      "[CV] END classifier__learning_rate=0.05, classifier__max_depth=3, classifier__n_estimators=15; total time=   0.4s\n",
      "[CV] END classifier__learning_rate=0.05, classifier__max_depth=3, classifier__n_estimators=15; total time=   0.4s\n",
      "[CV] END classifier__learning_rate=0.05, classifier__max_depth=3, classifier__n_estimators=15; total time=   0.3s\n",
      "[CV] END classifier__learning_rate=0.05, classifier__max_depth=3, classifier__n_estimators=15; total time=   0.3s\n",
      "[CV] END classifier__learning_rate=0.05, classifier__max_depth=3, classifier__n_estimators=15; total time=   0.3s\n",
      "[CV] END classifier__learning_rate=0.05, classifier__max_depth=3, classifier__n_estimators=15; total time=   0.3s\n",
      "[CV] END classifier__learning_rate=0.05, classifier__max_depth=3, classifier__n_estimators=15; total time=   0.3s\n",
      "[CV] END classifier__learning_rate=0.05, classifier__max_depth=3, classifier__n_estimators=15; total time=   0.3s\n"
     ]
    },
    {
     "data": {
      "text/html": [
       "<style>#sk-container-id-1 {color: black;background-color: white;}#sk-container-id-1 pre{padding: 0;}#sk-container-id-1 div.sk-toggleable {background-color: white;}#sk-container-id-1 label.sk-toggleable__label {cursor: pointer;display: block;width: 100%;margin-bottom: 0;padding: 0.3em;box-sizing: border-box;text-align: center;}#sk-container-id-1 label.sk-toggleable__label-arrow:before {content: \"▸\";float: left;margin-right: 0.25em;color: #696969;}#sk-container-id-1 label.sk-toggleable__label-arrow:hover:before {color: black;}#sk-container-id-1 div.sk-estimator:hover label.sk-toggleable__label-arrow:before {color: black;}#sk-container-id-1 div.sk-toggleable__content {max-height: 0;max-width: 0;overflow: hidden;text-align: left;background-color: #f0f8ff;}#sk-container-id-1 div.sk-toggleable__content pre {margin: 0.2em;color: black;border-radius: 0.25em;background-color: #f0f8ff;}#sk-container-id-1 input.sk-toggleable__control:checked~div.sk-toggleable__content {max-height: 200px;max-width: 100%;overflow: auto;}#sk-container-id-1 input.sk-toggleable__control:checked~label.sk-toggleable__label-arrow:before {content: \"▾\";}#sk-container-id-1 div.sk-estimator input.sk-toggleable__control:checked~label.sk-toggleable__label {background-color: #d4ebff;}#sk-container-id-1 div.sk-label input.sk-toggleable__control:checked~label.sk-toggleable__label {background-color: #d4ebff;}#sk-container-id-1 input.sk-hidden--visually {border: 0;clip: rect(1px 1px 1px 1px);clip: rect(1px, 1px, 1px, 1px);height: 1px;margin: -1px;overflow: hidden;padding: 0;position: absolute;width: 1px;}#sk-container-id-1 div.sk-estimator {font-family: monospace;background-color: #f0f8ff;border: 1px dotted black;border-radius: 0.25em;box-sizing: border-box;margin-bottom: 0.5em;}#sk-container-id-1 div.sk-estimator:hover {background-color: #d4ebff;}#sk-container-id-1 div.sk-parallel-item::after {content: \"\";width: 100%;border-bottom: 1px solid gray;flex-grow: 1;}#sk-container-id-1 div.sk-label:hover label.sk-toggleable__label {background-color: #d4ebff;}#sk-container-id-1 div.sk-serial::before {content: \"\";position: absolute;border-left: 1px solid gray;box-sizing: border-box;top: 0;bottom: 0;left: 50%;z-index: 0;}#sk-container-id-1 div.sk-serial {display: flex;flex-direction: column;align-items: center;background-color: white;padding-right: 0.2em;padding-left: 0.2em;position: relative;}#sk-container-id-1 div.sk-item {position: relative;z-index: 1;}#sk-container-id-1 div.sk-parallel {display: flex;align-items: stretch;justify-content: center;background-color: white;position: relative;}#sk-container-id-1 div.sk-item::before, #sk-container-id-1 div.sk-parallel-item::before {content: \"\";position: absolute;border-left: 1px solid gray;box-sizing: border-box;top: 0;bottom: 0;left: 50%;z-index: -1;}#sk-container-id-1 div.sk-parallel-item {display: flex;flex-direction: column;z-index: 1;position: relative;background-color: white;}#sk-container-id-1 div.sk-parallel-item:first-child::after {align-self: flex-end;width: 50%;}#sk-container-id-1 div.sk-parallel-item:last-child::after {align-self: flex-start;width: 50%;}#sk-container-id-1 div.sk-parallel-item:only-child::after {width: 0;}#sk-container-id-1 div.sk-dashed-wrapped {border: 1px dashed gray;margin: 0 0.4em 0.5em 0.4em;box-sizing: border-box;padding-bottom: 0.4em;background-color: white;}#sk-container-id-1 div.sk-label label {font-family: monospace;font-weight: bold;display: inline-block;line-height: 1.2em;}#sk-container-id-1 div.sk-label-container {text-align: center;}#sk-container-id-1 div.sk-container {/* jupyter's `normalize.less` sets `[hidden] { display: none; }` but bootstrap.min.css set `[hidden] { display: none !important; }` so we also need the `!important` here to be able to override the default hidden behavior on the sphinx rendered scikit-learn.org. See: https://github.com/scikit-learn/scikit-learn/issues/21755 */display: inline-block !important;position: relative;}#sk-container-id-1 div.sk-text-repr-fallback {display: none;}</style><div id=\"sk-container-id-1\" class=\"sk-top-container\"><div class=\"sk-text-repr-fallback\"><pre>RandomizedSearchCV(cv=RepeatedStratifiedKFold(n_repeats=2, n_splits=5, random_state=2022),\n",
       "                   estimator=Pipeline(steps=[(&#x27;preprocessor&#x27;,\n",
       "                                              ColumnTransformer(transformers=[(&#x27;cat&#x27;,\n",
       "                                                                               OneHotEncoder(),\n",
       "                                                                               Index([&#x27;property_type&#x27;, &#x27;tenure&#x27;, &#x27;furnishing&#x27;, &#x27;region&#x27;], dtype=&#x27;object&#x27;))])),\n",
       "                                             (&#x27;classifier&#x27;, LGBMRegressor())]),\n",
       "                   n_jobs=-1,\n",
       "                   param_distributions={&#x27;classifier__learning_rate&#x27;: [0.01,\n",
       "                                                                      0.05,\n",
       "                                                                      0.1],\n",
       "                                        &#x27;classifier__max_depth&#x27;: [1, 2, 3],\n",
       "                                        &#x27;classifier__n_estimators&#x27;: [10, 15]},\n",
       "                   scoring=&#x27;neg_root_mean_squared_error&#x27;, verbose=2)</pre><b>In a Jupyter environment, please rerun this cell to show the HTML representation or trust the notebook. <br />On GitHub, the HTML representation is unable to render, please try loading this page with nbviewer.org.</b></div><div class=\"sk-container\" hidden><div class=\"sk-item sk-dashed-wrapped\"><div class=\"sk-label-container\"><div class=\"sk-label sk-toggleable\"><input class=\"sk-toggleable__control sk-hidden--visually\" id=\"sk-estimator-id-1\" type=\"checkbox\" ><label for=\"sk-estimator-id-1\" class=\"sk-toggleable__label sk-toggleable__label-arrow\">RandomizedSearchCV</label><div class=\"sk-toggleable__content\"><pre>RandomizedSearchCV(cv=RepeatedStratifiedKFold(n_repeats=2, n_splits=5, random_state=2022),\n",
       "                   estimator=Pipeline(steps=[(&#x27;preprocessor&#x27;,\n",
       "                                              ColumnTransformer(transformers=[(&#x27;cat&#x27;,\n",
       "                                                                               OneHotEncoder(),\n",
       "                                                                               Index([&#x27;property_type&#x27;, &#x27;tenure&#x27;, &#x27;furnishing&#x27;, &#x27;region&#x27;], dtype=&#x27;object&#x27;))])),\n",
       "                                             (&#x27;classifier&#x27;, LGBMRegressor())]),\n",
       "                   n_jobs=-1,\n",
       "                   param_distributions={&#x27;classifier__learning_rate&#x27;: [0.01,\n",
       "                                                                      0.05,\n",
       "                                                                      0.1],\n",
       "                                        &#x27;classifier__max_depth&#x27;: [1, 2, 3],\n",
       "                                        &#x27;classifier__n_estimators&#x27;: [10, 15]},\n",
       "                   scoring=&#x27;neg_root_mean_squared_error&#x27;, verbose=2)</pre></div></div></div><div class=\"sk-parallel\"><div class=\"sk-parallel-item\"><div class=\"sk-item\"><div class=\"sk-label-container\"><div class=\"sk-label sk-toggleable\"><input class=\"sk-toggleable__control sk-hidden--visually\" id=\"sk-estimator-id-2\" type=\"checkbox\" ><label for=\"sk-estimator-id-2\" class=\"sk-toggleable__label sk-toggleable__label-arrow\">estimator: Pipeline</label><div class=\"sk-toggleable__content\"><pre>Pipeline(steps=[(&#x27;preprocessor&#x27;,\n",
       "                 ColumnTransformer(transformers=[(&#x27;cat&#x27;, OneHotEncoder(),\n",
       "                                                  Index([&#x27;property_type&#x27;, &#x27;tenure&#x27;, &#x27;furnishing&#x27;, &#x27;region&#x27;], dtype=&#x27;object&#x27;))])),\n",
       "                (&#x27;classifier&#x27;, LGBMRegressor())])</pre></div></div></div><div class=\"sk-serial\"><div class=\"sk-item\"><div class=\"sk-serial\"><div class=\"sk-item sk-dashed-wrapped\"><div class=\"sk-label-container\"><div class=\"sk-label sk-toggleable\"><input class=\"sk-toggleable__control sk-hidden--visually\" id=\"sk-estimator-id-3\" type=\"checkbox\" ><label for=\"sk-estimator-id-3\" class=\"sk-toggleable__label sk-toggleable__label-arrow\">preprocessor: ColumnTransformer</label><div class=\"sk-toggleable__content\"><pre>ColumnTransformer(transformers=[(&#x27;cat&#x27;, OneHotEncoder(),\n",
       "                                 Index([&#x27;property_type&#x27;, &#x27;tenure&#x27;, &#x27;furnishing&#x27;, &#x27;region&#x27;], dtype=&#x27;object&#x27;))])</pre></div></div></div><div class=\"sk-parallel\"><div class=\"sk-parallel-item\"><div class=\"sk-item\"><div class=\"sk-label-container\"><div class=\"sk-label sk-toggleable\"><input class=\"sk-toggleable__control sk-hidden--visually\" id=\"sk-estimator-id-4\" type=\"checkbox\" ><label for=\"sk-estimator-id-4\" class=\"sk-toggleable__label sk-toggleable__label-arrow\">cat</label><div class=\"sk-toggleable__content\"><pre>Index([&#x27;property_type&#x27;, &#x27;tenure&#x27;, &#x27;furnishing&#x27;, &#x27;region&#x27;], dtype=&#x27;object&#x27;)</pre></div></div></div><div class=\"sk-serial\"><div class=\"sk-item\"><div class=\"sk-estimator sk-toggleable\"><input class=\"sk-toggleable__control sk-hidden--visually\" id=\"sk-estimator-id-5\" type=\"checkbox\" ><label for=\"sk-estimator-id-5\" class=\"sk-toggleable__label sk-toggleable__label-arrow\">OneHotEncoder</label><div class=\"sk-toggleable__content\"><pre>OneHotEncoder()</pre></div></div></div></div></div></div></div></div><div class=\"sk-item\"><div class=\"sk-estimator sk-toggleable\"><input class=\"sk-toggleable__control sk-hidden--visually\" id=\"sk-estimator-id-6\" type=\"checkbox\" ><label for=\"sk-estimator-id-6\" class=\"sk-toggleable__label sk-toggleable__label-arrow\">LGBMRegressor</label><div class=\"sk-toggleable__content\"><pre>LGBMRegressor()</pre></div></div></div></div></div></div></div></div></div></div></div></div>"
      ],
      "text/plain": [
       "RandomizedSearchCV(cv=RepeatedStratifiedKFold(n_repeats=2, n_splits=5, random_state=2022),\n",
       "                   estimator=Pipeline(steps=[('preprocessor',\n",
       "                                              ColumnTransformer(transformers=[('cat',\n",
       "                                                                               OneHotEncoder(),\n",
       "                                                                               Index(['property_type', 'tenure', 'furnishing', 'region'], dtype='object'))])),\n",
       "                                             ('classifier', LGBMRegressor())]),\n",
       "                   n_jobs=-1,\n",
       "                   param_distributions={'classifier__learning_rate': [0.01,\n",
       "                                                                      0.05,\n",
       "                                                                      0.1],\n",
       "                                        'classifier__max_depth': [1, 2, 3],\n",
       "                                        'classifier__n_estimators': [10, 15]},\n",
       "                   scoring='neg_root_mean_squared_error', verbose=2)"
      ]
     },
     "execution_count": 1750,
     "metadata": {},
     "output_type": "execute_result"
    }
   ],
   "source": [
    "random_LGB = RandomizedSearchCV(clf, param_grid, cv = RepeatedStratifiedKFold(n_splits=5, n_repeats=2, random_state=2022), scoring = 'neg_root_mean_squared_error', verbose = 2, n_jobs=-1) \n",
    "random_LGB.fit(x_train, y_train)"
   ]
  },
  {
   "cell_type": "code",
   "execution_count": 1751,
   "metadata": {},
   "outputs": [
    {
     "data": {
      "text/plain": [
       "{'classifier__n_estimators': 10,\n",
       " 'classifier__max_depth': 2,\n",
       " 'classifier__learning_rate': 0.01}"
      ]
     },
     "execution_count": 1751,
     "metadata": {},
     "output_type": "execute_result"
    }
   ],
   "source": [
    "random_LGB.best_params_"
   ]
  },
  {
   "cell_type": "code",
   "execution_count": 1752,
   "metadata": {},
   "outputs": [
    {
     "data": {
      "text/plain": [
       "-142727708.25722924"
      ]
     },
     "execution_count": 1752,
     "metadata": {},
     "output_type": "execute_result"
    }
   ],
   "source": [
    "random_LGB.best_score_\n",
    "# 1097388.3445666225\n",
    "# 1169808.5336272712\n",
    "# 143521018.31884673\n",
    "# 142710052.73404333\n",
    "# 1504365117016.6716"
   ]
  },
  {
   "cell_type": "markdown",
   "metadata": {},
   "source": [
    "### Random Forest"
   ]
  },
  {
   "cell_type": "code",
   "execution_count": 1753,
   "metadata": {},
   "outputs": [],
   "source": [
    "from sklearn.ensemble import RandomForestRegressor\n",
    "rf = Pipeline(\n",
    "    steps=[(\"preprocessor\", preprocessor), (\"classifier\", RandomForestRegressor(random_state=2022))]\n",
    ")\n",
    "\n",
    "param_grid = {'preprocessor__num__scaler': [StandardScaler(), MinMaxScaler(), RobustScaler(), MaxAbsScaler()], \n",
    "              'classifier__n_estimators': list(range(75,125,25)),\n",
    "              'classifier__min_samples_split': list(range(3,5,1)),\n",
    "              'classifier__min_samples_leaf': list(range(1,3,1)),\n",
    "              'classifier__max_depth': list(range(2,4,1)),\n",
    "              'classifier__criterion': ['squared_error','absolute_error','poisson']\n",
    "}"
   ]
  },
  {
   "cell_type": "code",
   "execution_count": 1754,
   "metadata": {},
   "outputs": [],
   "source": [
    "random_rf = RandomizedSearchCV(rf, param_grid, cv = 5, scoring = 'neg_mean_squared_error', verbose = 2, n_jobs=-1) \n",
    "\n",
    "# random_rf.fit(x_train, y_train)"
   ]
  },
  {
   "cell_type": "code",
   "execution_count": 1755,
   "metadata": {},
   "outputs": [],
   "source": [
    "# random_rf.best_params_"
   ]
  },
  {
   "cell_type": "code",
   "execution_count": 1756,
   "metadata": {},
   "outputs": [],
   "source": [
    "# random_rf.best_score_\n",
    "# 1565307830697.9695\n",
    "# 2315989530415.111"
   ]
  },
  {
   "cell_type": "markdown",
   "metadata": {},
   "source": [
    "# Final Model"
   ]
  },
  {
   "cell_type": "code",
   "execution_count": 1757,
   "metadata": {},
   "outputs": [],
   "source": [
    "final_model = random_LGB.best_estimator_"
   ]
  },
  {
   "cell_type": "code",
   "execution_count": 1758,
   "metadata": {},
   "outputs": [
    {
     "data": {
      "text/html": [
       "<style>#sk-container-id-2 {color: black;background-color: white;}#sk-container-id-2 pre{padding: 0;}#sk-container-id-2 div.sk-toggleable {background-color: white;}#sk-container-id-2 label.sk-toggleable__label {cursor: pointer;display: block;width: 100%;margin-bottom: 0;padding: 0.3em;box-sizing: border-box;text-align: center;}#sk-container-id-2 label.sk-toggleable__label-arrow:before {content: \"▸\";float: left;margin-right: 0.25em;color: #696969;}#sk-container-id-2 label.sk-toggleable__label-arrow:hover:before {color: black;}#sk-container-id-2 div.sk-estimator:hover label.sk-toggleable__label-arrow:before {color: black;}#sk-container-id-2 div.sk-toggleable__content {max-height: 0;max-width: 0;overflow: hidden;text-align: left;background-color: #f0f8ff;}#sk-container-id-2 div.sk-toggleable__content pre {margin: 0.2em;color: black;border-radius: 0.25em;background-color: #f0f8ff;}#sk-container-id-2 input.sk-toggleable__control:checked~div.sk-toggleable__content {max-height: 200px;max-width: 100%;overflow: auto;}#sk-container-id-2 input.sk-toggleable__control:checked~label.sk-toggleable__label-arrow:before {content: \"▾\";}#sk-container-id-2 div.sk-estimator input.sk-toggleable__control:checked~label.sk-toggleable__label {background-color: #d4ebff;}#sk-container-id-2 div.sk-label input.sk-toggleable__control:checked~label.sk-toggleable__label {background-color: #d4ebff;}#sk-container-id-2 input.sk-hidden--visually {border: 0;clip: rect(1px 1px 1px 1px);clip: rect(1px, 1px, 1px, 1px);height: 1px;margin: -1px;overflow: hidden;padding: 0;position: absolute;width: 1px;}#sk-container-id-2 div.sk-estimator {font-family: monospace;background-color: #f0f8ff;border: 1px dotted black;border-radius: 0.25em;box-sizing: border-box;margin-bottom: 0.5em;}#sk-container-id-2 div.sk-estimator:hover {background-color: #d4ebff;}#sk-container-id-2 div.sk-parallel-item::after {content: \"\";width: 100%;border-bottom: 1px solid gray;flex-grow: 1;}#sk-container-id-2 div.sk-label:hover label.sk-toggleable__label {background-color: #d4ebff;}#sk-container-id-2 div.sk-serial::before {content: \"\";position: absolute;border-left: 1px solid gray;box-sizing: border-box;top: 0;bottom: 0;left: 50%;z-index: 0;}#sk-container-id-2 div.sk-serial {display: flex;flex-direction: column;align-items: center;background-color: white;padding-right: 0.2em;padding-left: 0.2em;position: relative;}#sk-container-id-2 div.sk-item {position: relative;z-index: 1;}#sk-container-id-2 div.sk-parallel {display: flex;align-items: stretch;justify-content: center;background-color: white;position: relative;}#sk-container-id-2 div.sk-item::before, #sk-container-id-2 div.sk-parallel-item::before {content: \"\";position: absolute;border-left: 1px solid gray;box-sizing: border-box;top: 0;bottom: 0;left: 50%;z-index: -1;}#sk-container-id-2 div.sk-parallel-item {display: flex;flex-direction: column;z-index: 1;position: relative;background-color: white;}#sk-container-id-2 div.sk-parallel-item:first-child::after {align-self: flex-end;width: 50%;}#sk-container-id-2 div.sk-parallel-item:last-child::after {align-self: flex-start;width: 50%;}#sk-container-id-2 div.sk-parallel-item:only-child::after {width: 0;}#sk-container-id-2 div.sk-dashed-wrapped {border: 1px dashed gray;margin: 0 0.4em 0.5em 0.4em;box-sizing: border-box;padding-bottom: 0.4em;background-color: white;}#sk-container-id-2 div.sk-label label {font-family: monospace;font-weight: bold;display: inline-block;line-height: 1.2em;}#sk-container-id-2 div.sk-label-container {text-align: center;}#sk-container-id-2 div.sk-container {/* jupyter's `normalize.less` sets `[hidden] { display: none; }` but bootstrap.min.css set `[hidden] { display: none !important; }` so we also need the `!important` here to be able to override the default hidden behavior on the sphinx rendered scikit-learn.org. See: https://github.com/scikit-learn/scikit-learn/issues/21755 */display: inline-block !important;position: relative;}#sk-container-id-2 div.sk-text-repr-fallback {display: none;}</style><div id=\"sk-container-id-2\" class=\"sk-top-container\"><div class=\"sk-text-repr-fallback\"><pre>Pipeline(steps=[(&#x27;preprocessor&#x27;,\n",
       "                 ColumnTransformer(transformers=[(&#x27;cat&#x27;, OneHotEncoder(),\n",
       "                                                  Index([&#x27;property_type&#x27;, &#x27;tenure&#x27;, &#x27;furnishing&#x27;, &#x27;region&#x27;], dtype=&#x27;object&#x27;))])),\n",
       "                (&#x27;classifier&#x27;,\n",
       "                 LGBMRegressor(learning_rate=0.01, max_depth=2,\n",
       "                               n_estimators=10))])</pre><b>In a Jupyter environment, please rerun this cell to show the HTML representation or trust the notebook. <br />On GitHub, the HTML representation is unable to render, please try loading this page with nbviewer.org.</b></div><div class=\"sk-container\" hidden><div class=\"sk-item sk-dashed-wrapped\"><div class=\"sk-label-container\"><div class=\"sk-label sk-toggleable\"><input class=\"sk-toggleable__control sk-hidden--visually\" id=\"sk-estimator-id-7\" type=\"checkbox\" ><label for=\"sk-estimator-id-7\" class=\"sk-toggleable__label sk-toggleable__label-arrow\">Pipeline</label><div class=\"sk-toggleable__content\"><pre>Pipeline(steps=[(&#x27;preprocessor&#x27;,\n",
       "                 ColumnTransformer(transformers=[(&#x27;cat&#x27;, OneHotEncoder(),\n",
       "                                                  Index([&#x27;property_type&#x27;, &#x27;tenure&#x27;, &#x27;furnishing&#x27;, &#x27;region&#x27;], dtype=&#x27;object&#x27;))])),\n",
       "                (&#x27;classifier&#x27;,\n",
       "                 LGBMRegressor(learning_rate=0.01, max_depth=2,\n",
       "                               n_estimators=10))])</pre></div></div></div><div class=\"sk-serial\"><div class=\"sk-item sk-dashed-wrapped\"><div class=\"sk-label-container\"><div class=\"sk-label sk-toggleable\"><input class=\"sk-toggleable__control sk-hidden--visually\" id=\"sk-estimator-id-8\" type=\"checkbox\" ><label for=\"sk-estimator-id-8\" class=\"sk-toggleable__label sk-toggleable__label-arrow\">preprocessor: ColumnTransformer</label><div class=\"sk-toggleable__content\"><pre>ColumnTransformer(transformers=[(&#x27;cat&#x27;, OneHotEncoder(),\n",
       "                                 Index([&#x27;property_type&#x27;, &#x27;tenure&#x27;, &#x27;furnishing&#x27;, &#x27;region&#x27;], dtype=&#x27;object&#x27;))])</pre></div></div></div><div class=\"sk-parallel\"><div class=\"sk-parallel-item\"><div class=\"sk-item\"><div class=\"sk-label-container\"><div class=\"sk-label sk-toggleable\"><input class=\"sk-toggleable__control sk-hidden--visually\" id=\"sk-estimator-id-9\" type=\"checkbox\" ><label for=\"sk-estimator-id-9\" class=\"sk-toggleable__label sk-toggleable__label-arrow\">cat</label><div class=\"sk-toggleable__content\"><pre>Index([&#x27;property_type&#x27;, &#x27;tenure&#x27;, &#x27;furnishing&#x27;, &#x27;region&#x27;], dtype=&#x27;object&#x27;)</pre></div></div></div><div class=\"sk-serial\"><div class=\"sk-item\"><div class=\"sk-estimator sk-toggleable\"><input class=\"sk-toggleable__control sk-hidden--visually\" id=\"sk-estimator-id-10\" type=\"checkbox\" ><label for=\"sk-estimator-id-10\" class=\"sk-toggleable__label sk-toggleable__label-arrow\">OneHotEncoder</label><div class=\"sk-toggleable__content\"><pre>OneHotEncoder()</pre></div></div></div></div></div></div></div></div><div class=\"sk-item\"><div class=\"sk-estimator sk-toggleable\"><input class=\"sk-toggleable__control sk-hidden--visually\" id=\"sk-estimator-id-11\" type=\"checkbox\" ><label for=\"sk-estimator-id-11\" class=\"sk-toggleable__label sk-toggleable__label-arrow\">LGBMRegressor</label><div class=\"sk-toggleable__content\"><pre>LGBMRegressor(learning_rate=0.01, max_depth=2, n_estimators=10)</pre></div></div></div></div></div></div></div>"
      ],
      "text/plain": [
       "Pipeline(steps=[('preprocessor',\n",
       "                 ColumnTransformer(transformers=[('cat', OneHotEncoder(),\n",
       "                                                  Index(['property_type', 'tenure', 'furnishing', 'region'], dtype='object'))])),\n",
       "                ('classifier',\n",
       "                 LGBMRegressor(learning_rate=0.01, max_depth=2,\n",
       "                               n_estimators=10))])"
      ]
     },
     "execution_count": 1758,
     "metadata": {},
     "output_type": "execute_result"
    }
   ],
   "source": [
    "final_model.fit(x_train,y_train)"
   ]
  },
  {
   "cell_type": "code",
   "execution_count": 1759,
   "metadata": {},
   "outputs": [],
   "source": [
    "predicted = final_model.predict(test)\n",
    "\n"
   ]
  },
  {
   "cell_type": "code",
   "execution_count": 1760,
   "metadata": {},
   "outputs": [],
   "source": [
    "predictions_df=pd.DataFrame(data={\"Predicted\":predicted})"
   ]
  },
  {
   "cell_type": "code",
   "execution_count": 1761,
   "metadata": {},
   "outputs": [],
   "source": [
    "#export as csv\n",
    "predictions_df.to_csv('exp3.csv', index_label = 'Id')"
   ]
  }
 ],
 "metadata": {
  "kernelspec": {
   "display_name": "Python 3.10.6 64-bit",
   "language": "python",
   "name": "python3"
  },
  "language_info": {
   "codemirror_mode": {
    "name": "ipython",
    "version": 3
   },
   "file_extension": ".py",
   "mimetype": "text/x-python",
   "name": "python",
   "nbconvert_exporter": "python",
   "pygments_lexer": "ipython3",
   "version": "3.9.12"
  },
  "orig_nbformat": 4,
  "vscode": {
   "interpreter": {
    "hash": "aee8b7b246df8f9039afb4144a1f6fd8d2ca17a180786b69acc140d282b71a49"
   }
  }
 },
 "nbformat": 4,
 "nbformat_minor": 2
}
